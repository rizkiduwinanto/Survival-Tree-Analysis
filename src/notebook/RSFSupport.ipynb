{
 "cells": [
  {
   "cell_type": "code",
   "execution_count": 35,
   "id": "ef8d310c",
   "metadata": {},
   "outputs": [],
   "source": [
    "import xgboost as xgb\n",
    "from sklearn.model_selection import ShuffleSplit\n",
    "\n",
    "\n",
    "import sys\n",
    "sys.path.append(\"../\") \n",
    "from dataset.support import SupportDataset\n",
    "import numpy as np\n",
    "import pandas as pd"
   ]
  },
  {
   "cell_type": "markdown",
   "id": "59fe56e5",
   "metadata": {},
   "source": [
    "# Support2"
   ]
  },
  {
   "cell_type": "code",
   "execution_count": 36,
   "id": "88763ef0",
   "metadata": {},
   "outputs": [],
   "source": [
    "df = pd.read_csv('../../data/support2.csv')"
   ]
  },
  {
   "cell_type": "code",
   "execution_count": 37,
   "id": "0df7417f",
   "metadata": {},
   "outputs": [
    {
     "name": "stderr",
     "output_type": "stream",
     "text": [
      "/mnt/c/Users/rizki/Master Files/ThesisUMCG/Survival-Tree-Analysis/src/notebook/../dataset/support.py:101: FutureWarning: Downcasting behavior in `replace` is deprecated and will be removed in a future version. To retain the old behavior, explicitly call `result.infer_objects(copy=False)`. To opt-in to the future behavior, set `pd.set_option('future.no_silent_downcasting', True)`\n",
      "  self.data.replace({False: 0, True: 1}, inplace=True)\n"
     ]
    }
   ],
   "source": [
    "data = SupportDataset(df)"
   ]
  },
  {
   "cell_type": "code",
   "execution_count": 38,
   "id": "6ba91cdf",
   "metadata": {},
   "outputs": [
    {
     "data": {
      "text/plain": [
       "array([[62.84998,  0.     ,  1.     , ...,  1.     ,  0.     ,  0.     ],\n",
       "       [60.33899,  2.     ,  3.     , ...,  0.     ,  1.     ,  0.     ],\n",
       "       [52.74698,  2.     ,  4.     , ...,  0.     ,  1.     ,  0.     ],\n",
       "       ...,\n",
       "       [70.38196,  1.     , 18.     , ...,  0.     ,  1.     ,  0.     ],\n",
       "       [47.01999,  1.     , 22.     , ...,  0.     ,  0.     ,  1.     ],\n",
       "       [81.53894,  1.     ,  1.     , ...,  0.     ,  1.     ,  0.     ]])"
      ]
     },
     "execution_count": 38,
     "metadata": {},
     "output_type": "execute_result"
    }
   ],
   "source": [
    "d = data.get_data()\n",
    "d"
   ]
  },
  {
   "cell_type": "code",
   "execution_count": 39,
   "id": "858b5819",
   "metadata": {},
   "outputs": [],
   "source": [
    "X_train, X_test, y_train, y_test = data.get_train_test()"
   ]
  },
  {
   "cell_type": "code",
   "execution_count": 40,
   "id": "e7a432d7",
   "metadata": {},
   "outputs": [
    {
     "data": {
      "text/plain": [
       "array([( True, 526), ( True,  12), ( True, 386), ..., ( True,  25),\n",
       "       ( True, 385), ( True,  18)],\n",
       "      dtype=(numpy.record, [('death', '?'), ('d.time', '<i8')]))"
      ]
     },
     "execution_count": 40,
     "metadata": {},
     "output_type": "execute_result"
    }
   ],
   "source": [
    "y_train"
   ]
  },
  {
   "cell_type": "code",
   "execution_count": 41,
   "id": "6ed69f06",
   "metadata": {},
   "outputs": [],
   "source": [
    "from wrapper.random_survival_forest_scikit.random_survival_forest import RandomSurvivalForestWrapper\n",
    "\n",
    "rsf = RandomSurvivalForestWrapper(\n",
    "    n_trees=100,\n",
    "    max_depth=10,\n",
    "    min_samples_split=2,\n",
    "    min_samples_leaf=1\n",
    ")"
   ]
  },
  {
   "cell_type": "code",
   "execution_count": 42,
   "id": "a5d0b37a",
   "metadata": {},
   "outputs": [],
   "source": [
    "rsf.fit(X_train, y_train)"
   ]
  },
  {
   "cell_type": "code",
   "execution_count": 43,
   "id": "28cf9b27",
   "metadata": {},
   "outputs": [
    {
     "data": {
      "text/plain": [
       "0.6757706476396792"
      ]
     },
     "execution_count": 43,
     "metadata": {},
     "output_type": "execute_result"
    }
   ],
   "source": [
    "rsf._score(X_test, y_test)"
   ]
  },
  {
   "cell_type": "code",
   "execution_count": null,
   "id": "03a04a5b",
   "metadata": {},
   "outputs": [],
   "source": []
  }
 ],
 "metadata": {
  "kernelspec": {
   "display_name": "env",
   "language": "python",
   "name": "env"
  },
  "language_info": {
   "codemirror_mode": {
    "name": "ipython",
    "version": 3
   },
   "file_extension": ".py",
   "mimetype": "text/x-python",
   "name": "python",
   "nbconvert_exporter": "python",
   "pygments_lexer": "ipython3",
   "version": "3.11.5"
  }
 },
 "nbformat": 4,
 "nbformat_minor": 5
}
