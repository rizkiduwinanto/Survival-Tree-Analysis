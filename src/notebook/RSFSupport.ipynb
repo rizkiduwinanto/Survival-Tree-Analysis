{
 "cells": [
  {
   "cell_type": "code",
   "execution_count": 14,
   "id": "ef8d310c",
   "metadata": {},
   "outputs": [],
   "source": [
    "import xgboost as xgb\n",
    "from sklearn.model_selection import ShuffleSplit\n",
    "from dataset import SupportDataset\n",
    "import numpy as np\n",
    "import pandas as pd"
   ]
  },
  {
   "cell_type": "markdown",
   "id": "59fe56e5",
   "metadata": {},
   "source": [
    "# Support2"
   ]
  },
  {
   "cell_type": "code",
   "execution_count": 15,
   "id": "88763ef0",
   "metadata": {},
   "outputs": [],
   "source": [
    "df = pd.read_csv('../data/support2.csv')"
   ]
  },
  {
   "cell_type": "code",
   "execution_count": 16,
   "id": "0df7417f",
   "metadata": {},
   "outputs": [
    {
     "name": "stderr",
     "output_type": "stream",
     "text": [
      "/mnt/c/Users/rizki/Master Files/ThesisUMCG/Survival-Tree-Analysis/src/dataset.py:94: FutureWarning: Downcasting behavior in `replace` is deprecated and will be removed in a future version. To retain the old behavior, explicitly call `result.infer_objects(copy=False)`. To opt-in to the future behavior, set `pd.set_option('future.no_silent_downcasting', True)`\n",
      "  self.data.replace({False: 0, True: 1}, inplace=True)\n"
     ]
    }
   ],
   "source": [
    "data = SupportDataset(df)"
   ]
  },
  {
   "cell_type": "code",
   "execution_count": 17,
   "id": "6ba91cdf",
   "metadata": {},
   "outputs": [
    {
     "data": {
      "text/plain": [
       "array([[62.84998,  0.     ,  1.     , ...,  1.     ,  0.     ,  0.     ],\n",
       "       [60.33899,  2.     ,  3.     , ...,  0.     ,  1.     ,  0.     ],\n",
       "       [52.74698,  2.     ,  4.     , ...,  0.     ,  1.     ,  0.     ],\n",
       "       ...,\n",
       "       [70.38196,  1.     , 18.     , ...,  0.     ,  1.     ,  0.     ],\n",
       "       [47.01999,  1.     , 22.     , ...,  0.     ,  0.     ,  1.     ],\n",
       "       [81.53894,  1.     ,  1.     , ...,  0.     ,  1.     ,  0.     ]])"
      ]
     },
     "execution_count": 17,
     "metadata": {},
     "output_type": "execute_result"
    }
   ],
   "source": [
    "d = data.get_data()\n",
    "d"
   ]
  },
  {
   "cell_type": "code",
   "execution_count": 18,
   "id": "41058c6c",
   "metadata": {},
   "outputs": [],
   "source": [
    "X_train, X_test, y_train, y_test = data.get_train_test_xgboost()"
   ]
  },
  {
   "cell_type": "code",
   "execution_count": 19,
   "id": "18018ace",
   "metadata": {},
   "outputs": [],
   "source": [
    "dtrain = xgb.DMatrix(X_train)\n",
    "dtrain.set_float_info('label_lower_bound', y_train['Survival_label_lower_bound'])\n",
    "dtrain.set_float_info('label_upper_bound', y_train['Survival_label_upper_bound'])"
   ]
  },
  {
   "cell_type": "code",
   "execution_count": 20,
   "id": "aac062bb",
   "metadata": {},
   "outputs": [],
   "source": [
    "dvalid = xgb.DMatrix(X_test)\n",
    "dvalid.set_float_info('label_lower_bound', y_test['Survival_label_lower_bound'])\n",
    "dvalid.set_float_info('label_upper_bound', y_test['Survival_label_upper_bound'])"
   ]
  },
  {
   "cell_type": "code",
   "execution_count": 21,
   "id": "f75bfaca",
   "metadata": {},
   "outputs": [
    {
     "name": "stdout",
     "output_type": "stream",
     "text": [
      "[0]\ttrain-aft-nloglik:15.00177\tvalid-aft-nloglik:15.30634\n",
      "[1]\ttrain-aft-nloglik:14.05325\tvalid-aft-nloglik:14.35721\n"
     ]
    },
    {
     "name": "stdout",
     "output_type": "stream",
     "text": [
      "[2]\ttrain-aft-nloglik:13.10038\tvalid-aft-nloglik:13.41016\n",
      "[3]\ttrain-aft-nloglik:12.18803\tvalid-aft-nloglik:12.49071\n",
      "[4]\ttrain-aft-nloglik:11.35780\tvalid-aft-nloglik:11.65341\n",
      "[5]\ttrain-aft-nloglik:10.60332\tvalid-aft-nloglik:10.89063\n",
      "[6]\ttrain-aft-nloglik:9.91694\tvalid-aft-nloglik:10.19749\n",
      "[7]\ttrain-aft-nloglik:9.29235\tvalid-aft-nloglik:9.56679\n",
      "[8]\ttrain-aft-nloglik:8.72220\tvalid-aft-nloglik:8.98999\n",
      "[9]\ttrain-aft-nloglik:8.20292\tvalid-aft-nloglik:8.46526\n",
      "[10]\ttrain-aft-nloglik:7.72934\tvalid-aft-nloglik:7.98467\n",
      "[11]\ttrain-aft-nloglik:7.29714\tvalid-aft-nloglik:7.54617\n",
      "[12]\ttrain-aft-nloglik:6.90242\tvalid-aft-nloglik:7.14511\n",
      "[13]\ttrain-aft-nloglik:6.54185\tvalid-aft-nloglik:6.77727\n",
      "[14]\ttrain-aft-nloglik:6.21188\tvalid-aft-nloglik:6.44134\n",
      "[15]\ttrain-aft-nloglik:5.91021\tvalid-aft-nloglik:6.13329\n",
      "[16]\ttrain-aft-nloglik:5.63362\tvalid-aft-nloglik:5.85188\n",
      "[17]\ttrain-aft-nloglik:5.38037\tvalid-aft-nloglik:5.59375\n",
      "[18]\ttrain-aft-nloglik:5.14820\tvalid-aft-nloglik:5.35673\n",
      "[19]\ttrain-aft-nloglik:4.93527\tvalid-aft-nloglik:5.13936\n",
      "[20]\ttrain-aft-nloglik:4.74008\tvalid-aft-nloglik:4.93987\n",
      "[21]\ttrain-aft-nloglik:4.56110\tvalid-aft-nloglik:4.75697\n",
      "[22]\ttrain-aft-nloglik:4.39692\tvalid-aft-nloglik:4.58812\n",
      "[23]\ttrain-aft-nloglik:4.24613\tvalid-aft-nloglik:4.43306\n",
      "[24]\ttrain-aft-nloglik:4.10778\tvalid-aft-nloglik:4.29044\n",
      "[25]\ttrain-aft-nloglik:3.98080\tvalid-aft-nloglik:4.15979\n",
      "[26]\ttrain-aft-nloglik:3.86432\tvalid-aft-nloglik:4.03951\n",
      "[27]\ttrain-aft-nloglik:3.75741\tvalid-aft-nloglik:3.92873\n",
      "[28]\ttrain-aft-nloglik:3.65927\tvalid-aft-nloglik:3.82711\n",
      "[29]\ttrain-aft-nloglik:3.56924\tvalid-aft-nloglik:3.73339\n",
      "[30]\ttrain-aft-nloglik:3.48660\tvalid-aft-nloglik:3.64715\n",
      "[31]\ttrain-aft-nloglik:3.41076\tvalid-aft-nloglik:3.56783\n",
      "[32]\ttrain-aft-nloglik:3.34114\tvalid-aft-nloglik:3.49507\n",
      "[33]\ttrain-aft-nloglik:3.27728\tvalid-aft-nloglik:3.42823\n",
      "[34]\ttrain-aft-nloglik:3.21868\tvalid-aft-nloglik:3.36665\n",
      "[35]\ttrain-aft-nloglik:3.16486\tvalid-aft-nloglik:3.31025\n",
      "[36]\ttrain-aft-nloglik:3.11550\tvalid-aft-nloglik:3.25844\n",
      "[37]\ttrain-aft-nloglik:3.07018\tvalid-aft-nloglik:3.21058\n",
      "[38]\ttrain-aft-nloglik:3.02862\tvalid-aft-nloglik:3.16648\n",
      "[39]\ttrain-aft-nloglik:2.99051\tvalid-aft-nloglik:3.12599\n",
      "[40]\ttrain-aft-nloglik:2.95559\tvalid-aft-nloglik:3.08872\n",
      "[41]\ttrain-aft-nloglik:2.92358\tvalid-aft-nloglik:3.05456\n",
      "[42]\ttrain-aft-nloglik:2.89425\tvalid-aft-nloglik:3.02314\n",
      "[43]\ttrain-aft-nloglik:2.86735\tvalid-aft-nloglik:2.99426\n",
      "[44]\ttrain-aft-nloglik:2.84270\tvalid-aft-nloglik:2.96776\n",
      "[45]\ttrain-aft-nloglik:2.82010\tvalid-aft-nloglik:2.94336\n",
      "[46]\ttrain-aft-nloglik:2.79939\tvalid-aft-nloglik:2.92094\n",
      "[47]\ttrain-aft-nloglik:2.78042\tvalid-aft-nloglik:2.90037\n",
      "[48]\ttrain-aft-nloglik:2.76303\tvalid-aft-nloglik:2.88153\n",
      "[49]\ttrain-aft-nloglik:2.74712\tvalid-aft-nloglik:2.86411\n",
      "[50]\ttrain-aft-nloglik:2.73254\tvalid-aft-nloglik:2.84810\n",
      "[51]\ttrain-aft-nloglik:2.71920\tvalid-aft-nloglik:2.83347\n",
      "[52]\ttrain-aft-nloglik:2.70696\tvalid-aft-nloglik:2.81997\n",
      "[53]\ttrain-aft-nloglik:2.69576\tvalid-aft-nloglik:2.80759\n",
      "[54]\ttrain-aft-nloglik:2.68550\tvalid-aft-nloglik:2.79624\n",
      "[55]\ttrain-aft-nloglik:2.67613\tvalid-aft-nloglik:2.78582\n",
      "[56]\ttrain-aft-nloglik:2.66754\tvalid-aft-nloglik:2.77627\n",
      "[57]\ttrain-aft-nloglik:2.65969\tvalid-aft-nloglik:2.76746\n",
      "[58]\ttrain-aft-nloglik:2.65241\tvalid-aft-nloglik:2.75932\n",
      "[59]\ttrain-aft-nloglik:2.64578\tvalid-aft-nloglik:2.75191\n",
      "[60]\ttrain-aft-nloglik:2.63967\tvalid-aft-nloglik:2.74510\n",
      "[61]\ttrain-aft-nloglik:2.63411\tvalid-aft-nloglik:2.73890\n",
      "[62]\ttrain-aft-nloglik:2.62900\tvalid-aft-nloglik:2.73318\n",
      "[63]\ttrain-aft-nloglik:2.62432\tvalid-aft-nloglik:2.72796\n",
      "[64]\ttrain-aft-nloglik:2.62005\tvalid-aft-nloglik:2.72299\n",
      "[65]\ttrain-aft-nloglik:2.61616\tvalid-aft-nloglik:2.71867\n",
      "[66]\ttrain-aft-nloglik:2.61261\tvalid-aft-nloglik:2.71472\n",
      "[67]\ttrain-aft-nloglik:2.60936\tvalid-aft-nloglik:2.71108\n",
      "[68]\ttrain-aft-nloglik:2.60639\tvalid-aft-nloglik:2.70774\n",
      "[69]\ttrain-aft-nloglik:2.60365\tvalid-aft-nloglik:2.70462\n",
      "[70]\ttrain-aft-nloglik:2.60108\tvalid-aft-nloglik:2.70169\n",
      "[71]\ttrain-aft-nloglik:2.59879\tvalid-aft-nloglik:2.69909\n",
      "[72]\ttrain-aft-nloglik:2.59667\tvalid-aft-nloglik:2.69663\n",
      "[73]\ttrain-aft-nloglik:2.59463\tvalid-aft-nloglik:2.69430\n",
      "[74]\ttrain-aft-nloglik:2.59285\tvalid-aft-nloglik:2.69233\n",
      "[75]\ttrain-aft-nloglik:2.59123\tvalid-aft-nloglik:2.69036\n",
      "[76]\ttrain-aft-nloglik:2.58970\tvalid-aft-nloglik:2.68865\n",
      "[77]\ttrain-aft-nloglik:2.58824\tvalid-aft-nloglik:2.68690\n",
      "[78]\ttrain-aft-nloglik:2.58697\tvalid-aft-nloglik:2.68542\n",
      "[79]\ttrain-aft-nloglik:2.58574\tvalid-aft-nloglik:2.68407\n",
      "[80]\ttrain-aft-nloglik:2.58465\tvalid-aft-nloglik:2.68275\n",
      "[81]\ttrain-aft-nloglik:2.58363\tvalid-aft-nloglik:2.68162\n",
      "[82]\ttrain-aft-nloglik:2.58265\tvalid-aft-nloglik:2.68042\n",
      "[83]\ttrain-aft-nloglik:2.58179\tvalid-aft-nloglik:2.67949\n",
      "[84]\ttrain-aft-nloglik:2.58094\tvalid-aft-nloglik:2.67853\n",
      "[85]\ttrain-aft-nloglik:2.58016\tvalid-aft-nloglik:2.67754\n",
      "[86]\ttrain-aft-nloglik:2.57947\tvalid-aft-nloglik:2.67682\n",
      "[87]\ttrain-aft-nloglik:2.57879\tvalid-aft-nloglik:2.67603\n",
      "[88]\ttrain-aft-nloglik:2.57815\tvalid-aft-nloglik:2.67542\n",
      "[89]\ttrain-aft-nloglik:2.57760\tvalid-aft-nloglik:2.67486\n",
      "[90]\ttrain-aft-nloglik:2.57705\tvalid-aft-nloglik:2.67424\n",
      "[91]\ttrain-aft-nloglik:2.57656\tvalid-aft-nloglik:2.67378\n",
      "[92]\ttrain-aft-nloglik:2.57607\tvalid-aft-nloglik:2.67313\n",
      "[93]\ttrain-aft-nloglik:2.57563\tvalid-aft-nloglik:2.67272\n",
      "[94]\ttrain-aft-nloglik:2.57515\tvalid-aft-nloglik:2.67237\n",
      "[95]\ttrain-aft-nloglik:2.57478\tvalid-aft-nloglik:2.67202\n",
      "[96]\ttrain-aft-nloglik:2.57443\tvalid-aft-nloglik:2.67167\n",
      "[97]\ttrain-aft-nloglik:2.57406\tvalid-aft-nloglik:2.67131\n",
      "[98]\ttrain-aft-nloglik:2.57370\tvalid-aft-nloglik:2.67095\n",
      "[99]\ttrain-aft-nloglik:2.57334\tvalid-aft-nloglik:2.67065\n",
      "[100]\ttrain-aft-nloglik:2.57302\tvalid-aft-nloglik:2.67032\n",
      "[101]\ttrain-aft-nloglik:2.57266\tvalid-aft-nloglik:2.66999\n",
      "[102]\ttrain-aft-nloglik:2.57239\tvalid-aft-nloglik:2.66977\n",
      "[103]\ttrain-aft-nloglik:2.57208\tvalid-aft-nloglik:2.66950\n",
      "[104]\ttrain-aft-nloglik:2.57177\tvalid-aft-nloglik:2.66928\n",
      "[105]\ttrain-aft-nloglik:2.57150\tvalid-aft-nloglik:2.66905\n",
      "[106]\ttrain-aft-nloglik:2.57125\tvalid-aft-nloglik:2.66886\n",
      "[107]\ttrain-aft-nloglik:2.57099\tvalid-aft-nloglik:2.66866\n",
      "[108]\ttrain-aft-nloglik:2.57073\tvalid-aft-nloglik:2.66857\n",
      "[109]\ttrain-aft-nloglik:2.57041\tvalid-aft-nloglik:2.66841\n",
      "[110]\ttrain-aft-nloglik:2.57021\tvalid-aft-nloglik:2.66826\n",
      "[111]\ttrain-aft-nloglik:2.56993\tvalid-aft-nloglik:2.66816\n",
      "[112]\ttrain-aft-nloglik:2.56973\tvalid-aft-nloglik:2.66809\n",
      "[113]\ttrain-aft-nloglik:2.56954\tvalid-aft-nloglik:2.66800\n",
      "[114]\ttrain-aft-nloglik:2.56934\tvalid-aft-nloglik:2.66790\n",
      "[115]\ttrain-aft-nloglik:2.56910\tvalid-aft-nloglik:2.66775\n",
      "[116]\ttrain-aft-nloglik:2.56893\tvalid-aft-nloglik:2.66762\n",
      "[117]\ttrain-aft-nloglik:2.56870\tvalid-aft-nloglik:2.66749\n",
      "[118]\ttrain-aft-nloglik:2.56845\tvalid-aft-nloglik:2.66743\n",
      "[119]\ttrain-aft-nloglik:2.56824\tvalid-aft-nloglik:2.66737\n",
      "[120]\ttrain-aft-nloglik:2.56805\tvalid-aft-nloglik:2.66729\n",
      "[121]\ttrain-aft-nloglik:2.56790\tvalid-aft-nloglik:2.66715\n",
      "[122]\ttrain-aft-nloglik:2.56775\tvalid-aft-nloglik:2.66710\n",
      "[123]\ttrain-aft-nloglik:2.56763\tvalid-aft-nloglik:2.66703\n",
      "[124]\ttrain-aft-nloglik:2.56743\tvalid-aft-nloglik:2.66698\n",
      "[125]\ttrain-aft-nloglik:2.56727\tvalid-aft-nloglik:2.66701\n",
      "[126]\ttrain-aft-nloglik:2.56713\tvalid-aft-nloglik:2.66688\n",
      "[127]\ttrain-aft-nloglik:2.56692\tvalid-aft-nloglik:2.66680\n",
      "[128]\ttrain-aft-nloglik:2.56685\tvalid-aft-nloglik:2.66676\n",
      "[129]\ttrain-aft-nloglik:2.56669\tvalid-aft-nloglik:2.66674\n",
      "[130]\ttrain-aft-nloglik:2.56652\tvalid-aft-nloglik:2.66666\n",
      "[131]\ttrain-aft-nloglik:2.56641\tvalid-aft-nloglik:2.66660\n",
      "[132]\ttrain-aft-nloglik:2.56634\tvalid-aft-nloglik:2.66660\n",
      "[133]\ttrain-aft-nloglik:2.56624\tvalid-aft-nloglik:2.66657\n",
      "[134]\ttrain-aft-nloglik:2.56611\tvalid-aft-nloglik:2.66654\n",
      "[135]\ttrain-aft-nloglik:2.56589\tvalid-aft-nloglik:2.66650\n",
      "[136]\ttrain-aft-nloglik:2.56582\tvalid-aft-nloglik:2.66642\n",
      "[137]\ttrain-aft-nloglik:2.56571\tvalid-aft-nloglik:2.66640\n",
      "[138]\ttrain-aft-nloglik:2.56557\tvalid-aft-nloglik:2.66642\n",
      "[139]\ttrain-aft-nloglik:2.56531\tvalid-aft-nloglik:2.66647\n",
      "[140]\ttrain-aft-nloglik:2.56524\tvalid-aft-nloglik:2.66644\n",
      "[141]\ttrain-aft-nloglik:2.56511\tvalid-aft-nloglik:2.66639\n",
      "[142]\ttrain-aft-nloglik:2.56492\tvalid-aft-nloglik:2.66637\n",
      "[143]\ttrain-aft-nloglik:2.56477\tvalid-aft-nloglik:2.66632\n",
      "[144]\ttrain-aft-nloglik:2.56452\tvalid-aft-nloglik:2.66638\n",
      "[145]\ttrain-aft-nloglik:2.56443\tvalid-aft-nloglik:2.66637\n",
      "[146]\ttrain-aft-nloglik:2.56429\tvalid-aft-nloglik:2.66633\n",
      "[147]\ttrain-aft-nloglik:2.56408\tvalid-aft-nloglik:2.66641\n",
      "[148]\ttrain-aft-nloglik:2.56403\tvalid-aft-nloglik:2.66640\n",
      "[149]\ttrain-aft-nloglik:2.56393\tvalid-aft-nloglik:2.66638\n",
      "[150]\ttrain-aft-nloglik:2.56380\tvalid-aft-nloglik:2.66642\n",
      "[151]\ttrain-aft-nloglik:2.56365\tvalid-aft-nloglik:2.66639\n",
      "[152]\ttrain-aft-nloglik:2.56361\tvalid-aft-nloglik:2.66638\n"
     ]
    }
   ],
   "source": [
    "params = {'verbosity': 0,\n",
    "          'objective': 'survival:aft',\n",
    "          'eval_metric': 'aft-nloglik',\n",
    "          'tree_method': 'hist',\n",
    "          'learning_rate': 0.05,\n",
    "          'aft_loss_distribution': 'normal',\n",
    "          'aft_loss_distribution_scale': 1.2,\n",
    "          'max_depth': 6,\n",
    "          'lambda': 0.01,\n",
    "          'alpha': 0.02}\n",
    "\n",
    "bst = xgb.train(params, dtrain, num_boost_round=1000,\n",
    "                evals=[(dtrain, 'train'), (dvalid, 'valid')],\n",
    "                early_stopping_rounds=10)"
   ]
  },
  {
   "cell_type": "code",
   "execution_count": 22,
   "id": "071a1d81",
   "metadata": {},
   "outputs": [
    {
     "data": {
      "text/plain": [
       "array([6.733583 , 6.653086 , 7.761915 , ..., 7.026075 , 7.7265673,\n",
       "       7.647699 ], dtype=float32)"
      ]
     },
     "execution_count": 22,
     "metadata": {},
     "output_type": "execute_result"
    }
   ],
   "source": [
    "times_pred = bst.predict(dvalid, output_margin=True)\n",
    "times_pred"
   ]
  },
  {
   "cell_type": "code",
   "execution_count": 23,
   "id": "260f7360",
   "metadata": {},
   "outputs": [],
   "source": [
    "times_true = []\n",
    "event_true = []\n",
    "for idx, rows in y_test.iterrows():\n",
    "    if rows['Survival_label_upper_bound'] == np.inf or not rows['Survival_label_upper_bound']:\n",
    "        event = 0\n",
    "    else:\n",
    "        event = 1 \n",
    "    event_true.append(event)\n",
    "    times = rows['Survival_label_lower_bound']\n",
    "    times_true.append(times)\n",
    "times_true = np.array(times_true)\n",
    "event_true = np.array(event_true)"
   ]
  },
  {
   "cell_type": "code",
   "execution_count": 24,
   "id": "5b7d2117",
   "metadata": {},
   "outputs": [
    {
     "data": {
      "text/html": [
       "<div>\n",
       "<style scoped>\n",
       "    .dataframe tbody tr th:only-of-type {\n",
       "        vertical-align: middle;\n",
       "    }\n",
       "\n",
       "    .dataframe tbody tr th {\n",
       "        vertical-align: top;\n",
       "    }\n",
       "\n",
       "    .dataframe thead th {\n",
       "        text-align: right;\n",
       "    }\n",
       "</style>\n",
       "<table border=\"1\" class=\"dataframe\">\n",
       "  <thead>\n",
       "    <tr style=\"text-align: right;\">\n",
       "      <th></th>\n",
       "      <th>Survival_label_lower_bound</th>\n",
       "      <th>Survival_label_upper_bound</th>\n",
       "    </tr>\n",
       "  </thead>\n",
       "  <tbody>\n",
       "    <tr>\n",
       "      <th>8630</th>\n",
       "      <td>109</td>\n",
       "      <td>inf</td>\n",
       "    </tr>\n",
       "    <tr>\n",
       "      <th>1069</th>\n",
       "      <td>866</td>\n",
       "      <td>866.0</td>\n",
       "    </tr>\n",
       "    <tr>\n",
       "      <th>6549</th>\n",
       "      <td>128</td>\n",
       "      <td>inf</td>\n",
       "    </tr>\n",
       "    <tr>\n",
       "      <th>5459</th>\n",
       "      <td>35</td>\n",
       "      <td>inf</td>\n",
       "    </tr>\n",
       "    <tr>\n",
       "      <th>5318</th>\n",
       "      <td>582</td>\n",
       "      <td>582.0</td>\n",
       "    </tr>\n",
       "  </tbody>\n",
       "</table>\n",
       "</div>"
      ],
      "text/plain": [
       "      Survival_label_lower_bound  Survival_label_upper_bound\n",
       "8630                         109                         inf\n",
       "1069                         866                       866.0\n",
       "6549                         128                         inf\n",
       "5459                          35                         inf\n",
       "5318                         582                       582.0"
      ]
     },
     "execution_count": 24,
     "metadata": {},
     "output_type": "execute_result"
    }
   ],
   "source": [
    "y_test.head()"
   ]
  },
  {
   "cell_type": "code",
   "execution_count": 25,
   "id": "281984e3",
   "metadata": {},
   "outputs": [
    {
     "data": {
      "text/plain": [
       "0.7553952338009053"
      ]
     },
     "execution_count": 25,
     "metadata": {},
     "output_type": "execute_result"
    }
   ],
   "source": [
    "from lifelines.utils import concordance_index\n",
    "c_index = concordance_index(times_true, times_pred, event_true)\n",
    "c_index"
   ]
  },
  {
   "cell_type": "code",
   "execution_count": null,
   "id": "a20b1dee",
   "metadata": {},
   "outputs": [],
   "source": []
  },
  {
   "cell_type": "code",
   "execution_count": null,
   "id": "858b5819",
   "metadata": {},
   "outputs": [],
   "source": []
  }
 ],
 "metadata": {
  "kernelspec": {
   "display_name": "env",
   "language": "python",
   "name": "env"
  },
  "language_info": {
   "codemirror_mode": {
    "name": "ipython",
    "version": 3
   },
   "file_extension": ".py",
   "mimetype": "text/x-python",
   "name": "python",
   "nbconvert_exporter": "python",
   "pygments_lexer": "ipython3",
   "version": "3.11.5"
  }
 },
 "nbformat": 4,
 "nbformat_minor": 5
}
