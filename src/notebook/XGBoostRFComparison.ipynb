{
 "cells": [
  {
   "cell_type": "code",
   "execution_count": 1,
   "id": "a4b70fe4-291d-4d49-ada5-7a7e4e5ced2a",
   "metadata": {},
   "outputs": [
    {
     "name": "stderr",
     "output_type": "stream",
     "text": [
      "/home/rizkiduwinanto/anaconda3/lib/python3.11/site-packages/pandas/core/arrays/masked.py:60: UserWarning: Pandas requires version '1.3.6' or newer of 'bottleneck' (version '1.3.5' currently installed).\n",
      "  from pandas.core import (\n"
     ]
    }
   ],
   "source": [
    "import pandas as pd\n",
    "import numpy as np\n",
    "from sklearn.model_selection import train_test_split\n",
    "\n",
    "from tree import AFTSurvivalTree\n",
    "from forest import AFTForest\n",
    "from dataset import SupportDataset, SyntheticDataset, VeteranLungDataset\n",
    "import time"
   ]
  },
  {
   "cell_type": "code",
   "execution_count": 2,
   "id": "06237ab7",
   "metadata": {},
   "outputs": [
    {
     "name": "stderr",
     "output_type": "stream",
     "text": [
      "/home/rizkiduwinanto/anaconda3/lib/python3.11/site-packages/pandas/core/nanops.py:1016: RuntimeWarning: invalid value encountered in subtract\n",
      "  sqr = _ensure_numeric((avg - values) ** 2)\n"
     ]
    },
    {
     "data": {
      "text/html": [
       "<div>\n",
       "<style scoped>\n",
       "    .dataframe tbody tr th:only-of-type {\n",
       "        vertical-align: middle;\n",
       "    }\n",
       "\n",
       "    .dataframe tbody tr th {\n",
       "        vertical-align: top;\n",
       "    }\n",
       "\n",
       "    .dataframe thead th {\n",
       "        text-align: right;\n",
       "    }\n",
       "</style>\n",
       "<table border=\"1\" class=\"dataframe\">\n",
       "  <thead>\n",
       "    <tr style=\"text-align: right;\">\n",
       "      <th></th>\n",
       "      <th>Survival_label_lower_bound</th>\n",
       "      <th>Survival_label_upper_bound</th>\n",
       "      <th>Age_in_years</th>\n",
       "      <th>Karnofsky_score</th>\n",
       "      <th>Months_from_Diagnosis</th>\n",
       "      <th>Celltype=adeno</th>\n",
       "      <th>Celltype=large</th>\n",
       "      <th>Celltype=smallcell</th>\n",
       "      <th>Celltype=squamous</th>\n",
       "      <th>Prior_therapy=no</th>\n",
       "      <th>Prior_therapy=yes</th>\n",
       "      <th>Treatment=standard</th>\n",
       "      <th>Treatment=test</th>\n",
       "    </tr>\n",
       "  </thead>\n",
       "  <tbody>\n",
       "    <tr>\n",
       "      <th>count</th>\n",
       "      <td>137.000000</td>\n",
       "      <td>137.0</td>\n",
       "      <td>137.000000</td>\n",
       "      <td>137.000000</td>\n",
       "      <td>137.000000</td>\n",
       "      <td>137.000000</td>\n",
       "      <td>137.000000</td>\n",
       "      <td>137.000000</td>\n",
       "      <td>137.000000</td>\n",
       "      <td>137.000000</td>\n",
       "      <td>137.000000</td>\n",
       "      <td>137.000000</td>\n",
       "      <td>137.000000</td>\n",
       "    </tr>\n",
       "    <tr>\n",
       "      <th>mean</th>\n",
       "      <td>121.627737</td>\n",
       "      <td>inf</td>\n",
       "      <td>58.306569</td>\n",
       "      <td>58.569343</td>\n",
       "      <td>8.773723</td>\n",
       "      <td>0.197080</td>\n",
       "      <td>0.197080</td>\n",
       "      <td>0.350365</td>\n",
       "      <td>0.255474</td>\n",
       "      <td>0.708029</td>\n",
       "      <td>0.291971</td>\n",
       "      <td>0.503650</td>\n",
       "      <td>0.496350</td>\n",
       "    </tr>\n",
       "    <tr>\n",
       "      <th>std</th>\n",
       "      <td>157.816722</td>\n",
       "      <td>NaN</td>\n",
       "      <td>10.541628</td>\n",
       "      <td>20.039592</td>\n",
       "      <td>10.612141</td>\n",
       "      <td>0.399253</td>\n",
       "      <td>0.399253</td>\n",
       "      <td>0.478835</td>\n",
       "      <td>0.437728</td>\n",
       "      <td>0.456337</td>\n",
       "      <td>0.456337</td>\n",
       "      <td>0.501821</td>\n",
       "      <td>0.501821</td>\n",
       "    </tr>\n",
       "    <tr>\n",
       "      <th>min</th>\n",
       "      <td>1.000000</td>\n",
       "      <td>1.0</td>\n",
       "      <td>34.000000</td>\n",
       "      <td>10.000000</td>\n",
       "      <td>1.000000</td>\n",
       "      <td>0.000000</td>\n",
       "      <td>0.000000</td>\n",
       "      <td>0.000000</td>\n",
       "      <td>0.000000</td>\n",
       "      <td>0.000000</td>\n",
       "      <td>0.000000</td>\n",
       "      <td>0.000000</td>\n",
       "      <td>0.000000</td>\n",
       "    </tr>\n",
       "    <tr>\n",
       "      <th>25%</th>\n",
       "      <td>25.000000</td>\n",
       "      <td>25.0</td>\n",
       "      <td>51.000000</td>\n",
       "      <td>40.000000</td>\n",
       "      <td>3.000000</td>\n",
       "      <td>0.000000</td>\n",
       "      <td>0.000000</td>\n",
       "      <td>0.000000</td>\n",
       "      <td>0.000000</td>\n",
       "      <td>0.000000</td>\n",
       "      <td>0.000000</td>\n",
       "      <td>0.000000</td>\n",
       "      <td>0.000000</td>\n",
       "    </tr>\n",
       "    <tr>\n",
       "      <th>50%</th>\n",
       "      <td>80.000000</td>\n",
       "      <td>80.0</td>\n",
       "      <td>62.000000</td>\n",
       "      <td>60.000000</td>\n",
       "      <td>5.000000</td>\n",
       "      <td>0.000000</td>\n",
       "      <td>0.000000</td>\n",
       "      <td>0.000000</td>\n",
       "      <td>0.000000</td>\n",
       "      <td>1.000000</td>\n",
       "      <td>0.000000</td>\n",
       "      <td>1.000000</td>\n",
       "      <td>0.000000</td>\n",
       "    </tr>\n",
       "    <tr>\n",
       "      <th>75%</th>\n",
       "      <td>144.000000</td>\n",
       "      <td>177.0</td>\n",
       "      <td>66.000000</td>\n",
       "      <td>75.000000</td>\n",
       "      <td>11.000000</td>\n",
       "      <td>0.000000</td>\n",
       "      <td>0.000000</td>\n",
       "      <td>1.000000</td>\n",
       "      <td>1.000000</td>\n",
       "      <td>1.000000</td>\n",
       "      <td>1.000000</td>\n",
       "      <td>1.000000</td>\n",
       "      <td>1.000000</td>\n",
       "    </tr>\n",
       "    <tr>\n",
       "      <th>max</th>\n",
       "      <td>999.000000</td>\n",
       "      <td>inf</td>\n",
       "      <td>81.000000</td>\n",
       "      <td>99.000000</td>\n",
       "      <td>87.000000</td>\n",
       "      <td>1.000000</td>\n",
       "      <td>1.000000</td>\n",
       "      <td>1.000000</td>\n",
       "      <td>1.000000</td>\n",
       "      <td>1.000000</td>\n",
       "      <td>1.000000</td>\n",
       "      <td>1.000000</td>\n",
       "      <td>1.000000</td>\n",
       "    </tr>\n",
       "  </tbody>\n",
       "</table>\n",
       "</div>"
      ],
      "text/plain": [
       "       Survival_label_lower_bound  Survival_label_upper_bound  Age_in_years  \\\n",
       "count                  137.000000                       137.0    137.000000   \n",
       "mean                   121.627737                         inf     58.306569   \n",
       "std                    157.816722                         NaN     10.541628   \n",
       "min                      1.000000                         1.0     34.000000   \n",
       "25%                     25.000000                        25.0     51.000000   \n",
       "50%                     80.000000                        80.0     62.000000   \n",
       "75%                    144.000000                       177.0     66.000000   \n",
       "max                    999.000000                         inf     81.000000   \n",
       "\n",
       "       Karnofsky_score  Months_from_Diagnosis  Celltype=adeno  Celltype=large  \\\n",
       "count       137.000000             137.000000      137.000000      137.000000   \n",
       "mean         58.569343               8.773723        0.197080        0.197080   \n",
       "std          20.039592              10.612141        0.399253        0.399253   \n",
       "min          10.000000               1.000000        0.000000        0.000000   \n",
       "25%          40.000000               3.000000        0.000000        0.000000   \n",
       "50%          60.000000               5.000000        0.000000        0.000000   \n",
       "75%          75.000000              11.000000        0.000000        0.000000   \n",
       "max          99.000000              87.000000        1.000000        1.000000   \n",
       "\n",
       "       Celltype=smallcell  Celltype=squamous  Prior_therapy=no  \\\n",
       "count          137.000000         137.000000        137.000000   \n",
       "mean             0.350365           0.255474          0.708029   \n",
       "std              0.478835           0.437728          0.456337   \n",
       "min              0.000000           0.000000          0.000000   \n",
       "25%              0.000000           0.000000          0.000000   \n",
       "50%              0.000000           0.000000          1.000000   \n",
       "75%              1.000000           1.000000          1.000000   \n",
       "max              1.000000           1.000000          1.000000   \n",
       "\n",
       "       Prior_therapy=yes  Treatment=standard  Treatment=test  \n",
       "count         137.000000          137.000000      137.000000  \n",
       "mean            0.291971            0.503650        0.496350  \n",
       "std             0.456337            0.501821        0.501821  \n",
       "min             0.000000            0.000000        0.000000  \n",
       "25%             0.000000            0.000000        0.000000  \n",
       "50%             0.000000            1.000000        0.000000  \n",
       "75%             1.000000            1.000000        1.000000  \n",
       "max             1.000000            1.000000        1.000000  "
      ]
     },
     "execution_count": 2,
     "metadata": {},
     "output_type": "execute_result"
    }
   ],
   "source": [
    "df = pd.read_csv('../data/veterans_lung_cancer.csv')\n",
    "df.describe()"
   ]
  },
  {
   "cell_type": "code",
   "execution_count": 3,
   "id": "6a8e8ba9",
   "metadata": {},
   "outputs": [
    {
     "data": {
      "text/html": [
       "<div>\n",
       "<style scoped>\n",
       "    .dataframe tbody tr th:only-of-type {\n",
       "        vertical-align: middle;\n",
       "    }\n",
       "\n",
       "    .dataframe tbody tr th {\n",
       "        vertical-align: top;\n",
       "    }\n",
       "\n",
       "    .dataframe thead th {\n",
       "        text-align: right;\n",
       "    }\n",
       "</style>\n",
       "<table border=\"1\" class=\"dataframe\">\n",
       "  <thead>\n",
       "    <tr style=\"text-align: right;\">\n",
       "      <th></th>\n",
       "      <th>Survival_label_lower_bound</th>\n",
       "      <th>Survival_label_upper_bound</th>\n",
       "      <th>Age_in_years</th>\n",
       "      <th>Karnofsky_score</th>\n",
       "      <th>Months_from_Diagnosis</th>\n",
       "      <th>Celltype=adeno</th>\n",
       "      <th>Celltype=large</th>\n",
       "      <th>Celltype=smallcell</th>\n",
       "      <th>Celltype=squamous</th>\n",
       "      <th>Prior_therapy=no</th>\n",
       "      <th>Prior_therapy=yes</th>\n",
       "      <th>Treatment=standard</th>\n",
       "      <th>Treatment=test</th>\n",
       "    </tr>\n",
       "  </thead>\n",
       "  <tbody>\n",
       "    <tr>\n",
       "      <th>0</th>\n",
       "      <td>72.0</td>\n",
       "      <td>72.0</td>\n",
       "      <td>69.0</td>\n",
       "      <td>60.0</td>\n",
       "      <td>7.0</td>\n",
       "      <td>0</td>\n",
       "      <td>0</td>\n",
       "      <td>0</td>\n",
       "      <td>1</td>\n",
       "      <td>1</td>\n",
       "      <td>0</td>\n",
       "      <td>1</td>\n",
       "      <td>0</td>\n",
       "    </tr>\n",
       "    <tr>\n",
       "      <th>1</th>\n",
       "      <td>411.0</td>\n",
       "      <td>411.0</td>\n",
       "      <td>64.0</td>\n",
       "      <td>70.0</td>\n",
       "      <td>5.0</td>\n",
       "      <td>0</td>\n",
       "      <td>0</td>\n",
       "      <td>0</td>\n",
       "      <td>1</td>\n",
       "      <td>0</td>\n",
       "      <td>1</td>\n",
       "      <td>1</td>\n",
       "      <td>0</td>\n",
       "    </tr>\n",
       "    <tr>\n",
       "      <th>2</th>\n",
       "      <td>228.0</td>\n",
       "      <td>228.0</td>\n",
       "      <td>38.0</td>\n",
       "      <td>60.0</td>\n",
       "      <td>3.0</td>\n",
       "      <td>0</td>\n",
       "      <td>0</td>\n",
       "      <td>0</td>\n",
       "      <td>1</td>\n",
       "      <td>1</td>\n",
       "      <td>0</td>\n",
       "      <td>1</td>\n",
       "      <td>0</td>\n",
       "    </tr>\n",
       "    <tr>\n",
       "      <th>3</th>\n",
       "      <td>126.0</td>\n",
       "      <td>126.0</td>\n",
       "      <td>63.0</td>\n",
       "      <td>60.0</td>\n",
       "      <td>9.0</td>\n",
       "      <td>0</td>\n",
       "      <td>0</td>\n",
       "      <td>0</td>\n",
       "      <td>1</td>\n",
       "      <td>0</td>\n",
       "      <td>1</td>\n",
       "      <td>1</td>\n",
       "      <td>0</td>\n",
       "    </tr>\n",
       "    <tr>\n",
       "      <th>4</th>\n",
       "      <td>118.0</td>\n",
       "      <td>118.0</td>\n",
       "      <td>65.0</td>\n",
       "      <td>70.0</td>\n",
       "      <td>11.0</td>\n",
       "      <td>0</td>\n",
       "      <td>0</td>\n",
       "      <td>0</td>\n",
       "      <td>1</td>\n",
       "      <td>0</td>\n",
       "      <td>1</td>\n",
       "      <td>1</td>\n",
       "      <td>0</td>\n",
       "    </tr>\n",
       "    <tr>\n",
       "      <th>...</th>\n",
       "      <td>...</td>\n",
       "      <td>...</td>\n",
       "      <td>...</td>\n",
       "      <td>...</td>\n",
       "      <td>...</td>\n",
       "      <td>...</td>\n",
       "      <td>...</td>\n",
       "      <td>...</td>\n",
       "      <td>...</td>\n",
       "      <td>...</td>\n",
       "      <td>...</td>\n",
       "      <td>...</td>\n",
       "      <td>...</td>\n",
       "    </tr>\n",
       "    <tr>\n",
       "      <th>132</th>\n",
       "      <td>133.0</td>\n",
       "      <td>133.0</td>\n",
       "      <td>65.0</td>\n",
       "      <td>75.0</td>\n",
       "      <td>1.0</td>\n",
       "      <td>0</td>\n",
       "      <td>1</td>\n",
       "      <td>0</td>\n",
       "      <td>0</td>\n",
       "      <td>1</td>\n",
       "      <td>0</td>\n",
       "      <td>0</td>\n",
       "      <td>1</td>\n",
       "    </tr>\n",
       "    <tr>\n",
       "      <th>133</th>\n",
       "      <td>111.0</td>\n",
       "      <td>111.0</td>\n",
       "      <td>64.0</td>\n",
       "      <td>60.0</td>\n",
       "      <td>5.0</td>\n",
       "      <td>0</td>\n",
       "      <td>1</td>\n",
       "      <td>0</td>\n",
       "      <td>0</td>\n",
       "      <td>1</td>\n",
       "      <td>0</td>\n",
       "      <td>0</td>\n",
       "      <td>1</td>\n",
       "    </tr>\n",
       "    <tr>\n",
       "      <th>134</th>\n",
       "      <td>231.0</td>\n",
       "      <td>231.0</td>\n",
       "      <td>67.0</td>\n",
       "      <td>70.0</td>\n",
       "      <td>18.0</td>\n",
       "      <td>0</td>\n",
       "      <td>1</td>\n",
       "      <td>0</td>\n",
       "      <td>0</td>\n",
       "      <td>0</td>\n",
       "      <td>1</td>\n",
       "      <td>0</td>\n",
       "      <td>1</td>\n",
       "    </tr>\n",
       "    <tr>\n",
       "      <th>135</th>\n",
       "      <td>378.0</td>\n",
       "      <td>378.0</td>\n",
       "      <td>65.0</td>\n",
       "      <td>80.0</td>\n",
       "      <td>4.0</td>\n",
       "      <td>0</td>\n",
       "      <td>1</td>\n",
       "      <td>0</td>\n",
       "      <td>0</td>\n",
       "      <td>1</td>\n",
       "      <td>0</td>\n",
       "      <td>0</td>\n",
       "      <td>1</td>\n",
       "    </tr>\n",
       "    <tr>\n",
       "      <th>136</th>\n",
       "      <td>49.0</td>\n",
       "      <td>49.0</td>\n",
       "      <td>37.0</td>\n",
       "      <td>30.0</td>\n",
       "      <td>3.0</td>\n",
       "      <td>0</td>\n",
       "      <td>1</td>\n",
       "      <td>0</td>\n",
       "      <td>0</td>\n",
       "      <td>1</td>\n",
       "      <td>0</td>\n",
       "      <td>0</td>\n",
       "      <td>1</td>\n",
       "    </tr>\n",
       "  </tbody>\n",
       "</table>\n",
       "<p>137 rows × 13 columns</p>\n",
       "</div>"
      ],
      "text/plain": [
       "     Survival_label_lower_bound  Survival_label_upper_bound  Age_in_years  \\\n",
       "0                          72.0                        72.0          69.0   \n",
       "1                         411.0                       411.0          64.0   \n",
       "2                         228.0                       228.0          38.0   \n",
       "3                         126.0                       126.0          63.0   \n",
       "4                         118.0                       118.0          65.0   \n",
       "..                          ...                         ...           ...   \n",
       "132                       133.0                       133.0          65.0   \n",
       "133                       111.0                       111.0          64.0   \n",
       "134                       231.0                       231.0          67.0   \n",
       "135                       378.0                       378.0          65.0   \n",
       "136                        49.0                        49.0          37.0   \n",
       "\n",
       "     Karnofsky_score  Months_from_Diagnosis  Celltype=adeno  Celltype=large  \\\n",
       "0               60.0                    7.0               0               0   \n",
       "1               70.0                    5.0               0               0   \n",
       "2               60.0                    3.0               0               0   \n",
       "3               60.0                    9.0               0               0   \n",
       "4               70.0                   11.0               0               0   \n",
       "..               ...                    ...             ...             ...   \n",
       "132             75.0                    1.0               0               1   \n",
       "133             60.0                    5.0               0               1   \n",
       "134             70.0                   18.0               0               1   \n",
       "135             80.0                    4.0               0               1   \n",
       "136             30.0                    3.0               0               1   \n",
       "\n",
       "     Celltype=smallcell  Celltype=squamous  Prior_therapy=no  \\\n",
       "0                     0                  1                 1   \n",
       "1                     0                  1                 0   \n",
       "2                     0                  1                 1   \n",
       "3                     0                  1                 0   \n",
       "4                     0                  1                 0   \n",
       "..                  ...                ...               ...   \n",
       "132                   0                  0                 1   \n",
       "133                   0                  0                 1   \n",
       "134                   0                  0                 0   \n",
       "135                   0                  0                 1   \n",
       "136                   0                  0                 1   \n",
       "\n",
       "     Prior_therapy=yes  Treatment=standard  Treatment=test  \n",
       "0                    0                   1               0  \n",
       "1                    1                   1               0  \n",
       "2                    0                   1               0  \n",
       "3                    1                   1               0  \n",
       "4                    1                   1               0  \n",
       "..                 ...                 ...             ...  \n",
       "132                  0                   0               1  \n",
       "133                  0                   0               1  \n",
       "134                  1                   0               1  \n",
       "135                  0                   0               1  \n",
       "136                  0                   0               1  \n",
       "\n",
       "[137 rows x 13 columns]"
      ]
     },
     "execution_count": 3,
     "metadata": {},
     "output_type": "execute_result"
    }
   ],
   "source": [
    "df"
   ]
  },
  {
   "cell_type": "code",
   "execution_count": 4,
   "id": "40251cdc",
   "metadata": {},
   "outputs": [],
   "source": [
    "import numpy as np\n",
    "import matplotlib.pyplot as plt\n",
    "from scipy.stats import norm, genextreme, gaussian_kde, ecdf"
   ]
  },
  {
   "cell_type": "code",
   "execution_count": 5,
   "id": "47faeff5",
   "metadata": {},
   "outputs": [
    {
     "data": {
      "text/plain": [
       "array([[69., 60.,  7., ...,  0.,  1.,  0.],\n",
       "       [64., 70.,  5., ...,  1.,  1.,  0.],\n",
       "       [38., 60.,  3., ...,  0.,  1.,  0.],\n",
       "       ...,\n",
       "       [67., 70., 18., ...,  1.,  0.,  1.],\n",
       "       [65., 80.,  4., ...,  0.,  0.,  1.],\n",
       "       [37., 30.,  3., ...,  0.,  0.,  1.]])"
      ]
     },
     "execution_count": 5,
     "metadata": {},
     "output_type": "execute_result"
    }
   ],
   "source": [
    "veteran = VeteranLungDataset(df)\n",
    "veteran.get_data()"
   ]
  },
  {
   "cell_type": "code",
   "execution_count": 6,
   "id": "13aee6f0",
   "metadata": {},
   "outputs": [
    {
     "data": {
      "text/plain": [
       "array([(0,  72.), (0, 411.), (0, 228.), (0, 126.), (0, 118.), (0,  10.),\n",
       "       (0,  82.), (0, 110.), (0, 314.), (1, 100.), (0,  42.), (0,   8.),\n",
       "       (0, 144.), (1,  25.), (0,  11.), (0,  30.), (0, 384.), (0,   4.),\n",
       "       (0,  54.), (0,  13.), (1, 123.), (1,  97.), (0, 153.), (0,  59.),\n",
       "       (0, 117.), (0,  16.), (0, 151.), (0,  22.), (0,  56.), (0,  21.),\n",
       "       (0,  18.), (0, 139.), (0,  20.), (0,  31.), (0,  52.), (0, 287.),\n",
       "       (0,  18.), (0,  51.), (0, 122.), (0,  27.), (0,  54.), (0,   7.),\n",
       "       (0,  63.), (0, 392.), (0,  10.), (0,   8.), (0,  92.), (0,  35.),\n",
       "       (0, 117.), (0, 132.), (0,  12.), (0, 162.), (0,   3.), (0,  95.),\n",
       "       (0, 177.), (0, 162.), (0, 216.), (0, 553.), (0, 278.), (0,  12.),\n",
       "       (0, 260.), (0, 200.), (0, 156.), (1, 182.), (0, 143.), (0, 105.),\n",
       "       (0, 103.), (0, 250.), (0, 100.), (0, 999.), (0, 112.), (1,  87.),\n",
       "       (1, 231.), (0, 242.), (0, 991.), (0, 111.), (0,   1.), (0, 587.),\n",
       "       (0, 389.), (0,  33.), (0,  25.), (0, 357.), (0, 467.), (0, 201.),\n",
       "       (0,   1.), (0,  30.), (0,  44.), (0, 283.), (0,  15.), (0,  25.),\n",
       "       (1, 103.), (0,  21.), (0,  13.), (0,  87.), (0,   2.), (0,  20.),\n",
       "       (0,   7.), (0,  24.), (0,  99.), (0,   8.), (0,  99.), (0,  61.),\n",
       "       (0,  25.), (0,  95.), (0,  80.), (0,  51.), (0,  29.), (0,  24.),\n",
       "       (0,  18.), (1,  83.), (0,  31.), (0,  51.), (0,  90.), (0,  52.),\n",
       "       (0,  73.), (0,   8.), (0,  36.), (0,  48.), (0,   7.), (0, 140.),\n",
       "       (0, 186.), (0,  84.), (0,  19.), (0,  45.), (0,  80.), (0,  52.),\n",
       "       (0, 164.), (0,  19.), (0,  53.), (0,  15.), (0,  43.), (0, 340.),\n",
       "       (0, 133.), (0, 111.), (0, 231.), (0, 378.), (0,  49.)],\n",
       "      dtype=(numpy.record, [('death', '<i8'), ('d.time', '<f8')]))"
      ]
     },
     "execution_count": 6,
     "metadata": {},
     "output_type": "execute_result"
    }
   ],
   "source": [
    "veteran.get_label()"
   ]
  },
  {
   "cell_type": "code",
   "execution_count": 7,
   "id": "048e8d31",
   "metadata": {},
   "outputs": [
    {
     "data": {
      "text/html": [
       "<div>\n",
       "<style scoped>\n",
       "    .dataframe tbody tr th:only-of-type {\n",
       "        vertical-align: middle;\n",
       "    }\n",
       "\n",
       "    .dataframe tbody tr th {\n",
       "        vertical-align: top;\n",
       "    }\n",
       "\n",
       "    .dataframe thead th {\n",
       "        text-align: right;\n",
       "    }\n",
       "</style>\n",
       "<table border=\"1\" class=\"dataframe\">\n",
       "  <thead>\n",
       "    <tr style=\"text-align: right;\">\n",
       "      <th></th>\n",
       "      <th>Survival_label_lower_bound</th>\n",
       "      <th>Survival_label_upper_bound</th>\n",
       "    </tr>\n",
       "  </thead>\n",
       "  <tbody>\n",
       "    <tr>\n",
       "      <th>0</th>\n",
       "      <td>72.0</td>\n",
       "      <td>72.0</td>\n",
       "    </tr>\n",
       "    <tr>\n",
       "      <th>1</th>\n",
       "      <td>411.0</td>\n",
       "      <td>411.0</td>\n",
       "    </tr>\n",
       "    <tr>\n",
       "      <th>2</th>\n",
       "      <td>228.0</td>\n",
       "      <td>228.0</td>\n",
       "    </tr>\n",
       "    <tr>\n",
       "      <th>3</th>\n",
       "      <td>126.0</td>\n",
       "      <td>126.0</td>\n",
       "    </tr>\n",
       "    <tr>\n",
       "      <th>4</th>\n",
       "      <td>118.0</td>\n",
       "      <td>118.0</td>\n",
       "    </tr>\n",
       "    <tr>\n",
       "      <th>...</th>\n",
       "      <td>...</td>\n",
       "      <td>...</td>\n",
       "    </tr>\n",
       "    <tr>\n",
       "      <th>132</th>\n",
       "      <td>133.0</td>\n",
       "      <td>133.0</td>\n",
       "    </tr>\n",
       "    <tr>\n",
       "      <th>133</th>\n",
       "      <td>111.0</td>\n",
       "      <td>111.0</td>\n",
       "    </tr>\n",
       "    <tr>\n",
       "      <th>134</th>\n",
       "      <td>231.0</td>\n",
       "      <td>231.0</td>\n",
       "    </tr>\n",
       "    <tr>\n",
       "      <th>135</th>\n",
       "      <td>378.0</td>\n",
       "      <td>378.0</td>\n",
       "    </tr>\n",
       "    <tr>\n",
       "      <th>136</th>\n",
       "      <td>49.0</td>\n",
       "      <td>49.0</td>\n",
       "    </tr>\n",
       "  </tbody>\n",
       "</table>\n",
       "<p>137 rows × 2 columns</p>\n",
       "</div>"
      ],
      "text/plain": [
       "     Survival_label_lower_bound  Survival_label_upper_bound\n",
       "0                          72.0                        72.0\n",
       "1                         411.0                       411.0\n",
       "2                         228.0                       228.0\n",
       "3                         126.0                       126.0\n",
       "4                         118.0                       118.0\n",
       "..                          ...                         ...\n",
       "132                       133.0                       133.0\n",
       "133                       111.0                       111.0\n",
       "134                       231.0                       231.0\n",
       "135                       378.0                       378.0\n",
       "136                        49.0                        49.0\n",
       "\n",
       "[137 rows x 2 columns]"
      ]
     },
     "execution_count": 7,
     "metadata": {},
     "output_type": "execute_result"
    }
   ],
   "source": [
    "veteran.get_xgboost_label()"
   ]
  },
  {
   "cell_type": "code",
   "execution_count": 8,
   "id": "902ba9a0",
   "metadata": {},
   "outputs": [],
   "source": [
    "X_train, X_test, y_train, y_test = veteran.get_train_test()"
   ]
  },
  {
   "cell_type": "markdown",
   "id": "9f1009e5",
   "metadata": {},
   "source": [
    "##### Init All Methods"
   ]
  },
  {
   "cell_type": "markdown",
   "id": "10e94e3a",
   "metadata": {},
   "source": [
    "AFT-Forest"
   ]
  },
  {
   "cell_type": "code",
   "execution_count": 9,
   "id": "47aedd79",
   "metadata": {},
   "outputs": [],
   "source": [
    "aft_surv_tree = AFTSurvivalTree(function=\"norm\")\n"
   ]
  },
  {
   "cell_type": "code",
   "execution_count": 10,
   "id": "6fd74fcc",
   "metadata": {},
   "outputs": [],
   "source": [
    " kwargs = {\n",
    "    \"is_bootstrap\": False, \n",
    "    \"is_custom_dist\": False, \n",
    "    \"n_components\": 1000,\n",
    "    \"max_depth\": 10,\n",
    "    \"min_samples_split\": 2, \n",
    "    \"min_samples_leaf\": 2,\n",
    "    \"sigma\": 0.1,\n",
    "    \"n_samples\": 1000,\n",
    "    \"percent_len_sample\": 0.5,\n",
    "    \"test_size\": 0.5\n",
    "}\n",
    "aft_forest = AFTForest(n_trees=10, random_state=42, **kwargs)"
   ]
  },
  {
   "cell_type": "code",
   "execution_count": 11,
   "id": "e1ebcb5e",
   "metadata": {},
   "outputs": [],
   "source": [
    "aft_surv_tree.fit(X_train, y_train)"
   ]
  },
  {
   "cell_type": "code",
   "execution_count": 12,
   "id": "a939e9db",
   "metadata": {},
   "outputs": [
    {
     "name": "stderr",
     "output_type": "stream",
     "text": [
      "/home/rizkiduwinanto/anaconda3/lib/python3.11/site-packages/pandas/core/arrays/masked.py:60: UserWarning: Pandas requires version '1.3.6' or newer of 'bottleneck' (version '1.3.5' currently installed).\n",
      "  from pandas.core import (\n",
      "/home/rizkiduwinanto/anaconda3/lib/python3.11/site-packages/pandas/core/arrays/masked.py:60: UserWarning: Pandas requires version '1.3.6' or newer of 'bottleneck' (version '1.3.5' currently installed).\n",
      "  from pandas.core import (\n",
      "/home/rizkiduwinanto/anaconda3/lib/python3.11/site-packages/pandas/core/arrays/masked.py:60: UserWarning: Pandas requires version '1.3.6' or newer of 'bottleneck' (version '1.3.5' currently installed).\n",
      "  from pandas.core import (\n",
      "/home/rizkiduwinanto/anaconda3/lib/python3.11/site-packages/pandas/core/arrays/masked.py:60: UserWarning: Pandas requires version '1.3.6' or newer of 'bottleneck' (version '1.3.5' currently installed).\n",
      "  from pandas.core import (\n",
      "/home/rizkiduwinanto/anaconda3/lib/python3.11/site-packages/pandas/core/arrays/masked.py:60: UserWarning: Pandas requires version '1.3.6' or newer of 'bottleneck' (version '1.3.5' currently installed).\n",
      "  from pandas.core import (\n",
      "/home/rizkiduwinanto/anaconda3/lib/python3.11/site-packages/pandas/core/arrays/masked.py:60: UserWarning: Pandas requires version '1.3.6' or newer of 'bottleneck' (version '1.3.5' currently installed).\n",
      "  from pandas.core import (\n",
      "/home/rizkiduwinanto/anaconda3/lib/python3.11/site-packages/pandas/core/arrays/masked.py:60: UserWarning: Pandas requires version '1.3.6' or newer of 'bottleneck' (version '1.3.5' currently installed).\n",
      "  from pandas.core import (\n",
      "/home/rizkiduwinanto/anaconda3/lib/python3.11/site-packages/pandas/core/arrays/masked.py:60: UserWarning: Pandas requires version '1.3.6' or newer of 'bottleneck' (version '1.3.5' currently installed).\n",
      "  from pandas.core import (\n",
      "/home/rizkiduwinanto/anaconda3/lib/python3.11/site-packages/pandas/core/arrays/masked.py:60: UserWarning: Pandas requires version '1.3.6' or newer of 'bottleneck' (version '1.3.5' currently installed).\n",
      "  from pandas.core import (\n",
      "/home/rizkiduwinanto/anaconda3/lib/python3.11/site-packages/pandas/core/arrays/masked.py:60: UserWarning: Pandas requires version '1.3.6' or newer of 'bottleneck' (version '1.3.5' currently installed).\n",
      "  from pandas.core import (\n",
      "100%|██████████| 10/10 [00:00<00:00, 33662.15it/s]\n"
     ]
    }
   ],
   "source": [
    "aft_forest.fit(X_train, y_train)"
   ]
  },
  {
   "cell_type": "code",
   "execution_count": 13,
   "id": "b121584d",
   "metadata": {},
   "outputs": [
    {
     "data": {
      "text/plain": [
       "[125.5,\n",
       " 127.28915662650603,\n",
       " 127.28915662650603,\n",
       " 127.28915662650603,\n",
       " 127.28915662650603,\n",
       " 70.2,\n",
       " 127.28915662650603,\n",
       " 127.28915662650603,\n",
       " 127.28915662650603,\n",
       " 127.28915662650603,\n",
       " 70.2,\n",
       " 127.28915662650603,\n",
       " 127.28915662650603,\n",
       " 127.28915662650603,\n",
       " 127.28915662650603,\n",
       " 127.28915662650603,\n",
       " 127.28915662650603,\n",
       " 127.28915662650603,\n",
       " 127.28915662650603,\n",
       " 127.28915662650603,\n",
       " 104.1,\n",
       " 127.28915662650603,\n",
       " 127.28915662650603,\n",
       " 127.28915662650603,\n",
       " 127.28915662650603,\n",
       " 127.28915662650603,\n",
       " 104.1,\n",
       " 127.28915662650603]"
      ]
     },
     "execution_count": 13,
     "metadata": {},
     "output_type": "execute_result"
    }
   ],
   "source": [
    "aft_surv_tree.predict(X_test)"
   ]
  },
  {
   "cell_type": "code",
   "execution_count": 14,
   "id": "48aa120b",
   "metadata": {},
   "outputs": [
    {
     "data": {
      "text/plain": [
       "[107.88112781954885,\n",
       " 118.01912781954886,\n",
       " 107.88112781954885,\n",
       " 118.01912781954886,\n",
       " 114.70017543859649,\n",
       " 113.99299999999998,\n",
       " 118.01912781954886,\n",
       " 118.01912781954886,\n",
       " 118.01912781954886,\n",
       " 118.01912781954886,\n",
       " 112.80499999999999,\n",
       " 107.88112781954885,\n",
       " 118.79650877192981,\n",
       " 118.79650877192981,\n",
       " 114.70017543859649,\n",
       " 122.07984210526315,\n",
       " 118.01912781954886,\n",
       " 118.01912781954886,\n",
       " 114.70017543859649,\n",
       " 122.07984210526315,\n",
       " 122.07984210526315,\n",
       " 118.01912781954886,\n",
       " 109.96684210526314,\n",
       " 107.88112781954885,\n",
       " 114.70017543859649,\n",
       " 118.01912781954886,\n",
       " 122.07984210526315,\n",
       " 118.01912781954886]"
      ]
     },
     "execution_count": 14,
     "metadata": {},
     "output_type": "execute_result"
    }
   ],
   "source": [
    "aft_forest.predict(X_test)"
   ]
  },
  {
   "cell_type": "code",
   "execution_count": 15,
   "id": "6e24fde8",
   "metadata": {},
   "outputs": [
    {
     "data": {
      "text/plain": [
       "0.5206043956043956"
      ]
     },
     "execution_count": 15,
     "metadata": {},
     "output_type": "execute_result"
    }
   ],
   "source": [
    "aft_surv_tree._score(X_test, y_test)"
   ]
  },
  {
   "cell_type": "code",
   "execution_count": 16,
   "id": "6be2fca7",
   "metadata": {},
   "outputs": [],
   "source": [
    "aft_surv_tree._visualize()"
   ]
  },
  {
   "cell_type": "code",
   "execution_count": 17,
   "id": "10fd6d9f",
   "metadata": {},
   "outputs": [
    {
     "data": {
      "text/plain": [
       "0.10341047841047839"
      ]
     },
     "execution_count": 17,
     "metadata": {},
     "output_type": "execute_result"
    }
   ],
   "source": [
    "aft_surv_tree._brier(X_test, y_test)"
   ]
  },
  {
   "cell_type": "code",
   "execution_count": 18,
   "id": "37831669",
   "metadata": {},
   "outputs": [
    {
     "data": {
      "text/plain": [
       "99.91157487091223"
      ]
     },
     "execution_count": 18,
     "metadata": {},
     "output_type": "execute_result"
    }
   ],
   "source": [
    "aft_surv_tree._mae(X_test, y_test)"
   ]
  },
  {
   "cell_type": "code",
   "execution_count": 19,
   "id": "2c92e309",
   "metadata": {},
   "outputs": [
    {
     "data": {
      "text/plain": [
       "(array([0.5       , 0.5       , 0.5       , 0.5       , 0.5       ,\n",
       "        0.5       , 0.5       , 0.49487179, 0.5       , 0.50274725,\n",
       "        0.5085034 , 0.46071429, 0.47152194, 0.5       , 0.5       ,\n",
       "        0.5       , 0.5       , 0.5       , 0.5       , 0.5       ,\n",
       "        0.5       , 0.5       , 0.5       , 0.5       , 0.5       ,\n",
       "        0.5       , 0.5       , 0.5       , 0.5       , 0.5       ,\n",
       "        0.5       , 0.5       , 0.5       , 0.5       , 0.5       ,\n",
       "        0.5       , 0.5       , 0.5       , 0.5       , 0.5       ,\n",
       "        0.5       , 0.5       , 0.5       , 0.5       , 0.5       ,\n",
       "        0.5       , 0.5       , 0.5       , 0.5       , 0.5       ,\n",
       "        0.5       , 0.5       , 0.5       , 0.5       , 0.5       ,\n",
       "        0.5       , 0.5       , 0.5       , 0.5       , 0.5       ,\n",
       "        0.5       , 0.5       , 0.5       , 0.5       , 0.5       ,\n",
       "        0.5       , 0.5       , 0.5       , 0.5       , 0.5       ,\n",
       "        0.5       , 0.5       , 0.5       , 0.5       , 0.5       ,\n",
       "        0.5       , 0.5       , 0.5       , 0.5       , 0.5       ,\n",
       "        0.5       , 0.5       , 0.5       , 0.5       , 0.5       ,\n",
       "        0.5       , 0.5       , 0.5       , 0.5       , 0.5       ,\n",
       "        0.5       , 0.5       , 0.5       , 0.5       , 0.5       ,\n",
       "        0.5       , 0.5       , 0.5       , 0.5       , 0.5       ]),\n",
       " 0.4958676804054955)"
      ]
     },
     "execution_count": 19,
     "metadata": {},
     "output_type": "execute_result"
    }
   ],
   "source": [
    "aft_surv_tree._auc(X_test, y_test)"
   ]
  },
  {
   "cell_type": "code",
   "execution_count": 20,
   "id": "1d071770",
   "metadata": {},
   "outputs": [
    {
     "data": {
      "text/plain": [
       "0.6236263736263736"
      ]
     },
     "execution_count": 20,
     "metadata": {},
     "output_type": "execute_result"
    }
   ],
   "source": [
    "aft_forest._score(X_test, y_test)"
   ]
  },
  {
   "cell_type": "code",
   "execution_count": 21,
   "id": "c35c0d50",
   "metadata": {},
   "outputs": [
    {
     "data": {
      "text/plain": [
       "0.10094072594072592"
      ]
     },
     "execution_count": 21,
     "metadata": {},
     "output_type": "execute_result"
    }
   ],
   "source": [
    "aft_forest._brier(X_test, y_test)"
   ]
  },
  {
   "cell_type": "code",
   "execution_count": 22,
   "id": "e0bf372c",
   "metadata": {},
   "outputs": [
    {
     "data": {
      "text/plain": [
       "(array([0.5       , 0.5       , 0.5       , 0.5       , 0.5       ,\n",
       "        0.5       , 0.5       , 0.5       , 0.5       , 0.5       ,\n",
       "        0.5       , 0.46294643, 0.44351074, 0.5       , 0.5       ,\n",
       "        0.5       , 0.5       , 0.5       , 0.5       , 0.5       ,\n",
       "        0.5       , 0.5       , 0.5       , 0.5       , 0.5       ,\n",
       "        0.5       , 0.5       , 0.5       , 0.5       , 0.5       ,\n",
       "        0.5       , 0.5       , 0.5       , 0.5       , 0.5       ,\n",
       "        0.5       , 0.5       , 0.5       , 0.5       , 0.5       ,\n",
       "        0.5       , 0.5       , 0.5       , 0.5       , 0.5       ,\n",
       "        0.5       , 0.5       , 0.5       , 0.5       , 0.5       ,\n",
       "        0.5       , 0.5       , 0.5       , 0.5       , 0.5       ,\n",
       "        0.5       , 0.5       , 0.5       , 0.5       , 0.5       ,\n",
       "        0.5       , 0.5       , 0.5       , 0.5       , 0.5       ,\n",
       "        0.5       , 0.5       , 0.5       , 0.5       , 0.5       ,\n",
       "        0.5       , 0.5       , 0.5       , 0.5       , 0.5       ,\n",
       "        0.5       , 0.5       , 0.5       , 0.5       , 0.5       ,\n",
       "        0.5       , 0.5       , 0.5       , 0.5       , 0.5       ,\n",
       "        0.5       , 0.5       , 0.5       , 0.5       , 0.5       ,\n",
       "        0.5       , 0.5       , 0.5       , 0.5       , 0.5       ,\n",
       "        0.5       , 0.5       , 0.5       , 0.5       , 0.5       ]),\n",
       " 0.4947761437908496)"
      ]
     },
     "execution_count": 22,
     "metadata": {},
     "output_type": "execute_result"
    }
   ],
   "source": [
    "aft_forest._auc(X_test, y_test)"
   ]
  },
  {
   "cell_type": "code",
   "execution_count": 23,
   "id": "d113477a",
   "metadata": {},
   "outputs": [],
   "source": [
    "aft_surv_tree_weibull = AFTSurvivalTree(function=\"weibull\", is_bootstrap=False, is_custom_dist=True)\n"
   ]
  },
  {
   "cell_type": "code",
   "execution_count": 24,
   "id": "29514a9e",
   "metadata": {},
   "outputs": [],
   "source": [
    "aft_surv_tree_weibull.fit(X_train, y_train)"
   ]
  },
  {
   "cell_type": "code",
   "execution_count": 25,
   "id": "50f97d90",
   "metadata": {},
   "outputs": [
    {
     "data": {
      "text/plain": [
       "0.5"
      ]
     },
     "execution_count": 25,
     "metadata": {},
     "output_type": "execute_result"
    }
   ],
   "source": [
    "\n",
    "aft_surv_tree_weibull._score(X_test, y_test)"
   ]
  },
  {
   "cell_type": "code",
   "execution_count": 26,
   "id": "89e4cb49",
   "metadata": {},
   "outputs": [],
   "source": [
    "aft_surv_tree_weibull.save(\"tree_weibull.json\")"
   ]
  },
  {
   "cell_type": "code",
   "execution_count": 27,
   "id": "963913e4",
   "metadata": {},
   "outputs": [],
   "source": [
    "aft_surv_tree_load_test = AFTSurvivalTree()\n",
    "aft_surv_tree_load_test = aft_surv_tree_load_test.load(\"tree_weibull.json\")"
   ]
  },
  {
   "cell_type": "code",
   "execution_count": 28,
   "id": "257e836b",
   "metadata": {},
   "outputs": [
    {
     "data": {
      "text/plain": [
       "0.5"
      ]
     },
     "execution_count": 28,
     "metadata": {},
     "output_type": "execute_result"
    }
   ],
   "source": [
    "aft_surv_tree_load_test._score(X_test, y_test)"
   ]
  },
  {
   "cell_type": "code",
   "execution_count": 29,
   "id": "83784eeb",
   "metadata": {},
   "outputs": [],
   "source": [
    "aft_surv_tree_logistic = AFTSurvivalTree(function=\"logistic\", is_bootstrap=False, is_custom_dist=True)"
   ]
  },
  {
   "cell_type": "code",
   "execution_count": 30,
   "id": "2721ff07",
   "metadata": {},
   "outputs": [],
   "source": [
    "aft_surv_tree_logistic.fit(X_train, y_train)"
   ]
  },
  {
   "cell_type": "code",
   "execution_count": 31,
   "id": "b6c2fce3",
   "metadata": {},
   "outputs": [
    {
     "data": {
      "text/plain": [
       "0.5"
      ]
     },
     "execution_count": 31,
     "metadata": {},
     "output_type": "execute_result"
    }
   ],
   "source": [
    "aft_surv_tree_logistic._score(X_test, y_test)"
   ]
  },
  {
   "cell_type": "code",
   "execution_count": 32,
   "id": "5c01137a",
   "metadata": {},
   "outputs": [],
   "source": [
    "aft_surv_tree_gmm = AFTSurvivalTree(function=\"gmm\", is_bootstrap=False, is_custom_dist=True)"
   ]
  },
  {
   "cell_type": "code",
   "execution_count": 33,
   "id": "c1c1f6ff",
   "metadata": {},
   "outputs": [],
   "source": [
    "aft_surv_tree_gmm.fit(X_train, y_train)"
   ]
  },
  {
   "cell_type": "code",
   "execution_count": 34,
   "id": "c49f3b29",
   "metadata": {},
   "outputs": [
    {
     "data": {
      "text/plain": [
       "0.5082417582417582"
      ]
     },
     "execution_count": 34,
     "metadata": {},
     "output_type": "execute_result"
    }
   ],
   "source": [
    "aft_surv_tree_gmm._score(X_test, y_test)"
   ]
  },
  {
   "cell_type": "code",
   "execution_count": 35,
   "id": "b3f9bcfd",
   "metadata": {},
   "outputs": [],
   "source": [
    "aft_surv_tree_normal = AFTSurvivalTree(function=\"norm\", is_bootstrap=False, is_custom_dist=True)"
   ]
  },
  {
   "cell_type": "code",
   "execution_count": 36,
   "id": "e02ef2c8",
   "metadata": {},
   "outputs": [],
   "source": [
    "aft_surv_tree_normal.fit(X_train, y_train)\n"
   ]
  },
  {
   "cell_type": "code",
   "execution_count": 37,
   "id": "34d36fb6",
   "metadata": {},
   "outputs": [
    {
     "data": {
      "text/plain": [
       "0.5"
      ]
     },
     "execution_count": 37,
     "metadata": {},
     "output_type": "execute_result"
    }
   ],
   "source": [
    "aft_surv_tree_normal._score(X_test, y_test)"
   ]
  },
  {
   "cell_type": "code",
   "execution_count": 38,
   "id": "e10dbded",
   "metadata": {},
   "outputs": [],
   "source": [
    "aft_surv_tree_extreme = AFTSurvivalTree(function=\"extreme\", is_bootstrap=True, is_custom_dist=True)"
   ]
  },
  {
   "cell_type": "code",
   "execution_count": 39,
   "id": "f17af1d2",
   "metadata": {},
   "outputs": [],
   "source": [
    "aft_surv_tree_extreme.fit(X_train, y_train)"
   ]
  },
  {
   "cell_type": "code",
   "execution_count": 40,
   "id": "6f6d91c6",
   "metadata": {},
   "outputs": [
    {
     "data": {
      "text/plain": [
       "0.5453296703296703"
      ]
     },
     "execution_count": 40,
     "metadata": {},
     "output_type": "execute_result"
    }
   ],
   "source": [
    "aft_surv_tree_extreme._score(X_test, y_test)"
   ]
  },
  {
   "cell_type": "code",
   "execution_count": 41,
   "id": "eea89167",
   "metadata": {},
   "outputs": [],
   "source": [
    "aft_surv_tree_extreme._visualize()"
   ]
  },
  {
   "cell_type": "code",
   "execution_count": 42,
   "id": "021f9358",
   "metadata": {},
   "outputs": [],
   "source": [
    "aft_surv_tree_extreme.save(\"extreme.json\")"
   ]
  },
  {
   "cell_type": "code",
   "execution_count": 43,
   "id": "10fb876d",
   "metadata": {},
   "outputs": [],
   "source": [
    "kwargs = {\n",
    "    \"function\": \"gmm\", \n",
    "    \"is_bootstrap\": True, \n",
    "    \"is_custom_dist\": True,\n",
    "    \"n_components\": 2\n",
    "}\n",
    "aft_forest = AFTForest(n_trees=10, **kwargs)"
   ]
  },
  {
   "cell_type": "code",
   "execution_count": 44,
   "id": "944227f2",
   "metadata": {},
   "outputs": [
    {
     "name": "stderr",
     "output_type": "stream",
     "text": [
      "/home/rizkiduwinanto/anaconda3/lib/python3.11/site-packages/pandas/core/arrays/masked.py:60: UserWarning: Pandas requires version '1.3.6' or newer of 'bottleneck' (version '1.3.5' currently installed).\n",
      "  from pandas.core import (\n",
      "/home/rizkiduwinanto/anaconda3/lib/python3.11/site-packages/pandas/core/arrays/masked.py:60: UserWarning: Pandas requires version '1.3.6' or newer of 'bottleneck' (version '1.3.5' currently installed).\n",
      "  from pandas.core import (\n",
      "100%|██████████| 10/10 [00:00<00:00, 83886.08it/s]\n"
     ]
    }
   ],
   "source": [
    "aft_forest.fit(X_train, y_train)"
   ]
  },
  {
   "cell_type": "code",
   "execution_count": 45,
   "id": "40acf83c",
   "metadata": {},
   "outputs": [
    {
     "data": {
      "text/plain": [
       "0.6346153846153846"
      ]
     },
     "execution_count": 45,
     "metadata": {},
     "output_type": "execute_result"
    }
   ],
   "source": [
    "aft_forest._score(X_test, y_test)"
   ]
  },
  {
   "cell_type": "code",
   "execution_count": 46,
   "id": "3719c8de",
   "metadata": {},
   "outputs": [
    {
     "data": {
      "text/plain": [
       "'models/forest/forest.json'"
      ]
     },
     "execution_count": 46,
     "metadata": {},
     "output_type": "execute_result"
    }
   ],
   "source": [
    "aft_forest.save(\"forest.json\")"
   ]
  },
  {
   "cell_type": "code",
   "execution_count": 47,
   "id": "1992d7b2",
   "metadata": {},
   "outputs": [],
   "source": [
    "# aft_forest_load_test._score(X_test, y_test)"
   ]
  },
  {
   "cell_type": "code",
   "execution_count": 48,
   "id": "cfb0bce7",
   "metadata": {},
   "outputs": [],
   "source": [
    "# aft_forest_load_test.save(\"forest_load.json\")"
   ]
  },
  {
   "cell_type": "code",
   "execution_count": 49,
   "id": "ca0ae394",
   "metadata": {},
   "outputs": [],
   "source": [
    "kwargs = {\n",
    "    \"function\": \"norm\", \n",
    "    \"is_bootstrap\": False, \n",
    "    \"is_custom_dist\": True\n",
    "}\n",
    "aft_forest_1 = AFTForest(n_trees=10, **kwargs)"
   ]
  },
  {
   "cell_type": "code",
   "execution_count": 50,
   "id": "365faf11",
   "metadata": {},
   "outputs": [
    {
     "name": "stderr",
     "output_type": "stream",
     "text": [
      "/mnt/c/Users/rizki/Master Files/ThesisUMCG/Survival-Tree-Analysis/src/distribution.py:444: RuntimeWarning: overflow encountered in exp\n",
      "  return lognorm.pdf(x, self.sigma_, loc=0, scale=np.exp(self.mu_))\n",
      "/mnt/c/Users/rizki/Master Files/ThesisUMCG/Survival-Tree-Analysis/src/distribution.py:450: RuntimeWarning: overflow encountered in exp\n",
      "  return lognorm.cdf(x, self.sigma_, loc=0, scale=np.exp(self.mu_))\n",
      "/home/rizkiduwinanto/anaconda3/lib/python3.11/site-packages/scipy/stats/_distn_infrastructure.py:2071: RuntimeWarning: invalid value encountered in divide\n",
      "  x = np.asarray((x - loc)/scale, dtype=dtyp)\n",
      "/mnt/c/Users/rizki/Master Files/ThesisUMCG/Survival-Tree-Analysis/src/distribution.py:444: RuntimeWarning: overflow encountered in exp\n",
      "  return lognorm.pdf(x, self.sigma_, loc=0, scale=np.exp(self.mu_))\n",
      "/mnt/c/Users/rizki/Master Files/ThesisUMCG/Survival-Tree-Analysis/src/distribution.py:450: RuntimeWarning: overflow encountered in exp\n",
      "  return lognorm.cdf(x, self.sigma_, loc=0, scale=np.exp(self.mu_))\n",
      "/home/rizkiduwinanto/anaconda3/lib/python3.11/site-packages/scipy/stats/_distn_infrastructure.py:2071: RuntimeWarning: invalid value encountered in divide\n",
      "  x = np.asarray((x - loc)/scale, dtype=dtyp)\n",
      "/mnt/c/Users/rizki/Master Files/ThesisUMCG/Survival-Tree-Analysis/src/distribution.py:444: RuntimeWarning: overflow encountered in exp\n",
      "  return lognorm.pdf(x, self.sigma_, loc=0, scale=np.exp(self.mu_))\n",
      "/mnt/c/Users/rizki/Master Files/ThesisUMCG/Survival-Tree-Analysis/src/distribution.py:444: RuntimeWarning: overflow encountered in exp\n",
      "  return lognorm.pdf(x, self.sigma_, loc=0, scale=np.exp(self.mu_))\n",
      "/mnt/c/Users/rizki/Master Files/ThesisUMCG/Survival-Tree-Analysis/src/distribution.py:450: RuntimeWarning: overflow encountered in exp\n",
      "  return lognorm.cdf(x, self.sigma_, loc=0, scale=np.exp(self.mu_))\n",
      "/home/rizkiduwinanto/anaconda3/lib/python3.11/site-packages/scipy/stats/_distn_infrastructure.py:2071: RuntimeWarning: invalid value encountered in divide\n",
      "  x = np.asarray((x - loc)/scale, dtype=dtyp)\n",
      "/mnt/c/Users/rizki/Master Files/ThesisUMCG/Survival-Tree-Analysis/src/distribution.py:450: RuntimeWarning: overflow encountered in exp\n",
      "  return lognorm.cdf(x, self.sigma_, loc=0, scale=np.exp(self.mu_))\n",
      "/home/rizkiduwinanto/anaconda3/lib/python3.11/site-packages/scipy/stats/_distn_infrastructure.py:2071: RuntimeWarning: invalid value encountered in divide\n",
      "  x = np.asarray((x - loc)/scale, dtype=dtyp)\n",
      "100%|██████████| 10/10 [00:00<00:00, 118149.41it/s]\n"
     ]
    }
   ],
   "source": [
    "aft_forest_1.fit(X_train, y_train)"
   ]
  },
  {
   "cell_type": "code",
   "execution_count": 51,
   "id": "6130e865",
   "metadata": {},
   "outputs": [
    {
     "data": {
      "text/plain": [
       "0.4725274725274725"
      ]
     },
     "execution_count": 51,
     "metadata": {},
     "output_type": "execute_result"
    }
   ],
   "source": [
    "aft_forest_1._score(X_test, y_test)"
   ]
  },
  {
   "cell_type": "code",
   "execution_count": 52,
   "id": "903b3822",
   "metadata": {},
   "outputs": [
    {
     "data": {
      "text/plain": [
       "97.88150895601981"
      ]
     },
     "execution_count": 52,
     "metadata": {},
     "output_type": "execute_result"
    }
   ],
   "source": [
    "aft_forest_1._mae(X_test, y_test)"
   ]
  },
  {
   "cell_type": "code",
   "execution_count": 53,
   "id": "056737b5",
   "metadata": {},
   "outputs": [],
   "source": [
    "kwargs = {\n",
    "    \"function\": \"norm\",\n",
    "    \"is_bootstrap\": False, \n",
    "    \"is_custom_dist\": False,\n",
    "    \"n_components\": 3\n",
    "}\n",
    "aft_forest_2 = AFTForest(n_trees=10, **kwargs)"
   ]
  },
  {
   "cell_type": "code",
   "execution_count": 54,
   "id": "9fed9a27",
   "metadata": {},
   "outputs": [
    {
     "name": "stderr",
     "output_type": "stream",
     "text": [
      "100%|██████████| 10/10 [00:00<00:00, 70730.25it/s]\n"
     ]
    }
   ],
   "source": [
    "aft_forest_2.fit(X_train, y_train)"
   ]
  },
  {
   "cell_type": "code",
   "execution_count": 55,
   "id": "b7e39ac2",
   "metadata": {},
   "outputs": [
    {
     "data": {
      "text/plain": [
       "0.6181318681318682"
      ]
     },
     "execution_count": 55,
     "metadata": {},
     "output_type": "execute_result"
    }
   ],
   "source": [
    "\n",
    "aft_forest_2._score(X_test, y_test)"
   ]
  },
  {
   "cell_type": "code",
   "execution_count": 56,
   "id": "df4b765f",
   "metadata": {},
   "outputs": [
    {
     "data": {
      "text/plain": [
       "95.99825863479052"
      ]
     },
     "execution_count": 56,
     "metadata": {},
     "output_type": "execute_result"
    }
   ],
   "source": [
    "aft_forest_2._mae(X_test, y_test)"
   ]
  },
  {
   "cell_type": "code",
   "execution_count": 57,
   "id": "8993475e",
   "metadata": {},
   "outputs": [],
   "source": [
    "kwargs = {\n",
    "    \"function\": \"norm\",\n",
    "    \"is_bootstrap\": True, \n",
    "    \"is_custom_dist\": True\n",
    "}\n",
    "aft_forest_3 = AFTForest(n_trees=10, **kwargs)"
   ]
  },
  {
   "cell_type": "code",
   "execution_count": 58,
   "id": "1814c1ed",
   "metadata": {},
   "outputs": [
    {
     "name": "stderr",
     "output_type": "stream",
     "text": [
      "/home/rizkiduwinanto/anaconda3/lib/python3.11/site-packages/lifelines/fitters/__init__.py:1024: StatisticalWarning: The diagonal of the variance_matrix_ has negative values or NaNs. This could be a problem with LogNormalFitter's fit to the data.\n",
      "\n",
      "It's advisable to not trust the variances reported, and to be suspicious of the fitted parameters too. Perform plots of the cumulative hazard to help understand the latter's bias.\n",
      "\n",
      "To fix this, try specifying an `initial_point` kwarg in `fit`.\n",
      "\n",
      "  warnings.warn(warning_text, exceptions.StatisticalWarning)\n",
      "/home/rizkiduwinanto/anaconda3/lib/python3.11/site-packages/lifelines/fitters/__init__.py:1024: StatisticalWarning: The diagonal of the variance_matrix_ has negative values or NaNs. This could be a problem with LogNormalFitter's fit to the data.\n",
      "\n",
      "It's advisable to not trust the variances reported, and to be suspicious of the fitted parameters too. Perform plots of the cumulative hazard to help understand the latter's bias.\n",
      "\n",
      "To fix this, try specifying an `initial_point` kwarg in `fit`.\n",
      "\n",
      "  warnings.warn(warning_text, exceptions.StatisticalWarning)\n",
      "/home/rizkiduwinanto/anaconda3/lib/python3.11/site-packages/lifelines/fitters/__init__.py:1024: StatisticalWarning: The diagonal of the variance_matrix_ has negative values or NaNs. This could be a problem with LogNormalFitter's fit to the data.\n",
      "\n",
      "It's advisable to not trust the variances reported, and to be suspicious of the fitted parameters too. Perform plots of the cumulative hazard to help understand the latter's bias.\n",
      "\n",
      "To fix this, try specifying an `initial_point` kwarg in `fit`.\n",
      "\n",
      "  warnings.warn(warning_text, exceptions.StatisticalWarning)\n",
      "/home/rizkiduwinanto/anaconda3/lib/python3.11/site-packages/lifelines/fitters/__init__.py:1024: StatisticalWarning: The diagonal of the variance_matrix_ has negative values or NaNs. This could be a problem with LogNormalFitter's fit to the data.\n",
      "\n",
      "It's advisable to not trust the variances reported, and to be suspicious of the fitted parameters too. Perform plots of the cumulative hazard to help understand the latter's bias.\n",
      "\n",
      "To fix this, try specifying an `initial_point` kwarg in `fit`.\n",
      "\n",
      "  warnings.warn(warning_text, exceptions.StatisticalWarning)\n",
      "/home/rizkiduwinanto/anaconda3/lib/python3.11/site-packages/lifelines/fitters/__init__.py:1024: StatisticalWarning: The diagonal of the variance_matrix_ has negative values or NaNs. This could be a problem with LogNormalFitter's fit to the data.\n",
      "\n",
      "It's advisable to not trust the variances reported, and to be suspicious of the fitted parameters too. Perform plots of the cumulative hazard to help understand the latter's bias.\n",
      "\n",
      "To fix this, try specifying an `initial_point` kwarg in `fit`.\n",
      "\n",
      "  warnings.warn(warning_text, exceptions.StatisticalWarning)\n",
      "/home/rizkiduwinanto/anaconda3/lib/python3.11/site-packages/lifelines/fitters/__init__.py:1024: StatisticalWarning: The diagonal of the variance_matrix_ has negative values or NaNs. This could be a problem with LogNormalFitter's fit to the data.\n",
      "\n",
      "It's advisable to not trust the variances reported, and to be suspicious of the fitted parameters too. Perform plots of the cumulative hazard to help understand the latter's bias.\n",
      "\n",
      "To fix this, try specifying an `initial_point` kwarg in `fit`.\n",
      "\n",
      "  warnings.warn(warning_text, exceptions.StatisticalWarning)\n",
      "/home/rizkiduwinanto/anaconda3/lib/python3.11/site-packages/lifelines/fitters/__init__.py:1024: StatisticalWarning: The diagonal of the variance_matrix_ has negative values or NaNs. This could be a problem with LogNormalFitter's fit to the data.\n",
      "\n",
      "It's advisable to not trust the variances reported, and to be suspicious of the fitted parameters too. Perform plots of the cumulative hazard to help understand the latter's bias.\n",
      "\n",
      "To fix this, try specifying an `initial_point` kwarg in `fit`.\n",
      "\n",
      "  warnings.warn(warning_text, exceptions.StatisticalWarning)\n",
      "/home/rizkiduwinanto/anaconda3/lib/python3.11/site-packages/lifelines/fitters/__init__.py:1024: StatisticalWarning: The diagonal of the variance_matrix_ has negative values or NaNs. This could be a problem with LogNormalFitter's fit to the data.\n",
      "\n",
      "It's advisable to not trust the variances reported, and to be suspicious of the fitted parameters too. Perform plots of the cumulative hazard to help understand the latter's bias.\n",
      "\n",
      "To fix this, try specifying an `initial_point` kwarg in `fit`.\n",
      "\n",
      "  warnings.warn(warning_text, exceptions.StatisticalWarning)\n",
      "/home/rizkiduwinanto/anaconda3/lib/python3.11/site-packages/lifelines/fitters/__init__.py:1024: StatisticalWarning: The diagonal of the variance_matrix_ has negative values or NaNs. This could be a problem with LogNormalFitter's fit to the data.\n",
      "\n",
      "It's advisable to not trust the variances reported, and to be suspicious of the fitted parameters too. Perform plots of the cumulative hazard to help understand the latter's bias.\n",
      "\n",
      "To fix this, try specifying an `initial_point` kwarg in `fit`.\n",
      "\n",
      "  warnings.warn(warning_text, exceptions.StatisticalWarning)\n",
      "/home/rizkiduwinanto/anaconda3/lib/python3.11/site-packages/numpy/linalg/linalg.py:2027: RuntimeWarning: overflow encountered in divide\n",
      "  s = divide(1, s, where=large, out=s)\n",
      "/home/rizkiduwinanto/anaconda3/lib/python3.11/site-packages/numpy/linalg/linalg.py:2030: RuntimeWarning: invalid value encountered in multiply\n",
      "  res = matmul(transpose(vt), multiply(s[..., newaxis], transpose(u)))\n",
      "/home/rizkiduwinanto/anaconda3/lib/python3.11/site-packages/numpy/linalg/linalg.py:2030: RuntimeWarning: invalid value encountered in matmul\n",
      "  res = matmul(transpose(vt), multiply(s[..., newaxis], transpose(u)))\n",
      "/home/rizkiduwinanto/anaconda3/lib/python3.11/site-packages/lifelines/fitters/__init__.py:1024: StatisticalWarning: The diagonal of the variance_matrix_ has negative values or NaNs. This could be a problem with LogNormalFitter's fit to the data.\n",
      "\n",
      "It's advisable to not trust the variances reported, and to be suspicious of the fitted parameters too. Perform plots of the cumulative hazard to help understand the latter's bias.\n",
      "\n",
      "To fix this, try specifying an `initial_point` kwarg in `fit`.\n",
      "\n",
      "  warnings.warn(warning_text, exceptions.StatisticalWarning)\n",
      "/home/rizkiduwinanto/anaconda3/lib/python3.11/site-packages/lifelines/fitters/__init__.py:1024: StatisticalWarning: The diagonal of the variance_matrix_ has negative values or NaNs. This could be a problem with LogNormalFitter's fit to the data.\n",
      "\n",
      "It's advisable to not trust the variances reported, and to be suspicious of the fitted parameters too. Perform plots of the cumulative hazard to help understand the latter's bias.\n",
      "\n",
      "To fix this, try specifying an `initial_point` kwarg in `fit`.\n",
      "\n",
      "  warnings.warn(warning_text, exceptions.StatisticalWarning)\n",
      "/home/rizkiduwinanto/anaconda3/lib/python3.11/site-packages/lifelines/fitters/__init__.py:1024: StatisticalWarning: The diagonal of the variance_matrix_ has negative values or NaNs. This could be a problem with LogNormalFitter's fit to the data.\n",
      "\n",
      "It's advisable to not trust the variances reported, and to be suspicious of the fitted parameters too. Perform plots of the cumulative hazard to help understand the latter's bias.\n",
      "\n",
      "To fix this, try specifying an `initial_point` kwarg in `fit`.\n",
      "\n",
      "  warnings.warn(warning_text, exceptions.StatisticalWarning)\n",
      "/home/rizkiduwinanto/anaconda3/lib/python3.11/site-packages/lifelines/fitters/__init__.py:1024: StatisticalWarning: The diagonal of the variance_matrix_ has negative values or NaNs. This could be a problem with LogNormalFitter's fit to the data.\n",
      "\n",
      "It's advisable to not trust the variances reported, and to be suspicious of the fitted parameters too. Perform plots of the cumulative hazard to help understand the latter's bias.\n",
      "\n",
      "To fix this, try specifying an `initial_point` kwarg in `fit`.\n",
      "\n",
      "  warnings.warn(warning_text, exceptions.StatisticalWarning)\n",
      "/home/rizkiduwinanto/anaconda3/lib/python3.11/site-packages/lifelines/fitters/__init__.py:1024: StatisticalWarning: The diagonal of the variance_matrix_ has negative values or NaNs. This could be a problem with LogNormalFitter's fit to the data.\n",
      "\n",
      "It's advisable to not trust the variances reported, and to be suspicious of the fitted parameters too. Perform plots of the cumulative hazard to help understand the latter's bias.\n",
      "\n",
      "To fix this, try specifying an `initial_point` kwarg in `fit`.\n",
      "\n",
      "  warnings.warn(warning_text, exceptions.StatisticalWarning)\n",
      "/home/rizkiduwinanto/anaconda3/lib/python3.11/site-packages/lifelines/fitters/__init__.py:1024: StatisticalWarning: The diagonal of the variance_matrix_ has negative values or NaNs. This could be a problem with LogNormalFitter's fit to the data.\n",
      "\n",
      "It's advisable to not trust the variances reported, and to be suspicious of the fitted parameters too. Perform plots of the cumulative hazard to help understand the latter's bias.\n",
      "\n",
      "To fix this, try specifying an `initial_point` kwarg in `fit`.\n",
      "\n",
      "  warnings.warn(warning_text, exceptions.StatisticalWarning)\n",
      "/home/rizkiduwinanto/anaconda3/lib/python3.11/site-packages/numpy/linalg/linalg.py:2027: RuntimeWarning: overflow encountered in divide\n",
      "  s = divide(1, s, where=large, out=s)\n",
      "/home/rizkiduwinanto/anaconda3/lib/python3.11/site-packages/numpy/linalg/linalg.py:2030: RuntimeWarning: invalid value encountered in multiply\n",
      "  res = matmul(transpose(vt), multiply(s[..., newaxis], transpose(u)))\n",
      "/home/rizkiduwinanto/anaconda3/lib/python3.11/site-packages/numpy/linalg/linalg.py:2030: RuntimeWarning: invalid value encountered in matmul\n",
      "  res = matmul(transpose(vt), multiply(s[..., newaxis], transpose(u)))\n",
      "/home/rizkiduwinanto/anaconda3/lib/python3.11/site-packages/lifelines/fitters/__init__.py:1024: StatisticalWarning: The diagonal of the variance_matrix_ has negative values or NaNs. This could be a problem with LogNormalFitter's fit to the data.\n",
      "\n",
      "It's advisable to not trust the variances reported, and to be suspicious of the fitted parameters too. Perform plots of the cumulative hazard to help understand the latter's bias.\n",
      "\n",
      "To fix this, try specifying an `initial_point` kwarg in `fit`.\n",
      "\n",
      "  warnings.warn(warning_text, exceptions.StatisticalWarning)\n",
      "/home/rizkiduwinanto/anaconda3/lib/python3.11/site-packages/lifelines/fitters/__init__.py:1024: StatisticalWarning: The diagonal of the variance_matrix_ has negative values or NaNs. This could be a problem with LogNormalFitter's fit to the data.\n",
      "\n",
      "It's advisable to not trust the variances reported, and to be suspicious of the fitted parameters too. Perform plots of the cumulative hazard to help understand the latter's bias.\n",
      "\n",
      "To fix this, try specifying an `initial_point` kwarg in `fit`.\n",
      "\n",
      "  warnings.warn(warning_text, exceptions.StatisticalWarning)\n",
      "/home/rizkiduwinanto/anaconda3/lib/python3.11/site-packages/lifelines/fitters/__init__.py:1024: StatisticalWarning: The diagonal of the variance_matrix_ has negative values or NaNs. This could be a problem with LogNormalFitter's fit to the data.\n",
      "\n",
      "It's advisable to not trust the variances reported, and to be suspicious of the fitted parameters too. Perform plots of the cumulative hazard to help understand the latter's bias.\n",
      "\n",
      "To fix this, try specifying an `initial_point` kwarg in `fit`.\n",
      "\n",
      "  warnings.warn(warning_text, exceptions.StatisticalWarning)\n",
      "/home/rizkiduwinanto/anaconda3/lib/python3.11/site-packages/lifelines/fitters/__init__.py:1024: StatisticalWarning: The diagonal of the variance_matrix_ has negative values or NaNs. This could be a problem with LogNormalFitter's fit to the data.\n",
      "\n",
      "It's advisable to not trust the variances reported, and to be suspicious of the fitted parameters too. Perform plots of the cumulative hazard to help understand the latter's bias.\n",
      "\n",
      "To fix this, try specifying an `initial_point` kwarg in `fit`.\n",
      "\n",
      "  warnings.warn(warning_text, exceptions.StatisticalWarning)\n",
      "/home/rizkiduwinanto/anaconda3/lib/python3.11/site-packages/lifelines/fitters/__init__.py:1024: StatisticalWarning: The diagonal of the variance_matrix_ has negative values or NaNs. This could be a problem with LogNormalFitter's fit to the data.\n",
      "\n",
      "It's advisable to not trust the variances reported, and to be suspicious of the fitted parameters too. Perform plots of the cumulative hazard to help understand the latter's bias.\n",
      "\n",
      "To fix this, try specifying an `initial_point` kwarg in `fit`.\n",
      "\n",
      "  warnings.warn(warning_text, exceptions.StatisticalWarning)\n",
      "/home/rizkiduwinanto/anaconda3/lib/python3.11/site-packages/lifelines/fitters/__init__.py:1024: StatisticalWarning: The diagonal of the variance_matrix_ has negative values or NaNs. This could be a problem with LogNormalFitter's fit to the data.\n",
      "\n",
      "It's advisable to not trust the variances reported, and to be suspicious of the fitted parameters too. Perform plots of the cumulative hazard to help understand the latter's bias.\n",
      "\n",
      "To fix this, try specifying an `initial_point` kwarg in `fit`.\n",
      "\n",
      "  warnings.warn(warning_text, exceptions.StatisticalWarning)\n",
      "/home/rizkiduwinanto/anaconda3/lib/python3.11/site-packages/lifelines/fitters/__init__.py:1024: StatisticalWarning: The diagonal of the variance_matrix_ has negative values or NaNs. This could be a problem with LogNormalFitter's fit to the data.\n",
      "\n",
      "It's advisable to not trust the variances reported, and to be suspicious of the fitted parameters too. Perform plots of the cumulative hazard to help understand the latter's bias.\n",
      "\n",
      "To fix this, try specifying an `initial_point` kwarg in `fit`.\n",
      "\n",
      "  warnings.warn(warning_text, exceptions.StatisticalWarning)\n",
      "/home/rizkiduwinanto/anaconda3/lib/python3.11/site-packages/lifelines/fitters/__init__.py:1024: StatisticalWarning: The diagonal of the variance_matrix_ has negative values or NaNs. This could be a problem with LogNormalFitter's fit to the data.\n",
      "\n",
      "It's advisable to not trust the variances reported, and to be suspicious of the fitted parameters too. Perform plots of the cumulative hazard to help understand the latter's bias.\n",
      "\n",
      "To fix this, try specifying an `initial_point` kwarg in `fit`.\n",
      "\n",
      "  warnings.warn(warning_text, exceptions.StatisticalWarning)\n",
      "/home/rizkiduwinanto/anaconda3/lib/python3.11/site-packages/lifelines/fitters/__init__.py:1024: StatisticalWarning: The diagonal of the variance_matrix_ has negative values or NaNs. This could be a problem with LogNormalFitter's fit to the data.\n",
      "\n",
      "It's advisable to not trust the variances reported, and to be suspicious of the fitted parameters too. Perform plots of the cumulative hazard to help understand the latter's bias.\n",
      "\n",
      "To fix this, try specifying an `initial_point` kwarg in `fit`.\n",
      "\n",
      "  warnings.warn(warning_text, exceptions.StatisticalWarning)\n",
      "/home/rizkiduwinanto/anaconda3/lib/python3.11/site-packages/lifelines/fitters/__init__.py:1024: StatisticalWarning: The diagonal of the variance_matrix_ has negative values or NaNs. This could be a problem with LogNormalFitter's fit to the data.\n",
      "\n",
      "It's advisable to not trust the variances reported, and to be suspicious of the fitted parameters too. Perform plots of the cumulative hazard to help understand the latter's bias.\n",
      "\n",
      "To fix this, try specifying an `initial_point` kwarg in `fit`.\n",
      "\n",
      "  warnings.warn(warning_text, exceptions.StatisticalWarning)\n",
      "/home/rizkiduwinanto/anaconda3/lib/python3.11/site-packages/lifelines/fitters/__init__.py:1024: StatisticalWarning: The diagonal of the variance_matrix_ has negative values or NaNs. This could be a problem with LogNormalFitter's fit to the data.\n",
      "\n",
      "It's advisable to not trust the variances reported, and to be suspicious of the fitted parameters too. Perform plots of the cumulative hazard to help understand the latter's bias.\n",
      "\n",
      "To fix this, try specifying an `initial_point` kwarg in `fit`.\n",
      "\n",
      "  warnings.warn(warning_text, exceptions.StatisticalWarning)\n",
      "/home/rizkiduwinanto/anaconda3/lib/python3.11/site-packages/lifelines/fitters/__init__.py:1024: StatisticalWarning: The diagonal of the variance_matrix_ has negative values or NaNs. This could be a problem with LogNormalFitter's fit to the data.\n",
      "\n",
      "It's advisable to not trust the variances reported, and to be suspicious of the fitted parameters too. Perform plots of the cumulative hazard to help understand the latter's bias.\n",
      "\n",
      "To fix this, try specifying an `initial_point` kwarg in `fit`.\n",
      "\n",
      "  warnings.warn(warning_text, exceptions.StatisticalWarning)\n",
      "/home/rizkiduwinanto/anaconda3/lib/python3.11/site-packages/numpy/linalg/linalg.py:2027: RuntimeWarning: overflow encountered in divide\n",
      "  s = divide(1, s, where=large, out=s)\n",
      "/home/rizkiduwinanto/anaconda3/lib/python3.11/site-packages/numpy/linalg/linalg.py:2030: RuntimeWarning: invalid value encountered in multiply\n",
      "  res = matmul(transpose(vt), multiply(s[..., newaxis], transpose(u)))\n",
      "/home/rizkiduwinanto/anaconda3/lib/python3.11/site-packages/numpy/linalg/linalg.py:2030: RuntimeWarning: invalid value encountered in matmul\n",
      "  res = matmul(transpose(vt), multiply(s[..., newaxis], transpose(u)))\n",
      "/home/rizkiduwinanto/anaconda3/lib/python3.11/site-packages/lifelines/fitters/__init__.py:1024: StatisticalWarning: The diagonal of the variance_matrix_ has negative values or NaNs. This could be a problem with LogNormalFitter's fit to the data.\n",
      "\n",
      "It's advisable to not trust the variances reported, and to be suspicious of the fitted parameters too. Perform plots of the cumulative hazard to help understand the latter's bias.\n",
      "\n",
      "To fix this, try specifying an `initial_point` kwarg in `fit`.\n",
      "\n",
      "  warnings.warn(warning_text, exceptions.StatisticalWarning)\n",
      "/home/rizkiduwinanto/anaconda3/lib/python3.11/site-packages/lifelines/fitters/__init__.py:1024: StatisticalWarning: The diagonal of the variance_matrix_ has negative values or NaNs. This could be a problem with LogNormalFitter's fit to the data.\n",
      "\n",
      "It's advisable to not trust the variances reported, and to be suspicious of the fitted parameters too. Perform plots of the cumulative hazard to help understand the latter's bias.\n",
      "\n",
      "To fix this, try specifying an `initial_point` kwarg in `fit`.\n",
      "\n",
      "  warnings.warn(warning_text, exceptions.StatisticalWarning)\n",
      "/home/rizkiduwinanto/anaconda3/lib/python3.11/site-packages/lifelines/fitters/__init__.py:1024: StatisticalWarning: The diagonal of the variance_matrix_ has negative values or NaNs. This could be a problem with LogNormalFitter's fit to the data.\n",
      "\n",
      "It's advisable to not trust the variances reported, and to be suspicious of the fitted parameters too. Perform plots of the cumulative hazard to help understand the latter's bias.\n",
      "\n",
      "To fix this, try specifying an `initial_point` kwarg in `fit`.\n",
      "\n",
      "  warnings.warn(warning_text, exceptions.StatisticalWarning)\n",
      "/home/rizkiduwinanto/anaconda3/lib/python3.11/site-packages/lifelines/fitters/__init__.py:1024: StatisticalWarning: The diagonal of the variance_matrix_ has negative values or NaNs. This could be a problem with LogNormalFitter's fit to the data.\n",
      "\n",
      "It's advisable to not trust the variances reported, and to be suspicious of the fitted parameters too. Perform plots of the cumulative hazard to help understand the latter's bias.\n",
      "\n",
      "To fix this, try specifying an `initial_point` kwarg in `fit`.\n",
      "\n",
      "  warnings.warn(warning_text, exceptions.StatisticalWarning)\n",
      "/home/rizkiduwinanto/anaconda3/lib/python3.11/site-packages/lifelines/fitters/__init__.py:1024: StatisticalWarning: The diagonal of the variance_matrix_ has negative values or NaNs. This could be a problem with LogNormalFitter's fit to the data.\n",
      "\n",
      "It's advisable to not trust the variances reported, and to be suspicious of the fitted parameters too. Perform plots of the cumulative hazard to help understand the latter's bias.\n",
      "\n",
      "To fix this, try specifying an `initial_point` kwarg in `fit`.\n",
      "\n",
      "  warnings.warn(warning_text, exceptions.StatisticalWarning)\n",
      "/home/rizkiduwinanto/anaconda3/lib/python3.11/site-packages/lifelines/fitters/__init__.py:1024: StatisticalWarning: The diagonal of the variance_matrix_ has negative values or NaNs. This could be a problem with LogNormalFitter's fit to the data.\n",
      "\n",
      "It's advisable to not trust the variances reported, and to be suspicious of the fitted parameters too. Perform plots of the cumulative hazard to help understand the latter's bias.\n",
      "\n",
      "To fix this, try specifying an `initial_point` kwarg in `fit`.\n",
      "\n",
      "  warnings.warn(warning_text, exceptions.StatisticalWarning)\n",
      "/home/rizkiduwinanto/anaconda3/lib/python3.11/site-packages/lifelines/fitters/__init__.py:1024: StatisticalWarning: The diagonal of the variance_matrix_ has negative values or NaNs. This could be a problem with LogNormalFitter's fit to the data.\n",
      "\n",
      "It's advisable to not trust the variances reported, and to be suspicious of the fitted parameters too. Perform plots of the cumulative hazard to help understand the latter's bias.\n",
      "\n",
      "To fix this, try specifying an `initial_point` kwarg in `fit`.\n",
      "\n",
      "  warnings.warn(warning_text, exceptions.StatisticalWarning)\n",
      "/home/rizkiduwinanto/anaconda3/lib/python3.11/site-packages/lifelines/fitters/__init__.py:1024: StatisticalWarning: The diagonal of the variance_matrix_ has negative values or NaNs. This could be a problem with LogNormalFitter's fit to the data.\n",
      "\n",
      "It's advisable to not trust the variances reported, and to be suspicious of the fitted parameters too. Perform plots of the cumulative hazard to help understand the latter's bias.\n",
      "\n",
      "To fix this, try specifying an `initial_point` kwarg in `fit`.\n",
      "\n",
      "  warnings.warn(warning_text, exceptions.StatisticalWarning)\n",
      "/home/rizkiduwinanto/anaconda3/lib/python3.11/site-packages/lifelines/fitters/__init__.py:1024: StatisticalWarning: The diagonal of the variance_matrix_ has negative values or NaNs. This could be a problem with LogNormalFitter's fit to the data.\n",
      "\n",
      "It's advisable to not trust the variances reported, and to be suspicious of the fitted parameters too. Perform plots of the cumulative hazard to help understand the latter's bias.\n",
      "\n",
      "To fix this, try specifying an `initial_point` kwarg in `fit`.\n",
      "\n",
      "  warnings.warn(warning_text, exceptions.StatisticalWarning)\n",
      "/home/rizkiduwinanto/anaconda3/lib/python3.11/site-packages/lifelines/fitters/__init__.py:1024: StatisticalWarning: The diagonal of the variance_matrix_ has negative values or NaNs. This could be a problem with LogNormalFitter's fit to the data.\n",
      "\n",
      "It's advisable to not trust the variances reported, and to be suspicious of the fitted parameters too. Perform plots of the cumulative hazard to help understand the latter's bias.\n",
      "\n",
      "To fix this, try specifying an `initial_point` kwarg in `fit`.\n",
      "\n",
      "  warnings.warn(warning_text, exceptions.StatisticalWarning)\n",
      "/home/rizkiduwinanto/anaconda3/lib/python3.11/site-packages/lifelines/fitters/__init__.py:1024: StatisticalWarning: The diagonal of the variance_matrix_ has negative values or NaNs. This could be a problem with LogNormalFitter's fit to the data.\n",
      "\n",
      "It's advisable to not trust the variances reported, and to be suspicious of the fitted parameters too. Perform plots of the cumulative hazard to help understand the latter's bias.\n",
      "\n",
      "To fix this, try specifying an `initial_point` kwarg in `fit`.\n",
      "\n",
      "  warnings.warn(warning_text, exceptions.StatisticalWarning)\n",
      "/home/rizkiduwinanto/anaconda3/lib/python3.11/site-packages/lifelines/fitters/__init__.py:1024: StatisticalWarning: The diagonal of the variance_matrix_ has negative values or NaNs. This could be a problem with LogNormalFitter's fit to the data.\n",
      "\n",
      "It's advisable to not trust the variances reported, and to be suspicious of the fitted parameters too. Perform plots of the cumulative hazard to help understand the latter's bias.\n",
      "\n",
      "To fix this, try specifying an `initial_point` kwarg in `fit`.\n",
      "\n",
      "  warnings.warn(warning_text, exceptions.StatisticalWarning)\n",
      "/home/rizkiduwinanto/anaconda3/lib/python3.11/site-packages/lifelines/fitters/__init__.py:1024: StatisticalWarning: The diagonal of the variance_matrix_ has negative values or NaNs. This could be a problem with LogNormalFitter's fit to the data.\n",
      "\n",
      "It's advisable to not trust the variances reported, and to be suspicious of the fitted parameters too. Perform plots of the cumulative hazard to help understand the latter's bias.\n",
      "\n",
      "To fix this, try specifying an `initial_point` kwarg in `fit`.\n",
      "\n",
      "  warnings.warn(warning_text, exceptions.StatisticalWarning)\n",
      "/mnt/c/Users/rizki/Master Files/ThesisUMCG/Survival-Tree-Analysis/src/distribution.py:444: RuntimeWarning: overflow encountered in exp\n",
      "  return lognorm.pdf(x, self.sigma_, loc=0, scale=np.exp(self.mu_))\n",
      "/mnt/c/Users/rizki/Master Files/ThesisUMCG/Survival-Tree-Analysis/src/distribution.py:450: RuntimeWarning: overflow encountered in exp\n",
      "  return lognorm.cdf(x, self.sigma_, loc=0, scale=np.exp(self.mu_))\n",
      "/home/rizkiduwinanto/anaconda3/lib/python3.11/site-packages/scipy/stats/_distn_infrastructure.py:2071: RuntimeWarning: invalid value encountered in divide\n",
      "  x = np.asarray((x - loc)/scale, dtype=dtyp)\n",
      "100%|██████████| 10/10 [00:00<00:00, 72067.08it/s]\n"
     ]
    }
   ],
   "source": [
    "aft_forest_3.fit(X_train, y_train)"
   ]
  },
  {
   "cell_type": "code",
   "execution_count": 59,
   "id": "62f3ea22",
   "metadata": {},
   "outputs": [
    {
     "data": {
      "text/plain": [
       "0.6071428571428571"
      ]
     },
     "execution_count": 59,
     "metadata": {},
     "output_type": "execute_result"
    }
   ],
   "source": [
    "aft_forest_3._score(X_test, y_test)"
   ]
  },
  {
   "cell_type": "code",
   "execution_count": 60,
   "id": "65abb4a8",
   "metadata": {},
   "outputs": [
    {
     "data": {
      "text/plain": [
       "95.65354002007189"
      ]
     },
     "execution_count": 60,
     "metadata": {},
     "output_type": "execute_result"
    }
   ],
   "source": [
    "aft_forest_3._mae(X_test, y_test)\n"
   ]
  },
  {
   "cell_type": "code",
   "execution_count": 61,
   "id": "b4d9151c",
   "metadata": {},
   "outputs": [
    {
     "name": "stdout",
     "output_type": "stream",
     "text": [
      "i: 1, j: 2\n",
      "i: 1, j: 3\n",
      "i: 2, j: 1\n",
      "i: 2, j: 3\n",
      "i: 3, j: 1\n",
      "i: 3, j: 2\n"
     ]
    }
   ],
   "source": [
    "for i in range(1, 4):\n",
    "    for j in range(1, 4):\n",
    "        if i != j:\n",
    "            print(f\"i: {i}, j: {j}\")\n",
    "            aft_forest_1._mae(X_test, y_test)\n",
    "            aft_forest_2._mae(X_test, y_test)\n",
    "            aft_forest_3._mae(X_test, y_test)"
   ]
  },
  {
   "cell_type": "markdown",
   "id": "00716335",
   "metadata": {},
   "source": [
    "XGBoost-AFT"
   ]
  },
  {
   "cell_type": "code",
   "execution_count": 62,
   "id": "82645ea9",
   "metadata": {},
   "outputs": [],
   "source": [
    "import xgboost as xgb\n",
    "from sklearn.model_selection import ShuffleSplit\n"
   ]
  },
  {
   "cell_type": "code",
   "execution_count": 63,
   "id": "0c40cc3b",
   "metadata": {},
   "outputs": [
    {
     "data": {
      "text/plain": [
       "(array([[81., 60.,  4., ...,  0.,  1.,  0.],\n",
       "        [49., 60., 11., ...,  1.,  0.,  1.],\n",
       "        [64., 80.,  5., ...,  0.,  1.,  0.],\n",
       "        ...,\n",
       "        [48., 70., 11., ...,  1.,  1.,  0.],\n",
       "        [62., 30.,  2., ...,  0.,  0.,  1.],\n",
       "        [70., 70.,  2., ...,  0.,  0.,  1.]]),\n",
       " array([[59., 30., 87.,  0.,  0.,  1.,  0.,  0.,  1.,  0.,  1.],\n",
       "        [71., 50., 17.,  0.,  0.,  1.,  0.,  1.,  0.,  0.,  1.],\n",
       "        [63., 30.,  4.,  0.,  0.,  0.,  1.,  1.,  0.,  1.,  0.],\n",
       "        [69., 50., 12.,  0.,  0.,  1.,  0.,  1.,  0.,  1.,  0.],\n",
       "        [69., 40.,  3.,  1.,  0.,  0.,  0.,  1.,  0.,  0.,  1.],\n",
       "        [38., 80.,  5.,  0.,  1.,  0.,  0.,  1.,  0.,  1.,  0.],\n",
       "        [60., 90.,  8.,  0.,  1.,  0.,  0.,  1.,  0.,  1.,  0.],\n",
       "        [66., 50.,  5.,  1.,  0.,  0.,  0.,  1.,  0.,  0.,  1.],\n",
       "        [64., 60.,  5.,  0.,  1.,  0.,  0.,  1.,  0.,  0.,  1.],\n",
       "        [63., 70., 11.,  0.,  0.,  0.,  1.,  1.,  0.,  0.,  1.],\n",
       "        [35., 50.,  7.,  0.,  0.,  0.,  1.,  1.,  0.,  0.,  1.],\n",
       "        [61., 20., 19.,  1.,  0.,  0.,  0.,  0.,  1.,  1.,  0.],\n",
       "        [54., 90., 12.,  0.,  0.,  0.,  1.,  0.,  1.,  0.,  1.],\n",
       "        [53., 70.,  8.,  0.,  1.,  0.,  0.,  0.,  1.,  1.,  0.],\n",
       "        [64., 80.,  2.,  0.,  0.,  1.,  0.,  1.,  0.,  1.,  0.],\n",
       "        [48., 50., 11.,  0.,  0.,  1.,  0.,  1.,  0.,  1.,  0.],\n",
       "        [68., 60.,  4.,  0.,  0.,  1.,  0.,  1.,  0.,  1.,  0.],\n",
       "        [56., 60.,  4.,  0.,  0.,  1.,  0.,  1.,  0.,  1.,  0.],\n",
       "        [65., 75.,  1.,  0.,  1.,  0.,  0.,  1.,  0.,  0.,  1.],\n",
       "        [52., 50., 15.,  0.,  1.,  0.,  0.,  1.,  0.,  1.,  0.],\n",
       "        [45., 60.,  4.,  0.,  1.,  0.,  0.,  1.,  0.,  0.,  1.],\n",
       "        [65., 70., 11.,  0.,  0.,  0.,  1.,  0.,  1.,  1.,  0.],\n",
       "        [57., 99.,  3.,  1.,  0.,  0.,  0.,  1.,  0.,  0.,  1.],\n",
       "        [60., 30.,  4.,  0.,  0.,  1.,  0.,  1.,  0.,  1.,  0.],\n",
       "        [69., 30.,  2.,  0.,  0.,  1.,  0.,  1.,  0.,  0.,  1.],\n",
       "        [62., 85.,  4.,  0.,  0.,  1.,  0.,  1.,  0.,  0.,  1.],\n",
       "        [42., 60.,  9.,  0.,  0.,  1.,  0.,  1.,  0.,  1.,  0.],\n",
       "        [63., 80.,  4.,  0.,  0.,  1.,  0.,  0.,  1.,  1.,  0.]]),\n",
       "      Survival_label_lower_bound  Survival_label_upper_bound\n",
       " 10                         42.0                        42.0\n",
       " 130                        43.0                        43.0\n",
       " 51                        162.0                       162.0\n",
       " 11                          8.0                         8.0\n",
       " 114                        73.0                        73.0\n",
       " ..                          ...                         ...\n",
       " 71                         87.0                         inf\n",
       " 106                        29.0                        29.0\n",
       " 14                         11.0                        11.0\n",
       " 92                         13.0                        13.0\n",
       " 102                        25.0                        25.0\n",
       " \n",
       " [109 rows x 2 columns],\n",
       "      Survival_label_lower_bound  Survival_label_upper_bound\n",
       " 105                        51.0                        51.0\n",
       " 104                        80.0                        80.0\n",
       " 12                        144.0                       144.0\n",
       " 26                        151.0                       151.0\n",
       " 123                        45.0                        45.0\n",
       " 66                        103.0                       103.0\n",
       " 64                        143.0                       143.0\n",
       " 115                         8.0                         8.0\n",
       " 133                       111.0                       111.0\n",
       " 85                         30.0                        30.0\n",
       " 84                          1.0                         1.0\n",
       " 45                          8.0                         8.0\n",
       " 69                        999.0                       999.0\n",
       " 67                        250.0                       250.0\n",
       " 31                        139.0                       139.0\n",
       " 42                         63.0                        63.0\n",
       " 27                         22.0                        22.0\n",
       " 19                         13.0                        13.0\n",
       " 132                       133.0                       133.0\n",
       " 56                        216.0                       216.0\n",
       " 125                        52.0                        52.0\n",
       " 4                         118.0                       118.0\n",
       " 109                        83.0                         inf\n",
       " 36                         18.0                        18.0\n",
       " 89                         25.0                        25.0\n",
       " 100                        99.0                        99.0\n",
       " 16                        384.0                       384.0\n",
       " 18                         54.0                        54.0)"
      ]
     },
     "execution_count": 63,
     "metadata": {},
     "output_type": "execute_result"
    }
   ],
   "source": [
    "X_train, X_test, y_train, y_test = veteran.get_train_test_xgboost()\n",
    "\n",
    "X_train, X_test, y_train, y_test\n"
   ]
  },
  {
   "cell_type": "code",
   "execution_count": 64,
   "id": "e05a23fe",
   "metadata": {},
   "outputs": [],
   "source": [
    "\n",
    "dtrain = xgb.DMatrix(X_train)\n",
    "dtrain.set_float_info('label_lower_bound', y_train['Survival_label_lower_bound'])\n",
    "dtrain.set_float_info('label_upper_bound', y_train['Survival_label_upper_bound'])\n",
    "dvalid = xgb.DMatrix(X_test)\n",
    "dvalid.set_float_info('label_lower_bound', y_test['Survival_label_lower_bound'])\n",
    "dvalid.set_float_info('label_upper_bound', y_test['Survival_label_upper_bound'])\n"
   ]
  },
  {
   "cell_type": "code",
   "execution_count": 65,
   "id": "1e9f3c62",
   "metadata": {},
   "outputs": [
    {
     "name": "stdout",
     "output_type": "stream",
     "text": [
      "[0]\ttrain-aft-nloglik:12.65931\tvalid-aft-nloglik:12.95408\n",
      "[1]\ttrain-aft-nloglik:11.91142\tvalid-aft-nloglik:12.23321\n",
      "[2]\ttrain-aft-nloglik:11.23593\tvalid-aft-nloglik:11.57901\n",
      "[3]\ttrain-aft-nloglik:10.62571\tvalid-aft-nloglik:10.99612\n",
      "[4]\ttrain-aft-nloglik:10.07451\tvalid-aft-nloglik:10.46704\n",
      "[5]\ttrain-aft-nloglik:9.57661\tvalid-aft-nloglik:9.98793\n",
      "[6]\ttrain-aft-nloglik:9.12682\tvalid-aft-nloglik:9.56821\n",
      "[7]\ttrain-aft-nloglik:8.71970\tvalid-aft-nloglik:9.19213\n",
      "[8]\ttrain-aft-nloglik:8.35124\tvalid-aft-nloglik:8.85090\n",
      "[9]\ttrain-aft-nloglik:8.01783\tvalid-aft-nloglik:8.53140\n",
      "[10]\ttrain-aft-nloglik:7.71686\tvalid-aft-nloglik:8.25658\n",
      "[11]\ttrain-aft-nloglik:7.44448\tvalid-aft-nloglik:8.00365\n",
      "[12]\ttrain-aft-nloglik:7.19820\tvalid-aft-nloglik:7.78226\n",
      "[13]\ttrain-aft-nloglik:6.97602\tvalid-aft-nloglik:7.58773\n",
      "[14]\ttrain-aft-nloglik:6.77291\tvalid-aft-nloglik:7.41240\n",
      "[15]\ttrain-aft-nloglik:6.59171\tvalid-aft-nloglik:7.24455\n",
      "[16]\ttrain-aft-nloglik:6.42660\tvalid-aft-nloglik:7.10553\n",
      "[17]\ttrain-aft-nloglik:6.27758\tvalid-aft-nloglik:6.96582\n",
      "[18]\ttrain-aft-nloglik:6.14301\tvalid-aft-nloglik:6.84476\n",
      "[19]\ttrain-aft-nloglik:6.02032\tvalid-aft-nloglik:6.73543\n",
      "[20]\ttrain-aft-nloglik:5.90965\tvalid-aft-nloglik:6.63979\n",
      "[21]\ttrain-aft-nloglik:5.80935\tvalid-aft-nloglik:6.55226\n",
      "[22]\ttrain-aft-nloglik:5.71880\tvalid-aft-nloglik:6.47617\n",
      "[23]\ttrain-aft-nloglik:5.63602\tvalid-aft-nloglik:6.40239\n",
      "[24]\ttrain-aft-nloglik:5.56136\tvalid-aft-nloglik:6.33147\n",
      "[25]\ttrain-aft-nloglik:5.49395\tvalid-aft-nloglik:6.27751\n",
      "[26]\ttrain-aft-nloglik:5.43296\tvalid-aft-nloglik:6.23095\n",
      "[27]\ttrain-aft-nloglik:5.37763\tvalid-aft-nloglik:6.18795\n",
      "[28]\ttrain-aft-nloglik:5.32649\tvalid-aft-nloglik:6.15850\n",
      "[29]\ttrain-aft-nloglik:5.28021\tvalid-aft-nloglik:6.12661\n",
      "[30]\ttrain-aft-nloglik:5.23796\tvalid-aft-nloglik:6.10414\n",
      "[31]\ttrain-aft-nloglik:5.19978\tvalid-aft-nloglik:6.08657\n",
      "[32]\ttrain-aft-nloglik:5.16528\tvalid-aft-nloglik:6.06920\n",
      "[33]\ttrain-aft-nloglik:5.13399\tvalid-aft-nloglik:6.05111\n",
      "[34]\ttrain-aft-nloglik:5.10509\tvalid-aft-nloglik:6.03181\n",
      "[35]\ttrain-aft-nloglik:5.07926\tvalid-aft-nloglik:6.01981\n",
      "[36]\ttrain-aft-nloglik:5.05488\tvalid-aft-nloglik:5.99747\n",
      "[37]\ttrain-aft-nloglik:5.03292\tvalid-aft-nloglik:5.97972\n",
      "[38]\ttrain-aft-nloglik:5.01307\tvalid-aft-nloglik:5.96416\n",
      "[39]\ttrain-aft-nloglik:4.99464\tvalid-aft-nloglik:5.94419\n",
      "[40]\ttrain-aft-nloglik:4.97820\tvalid-aft-nloglik:5.93838\n",
      "[41]\ttrain-aft-nloglik:4.96299\tvalid-aft-nloglik:5.92410\n",
      "[42]\ttrain-aft-nloglik:4.94978\tvalid-aft-nloglik:5.91384\n",
      "[43]\ttrain-aft-nloglik:4.93766\tvalid-aft-nloglik:5.90313\n",
      "[44]\ttrain-aft-nloglik:4.92662\tvalid-aft-nloglik:5.89733\n",
      "[45]\ttrain-aft-nloglik:4.91650\tvalid-aft-nloglik:5.89345\n",
      "[46]\ttrain-aft-nloglik:4.90717\tvalid-aft-nloglik:5.89067\n",
      "[47]\ttrain-aft-nloglik:4.89867\tvalid-aft-nloglik:5.88369\n",
      "[48]\ttrain-aft-nloglik:4.89098\tvalid-aft-nloglik:5.87774\n",
      "[49]\ttrain-aft-nloglik:4.88411\tvalid-aft-nloglik:5.86933\n",
      "[50]\ttrain-aft-nloglik:4.87689\tvalid-aft-nloglik:5.86604\n",
      "[51]\ttrain-aft-nloglik:4.87124\tvalid-aft-nloglik:5.85907\n",
      "[52]\ttrain-aft-nloglik:4.86532\tvalid-aft-nloglik:5.85753\n",
      "[53]\ttrain-aft-nloglik:4.86035\tvalid-aft-nloglik:5.85513\n",
      "[54]\ttrain-aft-nloglik:4.85608\tvalid-aft-nloglik:5.84925\n",
      "[55]\ttrain-aft-nloglik:4.85207\tvalid-aft-nloglik:5.84373\n",
      "[56]\ttrain-aft-nloglik:4.84799\tvalid-aft-nloglik:5.83975\n",
      "[57]\ttrain-aft-nloglik:4.84429\tvalid-aft-nloglik:5.84030\n",
      "[58]\ttrain-aft-nloglik:4.84094\tvalid-aft-nloglik:5.83759\n",
      "[59]\ttrain-aft-nloglik:4.83770\tvalid-aft-nloglik:5.83557\n",
      "[60]\ttrain-aft-nloglik:4.83459\tvalid-aft-nloglik:5.83751\n",
      "[61]\ttrain-aft-nloglik:4.83190\tvalid-aft-nloglik:5.84084\n",
      "[62]\ttrain-aft-nloglik:4.82926\tvalid-aft-nloglik:5.84448\n",
      "[63]\ttrain-aft-nloglik:4.82730\tvalid-aft-nloglik:5.84439\n",
      "[64]\ttrain-aft-nloglik:4.82542\tvalid-aft-nloglik:5.84273\n",
      "[65]\ttrain-aft-nloglik:4.82334\tvalid-aft-nloglik:5.84636\n",
      "[66]\ttrain-aft-nloglik:4.82123\tvalid-aft-nloglik:5.84851\n",
      "[67]\ttrain-aft-nloglik:4.81929\tvalid-aft-nloglik:5.85101\n",
      "[68]\ttrain-aft-nloglik:4.81735\tvalid-aft-nloglik:5.85223\n",
      "[69]\ttrain-aft-nloglik:4.81624\tvalid-aft-nloglik:5.85034\n",
      "[70]\ttrain-aft-nloglik:4.81447\tvalid-aft-nloglik:5.85317\n",
      "[71]\ttrain-aft-nloglik:4.81299\tvalid-aft-nloglik:5.85128\n",
      "[72]\ttrain-aft-nloglik:4.81159\tvalid-aft-nloglik:5.85359\n",
      "[73]\ttrain-aft-nloglik:4.81050\tvalid-aft-nloglik:5.85352\n",
      "[74]\ttrain-aft-nloglik:4.80930\tvalid-aft-nloglik:5.85290\n",
      "[75]\ttrain-aft-nloglik:4.80812\tvalid-aft-nloglik:5.85553\n",
      "[76]\ttrain-aft-nloglik:4.80748\tvalid-aft-nloglik:5.85436\n",
      "[77]\ttrain-aft-nloglik:4.80683\tvalid-aft-nloglik:5.85344\n",
      "[78]\ttrain-aft-nloglik:4.80584\tvalid-aft-nloglik:5.85611\n",
      "[79]\ttrain-aft-nloglik:4.80532\tvalid-aft-nloglik:5.85553\n",
      "[80]\ttrain-aft-nloglik:4.80481\tvalid-aft-nloglik:5.85497\n",
      "[81]\ttrain-aft-nloglik:4.80385\tvalid-aft-nloglik:5.85959\n",
      "[82]\ttrain-aft-nloglik:4.80302\tvalid-aft-nloglik:5.86381\n",
      "[83]\ttrain-aft-nloglik:4.80216\tvalid-aft-nloglik:5.86861\n",
      "[84]\ttrain-aft-nloglik:4.80160\tvalid-aft-nloglik:5.87100\n",
      "[85]\ttrain-aft-nloglik:4.80079\tvalid-aft-nloglik:5.87486\n",
      "[86]\ttrain-aft-nloglik:4.80006\tvalid-aft-nloglik:5.87842\n",
      "[87]\ttrain-aft-nloglik:4.79956\tvalid-aft-nloglik:5.88077\n",
      "[88]\ttrain-aft-nloglik:4.79887\tvalid-aft-nloglik:5.88085\n",
      "[89]\ttrain-aft-nloglik:4.79857\tvalid-aft-nloglik:5.88040\n",
      "[90]\ttrain-aft-nloglik:4.79816\tvalid-aft-nloglik:5.88297\n",
      "[91]\ttrain-aft-nloglik:4.79775\tvalid-aft-nloglik:5.88493\n",
      "[92]\ttrain-aft-nloglik:4.79726\tvalid-aft-nloglik:5.88845\n",
      "[93]\ttrain-aft-nloglik:4.79703\tvalid-aft-nloglik:5.88781\n",
      "[94]\ttrain-aft-nloglik:4.79641\tvalid-aft-nloglik:5.89117\n",
      "[95]\ttrain-aft-nloglik:4.79627\tvalid-aft-nloglik:5.89064\n",
      "[96]\ttrain-aft-nloglik:4.79614\tvalid-aft-nloglik:5.89047\n",
      "[97]\ttrain-aft-nloglik:4.79556\tvalid-aft-nloglik:5.89443\n",
      "[98]\ttrain-aft-nloglik:4.79532\tvalid-aft-nloglik:5.89621\n",
      "[99]\ttrain-aft-nloglik:4.79480\tvalid-aft-nloglik:5.89998\n",
      "[100]\ttrain-aft-nloglik:4.79448\tvalid-aft-nloglik:5.90238\n",
      "[101]\ttrain-aft-nloglik:4.79438\tvalid-aft-nloglik:5.90221\n",
      "[102]\ttrain-aft-nloglik:4.79395\tvalid-aft-nloglik:5.90535\n",
      "[103]\ttrain-aft-nloglik:4.79354\tvalid-aft-nloglik:5.90875\n",
      "[104]\ttrain-aft-nloglik:4.79310\tvalid-aft-nloglik:5.91029\n",
      "[105]\ttrain-aft-nloglik:4.79267\tvalid-aft-nloglik:5.91147\n",
      "[106]\ttrain-aft-nloglik:4.79256\tvalid-aft-nloglik:5.91108\n",
      "[107]\ttrain-aft-nloglik:4.79217\tvalid-aft-nloglik:5.91471\n",
      "[108]\ttrain-aft-nloglik:4.79200\tvalid-aft-nloglik:5.91631\n"
     ]
    }
   ],
   "source": [
    "\n",
    "\n",
    "params = {'verbosity': 0,\n",
    "          'objective': 'survival:aft',\n",
    "          'eval_metric': 'aft-nloglik',\n",
    "          'tree_method': 'hist',\n",
    "          'learning_rate': 0.05,\n",
    "          'aft_loss_distribution': 'normal',\n",
    "          'aft_loss_distribution_scale': 1.20,\n",
    "          'max_depth': 6,\n",
    "          'lambda': 0.01,\n",
    "          'alpha': 0.02}\n",
    "\n",
    "bst = xgb.train(params, dtrain, num_boost_round=10000,\n",
    "                evals=[(dtrain, 'train'), (dvalid, 'valid')],\n",
    "                early_stopping_rounds=50)\n"
   ]
  },
  {
   "cell_type": "code",
   "execution_count": 66,
   "id": "f77bd837",
   "metadata": {},
   "outputs": [
    {
     "data": {
      "text/plain": [
       "array([0.78781796, 3.8089917 , 4.091513  , 2.408381  , 3.997563  ,\n",
       "       5.625654  , 5.819438  , 2.7814074 , 5.416122  , 4.2301164 ,\n",
       "       5.428511  , 2.5887406 , 5.06476   , 5.721085  , 3.7523682 ,\n",
       "       3.3443651 , 3.8638697 , 4.63544   , 5.9941187 , 5.066087  ,\n",
       "       5.491786  , 3.8712306 , 5.0054817 , 3.5633752 , 3.176874  ,\n",
       "       3.7344499 , 3.8388608 , 3.971253  ], dtype=float32)"
      ]
     },
     "execution_count": 66,
     "metadata": {},
     "output_type": "execute_result"
    }
   ],
   "source": [
    "times_pred = bst.predict(dvalid, output_margin=True)\n",
    "times_pred"
   ]
  },
  {
   "cell_type": "code",
   "execution_count": 67,
   "id": "9c353bc0",
   "metadata": {},
   "outputs": [],
   "source": [
    "times_true = []\n",
    "event_true = []\n",
    "for idx, rows in y_test.iterrows():\n",
    "    if rows['Survival_label_upper_bound'] == np.inf or not rows['Survival_label_upper_bound']:\n",
    "        event = 0\n",
    "    else:\n",
    "        event = 1 \n",
    "    event_true.append(event)\n",
    "    times = rows['Survival_label_lower_bound']\n",
    "    times_true.append(times)\n",
    "times_true = np.array(times_true)\n",
    "event_true = np.array(event_true)"
   ]
  },
  {
   "cell_type": "code",
   "execution_count": 68,
   "id": "10cbffe3",
   "metadata": {},
   "outputs": [
    {
     "data": {
      "text/plain": [
       "0.6181318681318682"
      ]
     },
     "execution_count": 68,
     "metadata": {},
     "output_type": "execute_result"
    }
   ],
   "source": [
    "from lifelines.utils import concordance_index\n",
    "c_index = concordance_index(times_true, times_pred, event_true)\n",
    "c_index"
   ]
  },
  {
   "cell_type": "code",
   "execution_count": null,
   "id": "3acac9b5",
   "metadata": {},
   "outputs": [
    {
     "ename": "ImportError",
     "evalue": "cannot import name 'cross_validation' from 'runner' (/mnt/c/Users/rizki/Master Files/ThesisUMCG/Survival-Tree-Analysis/src/runner.py)",
     "output_type": "error",
     "traceback": [
      "\u001b[0;31m---------------------------------------------------------------------------\u001b[0m",
      "\u001b[0;31mImportError\u001b[0m                               Traceback (most recent call last)",
      "Cell \u001b[0;32mIn[69], line 1\u001b[0m\n\u001b[0;32m----> 1\u001b[0m \u001b[38;5;28;01mfrom\u001b[39;00m \u001b[38;5;21;01mrunner\u001b[39;00m \u001b[38;5;28;01mimport\u001b[39;00m cross_validation, tune_hp\n",
      "\u001b[0;31mImportError\u001b[0m: cannot import name 'cross_validation' from 'runner' (/mnt/c/Users/rizki/Master Files/ThesisUMCG/Survival-Tree-Analysis/src/runner.py)"
     ]
    }
   ],
   "source": [
    "# from runner import cross_validation, tune_hp\n",
    "\n"
   ]
  },
  {
   "cell_type": "markdown",
   "id": "ee9b6d3a",
   "metadata": {},
   "source": [
    "# Support2"
   ]
  },
  {
   "cell_type": "code",
   "execution_count": null,
   "id": "61a466f8-96e0-47e4-9e93-9294f6ddb834",
   "metadata": {},
   "outputs": [],
   "source": [
    "df = pd.read_csv('../data/support2.csv')"
   ]
  },
  {
   "cell_type": "code",
   "execution_count": null,
   "id": "c94a608b-6759-436d-b520-98b7832e0918",
   "metadata": {},
   "outputs": [],
   "source": [
    "data = SupportDataset(df)"
   ]
  },
  {
   "cell_type": "code",
   "execution_count": null,
   "id": "2fedfe90",
   "metadata": {},
   "outputs": [],
   "source": [
    "\n",
    "d = data.get_data()\n",
    "d"
   ]
  },
  {
   "cell_type": "code",
   "execution_count": null,
   "id": "e397be5d",
   "metadata": {},
   "outputs": [],
   "source": [
    "X_train, X_test, y_train, y_test = data.get_train_test_xgboost()"
   ]
  },
  {
   "cell_type": "code",
   "execution_count": null,
   "id": "58168635",
   "metadata": {},
   "outputs": [],
   "source": [
    "dtrain = xgb.DMatrix(X_train)\n",
    "dtrain.set_float_info('label_lower_bound', y_train['Survival_label_lower_bound'])\n",
    "dtrain.set_float_info('label_upper_bound', y_train['Survival_label_upper_bound'])"
   ]
  },
  {
   "cell_type": "code",
   "execution_count": null,
   "id": "d47a9a24",
   "metadata": {},
   "outputs": [],
   "source": [
    "\n",
    "dvalid = xgb.DMatrix(X_test)\n",
    "dvalid.set_float_info('label_lower_bound', y_test['Survival_label_lower_bound'])\n",
    "dvalid.set_float_info('label_upper_bound', y_test['Survival_label_upper_bound'])"
   ]
  },
  {
   "cell_type": "code",
   "execution_count": null,
   "id": "1f0cb3a6",
   "metadata": {},
   "outputs": [],
   "source": [
    "params = {'verbosity': 0,\n",
    "          'objective': 'survival:aft',\n",
    "          'eval_metric': 'aft-nloglik',\n",
    "          'tree_method': 'hist',\n",
    "          'learning_rate': 0.05,\n",
    "          'aft_loss_distribution': 'normal',\n",
    "          'aft_loss_distribution_scale': 1.2,\n",
    "          'max_depth': 6,\n",
    "          'lambda': 0.01,\n",
    "          'alpha': 0.02}\n",
    "\n",
    "bst = xgb.train(params, dtrain, num_boost_round=1000,\n",
    "                evals=[(dtrain, 'train'), (dvalid, 'valid')],\n",
    "                early_stopping_rounds=10)"
   ]
  },
  {
   "cell_type": "code",
   "execution_count": null,
   "id": "fd2b883f",
   "metadata": {},
   "outputs": [],
   "source": [
    "times_pred = bst.predict(dvalid, output_margin=True)\n",
    "times_pred"
   ]
  },
  {
   "cell_type": "code",
   "execution_count": null,
   "id": "2997fd00",
   "metadata": {},
   "outputs": [],
   "source": [
    "times_true = []\n",
    "event_true = []\n",
    "for idx, rows in y_test.iterrows():\n",
    "    if rows['Survival_label_upper_bound'] == np.inf or not rows['Survival_label_upper_bound']:\n",
    "        event = 0\n",
    "    else:\n",
    "        event = 1 \n",
    "    event_true.append(event)\n",
    "    times = rows['Survival_label_lower_bound']\n",
    "    times_true.append(times)\n",
    "times_true = np.array(times_true)\n",
    "event_true = np.array(event_true)"
   ]
  },
  {
   "cell_type": "code",
   "execution_count": null,
   "id": "93d38a5d",
   "metadata": {},
   "outputs": [],
   "source": [
    "y_test.head()"
   ]
  },
  {
   "cell_type": "code",
   "execution_count": null,
   "id": "7d75c1da",
   "metadata": {},
   "outputs": [],
   "source": [
    "from lifelines.utils import concordance_index\n",
    "c_index = concordance_index(times_true, times_pred, event_true)\n",
    "c_index"
   ]
  },
  {
   "cell_type": "code",
   "execution_count": null,
   "id": "5776c2aa",
   "metadata": {},
   "outputs": [],
   "source": []
  },
  {
   "cell_type": "code",
   "execution_count": null,
   "id": "c5154af6",
   "metadata": {},
   "outputs": [],
   "source": []
  }
 ],
 "metadata": {
  "kernelspec": {
   "display_name": "env",
   "language": "python",
   "name": "env"
  },
  "language_info": {
   "codemirror_mode": {
    "name": "ipython",
    "version": 3
   },
   "file_extension": ".py",
   "mimetype": "text/x-python",
   "name": "python",
   "nbconvert_exporter": "python",
   "pygments_lexer": "ipython3",
   "version": "3.11.5"
  }
 },
 "nbformat": 4,
 "nbformat_minor": 5
}
