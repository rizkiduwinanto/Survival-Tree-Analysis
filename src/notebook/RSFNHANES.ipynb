{
 "cells": [
  {
   "cell_type": "code",
   "execution_count": 25,
   "id": "ef8d310c",
   "metadata": {},
   "outputs": [],
   "source": [
    "import xgboost as xgb\n",
    "from sklearn.model_selection import ShuffleSplit\n",
    "\n",
    "\n",
    "import sys\n",
    "sys.path.append(\"../\") \n",
    "from dataset.nhanes import NHANESDataset\n",
    "import numpy as np\n",
    "import pandas as pd"
   ]
  },
  {
   "cell_type": "markdown",
   "id": "59fe56e5",
   "metadata": {},
   "source": [
    "# NHANES"
   ]
  },
  {
   "cell_type": "code",
   "execution_count": 26,
   "id": "88763ef0",
   "metadata": {},
   "outputs": [
    {
     "name": "stderr",
     "output_type": "stream",
     "text": [
      "/mnt/c/Users/rizki/Master Files/ThesisUMCG/Survival-Tree-Analysis/src/notebook/../dataset/nhanes.py:68: FutureWarning: Downcasting behavior in `replace` is deprecated and will be removed in a future version. To retain the old behavior, explicitly call `result.infer_objects(copy=False)`. To opt-in to the future behavior, set `pd.set_option('future.no_silent_downcasting', True)`\n",
      "  self.data.replace({False: 0, True: 1}, inplace=True)\n"
     ]
    }
   ],
   "source": [
    "data = NHANESDataset()"
   ]
  },
  {
   "cell_type": "code",
   "execution_count": 27,
   "id": "6ba91cdf",
   "metadata": {},
   "outputs": [
    {
     "data": {
      "text/plain": [
       "array([[  0.        ,  51.        ,   3.        , ..., 110.        ,\n",
       "         40.        ,  25.40680287],\n",
       "       [  0.        ,  41.        ,   2.        , ..., 136.        ,\n",
       "         54.        ,  24.58833109],\n",
       "       [  1.        ,  31.        ,   2.        , ..., 110.        ,\n",
       "         24.        ,  23.75650236],\n",
       "       ...,\n",
       "       [  1.        ,  47.        ,   2.        , ..., 108.        ,\n",
       "         28.        ,  17.9151988 ],\n",
       "       [  1.        ,  61.        ,   8.        , ..., 180.        ,\n",
       "         68.        ,  27.33162171],\n",
       "       [  0.        ,  29.        ,   3.        , ..., 152.        ,\n",
       "         60.        ,  33.16143518]])"
      ]
     },
     "execution_count": 27,
     "metadata": {},
     "output_type": "execute_result"
    }
   ],
   "source": [
    "d = data.get_data()\n",
    "d"
   ]
  },
  {
   "cell_type": "code",
   "execution_count": 28,
   "id": "41058c6c",
   "metadata": {},
   "outputs": [],
   "source": [
    "X_train, X_test, y_train, y_test = data.get_train_test()"
   ]
  },
  {
   "cell_type": "code",
   "execution_count": 29,
   "id": "34039871",
   "metadata": {},
   "outputs": [
    {
     "data": {
      "text/plain": [
       "array([(1, 13.75      ), (1, 11.5       ), (0, 17.83333333), ...,\n",
       "       (0, 20.        ), (1,  6.25      ), (0, 14.58333333)],\n",
       "      dtype=(numpy.record, [('death', '<i8'), ('d.time', '<f8')]))"
      ]
     },
     "execution_count": 29,
     "metadata": {},
     "output_type": "execute_result"
    }
   ],
   "source": [
    "y_train"
   ]
  },
  {
   "cell_type": "code",
   "execution_count": 30,
   "id": "43cf8972",
   "metadata": {},
   "outputs": [],
   "source": [
    "from wrapper.random_survival_forest_scikit.random_survival_forest import RandomSurvivalForestWrapper\n",
    "\n",
    "rsf = RandomSurvivalForestWrapper(\n",
    "    n_trees=100,\n",
    "    max_depth=10,\n",
    "    min_samples_split=2,\n",
    "    min_samples_leaf=1\n",
    ")"
   ]
  },
  {
   "cell_type": "code",
   "execution_count": 31,
   "id": "4afe79e8",
   "metadata": {},
   "outputs": [],
   "source": [
    "rsf.fit(X_train, y_train)"
   ]
  },
  {
   "cell_type": "code",
   "execution_count": 32,
   "id": "a32f3732",
   "metadata": {},
   "outputs": [
    {
     "data": {
      "text/plain": [
       "0.7655356769229701"
      ]
     },
     "execution_count": 32,
     "metadata": {},
     "output_type": "execute_result"
    }
   ],
   "source": [
    "rsf._score(X_test, y_test)"
   ]
  },
  {
   "cell_type": "code",
   "execution_count": null,
   "id": "a9c75b21",
   "metadata": {},
   "outputs": [],
   "source": []
  }
 ],
 "metadata": {
  "kernelspec": {
   "display_name": "env",
   "language": "python",
   "name": "env"
  },
  "language_info": {
   "codemirror_mode": {
    "name": "ipython",
    "version": 3
   },
   "file_extension": ".py",
   "mimetype": "text/x-python",
   "name": "python",
   "nbconvert_exporter": "python",
   "pygments_lexer": "ipython3",
   "version": "3.11.5"
  }
 },
 "nbformat": 4,
 "nbformat_minor": 5
}
