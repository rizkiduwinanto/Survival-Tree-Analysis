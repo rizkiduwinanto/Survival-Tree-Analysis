{
 "cells": [
  {
   "cell_type": "code",
   "execution_count": 16,
   "id": "ef8d310c",
   "metadata": {},
   "outputs": [],
   "source": [
    "\n",
    "from sklearn.model_selection import ShuffleSplit\n",
    "import xgboost as xgb\n",
    "import sys\n",
    "sys.path.append(\"../\") \n",
    "from dataset.nhanes import NHANESDataset\n",
    "from wrapper.xgboost_aft.xgboost_aft import XGBoostAFTWrapper\n",
    "import numpy as np\n",
    "import pandas as pd"
   ]
  },
  {
   "cell_type": "markdown",
   "id": "59fe56e5",
   "metadata": {},
   "source": [
    "# NHANES"
   ]
  },
  {
   "cell_type": "code",
   "execution_count": 17,
   "id": "88763ef0",
   "metadata": {},
   "outputs": [
    {
     "name": "stderr",
     "output_type": "stream",
     "text": [
      "/mnt/c/Users/rizki/Master Files/ThesisUMCG/Survival-Tree-Analysis/src/notebook/../dataset/nhanes.py:68: FutureWarning: Downcasting behavior in `replace` is deprecated and will be removed in a future version. To retain the old behavior, explicitly call `result.infer_objects(copy=False)`. To opt-in to the future behavior, set `pd.set_option('future.no_silent_downcasting', True)`\n",
      "  self.data.replace({False: 0, True: 1}, inplace=True)\n"
     ]
    }
   ],
   "source": [
    "data = NHANESDataset()"
   ]
  },
  {
   "cell_type": "code",
   "execution_count": 18,
   "id": "6ba91cdf",
   "metadata": {},
   "outputs": [
    {
     "data": {
      "text/plain": [
       "array([[  0.        ,  51.        ,   3.        , ..., 110.        ,\n",
       "         40.        ,  25.40680287],\n",
       "       [  0.        ,  41.        ,   2.        , ..., 136.        ,\n",
       "         54.        ,  24.58833109],\n",
       "       [  1.        ,  31.        ,   2.        , ..., 110.        ,\n",
       "         24.        ,  23.75650236],\n",
       "       ...,\n",
       "       [  1.        ,  47.        ,   2.        , ..., 108.        ,\n",
       "         28.        ,  17.9151988 ],\n",
       "       [  1.        ,  61.        ,   8.        , ..., 180.        ,\n",
       "         68.        ,  27.33162171],\n",
       "       [  0.        ,  29.        ,   3.        , ..., 152.        ,\n",
       "         60.        ,  33.16143518]])"
      ]
     },
     "execution_count": 18,
     "metadata": {},
     "output_type": "execute_result"
    }
   ],
   "source": [
    "d = data.get_data()\n",
    "d"
   ]
  },
  {
   "cell_type": "code",
   "execution_count": 19,
   "id": "41058c6c",
   "metadata": {},
   "outputs": [],
   "source": [
    "X_train, X_test, y_train, y_test = data.get_train_test_xgboost()"
   ]
  },
  {
   "cell_type": "code",
   "execution_count": 20,
   "id": "34039871",
   "metadata": {},
   "outputs": [
    {
     "data": {
      "text/html": [
       "<div>\n",
       "<style scoped>\n",
       "    .dataframe tbody tr th:only-of-type {\n",
       "        vertical-align: middle;\n",
       "    }\n",
       "\n",
       "    .dataframe tbody tr th {\n",
       "        vertical-align: top;\n",
       "    }\n",
       "\n",
       "    .dataframe thead th {\n",
       "        text-align: right;\n",
       "    }\n",
       "</style>\n",
       "<table border=\"1\" class=\"dataframe\">\n",
       "  <thead>\n",
       "    <tr style=\"text-align: right;\">\n",
       "      <th></th>\n",
       "      <th>Survival_label_lower_bound</th>\n",
       "      <th>Survival_label_upper_bound</th>\n",
       "    </tr>\n",
       "  </thead>\n",
       "  <tbody>\n",
       "    <tr>\n",
       "      <th>7556</th>\n",
       "      <td>13.750000</td>\n",
       "      <td>13.750000</td>\n",
       "    </tr>\n",
       "    <tr>\n",
       "      <th>819</th>\n",
       "      <td>11.500000</td>\n",
       "      <td>11.500000</td>\n",
       "    </tr>\n",
       "    <tr>\n",
       "      <th>12960</th>\n",
       "      <td>17.833333</td>\n",
       "      <td>inf</td>\n",
       "    </tr>\n",
       "    <tr>\n",
       "      <th>4609</th>\n",
       "      <td>12.083333</td>\n",
       "      <td>12.083333</td>\n",
       "    </tr>\n",
       "    <tr>\n",
       "      <th>5028</th>\n",
       "      <td>20.083333</td>\n",
       "      <td>inf</td>\n",
       "    </tr>\n",
       "    <tr>\n",
       "      <th>...</th>\n",
       "      <td>...</td>\n",
       "      <td>...</td>\n",
       "    </tr>\n",
       "    <tr>\n",
       "      <th>5191</th>\n",
       "      <td>2.500000</td>\n",
       "      <td>2.500000</td>\n",
       "    </tr>\n",
       "    <tr>\n",
       "      <th>13418</th>\n",
       "      <td>0.833333</td>\n",
       "      <td>0.833333</td>\n",
       "    </tr>\n",
       "    <tr>\n",
       "      <th>5390</th>\n",
       "      <td>20.000000</td>\n",
       "      <td>inf</td>\n",
       "    </tr>\n",
       "    <tr>\n",
       "      <th>860</th>\n",
       "      <td>6.250000</td>\n",
       "      <td>6.250000</td>\n",
       "    </tr>\n",
       "    <tr>\n",
       "      <th>7270</th>\n",
       "      <td>14.583333</td>\n",
       "      <td>inf</td>\n",
       "    </tr>\n",
       "  </tbody>\n",
       "</table>\n",
       "<p>11411 rows × 2 columns</p>\n",
       "</div>"
      ],
      "text/plain": [
       "       Survival_label_lower_bound  Survival_label_upper_bound\n",
       "7556                    13.750000                   13.750000\n",
       "819                     11.500000                   11.500000\n",
       "12960                   17.833333                         inf\n",
       "4609                    12.083333                   12.083333\n",
       "5028                    20.083333                         inf\n",
       "...                           ...                         ...\n",
       "5191                     2.500000                    2.500000\n",
       "13418                    0.833333                    0.833333\n",
       "5390                    20.000000                         inf\n",
       "860                      6.250000                    6.250000\n",
       "7270                    14.583333                         inf\n",
       "\n",
       "[11411 rows x 2 columns]"
      ]
     },
     "execution_count": 20,
     "metadata": {},
     "output_type": "execute_result"
    }
   ],
   "source": [
    "y_train"
   ]
  },
  {
   "cell_type": "code",
   "execution_count": 22,
   "id": "260f7360",
   "metadata": {},
   "outputs": [],
   "source": [
    "XGBoostModel = XGBoostAFTWrapper(\n",
    "    max_depth=6, \n",
    "    function='normal',\n",
    "    sigma=0.1,\n",
    "    learning_rate=0.1,\n",
    "    lambda_=0.01,\n",
    "    alpha=0.02,\n",
    "    num_boost_round=1000,\n",
    "    early_stopping_rounds=50,\n",
    ")"
   ]
  },
  {
   "cell_type": "code",
   "execution_count": 23,
   "id": "281984e3",
   "metadata": {},
   "outputs": [],
   "source": [
    "XGBoostModel.fit(\n",
    "    X_train, \n",
    "    y_train\n",
    ")"
   ]
  },
  {
   "cell_type": "code",
   "execution_count": 24,
   "id": "a20b1dee",
   "metadata": {},
   "outputs": [
    {
     "data": {
      "text/plain": [
       "0.7921405360487797"
      ]
     },
     "execution_count": 24,
     "metadata": {},
     "output_type": "execute_result"
    }
   ],
   "source": [
    "XGBoostModel._score(\n",
    "    X_test, \n",
    "    y_test\n",
    ")"
   ]
  },
  {
   "cell_type": "code",
   "execution_count": 26,
   "id": "858b5819",
   "metadata": {},
   "outputs": [],
   "source": [
    "XGBoostModel.save('xgboost.pkl')"
   ]
  },
  {
   "cell_type": "code",
   "execution_count": 28,
   "id": "914eaf1e",
   "metadata": {},
   "outputs": [],
   "source": [
    "NewXGBoostModel = XGBoostAFTWrapper()\n",
    "NewXGBoostModel = XGBoostModel.load('xgboost.pkl')"
   ]
  },
  {
   "cell_type": "code",
   "execution_count": 29,
   "id": "fe8ca12b",
   "metadata": {},
   "outputs": [
    {
     "data": {
      "text/plain": [
       "0.7921405360487797"
      ]
     },
     "execution_count": 29,
     "metadata": {},
     "output_type": "execute_result"
    }
   ],
   "source": [
    "NewXGBoostModel._score(\n",
    "    X_test, \n",
    "    y_test\n",
    ")"
   ]
  },
  {
   "cell_type": "code",
   "execution_count": null,
   "id": "de9f5f5c",
   "metadata": {},
   "outputs": [],
   "source": []
  }
 ],
 "metadata": {
  "kernelspec": {
   "display_name": "env",
   "language": "python",
   "name": "env"
  },
  "language_info": {
   "codemirror_mode": {
    "name": "ipython",
    "version": 3
   },
   "file_extension": ".py",
   "mimetype": "text/x-python",
   "name": "python",
   "nbconvert_exporter": "python",
   "pygments_lexer": "ipython3",
   "version": "3.11.5"
  }
 },
 "nbformat": 4,
 "nbformat_minor": 5
}
