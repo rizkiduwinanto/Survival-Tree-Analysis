{
 "cells": [
  {
   "cell_type": "code",
   "execution_count": 1,
   "id": "a4b70fe4-291d-4d49-ada5-7a7e4e5ced2a",
   "metadata": {},
   "outputs": [
    {
     "name": "stderr",
     "output_type": "stream",
     "text": [
      "/home/rizkiduwinanto/anaconda3/lib/python3.11/site-packages/pandas/core/arrays/masked.py:60: UserWarning: Pandas requires version '1.3.6' or newer of 'bottleneck' (version '1.3.5' currently installed).\n",
      "  from pandas.core import (\n"
     ]
    }
   ],
   "source": [
    "import pandas as pd\n",
    "import numpy as np\n",
    "from sklearn.model_selection import train_test_split\n",
    "\n",
    "from tree import AFTSurvivalTree\n",
    "from forest import AFTForest\n",
    "from dataset import SupportDataset, SyntheticDataset, VeteranLungDataset\n",
    "import time"
   ]
  },
  {
   "cell_type": "code",
   "execution_count": 2,
   "id": "06237ab7",
   "metadata": {},
   "outputs": [
    {
     "name": "stderr",
     "output_type": "stream",
     "text": [
      "/home/rizkiduwinanto/anaconda3/lib/python3.11/site-packages/pandas/core/nanops.py:1016: RuntimeWarning: invalid value encountered in subtract\n",
      "  sqr = _ensure_numeric((avg - values) ** 2)\n"
     ]
    },
    {
     "data": {
      "text/html": [
       "<div>\n",
       "<style scoped>\n",
       "    .dataframe tbody tr th:only-of-type {\n",
       "        vertical-align: middle;\n",
       "    }\n",
       "\n",
       "    .dataframe tbody tr th {\n",
       "        vertical-align: top;\n",
       "    }\n",
       "\n",
       "    .dataframe thead th {\n",
       "        text-align: right;\n",
       "    }\n",
       "</style>\n",
       "<table border=\"1\" class=\"dataframe\">\n",
       "  <thead>\n",
       "    <tr style=\"text-align: right;\">\n",
       "      <th></th>\n",
       "      <th>Survival_label_lower_bound</th>\n",
       "      <th>Survival_label_upper_bound</th>\n",
       "      <th>Age_in_years</th>\n",
       "      <th>Karnofsky_score</th>\n",
       "      <th>Months_from_Diagnosis</th>\n",
       "      <th>Celltype=adeno</th>\n",
       "      <th>Celltype=large</th>\n",
       "      <th>Celltype=smallcell</th>\n",
       "      <th>Celltype=squamous</th>\n",
       "      <th>Prior_therapy=no</th>\n",
       "      <th>Prior_therapy=yes</th>\n",
       "      <th>Treatment=standard</th>\n",
       "      <th>Treatment=test</th>\n",
       "    </tr>\n",
       "  </thead>\n",
       "  <tbody>\n",
       "    <tr>\n",
       "      <th>count</th>\n",
       "      <td>137.000000</td>\n",
       "      <td>137.0</td>\n",
       "      <td>137.000000</td>\n",
       "      <td>137.000000</td>\n",
       "      <td>137.000000</td>\n",
       "      <td>137.000000</td>\n",
       "      <td>137.000000</td>\n",
       "      <td>137.000000</td>\n",
       "      <td>137.000000</td>\n",
       "      <td>137.000000</td>\n",
       "      <td>137.000000</td>\n",
       "      <td>137.000000</td>\n",
       "      <td>137.000000</td>\n",
       "    </tr>\n",
       "    <tr>\n",
       "      <th>mean</th>\n",
       "      <td>121.627737</td>\n",
       "      <td>inf</td>\n",
       "      <td>58.306569</td>\n",
       "      <td>58.569343</td>\n",
       "      <td>8.773723</td>\n",
       "      <td>0.197080</td>\n",
       "      <td>0.197080</td>\n",
       "      <td>0.350365</td>\n",
       "      <td>0.255474</td>\n",
       "      <td>0.708029</td>\n",
       "      <td>0.291971</td>\n",
       "      <td>0.503650</td>\n",
       "      <td>0.496350</td>\n",
       "    </tr>\n",
       "    <tr>\n",
       "      <th>std</th>\n",
       "      <td>157.816722</td>\n",
       "      <td>NaN</td>\n",
       "      <td>10.541628</td>\n",
       "      <td>20.039592</td>\n",
       "      <td>10.612141</td>\n",
       "      <td>0.399253</td>\n",
       "      <td>0.399253</td>\n",
       "      <td>0.478835</td>\n",
       "      <td>0.437728</td>\n",
       "      <td>0.456337</td>\n",
       "      <td>0.456337</td>\n",
       "      <td>0.501821</td>\n",
       "      <td>0.501821</td>\n",
       "    </tr>\n",
       "    <tr>\n",
       "      <th>min</th>\n",
       "      <td>1.000000</td>\n",
       "      <td>1.0</td>\n",
       "      <td>34.000000</td>\n",
       "      <td>10.000000</td>\n",
       "      <td>1.000000</td>\n",
       "      <td>0.000000</td>\n",
       "      <td>0.000000</td>\n",
       "      <td>0.000000</td>\n",
       "      <td>0.000000</td>\n",
       "      <td>0.000000</td>\n",
       "      <td>0.000000</td>\n",
       "      <td>0.000000</td>\n",
       "      <td>0.000000</td>\n",
       "    </tr>\n",
       "    <tr>\n",
       "      <th>25%</th>\n",
       "      <td>25.000000</td>\n",
       "      <td>25.0</td>\n",
       "      <td>51.000000</td>\n",
       "      <td>40.000000</td>\n",
       "      <td>3.000000</td>\n",
       "      <td>0.000000</td>\n",
       "      <td>0.000000</td>\n",
       "      <td>0.000000</td>\n",
       "      <td>0.000000</td>\n",
       "      <td>0.000000</td>\n",
       "      <td>0.000000</td>\n",
       "      <td>0.000000</td>\n",
       "      <td>0.000000</td>\n",
       "    </tr>\n",
       "    <tr>\n",
       "      <th>50%</th>\n",
       "      <td>80.000000</td>\n",
       "      <td>80.0</td>\n",
       "      <td>62.000000</td>\n",
       "      <td>60.000000</td>\n",
       "      <td>5.000000</td>\n",
       "      <td>0.000000</td>\n",
       "      <td>0.000000</td>\n",
       "      <td>0.000000</td>\n",
       "      <td>0.000000</td>\n",
       "      <td>1.000000</td>\n",
       "      <td>0.000000</td>\n",
       "      <td>1.000000</td>\n",
       "      <td>0.000000</td>\n",
       "    </tr>\n",
       "    <tr>\n",
       "      <th>75%</th>\n",
       "      <td>144.000000</td>\n",
       "      <td>177.0</td>\n",
       "      <td>66.000000</td>\n",
       "      <td>75.000000</td>\n",
       "      <td>11.000000</td>\n",
       "      <td>0.000000</td>\n",
       "      <td>0.000000</td>\n",
       "      <td>1.000000</td>\n",
       "      <td>1.000000</td>\n",
       "      <td>1.000000</td>\n",
       "      <td>1.000000</td>\n",
       "      <td>1.000000</td>\n",
       "      <td>1.000000</td>\n",
       "    </tr>\n",
       "    <tr>\n",
       "      <th>max</th>\n",
       "      <td>999.000000</td>\n",
       "      <td>inf</td>\n",
       "      <td>81.000000</td>\n",
       "      <td>99.000000</td>\n",
       "      <td>87.000000</td>\n",
       "      <td>1.000000</td>\n",
       "      <td>1.000000</td>\n",
       "      <td>1.000000</td>\n",
       "      <td>1.000000</td>\n",
       "      <td>1.000000</td>\n",
       "      <td>1.000000</td>\n",
       "      <td>1.000000</td>\n",
       "      <td>1.000000</td>\n",
       "    </tr>\n",
       "  </tbody>\n",
       "</table>\n",
       "</div>"
      ],
      "text/plain": [
       "       Survival_label_lower_bound  Survival_label_upper_bound  Age_in_years  \\\n",
       "count                  137.000000                       137.0    137.000000   \n",
       "mean                   121.627737                         inf     58.306569   \n",
       "std                    157.816722                         NaN     10.541628   \n",
       "min                      1.000000                         1.0     34.000000   \n",
       "25%                     25.000000                        25.0     51.000000   \n",
       "50%                     80.000000                        80.0     62.000000   \n",
       "75%                    144.000000                       177.0     66.000000   \n",
       "max                    999.000000                         inf     81.000000   \n",
       "\n",
       "       Karnofsky_score  Months_from_Diagnosis  Celltype=adeno  Celltype=large  \\\n",
       "count       137.000000             137.000000      137.000000      137.000000   \n",
       "mean         58.569343               8.773723        0.197080        0.197080   \n",
       "std          20.039592              10.612141        0.399253        0.399253   \n",
       "min          10.000000               1.000000        0.000000        0.000000   \n",
       "25%          40.000000               3.000000        0.000000        0.000000   \n",
       "50%          60.000000               5.000000        0.000000        0.000000   \n",
       "75%          75.000000              11.000000        0.000000        0.000000   \n",
       "max          99.000000              87.000000        1.000000        1.000000   \n",
       "\n",
       "       Celltype=smallcell  Celltype=squamous  Prior_therapy=no  \\\n",
       "count          137.000000         137.000000        137.000000   \n",
       "mean             0.350365           0.255474          0.708029   \n",
       "std              0.478835           0.437728          0.456337   \n",
       "min              0.000000           0.000000          0.000000   \n",
       "25%              0.000000           0.000000          0.000000   \n",
       "50%              0.000000           0.000000          1.000000   \n",
       "75%              1.000000           1.000000          1.000000   \n",
       "max              1.000000           1.000000          1.000000   \n",
       "\n",
       "       Prior_therapy=yes  Treatment=standard  Treatment=test  \n",
       "count         137.000000          137.000000      137.000000  \n",
       "mean            0.291971            0.503650        0.496350  \n",
       "std             0.456337            0.501821        0.501821  \n",
       "min             0.000000            0.000000        0.000000  \n",
       "25%             0.000000            0.000000        0.000000  \n",
       "50%             0.000000            1.000000        0.000000  \n",
       "75%             1.000000            1.000000        1.000000  \n",
       "max             1.000000            1.000000        1.000000  "
      ]
     },
     "execution_count": 2,
     "metadata": {},
     "output_type": "execute_result"
    }
   ],
   "source": [
    "df = pd.read_csv('../data/veterans_lung_cancer.csv')\n",
    "df.describe()"
   ]
  },
  {
   "cell_type": "code",
   "execution_count": 3,
   "id": "6a8e8ba9",
   "metadata": {},
   "outputs": [
    {
     "data": {
      "text/html": [
       "<div>\n",
       "<style scoped>\n",
       "    .dataframe tbody tr th:only-of-type {\n",
       "        vertical-align: middle;\n",
       "    }\n",
       "\n",
       "    .dataframe tbody tr th {\n",
       "        vertical-align: top;\n",
       "    }\n",
       "\n",
       "    .dataframe thead th {\n",
       "        text-align: right;\n",
       "    }\n",
       "</style>\n",
       "<table border=\"1\" class=\"dataframe\">\n",
       "  <thead>\n",
       "    <tr style=\"text-align: right;\">\n",
       "      <th></th>\n",
       "      <th>Survival_label_lower_bound</th>\n",
       "      <th>Survival_label_upper_bound</th>\n",
       "      <th>Age_in_years</th>\n",
       "      <th>Karnofsky_score</th>\n",
       "      <th>Months_from_Diagnosis</th>\n",
       "      <th>Celltype=adeno</th>\n",
       "      <th>Celltype=large</th>\n",
       "      <th>Celltype=smallcell</th>\n",
       "      <th>Celltype=squamous</th>\n",
       "      <th>Prior_therapy=no</th>\n",
       "      <th>Prior_therapy=yes</th>\n",
       "      <th>Treatment=standard</th>\n",
       "      <th>Treatment=test</th>\n",
       "    </tr>\n",
       "  </thead>\n",
       "  <tbody>\n",
       "    <tr>\n",
       "      <th>0</th>\n",
       "      <td>72.0</td>\n",
       "      <td>72.0</td>\n",
       "      <td>69.0</td>\n",
       "      <td>60.0</td>\n",
       "      <td>7.0</td>\n",
       "      <td>0</td>\n",
       "      <td>0</td>\n",
       "      <td>0</td>\n",
       "      <td>1</td>\n",
       "      <td>1</td>\n",
       "      <td>0</td>\n",
       "      <td>1</td>\n",
       "      <td>0</td>\n",
       "    </tr>\n",
       "    <tr>\n",
       "      <th>1</th>\n",
       "      <td>411.0</td>\n",
       "      <td>411.0</td>\n",
       "      <td>64.0</td>\n",
       "      <td>70.0</td>\n",
       "      <td>5.0</td>\n",
       "      <td>0</td>\n",
       "      <td>0</td>\n",
       "      <td>0</td>\n",
       "      <td>1</td>\n",
       "      <td>0</td>\n",
       "      <td>1</td>\n",
       "      <td>1</td>\n",
       "      <td>0</td>\n",
       "    </tr>\n",
       "    <tr>\n",
       "      <th>2</th>\n",
       "      <td>228.0</td>\n",
       "      <td>228.0</td>\n",
       "      <td>38.0</td>\n",
       "      <td>60.0</td>\n",
       "      <td>3.0</td>\n",
       "      <td>0</td>\n",
       "      <td>0</td>\n",
       "      <td>0</td>\n",
       "      <td>1</td>\n",
       "      <td>1</td>\n",
       "      <td>0</td>\n",
       "      <td>1</td>\n",
       "      <td>0</td>\n",
       "    </tr>\n",
       "    <tr>\n",
       "      <th>3</th>\n",
       "      <td>126.0</td>\n",
       "      <td>126.0</td>\n",
       "      <td>63.0</td>\n",
       "      <td>60.0</td>\n",
       "      <td>9.0</td>\n",
       "      <td>0</td>\n",
       "      <td>0</td>\n",
       "      <td>0</td>\n",
       "      <td>1</td>\n",
       "      <td>0</td>\n",
       "      <td>1</td>\n",
       "      <td>1</td>\n",
       "      <td>0</td>\n",
       "    </tr>\n",
       "    <tr>\n",
       "      <th>4</th>\n",
       "      <td>118.0</td>\n",
       "      <td>118.0</td>\n",
       "      <td>65.0</td>\n",
       "      <td>70.0</td>\n",
       "      <td>11.0</td>\n",
       "      <td>0</td>\n",
       "      <td>0</td>\n",
       "      <td>0</td>\n",
       "      <td>1</td>\n",
       "      <td>0</td>\n",
       "      <td>1</td>\n",
       "      <td>1</td>\n",
       "      <td>0</td>\n",
       "    </tr>\n",
       "    <tr>\n",
       "      <th>...</th>\n",
       "      <td>...</td>\n",
       "      <td>...</td>\n",
       "      <td>...</td>\n",
       "      <td>...</td>\n",
       "      <td>...</td>\n",
       "      <td>...</td>\n",
       "      <td>...</td>\n",
       "      <td>...</td>\n",
       "      <td>...</td>\n",
       "      <td>...</td>\n",
       "      <td>...</td>\n",
       "      <td>...</td>\n",
       "      <td>...</td>\n",
       "    </tr>\n",
       "    <tr>\n",
       "      <th>132</th>\n",
       "      <td>133.0</td>\n",
       "      <td>133.0</td>\n",
       "      <td>65.0</td>\n",
       "      <td>75.0</td>\n",
       "      <td>1.0</td>\n",
       "      <td>0</td>\n",
       "      <td>1</td>\n",
       "      <td>0</td>\n",
       "      <td>0</td>\n",
       "      <td>1</td>\n",
       "      <td>0</td>\n",
       "      <td>0</td>\n",
       "      <td>1</td>\n",
       "    </tr>\n",
       "    <tr>\n",
       "      <th>133</th>\n",
       "      <td>111.0</td>\n",
       "      <td>111.0</td>\n",
       "      <td>64.0</td>\n",
       "      <td>60.0</td>\n",
       "      <td>5.0</td>\n",
       "      <td>0</td>\n",
       "      <td>1</td>\n",
       "      <td>0</td>\n",
       "      <td>0</td>\n",
       "      <td>1</td>\n",
       "      <td>0</td>\n",
       "      <td>0</td>\n",
       "      <td>1</td>\n",
       "    </tr>\n",
       "    <tr>\n",
       "      <th>134</th>\n",
       "      <td>231.0</td>\n",
       "      <td>231.0</td>\n",
       "      <td>67.0</td>\n",
       "      <td>70.0</td>\n",
       "      <td>18.0</td>\n",
       "      <td>0</td>\n",
       "      <td>1</td>\n",
       "      <td>0</td>\n",
       "      <td>0</td>\n",
       "      <td>0</td>\n",
       "      <td>1</td>\n",
       "      <td>0</td>\n",
       "      <td>1</td>\n",
       "    </tr>\n",
       "    <tr>\n",
       "      <th>135</th>\n",
       "      <td>378.0</td>\n",
       "      <td>378.0</td>\n",
       "      <td>65.0</td>\n",
       "      <td>80.0</td>\n",
       "      <td>4.0</td>\n",
       "      <td>0</td>\n",
       "      <td>1</td>\n",
       "      <td>0</td>\n",
       "      <td>0</td>\n",
       "      <td>1</td>\n",
       "      <td>0</td>\n",
       "      <td>0</td>\n",
       "      <td>1</td>\n",
       "    </tr>\n",
       "    <tr>\n",
       "      <th>136</th>\n",
       "      <td>49.0</td>\n",
       "      <td>49.0</td>\n",
       "      <td>37.0</td>\n",
       "      <td>30.0</td>\n",
       "      <td>3.0</td>\n",
       "      <td>0</td>\n",
       "      <td>1</td>\n",
       "      <td>0</td>\n",
       "      <td>0</td>\n",
       "      <td>1</td>\n",
       "      <td>0</td>\n",
       "      <td>0</td>\n",
       "      <td>1</td>\n",
       "    </tr>\n",
       "  </tbody>\n",
       "</table>\n",
       "<p>137 rows × 13 columns</p>\n",
       "</div>"
      ],
      "text/plain": [
       "     Survival_label_lower_bound  Survival_label_upper_bound  Age_in_years  \\\n",
       "0                          72.0                        72.0          69.0   \n",
       "1                         411.0                       411.0          64.0   \n",
       "2                         228.0                       228.0          38.0   \n",
       "3                         126.0                       126.0          63.0   \n",
       "4                         118.0                       118.0          65.0   \n",
       "..                          ...                         ...           ...   \n",
       "132                       133.0                       133.0          65.0   \n",
       "133                       111.0                       111.0          64.0   \n",
       "134                       231.0                       231.0          67.0   \n",
       "135                       378.0                       378.0          65.0   \n",
       "136                        49.0                        49.0          37.0   \n",
       "\n",
       "     Karnofsky_score  Months_from_Diagnosis  Celltype=adeno  Celltype=large  \\\n",
       "0               60.0                    7.0               0               0   \n",
       "1               70.0                    5.0               0               0   \n",
       "2               60.0                    3.0               0               0   \n",
       "3               60.0                    9.0               0               0   \n",
       "4               70.0                   11.0               0               0   \n",
       "..               ...                    ...             ...             ...   \n",
       "132             75.0                    1.0               0               1   \n",
       "133             60.0                    5.0               0               1   \n",
       "134             70.0                   18.0               0               1   \n",
       "135             80.0                    4.0               0               1   \n",
       "136             30.0                    3.0               0               1   \n",
       "\n",
       "     Celltype=smallcell  Celltype=squamous  Prior_therapy=no  \\\n",
       "0                     0                  1                 1   \n",
       "1                     0                  1                 0   \n",
       "2                     0                  1                 1   \n",
       "3                     0                  1                 0   \n",
       "4                     0                  1                 0   \n",
       "..                  ...                ...               ...   \n",
       "132                   0                  0                 1   \n",
       "133                   0                  0                 1   \n",
       "134                   0                  0                 0   \n",
       "135                   0                  0                 1   \n",
       "136                   0                  0                 1   \n",
       "\n",
       "     Prior_therapy=yes  Treatment=standard  Treatment=test  \n",
       "0                    0                   1               0  \n",
       "1                    1                   1               0  \n",
       "2                    0                   1               0  \n",
       "3                    1                   1               0  \n",
       "4                    1                   1               0  \n",
       "..                 ...                 ...             ...  \n",
       "132                  0                   0               1  \n",
       "133                  0                   0               1  \n",
       "134                  1                   0               1  \n",
       "135                  0                   0               1  \n",
       "136                  0                   0               1  \n",
       "\n",
       "[137 rows x 13 columns]"
      ]
     },
     "execution_count": 3,
     "metadata": {},
     "output_type": "execute_result"
    }
   ],
   "source": [
    "df"
   ]
  },
  {
   "cell_type": "code",
   "execution_count": 4,
   "id": "40251cdc",
   "metadata": {},
   "outputs": [],
   "source": [
    "import numpy as np\n",
    "import matplotlib.pyplot as plt\n",
    "from scipy.stats import norm, genextreme, gaussian_kde, ecdf"
   ]
  },
  {
   "cell_type": "code",
   "execution_count": 5,
   "id": "47faeff5",
   "metadata": {},
   "outputs": [
    {
     "data": {
      "text/plain": [
       "array([[69., 60.,  7., ...,  0.,  1.,  0.],\n",
       "       [64., 70.,  5., ...,  1.,  1.,  0.],\n",
       "       [38., 60.,  3., ...,  0.,  1.,  0.],\n",
       "       ...,\n",
       "       [67., 70., 18., ...,  1.,  0.,  1.],\n",
       "       [65., 80.,  4., ...,  0.,  0.,  1.],\n",
       "       [37., 30.,  3., ...,  0.,  0.,  1.]])"
      ]
     },
     "execution_count": 5,
     "metadata": {},
     "output_type": "execute_result"
    }
   ],
   "source": [
    "veteran = VeteranLungDataset(df)\n",
    "veteran.get_data()"
   ]
  },
  {
   "cell_type": "code",
   "execution_count": 6,
   "id": "13aee6f0",
   "metadata": {},
   "outputs": [
    {
     "data": {
      "text/plain": [
       "array([(0,  72.), (0, 411.), (0, 228.), (0, 126.), (0, 118.), (0,  10.),\n",
       "       (0,  82.), (0, 110.), (0, 314.), (1, 100.), (0,  42.), (0,   8.),\n",
       "       (0, 144.), (1,  25.), (0,  11.), (0,  30.), (0, 384.), (0,   4.),\n",
       "       (0,  54.), (0,  13.), (1, 123.), (1,  97.), (0, 153.), (0,  59.),\n",
       "       (0, 117.), (0,  16.), (0, 151.), (0,  22.), (0,  56.), (0,  21.),\n",
       "       (0,  18.), (0, 139.), (0,  20.), (0,  31.), (0,  52.), (0, 287.),\n",
       "       (0,  18.), (0,  51.), (0, 122.), (0,  27.), (0,  54.), (0,   7.),\n",
       "       (0,  63.), (0, 392.), (0,  10.), (0,   8.), (0,  92.), (0,  35.),\n",
       "       (0, 117.), (0, 132.), (0,  12.), (0, 162.), (0,   3.), (0,  95.),\n",
       "       (0, 177.), (0, 162.), (0, 216.), (0, 553.), (0, 278.), (0,  12.),\n",
       "       (0, 260.), (0, 200.), (0, 156.), (1, 182.), (0, 143.), (0, 105.),\n",
       "       (0, 103.), (0, 250.), (0, 100.), (0, 999.), (0, 112.), (1,  87.),\n",
       "       (1, 231.), (0, 242.), (0, 991.), (0, 111.), (0,   1.), (0, 587.),\n",
       "       (0, 389.), (0,  33.), (0,  25.), (0, 357.), (0, 467.), (0, 201.),\n",
       "       (0,   1.), (0,  30.), (0,  44.), (0, 283.), (0,  15.), (0,  25.),\n",
       "       (1, 103.), (0,  21.), (0,  13.), (0,  87.), (0,   2.), (0,  20.),\n",
       "       (0,   7.), (0,  24.), (0,  99.), (0,   8.), (0,  99.), (0,  61.),\n",
       "       (0,  25.), (0,  95.), (0,  80.), (0,  51.), (0,  29.), (0,  24.),\n",
       "       (0,  18.), (1,  83.), (0,  31.), (0,  51.), (0,  90.), (0,  52.),\n",
       "       (0,  73.), (0,   8.), (0,  36.), (0,  48.), (0,   7.), (0, 140.),\n",
       "       (0, 186.), (0,  84.), (0,  19.), (0,  45.), (0,  80.), (0,  52.),\n",
       "       (0, 164.), (0,  19.), (0,  53.), (0,  15.), (0,  43.), (0, 340.),\n",
       "       (0, 133.), (0, 111.), (0, 231.), (0, 378.), (0,  49.)],\n",
       "      dtype=(numpy.record, [('death', '<i8'), ('d.time', '<f8')]))"
      ]
     },
     "execution_count": 6,
     "metadata": {},
     "output_type": "execute_result"
    }
   ],
   "source": [
    "veteran.get_label()"
   ]
  },
  {
   "cell_type": "code",
   "execution_count": 7,
   "id": "048e8d31",
   "metadata": {},
   "outputs": [
    {
     "data": {
      "text/html": [
       "<div>\n",
       "<style scoped>\n",
       "    .dataframe tbody tr th:only-of-type {\n",
       "        vertical-align: middle;\n",
       "    }\n",
       "\n",
       "    .dataframe tbody tr th {\n",
       "        vertical-align: top;\n",
       "    }\n",
       "\n",
       "    .dataframe thead th {\n",
       "        text-align: right;\n",
       "    }\n",
       "</style>\n",
       "<table border=\"1\" class=\"dataframe\">\n",
       "  <thead>\n",
       "    <tr style=\"text-align: right;\">\n",
       "      <th></th>\n",
       "      <th>Survival_label_lower_bound</th>\n",
       "      <th>Survival_label_upper_bound</th>\n",
       "    </tr>\n",
       "  </thead>\n",
       "  <tbody>\n",
       "    <tr>\n",
       "      <th>0</th>\n",
       "      <td>72.0</td>\n",
       "      <td>72.0</td>\n",
       "    </tr>\n",
       "    <tr>\n",
       "      <th>1</th>\n",
       "      <td>411.0</td>\n",
       "      <td>411.0</td>\n",
       "    </tr>\n",
       "    <tr>\n",
       "      <th>2</th>\n",
       "      <td>228.0</td>\n",
       "      <td>228.0</td>\n",
       "    </tr>\n",
       "    <tr>\n",
       "      <th>3</th>\n",
       "      <td>126.0</td>\n",
       "      <td>126.0</td>\n",
       "    </tr>\n",
       "    <tr>\n",
       "      <th>4</th>\n",
       "      <td>118.0</td>\n",
       "      <td>118.0</td>\n",
       "    </tr>\n",
       "    <tr>\n",
       "      <th>...</th>\n",
       "      <td>...</td>\n",
       "      <td>...</td>\n",
       "    </tr>\n",
       "    <tr>\n",
       "      <th>132</th>\n",
       "      <td>133.0</td>\n",
       "      <td>133.0</td>\n",
       "    </tr>\n",
       "    <tr>\n",
       "      <th>133</th>\n",
       "      <td>111.0</td>\n",
       "      <td>111.0</td>\n",
       "    </tr>\n",
       "    <tr>\n",
       "      <th>134</th>\n",
       "      <td>231.0</td>\n",
       "      <td>231.0</td>\n",
       "    </tr>\n",
       "    <tr>\n",
       "      <th>135</th>\n",
       "      <td>378.0</td>\n",
       "      <td>378.0</td>\n",
       "    </tr>\n",
       "    <tr>\n",
       "      <th>136</th>\n",
       "      <td>49.0</td>\n",
       "      <td>49.0</td>\n",
       "    </tr>\n",
       "  </tbody>\n",
       "</table>\n",
       "<p>137 rows × 2 columns</p>\n",
       "</div>"
      ],
      "text/plain": [
       "     Survival_label_lower_bound  Survival_label_upper_bound\n",
       "0                          72.0                        72.0\n",
       "1                         411.0                       411.0\n",
       "2                         228.0                       228.0\n",
       "3                         126.0                       126.0\n",
       "4                         118.0                       118.0\n",
       "..                          ...                         ...\n",
       "132                       133.0                       133.0\n",
       "133                       111.0                       111.0\n",
       "134                       231.0                       231.0\n",
       "135                       378.0                       378.0\n",
       "136                        49.0                        49.0\n",
       "\n",
       "[137 rows x 2 columns]"
      ]
     },
     "execution_count": 7,
     "metadata": {},
     "output_type": "execute_result"
    }
   ],
   "source": [
    "veteran.get_xgboost_label()"
   ]
  },
  {
   "cell_type": "code",
   "execution_count": 8,
   "id": "902ba9a0",
   "metadata": {},
   "outputs": [],
   "source": [
    "X_train, X_test, y_train, y_test = veteran.get_train_test()"
   ]
  },
  {
   "cell_type": "markdown",
   "id": "9f1009e5",
   "metadata": {},
   "source": [
    "##### Init All Methods"
   ]
  },
  {
   "cell_type": "markdown",
   "id": "10e94e3a",
   "metadata": {},
   "source": [
    "AFT-Forest"
   ]
  },
  {
   "cell_type": "code",
   "execution_count": 9,
   "id": "47aedd79",
   "metadata": {},
   "outputs": [],
   "source": [
    "aft_surv_tree = AFTSurvivalTree(function=\"norm\")\n",
    "aft_forest = AFTForest(n_trees=10, random_params=True)"
   ]
  },
  {
   "cell_type": "code",
   "execution_count": 10,
   "id": "e1ebcb5e",
   "metadata": {},
   "outputs": [],
   "source": [
    "aft_surv_tree.fit(X_train, y_train)"
   ]
  },
  {
   "cell_type": "code",
   "execution_count": 11,
   "id": "a939e9db",
   "metadata": {},
   "outputs": [
    {
     "name": "stderr",
     "output_type": "stream",
     "text": [
      "/home/rizkiduwinanto/anaconda3/lib/python3.11/site-packages/pandas/core/arrays/masked.py:60: UserWarning: Pandas requires version '1.3.6' or newer of 'bottleneck' (version '1.3.5' currently installed).\n",
      "  from pandas.core import (\n",
      "/home/rizkiduwinanto/anaconda3/lib/python3.11/site-packages/pandas/core/arrays/masked.py:60: UserWarning: Pandas requires version '1.3.6' or newer of 'bottleneck' (version '1.3.5' currently installed).\n",
      "  from pandas.core import (\n",
      "/home/rizkiduwinanto/anaconda3/lib/python3.11/site-packages/pandas/core/arrays/masked.py:60: UserWarning: Pandas requires version '1.3.6' or newer of 'bottleneck' (version '1.3.5' currently installed).\n",
      "  from pandas.core import (\n",
      "/home/rizkiduwinanto/anaconda3/lib/python3.11/site-packages/pandas/core/arrays/masked.py:60: UserWarning: Pandas requires version '1.3.6' or newer of 'bottleneck' (version '1.3.5' currently installed).\n",
      "  from pandas.core import (\n",
      "/home/rizkiduwinanto/anaconda3/lib/python3.11/site-packages/pandas/core/arrays/masked.py:60: UserWarning: Pandas requires version '1.3.6' or newer of 'bottleneck' (version '1.3.5' currently installed).\n",
      "  from pandas.core import (\n",
      "/home/rizkiduwinanto/anaconda3/lib/python3.11/site-packages/pandas/core/arrays/masked.py:60: UserWarning: Pandas requires version '1.3.6' or newer of 'bottleneck' (version '1.3.5' currently installed).\n",
      "  from pandas.core import (\n",
      "/home/rizkiduwinanto/anaconda3/lib/python3.11/site-packages/pandas/core/arrays/masked.py:60: UserWarning: Pandas requires version '1.3.6' or newer of 'bottleneck' (version '1.3.5' currently installed).\n",
      "  from pandas.core import (\n",
      "/home/rizkiduwinanto/anaconda3/lib/python3.11/site-packages/pandas/core/arrays/masked.py:60: UserWarning: Pandas requires version '1.3.6' or newer of 'bottleneck' (version '1.3.5' currently installed).\n",
      "  from pandas.core import (\n",
      "/home/rizkiduwinanto/anaconda3/lib/python3.11/site-packages/pandas/core/arrays/masked.py:60: UserWarning: Pandas requires version '1.3.6' or newer of 'bottleneck' (version '1.3.5' currently installed).\n",
      "  from pandas.core import (\n",
      "/home/rizkiduwinanto/anaconda3/lib/python3.11/site-packages/pandas/core/arrays/masked.py:60: UserWarning: Pandas requires version '1.3.6' or newer of 'bottleneck' (version '1.3.5' currently installed).\n",
      "  from pandas.core import (\n",
      "100%|██████████| 10/10 [00:00<00:00, 29746.84it/s]\n"
     ]
    }
   ],
   "source": [
    "aft_forest.fit(X_train, y_train)"
   ]
  },
  {
   "cell_type": "code",
   "execution_count": 12,
   "id": "b121584d",
   "metadata": {},
   "outputs": [
    {
     "data": {
      "text/plain": [
       "[125.5,\n",
       " 127.28915662650603,\n",
       " 127.28915662650603,\n",
       " 127.28915662650603,\n",
       " 127.28915662650603,\n",
       " 70.2,\n",
       " 127.28915662650603,\n",
       " 127.28915662650603,\n",
       " 127.28915662650603,\n",
       " 127.28915662650603,\n",
       " 70.2,\n",
       " 127.28915662650603,\n",
       " 127.28915662650603,\n",
       " 127.28915662650603,\n",
       " 127.28915662650603,\n",
       " 127.28915662650603,\n",
       " 127.28915662650603,\n",
       " 127.28915662650603,\n",
       " 127.28915662650603,\n",
       " 127.28915662650603,\n",
       " 104.1,\n",
       " 127.28915662650603,\n",
       " 127.28915662650603,\n",
       " 127.28915662650603,\n",
       " 127.28915662650603,\n",
       " 127.28915662650603,\n",
       " 104.1,\n",
       " 127.28915662650603]"
      ]
     },
     "execution_count": 12,
     "metadata": {},
     "output_type": "execute_result"
    }
   ],
   "source": [
    "aft_surv_tree.predict(X_test)"
   ]
  },
  {
   "cell_type": "code",
   "execution_count": 13,
   "id": "48aa120b",
   "metadata": {},
   "outputs": [
    {
     "data": {
      "text/plain": [
       "[120.14440091915526,\n",
       " 119.6338374144741,\n",
       " 92.78717869693304,\n",
       " 118.8788374144741,\n",
       " 90.26717869693303,\n",
       " 127.14606710158435,\n",
       " 138.32750688226125,\n",
       " 121.98410057236883,\n",
       " 122.1788374144741,\n",
       " 121.39883741447412,\n",
       " 110.45606710158434,\n",
       " 112.57551203026637,\n",
       " 140.62285571947055,\n",
       " 132.18841127502608,\n",
       " 128.47685328748997,\n",
       " 121.89952238613716,\n",
       " 121.98410057236883,\n",
       " 132.18841127502608,\n",
       " 128.2821164453847,\n",
       " 132.94341127502608,\n",
       " 108.28118905280385,\n",
       " 121.98410057236883,\n",
       " 140.62285571947055,\n",
       " 119.38940091915526,\n",
       " 90.26717869693303,\n",
       " 130.75861799337235,\n",
       " 108.28118905280385,\n",
       " 127.69685328748997]"
      ]
     },
     "execution_count": 13,
     "metadata": {},
     "output_type": "execute_result"
    }
   ],
   "source": [
    "aft_forest.predict(X_test)"
   ]
  },
  {
   "cell_type": "code",
   "execution_count": 14,
   "id": "6e24fde8",
   "metadata": {},
   "outputs": [
    {
     "data": {
      "text/plain": [
       "0.5206043956043956"
      ]
     },
     "execution_count": 14,
     "metadata": {},
     "output_type": "execute_result"
    }
   ],
   "source": [
    "aft_surv_tree._score(X_test, y_test)"
   ]
  },
  {
   "cell_type": "code",
   "execution_count": 15,
   "id": "6be2fca7",
   "metadata": {},
   "outputs": [],
   "source": [
    "aft_surv_tree._visualize()"
   ]
  },
  {
   "cell_type": "code",
   "execution_count": 16,
   "id": "10fd6d9f",
   "metadata": {},
   "outputs": [
    {
     "data": {
      "text/plain": [
       "0.10341047841047839"
      ]
     },
     "execution_count": 16,
     "metadata": {},
     "output_type": "execute_result"
    }
   ],
   "source": [
    "aft_surv_tree._brier(X_test, y_test)"
   ]
  },
  {
   "cell_type": "code",
   "execution_count": 17,
   "id": "37831669",
   "metadata": {},
   "outputs": [
    {
     "data": {
      "text/plain": [
       "99.91157487091223"
      ]
     },
     "execution_count": 17,
     "metadata": {},
     "output_type": "execute_result"
    }
   ],
   "source": [
    "aft_surv_tree._mae(X_test, y_test)"
   ]
  },
  {
   "cell_type": "code",
   "execution_count": 18,
   "id": "2c92e309",
   "metadata": {},
   "outputs": [
    {
     "data": {
      "text/plain": [
       "(array([0.5       , 0.5       , 0.5       , 0.5       , 0.5       ,\n",
       "        0.5       , 0.5       , 0.49487179, 0.5       , 0.50274725,\n",
       "        0.5085034 , 0.46071429, 0.47152194, 0.5       , 0.5       ,\n",
       "        0.5       , 0.5       , 0.5       , 0.5       , 0.5       ,\n",
       "        0.5       , 0.5       , 0.5       , 0.5       , 0.5       ,\n",
       "        0.5       , 0.5       , 0.5       , 0.5       , 0.5       ,\n",
       "        0.5       , 0.5       , 0.5       , 0.5       , 0.5       ,\n",
       "        0.5       , 0.5       , 0.5       , 0.5       , 0.5       ,\n",
       "        0.5       , 0.5       , 0.5       , 0.5       , 0.5       ,\n",
       "        0.5       , 0.5       , 0.5       , 0.5       , 0.5       ,\n",
       "        0.5       , 0.5       , 0.5       , 0.5       , 0.5       ,\n",
       "        0.5       , 0.5       , 0.5       , 0.5       , 0.5       ,\n",
       "        0.5       , 0.5       , 0.5       , 0.5       , 0.5       ,\n",
       "        0.5       , 0.5       , 0.5       , 0.5       , 0.5       ,\n",
       "        0.5       , 0.5       , 0.5       , 0.5       , 0.5       ,\n",
       "        0.5       , 0.5       , 0.5       , 0.5       , 0.5       ,\n",
       "        0.5       , 0.5       , 0.5       , 0.5       , 0.5       ,\n",
       "        0.5       , 0.5       , 0.5       , 0.5       , 0.5       ,\n",
       "        0.5       , 0.5       , 0.5       , 0.5       , 0.5       ,\n",
       "        0.5       , 0.5       , 0.5       , 0.5       , 0.5       ]),\n",
       " 0.4958676804054955)"
      ]
     },
     "execution_count": 18,
     "metadata": {},
     "output_type": "execute_result"
    }
   ],
   "source": [
    "aft_surv_tree._auc(X_test, y_test)"
   ]
  },
  {
   "cell_type": "code",
   "execution_count": 19,
   "id": "1d071770",
   "metadata": {},
   "outputs": [
    {
     "data": {
      "text/plain": [
       "0.6648351648351648"
      ]
     },
     "execution_count": 19,
     "metadata": {},
     "output_type": "execute_result"
    }
   ],
   "source": [
    "aft_forest._score(X_test, y_test)"
   ]
  },
  {
   "cell_type": "code",
   "execution_count": 20,
   "id": "c35c0d50",
   "metadata": {},
   "outputs": [
    {
     "data": {
      "text/plain": [
       "0.09980297480297479"
      ]
     },
     "execution_count": 20,
     "metadata": {},
     "output_type": "execute_result"
    }
   ],
   "source": [
    "aft_forest._brier(X_test, y_test)"
   ]
  },
  {
   "cell_type": "code",
   "execution_count": 21,
   "id": "e0bf372c",
   "metadata": {},
   "outputs": [
    {
     "data": {
      "text/plain": [
       "(array([0.5       , 0.5       , 0.5       , 0.5       , 0.5       ,\n",
       "        0.5       , 0.5       , 0.5       , 0.5       , 0.42857143,\n",
       "        0.47534014, 0.48392857, 0.42086835, 0.3050887 , 0.5       ,\n",
       "        0.5       , 0.5       , 0.5       , 0.5       , 0.5       ,\n",
       "        0.5       , 0.5       , 0.5       , 0.5       , 0.5       ,\n",
       "        0.5       , 0.5       , 0.5       , 0.5       , 0.5       ,\n",
       "        0.5       , 0.5       , 0.5       , 0.5       , 0.5       ,\n",
       "        0.5       , 0.5       , 0.5       , 0.5       , 0.5       ,\n",
       "        0.5       , 0.5       , 0.5       , 0.5       , 0.5       ,\n",
       "        0.5       , 0.5       , 0.5       , 0.5       , 0.5       ,\n",
       "        0.5       , 0.5       , 0.5       , 0.5       , 0.5       ,\n",
       "        0.5       , 0.5       , 0.5       , 0.5       , 0.5       ,\n",
       "        0.5       , 0.5       , 0.5       , 0.5       , 0.5       ,\n",
       "        0.5       , 0.5       , 0.5       , 0.5       , 0.5       ,\n",
       "        0.5       , 0.5       , 0.5       , 0.5       , 0.5       ,\n",
       "        0.5       , 0.5       , 0.5       , 0.5       , 0.5       ,\n",
       "        0.5       , 0.5       , 0.5       , 0.5       , 0.5       ,\n",
       "        0.5       , 0.5       , 0.5       , 0.5       , 0.5       ,\n",
       "        0.5       , 0.5       , 0.5       , 0.5       , 0.5       ,\n",
       "        0.5       , 0.5       , 0.5       , 0.5       , 0.5       ]),\n",
       " 0.49456262505001997)"
      ]
     },
     "execution_count": 21,
     "metadata": {},
     "output_type": "execute_result"
    }
   ],
   "source": [
    "aft_forest._auc(X_test, y_test)"
   ]
  },
  {
   "cell_type": "code",
   "execution_count": 22,
   "id": "d113477a",
   "metadata": {},
   "outputs": [],
   "source": [
    "aft_surv_tree_weibull = AFTSurvivalTree(function=\"weibull\", is_bootstrap=False, is_custom_dist=True)\n"
   ]
  },
  {
   "cell_type": "code",
   "execution_count": 23,
   "id": "29514a9e",
   "metadata": {},
   "outputs": [],
   "source": [
    "aft_surv_tree_weibull.fit(X_train, y_train)"
   ]
  },
  {
   "cell_type": "code",
   "execution_count": 24,
   "id": "50f97d90",
   "metadata": {},
   "outputs": [
    {
     "data": {
      "text/plain": [
       "0.5"
      ]
     },
     "execution_count": 24,
     "metadata": {},
     "output_type": "execute_result"
    }
   ],
   "source": [
    "\n",
    "aft_surv_tree_weibull._score(X_test, y_test)"
   ]
  },
  {
   "cell_type": "code",
   "execution_count": 25,
   "id": "89e4cb49",
   "metadata": {},
   "outputs": [],
   "source": [
    "aft_surv_tree_weibull.save(\"tree_weibull.json\")"
   ]
  },
  {
   "cell_type": "code",
   "execution_count": 26,
   "id": "963913e4",
   "metadata": {},
   "outputs": [],
   "source": [
    "aft_surv_tree_load_test = AFTSurvivalTree()\n",
    "aft_surv_tree_load_test = aft_surv_tree_load_test.load(\"tree_weibull.json\")"
   ]
  },
  {
   "cell_type": "code",
   "execution_count": 27,
   "id": "257e836b",
   "metadata": {},
   "outputs": [
    {
     "data": {
      "text/plain": [
       "0.5"
      ]
     },
     "execution_count": 27,
     "metadata": {},
     "output_type": "execute_result"
    }
   ],
   "source": [
    "aft_surv_tree_load_test._score(X_test, y_test)"
   ]
  },
  {
   "cell_type": "code",
   "execution_count": 28,
   "id": "83784eeb",
   "metadata": {},
   "outputs": [],
   "source": [
    "aft_surv_tree_logistic = AFTSurvivalTree(function=\"logistic\", is_bootstrap=False, is_custom_dist=True)"
   ]
  },
  {
   "cell_type": "code",
   "execution_count": 29,
   "id": "2721ff07",
   "metadata": {},
   "outputs": [],
   "source": [
    "aft_surv_tree_logistic.fit(X_train, y_train)"
   ]
  },
  {
   "cell_type": "code",
   "execution_count": 30,
   "id": "b6c2fce3",
   "metadata": {},
   "outputs": [
    {
     "data": {
      "text/plain": [
       "0.5"
      ]
     },
     "execution_count": 30,
     "metadata": {},
     "output_type": "execute_result"
    }
   ],
   "source": [
    "aft_surv_tree_logistic._score(X_test, y_test)"
   ]
  },
  {
   "cell_type": "code",
   "execution_count": 31,
   "id": "5c01137a",
   "metadata": {},
   "outputs": [],
   "source": [
    "aft_surv_tree_gmm = AFTSurvivalTree(function=\"gmm\", is_bootstrap=False, is_custom_dist=True)"
   ]
  },
  {
   "cell_type": "code",
   "execution_count": 32,
   "id": "c1c1f6ff",
   "metadata": {},
   "outputs": [],
   "source": [
    "aft_surv_tree_gmm.fit(X_train, y_train)"
   ]
  },
  {
   "cell_type": "code",
   "execution_count": 33,
   "id": "c49f3b29",
   "metadata": {},
   "outputs": [
    {
     "data": {
      "text/plain": [
       "0.570054945054945"
      ]
     },
     "execution_count": 33,
     "metadata": {},
     "output_type": "execute_result"
    }
   ],
   "source": [
    "aft_surv_tree_gmm._score(X_test, y_test)"
   ]
  },
  {
   "cell_type": "code",
   "execution_count": 34,
   "id": "b3f9bcfd",
   "metadata": {},
   "outputs": [],
   "source": [
    "aft_surv_tree_normal = AFTSurvivalTree(function=\"norm\", is_bootstrap=False, is_custom_dist=True)"
   ]
  },
  {
   "cell_type": "code",
   "execution_count": 35,
   "id": "e02ef2c8",
   "metadata": {},
   "outputs": [],
   "source": [
    "aft_surv_tree_normal.fit(X_train, y_train)\n"
   ]
  },
  {
   "cell_type": "code",
   "execution_count": 36,
   "id": "34d36fb6",
   "metadata": {},
   "outputs": [
    {
     "data": {
      "text/plain": [
       "0.5"
      ]
     },
     "execution_count": 36,
     "metadata": {},
     "output_type": "execute_result"
    }
   ],
   "source": [
    "aft_surv_tree_normal._score(X_test, y_test)"
   ]
  },
  {
   "cell_type": "code",
   "execution_count": 37,
   "id": "e10dbded",
   "metadata": {},
   "outputs": [],
   "source": [
    "aft_surv_tree_extreme = AFTSurvivalTree(function=\"extreme\", is_bootstrap=True, is_custom_dist=True)"
   ]
  },
  {
   "cell_type": "code",
   "execution_count": 38,
   "id": "f17af1d2",
   "metadata": {},
   "outputs": [],
   "source": [
    "aft_surv_tree_extreme.fit(X_train, y_train)"
   ]
  },
  {
   "cell_type": "code",
   "execution_count": 39,
   "id": "6f6d91c6",
   "metadata": {},
   "outputs": [
    {
     "data": {
      "text/plain": [
       "0.5370879120879121"
      ]
     },
     "execution_count": 39,
     "metadata": {},
     "output_type": "execute_result"
    }
   ],
   "source": [
    "aft_surv_tree_extreme._score(X_test, y_test)"
   ]
  },
  {
   "cell_type": "code",
   "execution_count": 40,
   "id": "eea89167",
   "metadata": {},
   "outputs": [],
   "source": [
    "aft_surv_tree_extreme._visualize()"
   ]
  },
  {
   "cell_type": "code",
   "execution_count": 41,
   "id": "021f9358",
   "metadata": {},
   "outputs": [],
   "source": [
    "aft_surv_tree_extreme.save(\"extreme.json\")"
   ]
  },
  {
   "cell_type": "code",
   "execution_count": null,
   "id": "10fb876d",
   "metadata": {},
   "outputs": [],
   "source": [
    "kwargs = {\n",
    "    \"function\": \"gmm\", \n",
    "    \"is_bootstrap\": False, \n",
    "    \"is_custom_dist\": True,\n",
    "    \"n_components\": 13\n",
    "}\n",
    "aft_forest = AFTForest(n_trees=5, random_params=False, **kwargs)"
   ]
  },
  {
   "cell_type": "code",
   "execution_count": 43,
   "id": "944227f2",
   "metadata": {},
   "outputs": [
    {
     "name": "stderr",
     "output_type": "stream",
     "text": [
      "/home/rizkiduwinanto/anaconda3/lib/python3.11/site-packages/pandas/core/arrays/masked.py:60: UserWarning: Pandas requires version '1.3.6' or newer of 'bottleneck' (version '1.3.5' currently installed).\n",
      "  from pandas.core import (\n",
      "/home/rizkiduwinanto/anaconda3/lib/python3.11/site-packages/pandas/core/arrays/masked.py:60: UserWarning: Pandas requires version '1.3.6' or newer of 'bottleneck' (version '1.3.5' currently installed).\n",
      "  from pandas.core import (\n"
     ]
    },
    {
     "ename": "ValueError",
     "evalue": "setting an array element with a sequence. The requested array has an inhomogeneous shape after 1 dimensions. The detected shape was (25,) + inhomogeneous part.",
     "output_type": "error",
     "traceback": [
      "\u001b[0;31m---------------------------------------------------------------------------\u001b[0m",
      "\u001b[0;31m_RemoteTraceback\u001b[0m                          Traceback (most recent call last)",
      "\u001b[0;31m_RemoteTraceback\u001b[0m: \n\"\"\"\nTraceback (most recent call last):\n  File \"/home/rizkiduwinanto/anaconda3/lib/python3.11/site-packages/joblib/externals/loky/process_executor.py\", line 463, in _process_worker\n    r = call_item()\n        ^^^^^^^^^^^\n  File \"/home/rizkiduwinanto/anaconda3/lib/python3.11/site-packages/joblib/externals/loky/process_executor.py\", line 291, in __call__\n    return self.fn(*self.args, **self.kwargs)\n           ^^^^^^^^^^^^^^^^^^^^^^^^^^^^^^^^^^\n  File \"/home/rizkiduwinanto/anaconda3/lib/python3.11/site-packages/joblib/parallel.py\", line 598, in __call__\n    return [func(*args, **kwargs)\n           ^^^^^^^^^^^^^^^^^^^^^^\n  File \"/home/rizkiduwinanto/anaconda3/lib/python3.11/site-packages/joblib/parallel.py\", line 598, in <listcomp>\n    return [func(*args, **kwargs)\n            ^^^^^^^^^^^^^^^^^^^^^\n  File \"/mnt/c/Users/rizki/Master Files/ThesisUMCG/Survival-Tree-Analysis/src/forest.py\", line 77, in _fit_tree\n    tree.fit(X_sample, y_sample)\n  File \"/mnt/c/Users/rizki/Master Files/ThesisUMCG/Survival-Tree-Analysis/src/tree.py\", line 74, in fit\n    self.build_tree(x_train, y_train)\n  File \"/mnt/c/Users/rizki/Master Files/ThesisUMCG/Survival-Tree-Analysis/src/tree.py\", line 87, in build_tree\n    split, feature, left_indices, right_indices, loss = self.get_best_split_vectorized(X, y)\n                                                        ^^^^^^^^^^^^^^^^^^^^^^^^^^^^^^^^^^^^\n  File \"/mnt/c/Users/rizki/Master Files/ThesisUMCG/Survival-Tree-Analysis/src/tree.py\", line 206, in get_best_split_vectorized\n    right_loss = np.array([self.calculate_loss(y[mask], mean_y) for mask in right_mask])\n                 ^^^^^^^^^^^^^^^^^^^^^^^^^^^^^^^^^^^^^^^^^^^^^^^^^^^^^^^^^^^^^^^^^^^^^^^\nValueError: setting an array element with a sequence. The requested array has an inhomogeneous shape after 1 dimensions. The detected shape was (25,) + inhomogeneous part.\n\"\"\"",
      "\nThe above exception was the direct cause of the following exception:\n",
      "\u001b[0;31mValueError\u001b[0m                                Traceback (most recent call last)",
      "Cell \u001b[0;32mIn[43], line 1\u001b[0m\n\u001b[0;32m----> 1\u001b[0m aft_forest\u001b[38;5;241m.\u001b[39mfit(X_train, y_train)\n",
      "File \u001b[0;32m/mnt/c/Users/rizki/Master Files/ThesisUMCG/Survival-Tree-Analysis/src/forest.py:69\u001b[0m, in \u001b[0;36mAFTForest.fit\u001b[0;34m(self, X, y)\u001b[0m\n\u001b[1;32m     68\u001b[0m \u001b[38;5;28;01mdef\u001b[39;00m \u001b[38;5;21mfit\u001b[39m(\u001b[38;5;28mself\u001b[39m, X, y):\n\u001b[0;32m---> 69\u001b[0m     \u001b[38;5;28mself\u001b[39m\u001b[38;5;241m.\u001b[39mtrees \u001b[38;5;241m=\u001b[39m \u001b[38;5;28mlist\u001b[39m(tqdm(Parallel(n_jobs\u001b[38;5;241m=\u001b[39mmultiprocessing\u001b[38;5;241m.\u001b[39mcpu_count())(\n\u001b[1;32m     70\u001b[0m         delayed(\u001b[38;5;28mself\u001b[39m\u001b[38;5;241m.\u001b[39m_fit_tree)(\u001b[38;5;28mself\u001b[39m\u001b[38;5;241m.\u001b[39mtrees[idx], X, y) \u001b[38;5;28;01mfor\u001b[39;00m idx \u001b[38;5;129;01min\u001b[39;00m \u001b[38;5;28mrange\u001b[39m(\u001b[38;5;28mlen\u001b[39m(\u001b[38;5;28mself\u001b[39m\u001b[38;5;241m.\u001b[39mtrees))),\n\u001b[1;32m     71\u001b[0m         total\u001b[38;5;241m=\u001b[39m\u001b[38;5;28mself\u001b[39m\u001b[38;5;241m.\u001b[39mn_trees\n\u001b[1;32m     72\u001b[0m     ))\n",
      "File \u001b[0;32m~/anaconda3/lib/python3.11/site-packages/joblib/parallel.py:2007\u001b[0m, in \u001b[0;36mParallel.__call__\u001b[0;34m(self, iterable)\u001b[0m\n\u001b[1;32m   2001\u001b[0m \u001b[38;5;66;03m# The first item from the output is blank, but it makes the interpreter\u001b[39;00m\n\u001b[1;32m   2002\u001b[0m \u001b[38;5;66;03m# progress until it enters the Try/Except block of the generator and\u001b[39;00m\n\u001b[1;32m   2003\u001b[0m \u001b[38;5;66;03m# reaches the first `yield` statement. This starts the asynchronous\u001b[39;00m\n\u001b[1;32m   2004\u001b[0m \u001b[38;5;66;03m# dispatch of the tasks to the workers.\u001b[39;00m\n\u001b[1;32m   2005\u001b[0m \u001b[38;5;28mnext\u001b[39m(output)\n\u001b[0;32m-> 2007\u001b[0m \u001b[38;5;28;01mreturn\u001b[39;00m output \u001b[38;5;28;01mif\u001b[39;00m \u001b[38;5;28mself\u001b[39m\u001b[38;5;241m.\u001b[39mreturn_generator \u001b[38;5;28;01melse\u001b[39;00m \u001b[38;5;28mlist\u001b[39m(output)\n",
      "File \u001b[0;32m~/anaconda3/lib/python3.11/site-packages/joblib/parallel.py:1650\u001b[0m, in \u001b[0;36mParallel._get_outputs\u001b[0;34m(self, iterator, pre_dispatch)\u001b[0m\n\u001b[1;32m   1647\u001b[0m     \u001b[38;5;28;01myield\u001b[39;00m\n\u001b[1;32m   1649\u001b[0m     \u001b[38;5;28;01mwith\u001b[39;00m \u001b[38;5;28mself\u001b[39m\u001b[38;5;241m.\u001b[39m_backend\u001b[38;5;241m.\u001b[39mretrieval_context():\n\u001b[0;32m-> 1650\u001b[0m         \u001b[38;5;28;01myield from\u001b[39;00m \u001b[38;5;28mself\u001b[39m\u001b[38;5;241m.\u001b[39m_retrieve()\n\u001b[1;32m   1652\u001b[0m \u001b[38;5;28;01mexcept\u001b[39;00m \u001b[38;5;167;01mGeneratorExit\u001b[39;00m:\n\u001b[1;32m   1653\u001b[0m     \u001b[38;5;66;03m# The generator has been garbage collected before being fully\u001b[39;00m\n\u001b[1;32m   1654\u001b[0m     \u001b[38;5;66;03m# consumed. This aborts the remaining tasks if possible and warn\u001b[39;00m\n\u001b[1;32m   1655\u001b[0m     \u001b[38;5;66;03m# the user if necessary.\u001b[39;00m\n\u001b[1;32m   1656\u001b[0m     \u001b[38;5;28mself\u001b[39m\u001b[38;5;241m.\u001b[39m_exception \u001b[38;5;241m=\u001b[39m \u001b[38;5;28;01mTrue\u001b[39;00m\n",
      "File \u001b[0;32m~/anaconda3/lib/python3.11/site-packages/joblib/parallel.py:1754\u001b[0m, in \u001b[0;36mParallel._retrieve\u001b[0;34m(self)\u001b[0m\n\u001b[1;32m   1747\u001b[0m \u001b[38;5;28;01mwhile\u001b[39;00m \u001b[38;5;28mself\u001b[39m\u001b[38;5;241m.\u001b[39m_wait_retrieval():\n\u001b[1;32m   1748\u001b[0m \n\u001b[1;32m   1749\u001b[0m     \u001b[38;5;66;03m# If the callback thread of a worker has signaled that its task\u001b[39;00m\n\u001b[1;32m   1750\u001b[0m     \u001b[38;5;66;03m# triggered an exception, or if the retrieval loop has raised an\u001b[39;00m\n\u001b[1;32m   1751\u001b[0m     \u001b[38;5;66;03m# exception (e.g. `GeneratorExit`), exit the loop and surface the\u001b[39;00m\n\u001b[1;32m   1752\u001b[0m     \u001b[38;5;66;03m# worker traceback.\u001b[39;00m\n\u001b[1;32m   1753\u001b[0m     \u001b[38;5;28;01mif\u001b[39;00m \u001b[38;5;28mself\u001b[39m\u001b[38;5;241m.\u001b[39m_aborting:\n\u001b[0;32m-> 1754\u001b[0m         \u001b[38;5;28mself\u001b[39m\u001b[38;5;241m.\u001b[39m_raise_error_fast()\n\u001b[1;32m   1755\u001b[0m         \u001b[38;5;28;01mbreak\u001b[39;00m\n\u001b[1;32m   1757\u001b[0m     \u001b[38;5;66;03m# If the next job is not ready for retrieval yet, we just wait for\u001b[39;00m\n\u001b[1;32m   1758\u001b[0m     \u001b[38;5;66;03m# async callbacks to progress.\u001b[39;00m\n",
      "File \u001b[0;32m~/anaconda3/lib/python3.11/site-packages/joblib/parallel.py:1789\u001b[0m, in \u001b[0;36mParallel._raise_error_fast\u001b[0;34m(self)\u001b[0m\n\u001b[1;32m   1785\u001b[0m \u001b[38;5;66;03m# If this error job exists, immediately raise the error by\u001b[39;00m\n\u001b[1;32m   1786\u001b[0m \u001b[38;5;66;03m# calling get_result. This job might not exists if abort has been\u001b[39;00m\n\u001b[1;32m   1787\u001b[0m \u001b[38;5;66;03m# called directly or if the generator is gc'ed.\u001b[39;00m\n\u001b[1;32m   1788\u001b[0m \u001b[38;5;28;01mif\u001b[39;00m error_job \u001b[38;5;129;01mis\u001b[39;00m \u001b[38;5;129;01mnot\u001b[39;00m \u001b[38;5;28;01mNone\u001b[39;00m:\n\u001b[0;32m-> 1789\u001b[0m     error_job\u001b[38;5;241m.\u001b[39mget_result(\u001b[38;5;28mself\u001b[39m\u001b[38;5;241m.\u001b[39mtimeout)\n",
      "File \u001b[0;32m~/anaconda3/lib/python3.11/site-packages/joblib/parallel.py:745\u001b[0m, in \u001b[0;36mBatchCompletionCallBack.get_result\u001b[0;34m(self, timeout)\u001b[0m\n\u001b[1;32m    739\u001b[0m backend \u001b[38;5;241m=\u001b[39m \u001b[38;5;28mself\u001b[39m\u001b[38;5;241m.\u001b[39mparallel\u001b[38;5;241m.\u001b[39m_backend\n\u001b[1;32m    741\u001b[0m \u001b[38;5;28;01mif\u001b[39;00m backend\u001b[38;5;241m.\u001b[39msupports_retrieve_callback:\n\u001b[1;32m    742\u001b[0m     \u001b[38;5;66;03m# We assume that the result has already been retrieved by the\u001b[39;00m\n\u001b[1;32m    743\u001b[0m     \u001b[38;5;66;03m# callback thread, and is stored internally. It's just waiting to\u001b[39;00m\n\u001b[1;32m    744\u001b[0m     \u001b[38;5;66;03m# be returned.\u001b[39;00m\n\u001b[0;32m--> 745\u001b[0m     \u001b[38;5;28;01mreturn\u001b[39;00m \u001b[38;5;28mself\u001b[39m\u001b[38;5;241m.\u001b[39m_return_or_raise()\n\u001b[1;32m    747\u001b[0m \u001b[38;5;66;03m# For other backends, the main thread needs to run the retrieval step.\u001b[39;00m\n\u001b[1;32m    748\u001b[0m \u001b[38;5;28;01mtry\u001b[39;00m:\n",
      "File \u001b[0;32m~/anaconda3/lib/python3.11/site-packages/joblib/parallel.py:763\u001b[0m, in \u001b[0;36mBatchCompletionCallBack._return_or_raise\u001b[0;34m(self)\u001b[0m\n\u001b[1;32m    761\u001b[0m \u001b[38;5;28;01mtry\u001b[39;00m:\n\u001b[1;32m    762\u001b[0m     \u001b[38;5;28;01mif\u001b[39;00m \u001b[38;5;28mself\u001b[39m\u001b[38;5;241m.\u001b[39mstatus \u001b[38;5;241m==\u001b[39m TASK_ERROR:\n\u001b[0;32m--> 763\u001b[0m         \u001b[38;5;28;01mraise\u001b[39;00m \u001b[38;5;28mself\u001b[39m\u001b[38;5;241m.\u001b[39m_result\n\u001b[1;32m    764\u001b[0m     \u001b[38;5;28;01mreturn\u001b[39;00m \u001b[38;5;28mself\u001b[39m\u001b[38;5;241m.\u001b[39m_result\n\u001b[1;32m    765\u001b[0m \u001b[38;5;28;01mfinally\u001b[39;00m:\n",
      "\u001b[0;31mValueError\u001b[0m: setting an array element with a sequence. The requested array has an inhomogeneous shape after 1 dimensions. The detected shape was (25,) + inhomogeneous part."
     ]
    }
   ],
   "source": [
    "aft_forest.fit(X_train, y_train)"
   ]
  },
  {
   "cell_type": "code",
   "execution_count": null,
   "id": "40acf83c",
   "metadata": {},
   "outputs": [],
   "source": [
    "aft_forest._score(X_test, y_test)"
   ]
  },
  {
   "cell_type": "code",
   "execution_count": null,
   "id": "3719c8de",
   "metadata": {},
   "outputs": [],
   "source": [
    "aft_forest.save(\"forest.json\")"
   ]
  },
  {
   "cell_type": "code",
   "execution_count": null,
   "id": "1992d7b2",
   "metadata": {},
   "outputs": [],
   "source": [
    "# aft_forest_load_test._score(X_test, y_test)"
   ]
  },
  {
   "cell_type": "code",
   "execution_count": null,
   "id": "cfb0bce7",
   "metadata": {},
   "outputs": [],
   "source": [
    "# aft_forest_load_test.save(\"forest_load.json\")"
   ]
  },
  {
   "cell_type": "markdown",
   "id": "00716335",
   "metadata": {},
   "source": [
    "XGBoost-AFT"
   ]
  },
  {
   "cell_type": "code",
   "execution_count": null,
   "id": "82645ea9",
   "metadata": {},
   "outputs": [],
   "source": [
    "import xgboost as xgb\n",
    "from sklearn.model_selection import ShuffleSplit\n"
   ]
  },
  {
   "cell_type": "code",
   "execution_count": null,
   "id": "0c40cc3b",
   "metadata": {},
   "outputs": [],
   "source": [
    "X_train, X_test, y_train, y_test = veteran.get_train_test_xgboost()\n",
    "\n",
    "X_train, X_test, y_train, y_test\n"
   ]
  },
  {
   "cell_type": "code",
   "execution_count": null,
   "id": "e05a23fe",
   "metadata": {},
   "outputs": [],
   "source": [
    "\n",
    "dtrain = xgb.DMatrix(X_train)\n",
    "dtrain.set_float_info('label_lower_bound', y_train['Survival_label_lower_bound'])\n",
    "dtrain.set_float_info('label_upper_bound', y_train['Survival_label_upper_bound'])\n",
    "dvalid = xgb.DMatrix(X_test)\n",
    "dvalid.set_float_info('label_lower_bound', y_test['Survival_label_lower_bound'])\n",
    "dvalid.set_float_info('label_upper_bound', y_test['Survival_label_upper_bound'])\n"
   ]
  },
  {
   "cell_type": "code",
   "execution_count": null,
   "id": "1e9f3c62",
   "metadata": {},
   "outputs": [],
   "source": [
    "\n",
    "\n",
    "params = {'verbosity': 0,\n",
    "          'objective': 'survival:aft',\n",
    "          'eval_metric': 'aft-nloglik',\n",
    "          'tree_method': 'hist',\n",
    "          'learning_rate': 0.05,\n",
    "          'aft_loss_distribution': 'normal',\n",
    "          'aft_loss_distribution_scale': 1.20,\n",
    "          'max_depth': 6,\n",
    "          'lambda': 0.01,\n",
    "          'alpha': 0.02}\n",
    "\n",
    "bst = xgb.train(params, dtrain, num_boost_round=10000,\n",
    "                evals=[(dtrain, 'train'), (dvalid, 'valid')],\n",
    "                early_stopping_rounds=50)\n"
   ]
  },
  {
   "cell_type": "code",
   "execution_count": null,
   "id": "f77bd837",
   "metadata": {},
   "outputs": [],
   "source": [
    "times_pred = bst.predict(dvalid, output_margin=True)\n",
    "times_pred"
   ]
  },
  {
   "cell_type": "code",
   "execution_count": null,
   "id": "9c353bc0",
   "metadata": {},
   "outputs": [],
   "source": [
    "times_true = []\n",
    "event_true = []\n",
    "for idx, rows in y_test.iterrows():\n",
    "    if rows['Survival_label_upper_bound'] == np.inf or not rows['Survival_label_upper_bound']:\n",
    "        event = 0\n",
    "    else:\n",
    "        event = 1 \n",
    "    event_true.append(event)\n",
    "    times = rows['Survival_label_lower_bound']\n",
    "    times_true.append(times)\n",
    "times_true = np.array(times_true)\n",
    "event_true = np.array(event_true)"
   ]
  },
  {
   "cell_type": "code",
   "execution_count": null,
   "id": "10cbffe3",
   "metadata": {},
   "outputs": [],
   "source": [
    "from lifelines.utils import concordance_index\n",
    "c_index = concordance_index(times_true, times_pred, event_true)\n",
    "c_index"
   ]
  },
  {
   "cell_type": "code",
   "execution_count": null,
   "id": "3acac9b5",
   "metadata": {},
   "outputs": [],
   "source": []
  },
  {
   "cell_type": "markdown",
   "id": "ee9b6d3a",
   "metadata": {},
   "source": [
    "# Support2"
   ]
  },
  {
   "cell_type": "code",
   "execution_count": null,
   "id": "61a466f8-96e0-47e4-9e93-9294f6ddb834",
   "metadata": {},
   "outputs": [],
   "source": [
    "df = pd.read_csv('../data/support2.csv')"
   ]
  },
  {
   "cell_type": "code",
   "execution_count": null,
   "id": "c94a608b-6759-436d-b520-98b7832e0918",
   "metadata": {},
   "outputs": [],
   "source": [
    "data = SupportDataset(df)"
   ]
  },
  {
   "cell_type": "code",
   "execution_count": null,
   "id": "2fedfe90",
   "metadata": {},
   "outputs": [],
   "source": [
    "\n",
    "d = data.get_data()\n",
    "d"
   ]
  },
  {
   "cell_type": "code",
   "execution_count": null,
   "id": "e397be5d",
   "metadata": {},
   "outputs": [],
   "source": [
    "X_train, X_test, y_train, y_test = data.get_train_test_xgboost()"
   ]
  },
  {
   "cell_type": "code",
   "execution_count": null,
   "id": "58168635",
   "metadata": {},
   "outputs": [],
   "source": [
    "dtrain = xgb.DMatrix(X_train)\n",
    "dtrain.set_float_info('label_lower_bound', y_train['Survival_label_lower_bound'])\n",
    "dtrain.set_float_info('label_upper_bound', y_train['Survival_label_upper_bound'])"
   ]
  },
  {
   "cell_type": "code",
   "execution_count": null,
   "id": "d47a9a24",
   "metadata": {},
   "outputs": [],
   "source": [
    "\n",
    "dvalid = xgb.DMatrix(X_test)\n",
    "dvalid.set_float_info('label_lower_bound', y_test['Survival_label_lower_bound'])\n",
    "dvalid.set_float_info('label_upper_bound', y_test['Survival_label_upper_bound'])"
   ]
  },
  {
   "cell_type": "code",
   "execution_count": null,
   "id": "1f0cb3a6",
   "metadata": {},
   "outputs": [],
   "source": [
    "params = {'verbosity': 0,\n",
    "          'objective': 'survival:aft',\n",
    "          'eval_metric': 'aft-nloglik',\n",
    "          'tree_method': 'hist',\n",
    "          'learning_rate': 0.05,\n",
    "          'aft_loss_distribution': 'normal',\n",
    "          'aft_loss_distribution_scale': 1.2,\n",
    "          'max_depth': 6,\n",
    "          'lambda': 0.01,\n",
    "          'alpha': 0.02}\n",
    "\n",
    "bst = xgb.train(params, dtrain, num_boost_round=1000,\n",
    "                evals=[(dtrain, 'train'), (dvalid, 'valid')],\n",
    "                early_stopping_rounds=10)"
   ]
  },
  {
   "cell_type": "code",
   "execution_count": null,
   "id": "fd2b883f",
   "metadata": {},
   "outputs": [],
   "source": [
    "times_pred = bst.predict(dvalid, output_margin=True)\n",
    "times_pred"
   ]
  },
  {
   "cell_type": "code",
   "execution_count": null,
   "id": "2997fd00",
   "metadata": {},
   "outputs": [],
   "source": [
    "times_true = []\n",
    "event_true = []\n",
    "for idx, rows in y_test.iterrows():\n",
    "    if rows['Survival_label_upper_bound'] == np.inf or not rows['Survival_label_upper_bound']:\n",
    "        event = 0\n",
    "    else:\n",
    "        event = 1 \n",
    "    event_true.append(event)\n",
    "    times = rows['Survival_label_lower_bound']\n",
    "    times_true.append(times)\n",
    "times_true = np.array(times_true)\n",
    "event_true = np.array(event_true)"
   ]
  },
  {
   "cell_type": "code",
   "execution_count": null,
   "id": "93d38a5d",
   "metadata": {},
   "outputs": [],
   "source": [
    "y_test.head()"
   ]
  },
  {
   "cell_type": "code",
   "execution_count": null,
   "id": "7d75c1da",
   "metadata": {},
   "outputs": [],
   "source": [
    "from lifelines.utils import concordance_index\n",
    "c_index = concordance_index(times_true, times_pred, event_true)\n",
    "c_index"
   ]
  }
 ],
 "metadata": {
  "kernelspec": {
   "display_name": "env",
   "language": "python",
   "name": "env"
  },
  "language_info": {
   "codemirror_mode": {
    "name": "ipython",
    "version": 3
   },
   "file_extension": ".py",
   "mimetype": "text/x-python",
   "name": "python",
   "nbconvert_exporter": "python",
   "pygments_lexer": "ipython3",
   "version": "3.11.5"
  }
 },
 "nbformat": 4,
 "nbformat_minor": 5
}
