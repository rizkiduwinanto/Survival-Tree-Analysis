{
 "cells": [
  {
   "cell_type": "code",
   "execution_count": 1,
   "id": "ef8d310c",
   "metadata": {},
   "outputs": [
    {
     "name": "stderr",
     "output_type": "stream",
     "text": [
      "/home/rizkiduwinanto/anaconda3/lib/python3.11/site-packages/pandas/core/arrays/masked.py:60: UserWarning: Pandas requires version '1.3.6' or newer of 'bottleneck' (version '1.3.5' currently installed).\n",
      "  from pandas.core import (\n"
     ]
    }
   ],
   "source": [
    "import xgboost as xgb\n",
    "from sklearn.model_selection import ShuffleSplit\n",
    "from dataset import NHANESDataset\n",
    "import numpy as np\n",
    "import pandas as pd"
   ]
  },
  {
   "cell_type": "markdown",
   "id": "59fe56e5",
   "metadata": {},
   "source": [
    "# NHANES"
   ]
  },
  {
   "cell_type": "code",
   "execution_count": 2,
   "id": "88763ef0",
   "metadata": {},
   "outputs": [
    {
     "name": "stderr",
     "output_type": "stream",
     "text": [
      "/mnt/c/Users/rizki/Master Files/ThesisUMCG/Survival-Tree-Analysis/src/dataset.py:211: FutureWarning: Downcasting behavior in `replace` is deprecated and will be removed in a future version. To retain the old behavior, explicitly call `result.infer_objects(copy=False)`. To opt-in to the future behavior, set `pd.set_option('future.no_silent_downcasting', True)`\n",
      "  self.data.replace({False: 0, True: 1}, inplace=True)\n"
     ]
    }
   ],
   "source": [
    "data = NHANESDataset()"
   ]
  },
  {
   "cell_type": "code",
   "execution_count": 3,
   "id": "6ba91cdf",
   "metadata": {},
   "outputs": [
    {
     "data": {
      "text/plain": [
       "array([[  0.        ,  51.        ,   3.        , ..., 110.        ,\n",
       "         40.        ,  25.40680287],\n",
       "       [  0.        ,  41.        ,   2.        , ..., 136.        ,\n",
       "         54.        ,  24.58833109],\n",
       "       [  1.        ,  31.        ,   2.        , ..., 110.        ,\n",
       "         24.        ,  23.75650236],\n",
       "       ...,\n",
       "       [  1.        ,  47.        ,   2.        , ..., 108.        ,\n",
       "         28.        ,  17.9151988 ],\n",
       "       [  1.        ,  61.        ,   8.        , ..., 180.        ,\n",
       "         68.        ,  27.33162171],\n",
       "       [  0.        ,  29.        ,   3.        , ..., 152.        ,\n",
       "         60.        ,  33.16143518]])"
      ]
     },
     "execution_count": 3,
     "metadata": {},
     "output_type": "execute_result"
    }
   ],
   "source": [
    "d = data.get_data()\n",
    "d"
   ]
  },
  {
   "cell_type": "code",
   "execution_count": 4,
   "id": "41058c6c",
   "metadata": {},
   "outputs": [],
   "source": [
    "X_train, X_test, y_train, y_test = data.get_train_test_xgboost()"
   ]
  },
  {
   "cell_type": "code",
   "execution_count": 5,
   "id": "34039871",
   "metadata": {},
   "outputs": [
    {
     "data": {
      "text/html": [
       "<div>\n",
       "<style scoped>\n",
       "    .dataframe tbody tr th:only-of-type {\n",
       "        vertical-align: middle;\n",
       "    }\n",
       "\n",
       "    .dataframe tbody tr th {\n",
       "        vertical-align: top;\n",
       "    }\n",
       "\n",
       "    .dataframe thead th {\n",
       "        text-align: right;\n",
       "    }\n",
       "</style>\n",
       "<table border=\"1\" class=\"dataframe\">\n",
       "  <thead>\n",
       "    <tr style=\"text-align: right;\">\n",
       "      <th></th>\n",
       "      <th>Survival_label_lower_bound</th>\n",
       "      <th>Survival_label_upper_bound</th>\n",
       "    </tr>\n",
       "  </thead>\n",
       "  <tbody>\n",
       "    <tr>\n",
       "      <th>7556</th>\n",
       "      <td>13.750000</td>\n",
       "      <td>13.750000</td>\n",
       "    </tr>\n",
       "    <tr>\n",
       "      <th>819</th>\n",
       "      <td>11.500000</td>\n",
       "      <td>11.500000</td>\n",
       "    </tr>\n",
       "    <tr>\n",
       "      <th>12960</th>\n",
       "      <td>17.833333</td>\n",
       "      <td>inf</td>\n",
       "    </tr>\n",
       "    <tr>\n",
       "      <th>4609</th>\n",
       "      <td>12.083333</td>\n",
       "      <td>12.083333</td>\n",
       "    </tr>\n",
       "    <tr>\n",
       "      <th>5028</th>\n",
       "      <td>20.083333</td>\n",
       "      <td>inf</td>\n",
       "    </tr>\n",
       "    <tr>\n",
       "      <th>...</th>\n",
       "      <td>...</td>\n",
       "      <td>...</td>\n",
       "    </tr>\n",
       "    <tr>\n",
       "      <th>5191</th>\n",
       "      <td>2.500000</td>\n",
       "      <td>2.500000</td>\n",
       "    </tr>\n",
       "    <tr>\n",
       "      <th>13418</th>\n",
       "      <td>0.833333</td>\n",
       "      <td>0.833333</td>\n",
       "    </tr>\n",
       "    <tr>\n",
       "      <th>5390</th>\n",
       "      <td>20.000000</td>\n",
       "      <td>inf</td>\n",
       "    </tr>\n",
       "    <tr>\n",
       "      <th>860</th>\n",
       "      <td>6.250000</td>\n",
       "      <td>6.250000</td>\n",
       "    </tr>\n",
       "    <tr>\n",
       "      <th>7270</th>\n",
       "      <td>14.583333</td>\n",
       "      <td>inf</td>\n",
       "    </tr>\n",
       "  </tbody>\n",
       "</table>\n",
       "<p>11411 rows × 2 columns</p>\n",
       "</div>"
      ],
      "text/plain": [
       "       Survival_label_lower_bound  Survival_label_upper_bound\n",
       "7556                    13.750000                   13.750000\n",
       "819                     11.500000                   11.500000\n",
       "12960                   17.833333                         inf\n",
       "4609                    12.083333                   12.083333\n",
       "5028                    20.083333                         inf\n",
       "...                           ...                         ...\n",
       "5191                     2.500000                    2.500000\n",
       "13418                    0.833333                    0.833333\n",
       "5390                    20.000000                         inf\n",
       "860                      6.250000                    6.250000\n",
       "7270                    14.583333                         inf\n",
       "\n",
       "[11411 rows x 2 columns]"
      ]
     },
     "execution_count": 5,
     "metadata": {},
     "output_type": "execute_result"
    }
   ],
   "source": [
    "y_train"
   ]
  },
  {
   "cell_type": "code",
   "execution_count": 6,
   "id": "18018ace",
   "metadata": {},
   "outputs": [],
   "source": [
    "dtrain = xgb.DMatrix(X_train)\n",
    "dtrain.set_float_info('label_lower_bound', y_train['Survival_label_lower_bound'])\n",
    "dtrain.set_float_info('label_upper_bound', y_train['Survival_label_upper_bound'])"
   ]
  },
  {
   "cell_type": "code",
   "execution_count": 7,
   "id": "aac062bb",
   "metadata": {},
   "outputs": [],
   "source": [
    "dvalid = xgb.DMatrix(X_test)\n",
    "dvalid.set_float_info('label_lower_bound', y_test['Survival_label_lower_bound'])\n",
    "dvalid.set_float_info('label_upper_bound', y_test['Survival_label_upper_bound'])"
   ]
  },
  {
   "cell_type": "code",
   "execution_count": 8,
   "id": "f75bfaca",
   "metadata": {},
   "outputs": [
    {
     "name": "stdout",
     "output_type": "stream",
     "text": [
      "[0]\ttrain-aft-nloglik:6.07962\tvalid-aft-nloglik:6.11549\n",
      "[1]\ttrain-aft-nloglik:5.65744\tvalid-aft-nloglik:5.68985\n",
      "[2]\ttrain-aft-nloglik:5.27431\tvalid-aft-nloglik:5.30277\n",
      "[3]\ttrain-aft-nloglik:4.92694\tvalid-aft-nloglik:4.95109\n",
      "[4]\ttrain-aft-nloglik:4.61164\tvalid-aft-nloglik:4.63256\n",
      "[5]\ttrain-aft-nloglik:4.32516\tvalid-aft-nloglik:4.34273\n",
      "[6]\ttrain-aft-nloglik:4.06503\tvalid-aft-nloglik:4.07985\n",
      "[7]\ttrain-aft-nloglik:3.82881\tvalid-aft-nloglik:3.84084\n",
      "[8]\ttrain-aft-nloglik:3.61405\tvalid-aft-nloglik:3.62335\n",
      "[9]\ttrain-aft-nloglik:3.41886\tvalid-aft-nloglik:3.42559\n",
      "[10]\ttrain-aft-nloglik:3.24123\tvalid-aft-nloglik:3.24596\n",
      "[11]\ttrain-aft-nloglik:3.07964\tvalid-aft-nloglik:3.08226\n",
      "[12]\ttrain-aft-nloglik:2.93247\tvalid-aft-nloglik:2.93409\n",
      "[13]\ttrain-aft-nloglik:2.79846\tvalid-aft-nloglik:2.79841\n",
      "[14]\ttrain-aft-nloglik:2.67632\tvalid-aft-nloglik:2.67492\n",
      "[15]\ttrain-aft-nloglik:2.56493\tvalid-aft-nloglik:2.56241\n",
      "[16]\ttrain-aft-nloglik:2.46338\tvalid-aft-nloglik:2.45940\n",
      "[17]\ttrain-aft-nloglik:2.37075\tvalid-aft-nloglik:2.36565\n",
      "[18]\ttrain-aft-nloglik:2.28613\tvalid-aft-nloglik:2.28033\n",
      "[19]\ttrain-aft-nloglik:2.20887\tvalid-aft-nloglik:2.20204\n",
      "[20]\ttrain-aft-nloglik:2.13837\tvalid-aft-nloglik:2.13076\n",
      "[21]\ttrain-aft-nloglik:2.07403\tvalid-aft-nloglik:2.06586\n",
      "[22]\ttrain-aft-nloglik:2.01510\tvalid-aft-nloglik:2.00627\n",
      "[23]\ttrain-aft-nloglik:1.96130\tvalid-aft-nloglik:1.95208\n",
      "[24]\ttrain-aft-nloglik:1.91208\tvalid-aft-nloglik:1.90274\n",
      "[25]\ttrain-aft-nloglik:1.86701\tvalid-aft-nloglik:1.85724\n",
      "[26]\ttrain-aft-nloglik:1.82566\tvalid-aft-nloglik:1.81560\n",
      "[27]\ttrain-aft-nloglik:1.78795\tvalid-aft-nloglik:1.77777\n",
      "[28]\ttrain-aft-nloglik:1.75329\tvalid-aft-nloglik:1.74290\n",
      "[29]\ttrain-aft-nloglik:1.72151\tvalid-aft-nloglik:1.71103\n",
      "[30]\ttrain-aft-nloglik:1.69243\tvalid-aft-nloglik:1.68226\n",
      "[31]\ttrain-aft-nloglik:1.66584\tvalid-aft-nloglik:1.65561\n",
      "[32]\ttrain-aft-nloglik:1.64130\tvalid-aft-nloglik:1.63127\n",
      "[33]\ttrain-aft-nloglik:1.61879\tvalid-aft-nloglik:1.60892\n",
      "[34]\ttrain-aft-nloglik:1.59812\tvalid-aft-nloglik:1.58843\n",
      "[35]\ttrain-aft-nloglik:1.57907\tvalid-aft-nloglik:1.56988\n",
      "[36]\ttrain-aft-nloglik:1.56153\tvalid-aft-nloglik:1.55255\n",
      "[37]\ttrain-aft-nloglik:1.54538\tvalid-aft-nloglik:1.53682\n",
      "[38]\ttrain-aft-nloglik:1.53053\tvalid-aft-nloglik:1.52260\n",
      "[39]\ttrain-aft-nloglik:1.51694\tvalid-aft-nloglik:1.50930\n",
      "[40]\ttrain-aft-nloglik:1.50439\tvalid-aft-nloglik:1.49720\n",
      "[41]\ttrain-aft-nloglik:1.49272\tvalid-aft-nloglik:1.48613\n",
      "[42]\ttrain-aft-nloglik:1.48185\tvalid-aft-nloglik:1.47602\n",
      "[43]\ttrain-aft-nloglik:1.47184\tvalid-aft-nloglik:1.46635\n",
      "[44]\ttrain-aft-nloglik:1.46268\tvalid-aft-nloglik:1.45774\n",
      "[45]\ttrain-aft-nloglik:1.45431\tvalid-aft-nloglik:1.44990\n",
      "[46]\ttrain-aft-nloglik:1.44660\tvalid-aft-nloglik:1.44295\n",
      "[47]\ttrain-aft-nloglik:1.43928\tvalid-aft-nloglik:1.43628\n",
      "[48]\ttrain-aft-nloglik:1.43276\tvalid-aft-nloglik:1.43024\n",
      "[49]\ttrain-aft-nloglik:1.42657\tvalid-aft-nloglik:1.42466\n",
      "[50]\ttrain-aft-nloglik:1.42082\tvalid-aft-nloglik:1.41968\n",
      "[51]\ttrain-aft-nloglik:1.41549\tvalid-aft-nloglik:1.41508\n",
      "[52]\ttrain-aft-nloglik:1.41054\tvalid-aft-nloglik:1.41076\n",
      "[53]\ttrain-aft-nloglik:1.40591\tvalid-aft-nloglik:1.40699\n",
      "[54]\ttrain-aft-nloglik:1.40153\tvalid-aft-nloglik:1.40357\n",
      "[55]\ttrain-aft-nloglik:1.39747\tvalid-aft-nloglik:1.40027\n",
      "[56]\ttrain-aft-nloglik:1.39367\tvalid-aft-nloglik:1.39723\n",
      "[57]\ttrain-aft-nloglik:1.38979\tvalid-aft-nloglik:1.39423\n",
      "[58]\ttrain-aft-nloglik:1.38662\tvalid-aft-nloglik:1.39176\n",
      "[59]\ttrain-aft-nloglik:1.38356\tvalid-aft-nloglik:1.38945\n",
      "[60]\ttrain-aft-nloglik:1.38025\tvalid-aft-nloglik:1.38722\n",
      "[61]\ttrain-aft-nloglik:1.37754\tvalid-aft-nloglik:1.38541\n",
      "[62]\ttrain-aft-nloglik:1.37492\tvalid-aft-nloglik:1.38365\n",
      "[63]\ttrain-aft-nloglik:1.37231\tvalid-aft-nloglik:1.38208\n",
      "[64]\ttrain-aft-nloglik:1.37009\tvalid-aft-nloglik:1.38056\n",
      "[65]\ttrain-aft-nloglik:1.36762\tvalid-aft-nloglik:1.37905\n",
      "[66]\ttrain-aft-nloglik:1.36562\tvalid-aft-nloglik:1.37777\n",
      "[67]\ttrain-aft-nloglik:1.36348\tvalid-aft-nloglik:1.37668\n",
      "[68]\ttrain-aft-nloglik:1.36143\tvalid-aft-nloglik:1.37555\n",
      "[69]\ttrain-aft-nloglik:1.35941\tvalid-aft-nloglik:1.37472\n",
      "[70]\ttrain-aft-nloglik:1.35758\tvalid-aft-nloglik:1.37377\n",
      "[71]\ttrain-aft-nloglik:1.35585\tvalid-aft-nloglik:1.37315\n",
      "[72]\ttrain-aft-nloglik:1.35411\tvalid-aft-nloglik:1.37280\n",
      "[73]\ttrain-aft-nloglik:1.35242\tvalid-aft-nloglik:1.37228\n",
      "[74]\ttrain-aft-nloglik:1.35086\tvalid-aft-nloglik:1.37138\n",
      "[75]\ttrain-aft-nloglik:1.34933\tvalid-aft-nloglik:1.37081\n",
      "[76]\ttrain-aft-nloglik:1.34806\tvalid-aft-nloglik:1.37023\n",
      "[77]\ttrain-aft-nloglik:1.34670\tvalid-aft-nloglik:1.36960\n",
      "[78]\ttrain-aft-nloglik:1.34536\tvalid-aft-nloglik:1.36916\n",
      "[79]\ttrain-aft-nloglik:1.34419\tvalid-aft-nloglik:1.36893\n",
      "[80]\ttrain-aft-nloglik:1.34302\tvalid-aft-nloglik:1.36861\n",
      "[81]\ttrain-aft-nloglik:1.34182\tvalid-aft-nloglik:1.36819\n",
      "[82]\ttrain-aft-nloglik:1.34091\tvalid-aft-nloglik:1.36770\n",
      "[83]\ttrain-aft-nloglik:1.33987\tvalid-aft-nloglik:1.36745\n",
      "[84]\ttrain-aft-nloglik:1.33888\tvalid-aft-nloglik:1.36709\n",
      "[85]\ttrain-aft-nloglik:1.33810\tvalid-aft-nloglik:1.36683\n",
      "[86]\ttrain-aft-nloglik:1.33722\tvalid-aft-nloglik:1.36667\n",
      "[87]\ttrain-aft-nloglik:1.33630\tvalid-aft-nloglik:1.36653\n",
      "[88]\ttrain-aft-nloglik:1.33526\tvalid-aft-nloglik:1.36635\n",
      "[89]\ttrain-aft-nloglik:1.33455\tvalid-aft-nloglik:1.36610\n",
      "[90]\ttrain-aft-nloglik:1.33345\tvalid-aft-nloglik:1.36598\n",
      "[91]\ttrain-aft-nloglik:1.33244\tvalid-aft-nloglik:1.36581\n",
      "[92]\ttrain-aft-nloglik:1.33188\tvalid-aft-nloglik:1.36571\n",
      "[93]\ttrain-aft-nloglik:1.33107\tvalid-aft-nloglik:1.36570\n",
      "[94]\ttrain-aft-nloglik:1.33041\tvalid-aft-nloglik:1.36573\n",
      "[95]\ttrain-aft-nloglik:1.32928\tvalid-aft-nloglik:1.36535\n",
      "[96]\ttrain-aft-nloglik:1.32852\tvalid-aft-nloglik:1.36528\n",
      "[97]\ttrain-aft-nloglik:1.32778\tvalid-aft-nloglik:1.36512\n",
      "[98]\ttrain-aft-nloglik:1.32692\tvalid-aft-nloglik:1.36499\n",
      "[99]\ttrain-aft-nloglik:1.32596\tvalid-aft-nloglik:1.36502\n",
      "[100]\ttrain-aft-nloglik:1.32543\tvalid-aft-nloglik:1.36491\n",
      "[101]\ttrain-aft-nloglik:1.32436\tvalid-aft-nloglik:1.36507\n",
      "[102]\ttrain-aft-nloglik:1.32357\tvalid-aft-nloglik:1.36506\n",
      "[103]\ttrain-aft-nloglik:1.32278\tvalid-aft-nloglik:1.36500\n",
      "[104]\ttrain-aft-nloglik:1.32239\tvalid-aft-nloglik:1.36489\n",
      "[105]\ttrain-aft-nloglik:1.32153\tvalid-aft-nloglik:1.36496\n",
      "[106]\ttrain-aft-nloglik:1.32079\tvalid-aft-nloglik:1.36494\n",
      "[107]\ttrain-aft-nloglik:1.31983\tvalid-aft-nloglik:1.36476\n",
      "[108]\ttrain-aft-nloglik:1.31938\tvalid-aft-nloglik:1.36465\n",
      "[109]\ttrain-aft-nloglik:1.31874\tvalid-aft-nloglik:1.36480\n",
      "[110]\ttrain-aft-nloglik:1.31819\tvalid-aft-nloglik:1.36481\n",
      "[111]\ttrain-aft-nloglik:1.31771\tvalid-aft-nloglik:1.36467\n",
      "[112]\ttrain-aft-nloglik:1.31725\tvalid-aft-nloglik:1.36474\n",
      "[113]\ttrain-aft-nloglik:1.31702\tvalid-aft-nloglik:1.36472\n",
      "[114]\ttrain-aft-nloglik:1.31610\tvalid-aft-nloglik:1.36481\n",
      "[115]\ttrain-aft-nloglik:1.31563\tvalid-aft-nloglik:1.36487\n",
      "[116]\ttrain-aft-nloglik:1.31503\tvalid-aft-nloglik:1.36493\n",
      "[117]\ttrain-aft-nloglik:1.31464\tvalid-aft-nloglik:1.36485\n",
      "[118]\ttrain-aft-nloglik:1.31410\tvalid-aft-nloglik:1.36496\n"
     ]
    }
   ],
   "source": [
    "params = {'verbosity': 0,\n",
    "          'objective': 'survival:aft',\n",
    "          'eval_metric': 'aft-nloglik',\n",
    "          'tree_method': 'hist',\n",
    "          'learning_rate': 0.05,\n",
    "          'aft_loss_distribution': 'normal',\n",
    "          'aft_loss_distribution_scale': 1.2,\n",
    "          'max_depth': 6,\n",
    "          'lambda': 0.01,\n",
    "          'alpha': 0.02}\n",
    "\n",
    "bst = xgb.train(params, dtrain, num_boost_round=1000,\n",
    "                evals=[(dtrain, 'train'), (dvalid, 'valid')],\n",
    "                early_stopping_rounds=10)"
   ]
  },
  {
   "cell_type": "code",
   "execution_count": 9,
   "id": "071a1d81",
   "metadata": {},
   "outputs": [
    {
     "data": {
      "text/plain": [
       "array([4.260553 , 4.6314116, 5.1531754, ..., 2.1848862, 3.77518  ,\n",
       "       4.382959 ], dtype=float32)"
      ]
     },
     "execution_count": 9,
     "metadata": {},
     "output_type": "execute_result"
    }
   ],
   "source": [
    "times_pred = bst.predict(dvalid, output_margin=True)\n",
    "times_pred"
   ]
  },
  {
   "cell_type": "code",
   "execution_count": 10,
   "id": "260f7360",
   "metadata": {},
   "outputs": [],
   "source": [
    "times_true = []\n",
    "event_true = []\n",
    "for idx, rows in y_test.iterrows():\n",
    "    if rows['Survival_label_upper_bound'] == np.inf or not rows['Survival_label_upper_bound']:\n",
    "        event = 0\n",
    "    else:\n",
    "        event = 1 \n",
    "    event_true.append(event)\n",
    "    times = rows['Survival_label_lower_bound']\n",
    "    times_true.append(times)\n",
    "times_true = np.array(times_true)\n",
    "event_true = np.array(event_true)"
   ]
  },
  {
   "cell_type": "code",
   "execution_count": 11,
   "id": "5b7d2117",
   "metadata": {},
   "outputs": [
    {
     "data": {
      "text/html": [
       "<div>\n",
       "<style scoped>\n",
       "    .dataframe tbody tr th:only-of-type {\n",
       "        vertical-align: middle;\n",
       "    }\n",
       "\n",
       "    .dataframe tbody tr th {\n",
       "        vertical-align: top;\n",
       "    }\n",
       "\n",
       "    .dataframe thead th {\n",
       "        text-align: right;\n",
       "    }\n",
       "</style>\n",
       "<table border=\"1\" class=\"dataframe\">\n",
       "  <thead>\n",
       "    <tr style=\"text-align: right;\">\n",
       "      <th></th>\n",
       "      <th>Survival_label_lower_bound</th>\n",
       "      <th>Survival_label_upper_bound</th>\n",
       "    </tr>\n",
       "  </thead>\n",
       "  <tbody>\n",
       "    <tr>\n",
       "      <th>9035</th>\n",
       "      <td>19.250000</td>\n",
       "      <td>inf</td>\n",
       "    </tr>\n",
       "    <tr>\n",
       "      <th>8889</th>\n",
       "      <td>18.333333</td>\n",
       "      <td>inf</td>\n",
       "    </tr>\n",
       "    <tr>\n",
       "      <th>12207</th>\n",
       "      <td>18.166667</td>\n",
       "      <td>inf</td>\n",
       "    </tr>\n",
       "    <tr>\n",
       "      <th>11049</th>\n",
       "      <td>18.833333</td>\n",
       "      <td>inf</td>\n",
       "    </tr>\n",
       "    <tr>\n",
       "      <th>8015</th>\n",
       "      <td>1.250000</td>\n",
       "      <td>1.25</td>\n",
       "    </tr>\n",
       "  </tbody>\n",
       "</table>\n",
       "</div>"
      ],
      "text/plain": [
       "       Survival_label_lower_bound  Survival_label_upper_bound\n",
       "9035                    19.250000                         inf\n",
       "8889                    18.333333                         inf\n",
       "12207                   18.166667                         inf\n",
       "11049                   18.833333                         inf\n",
       "8015                     1.250000                        1.25"
      ]
     },
     "execution_count": 11,
     "metadata": {},
     "output_type": "execute_result"
    }
   ],
   "source": [
    "y_test.head()"
   ]
  },
  {
   "cell_type": "code",
   "execution_count": 12,
   "id": "281984e3",
   "metadata": {},
   "outputs": [
    {
     "data": {
      "text/plain": [
       "0.8128130413613723"
      ]
     },
     "execution_count": 12,
     "metadata": {},
     "output_type": "execute_result"
    }
   ],
   "source": [
    "from lifelines.utils import concordance_index\n",
    "c_index = concordance_index(times_true, times_pred, event_true)\n",
    "c_index"
   ]
  },
  {
   "cell_type": "code",
   "execution_count": null,
   "id": "a20b1dee",
   "metadata": {},
   "outputs": [],
   "source": []
  },
  {
   "cell_type": "code",
   "execution_count": null,
   "id": "858b5819",
   "metadata": {},
   "outputs": [],
   "source": []
  }
 ],
 "metadata": {
  "kernelspec": {
   "display_name": "env",
   "language": "python",
   "name": "env"
  },
  "language_info": {
   "codemirror_mode": {
    "name": "ipython",
    "version": 3
   },
   "file_extension": ".py",
   "mimetype": "text/x-python",
   "name": "python",
   "nbconvert_exporter": "python",
   "pygments_lexer": "ipython3",
   "version": "3.11.5"
  }
 },
 "nbformat": 4,
 "nbformat_minor": 5
}
