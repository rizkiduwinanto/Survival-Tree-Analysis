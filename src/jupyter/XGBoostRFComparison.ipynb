{
 "cells": [
  {
   "cell_type": "code",
   "execution_count": 1,
   "id": "a4b70fe4-291d-4d49-ada5-7a7e4e5ced2a",
   "metadata": {},
   "outputs": [
    {
     "name": "stderr",
     "output_type": "stream",
     "text": [
      "/home/rizkiduwinanto/anaconda3/lib/python3.11/site-packages/pandas/core/arrays/masked.py:60: UserWarning: Pandas requires version '1.3.6' or newer of 'bottleneck' (version '1.3.5' currently installed).\n",
      "  from pandas.core import (\n"
     ]
    }
   ],
   "source": [
    "import pandas as pd\n",
    "import numpy as np\n",
    "from tree import AFTSurvivalTree\n",
    "from forest import AFTForest\n",
    "from dataset import SupportDataset, SyntheticDataset, VeteranLungDataset\n",
    "from sklearn.model_selection import train_test_split\n",
    "import time"
   ]
  },
  {
   "cell_type": "code",
   "execution_count": 2,
   "id": "06237ab7",
   "metadata": {},
   "outputs": [
    {
     "name": "stderr",
     "output_type": "stream",
     "text": [
      "/home/rizkiduwinanto/anaconda3/lib/python3.11/site-packages/pandas/core/nanops.py:1016: RuntimeWarning: invalid value encountered in subtract\n",
      "  sqr = _ensure_numeric((avg - values) ** 2)\n"
     ]
    },
    {
     "data": {
      "text/html": [
       "<div>\n",
       "<style scoped>\n",
       "    .dataframe tbody tr th:only-of-type {\n",
       "        vertical-align: middle;\n",
       "    }\n",
       "\n",
       "    .dataframe tbody tr th {\n",
       "        vertical-align: top;\n",
       "    }\n",
       "\n",
       "    .dataframe thead th {\n",
       "        text-align: right;\n",
       "    }\n",
       "</style>\n",
       "<table border=\"1\" class=\"dataframe\">\n",
       "  <thead>\n",
       "    <tr style=\"text-align: right;\">\n",
       "      <th></th>\n",
       "      <th>Survival_label_lower_bound</th>\n",
       "      <th>Survival_label_upper_bound</th>\n",
       "      <th>Age_in_years</th>\n",
       "      <th>Karnofsky_score</th>\n",
       "      <th>Months_from_Diagnosis</th>\n",
       "      <th>Celltype=adeno</th>\n",
       "      <th>Celltype=large</th>\n",
       "      <th>Celltype=smallcell</th>\n",
       "      <th>Celltype=squamous</th>\n",
       "      <th>Prior_therapy=no</th>\n",
       "      <th>Prior_therapy=yes</th>\n",
       "      <th>Treatment=standard</th>\n",
       "      <th>Treatment=test</th>\n",
       "    </tr>\n",
       "  </thead>\n",
       "  <tbody>\n",
       "    <tr>\n",
       "      <th>count</th>\n",
       "      <td>137.000000</td>\n",
       "      <td>137.0</td>\n",
       "      <td>137.000000</td>\n",
       "      <td>137.000000</td>\n",
       "      <td>137.000000</td>\n",
       "      <td>137.000000</td>\n",
       "      <td>137.000000</td>\n",
       "      <td>137.000000</td>\n",
       "      <td>137.000000</td>\n",
       "      <td>137.000000</td>\n",
       "      <td>137.000000</td>\n",
       "      <td>137.000000</td>\n",
       "      <td>137.000000</td>\n",
       "    </tr>\n",
       "    <tr>\n",
       "      <th>mean</th>\n",
       "      <td>121.627737</td>\n",
       "      <td>inf</td>\n",
       "      <td>58.306569</td>\n",
       "      <td>58.569343</td>\n",
       "      <td>8.773723</td>\n",
       "      <td>0.197080</td>\n",
       "      <td>0.197080</td>\n",
       "      <td>0.350365</td>\n",
       "      <td>0.255474</td>\n",
       "      <td>0.708029</td>\n",
       "      <td>0.291971</td>\n",
       "      <td>0.503650</td>\n",
       "      <td>0.496350</td>\n",
       "    </tr>\n",
       "    <tr>\n",
       "      <th>std</th>\n",
       "      <td>157.816722</td>\n",
       "      <td>NaN</td>\n",
       "      <td>10.541628</td>\n",
       "      <td>20.039592</td>\n",
       "      <td>10.612141</td>\n",
       "      <td>0.399253</td>\n",
       "      <td>0.399253</td>\n",
       "      <td>0.478835</td>\n",
       "      <td>0.437728</td>\n",
       "      <td>0.456337</td>\n",
       "      <td>0.456337</td>\n",
       "      <td>0.501821</td>\n",
       "      <td>0.501821</td>\n",
       "    </tr>\n",
       "    <tr>\n",
       "      <th>min</th>\n",
       "      <td>1.000000</td>\n",
       "      <td>1.0</td>\n",
       "      <td>34.000000</td>\n",
       "      <td>10.000000</td>\n",
       "      <td>1.000000</td>\n",
       "      <td>0.000000</td>\n",
       "      <td>0.000000</td>\n",
       "      <td>0.000000</td>\n",
       "      <td>0.000000</td>\n",
       "      <td>0.000000</td>\n",
       "      <td>0.000000</td>\n",
       "      <td>0.000000</td>\n",
       "      <td>0.000000</td>\n",
       "    </tr>\n",
       "    <tr>\n",
       "      <th>25%</th>\n",
       "      <td>25.000000</td>\n",
       "      <td>25.0</td>\n",
       "      <td>51.000000</td>\n",
       "      <td>40.000000</td>\n",
       "      <td>3.000000</td>\n",
       "      <td>0.000000</td>\n",
       "      <td>0.000000</td>\n",
       "      <td>0.000000</td>\n",
       "      <td>0.000000</td>\n",
       "      <td>0.000000</td>\n",
       "      <td>0.000000</td>\n",
       "      <td>0.000000</td>\n",
       "      <td>0.000000</td>\n",
       "    </tr>\n",
       "    <tr>\n",
       "      <th>50%</th>\n",
       "      <td>80.000000</td>\n",
       "      <td>80.0</td>\n",
       "      <td>62.000000</td>\n",
       "      <td>60.000000</td>\n",
       "      <td>5.000000</td>\n",
       "      <td>0.000000</td>\n",
       "      <td>0.000000</td>\n",
       "      <td>0.000000</td>\n",
       "      <td>0.000000</td>\n",
       "      <td>1.000000</td>\n",
       "      <td>0.000000</td>\n",
       "      <td>1.000000</td>\n",
       "      <td>0.000000</td>\n",
       "    </tr>\n",
       "    <tr>\n",
       "      <th>75%</th>\n",
       "      <td>144.000000</td>\n",
       "      <td>177.0</td>\n",
       "      <td>66.000000</td>\n",
       "      <td>75.000000</td>\n",
       "      <td>11.000000</td>\n",
       "      <td>0.000000</td>\n",
       "      <td>0.000000</td>\n",
       "      <td>1.000000</td>\n",
       "      <td>1.000000</td>\n",
       "      <td>1.000000</td>\n",
       "      <td>1.000000</td>\n",
       "      <td>1.000000</td>\n",
       "      <td>1.000000</td>\n",
       "    </tr>\n",
       "    <tr>\n",
       "      <th>max</th>\n",
       "      <td>999.000000</td>\n",
       "      <td>inf</td>\n",
       "      <td>81.000000</td>\n",
       "      <td>99.000000</td>\n",
       "      <td>87.000000</td>\n",
       "      <td>1.000000</td>\n",
       "      <td>1.000000</td>\n",
       "      <td>1.000000</td>\n",
       "      <td>1.000000</td>\n",
       "      <td>1.000000</td>\n",
       "      <td>1.000000</td>\n",
       "      <td>1.000000</td>\n",
       "      <td>1.000000</td>\n",
       "    </tr>\n",
       "  </tbody>\n",
       "</table>\n",
       "</div>"
      ],
      "text/plain": [
       "       Survival_label_lower_bound  Survival_label_upper_bound  Age_in_years  \\\n",
       "count                  137.000000                       137.0    137.000000   \n",
       "mean                   121.627737                         inf     58.306569   \n",
       "std                    157.816722                         NaN     10.541628   \n",
       "min                      1.000000                         1.0     34.000000   \n",
       "25%                     25.000000                        25.0     51.000000   \n",
       "50%                     80.000000                        80.0     62.000000   \n",
       "75%                    144.000000                       177.0     66.000000   \n",
       "max                    999.000000                         inf     81.000000   \n",
       "\n",
       "       Karnofsky_score  Months_from_Diagnosis  Celltype=adeno  Celltype=large  \\\n",
       "count       137.000000             137.000000      137.000000      137.000000   \n",
       "mean         58.569343               8.773723        0.197080        0.197080   \n",
       "std          20.039592              10.612141        0.399253        0.399253   \n",
       "min          10.000000               1.000000        0.000000        0.000000   \n",
       "25%          40.000000               3.000000        0.000000        0.000000   \n",
       "50%          60.000000               5.000000        0.000000        0.000000   \n",
       "75%          75.000000              11.000000        0.000000        0.000000   \n",
       "max          99.000000              87.000000        1.000000        1.000000   \n",
       "\n",
       "       Celltype=smallcell  Celltype=squamous  Prior_therapy=no  \\\n",
       "count          137.000000         137.000000        137.000000   \n",
       "mean             0.350365           0.255474          0.708029   \n",
       "std              0.478835           0.437728          0.456337   \n",
       "min              0.000000           0.000000          0.000000   \n",
       "25%              0.000000           0.000000          0.000000   \n",
       "50%              0.000000           0.000000          1.000000   \n",
       "75%              1.000000           1.000000          1.000000   \n",
       "max              1.000000           1.000000          1.000000   \n",
       "\n",
       "       Prior_therapy=yes  Treatment=standard  Treatment=test  \n",
       "count         137.000000          137.000000      137.000000  \n",
       "mean            0.291971            0.503650        0.496350  \n",
       "std             0.456337            0.501821        0.501821  \n",
       "min             0.000000            0.000000        0.000000  \n",
       "25%             0.000000            0.000000        0.000000  \n",
       "50%             0.000000            1.000000        0.000000  \n",
       "75%             1.000000            1.000000        1.000000  \n",
       "max             1.000000            1.000000        1.000000  "
      ]
     },
     "execution_count": 2,
     "metadata": {},
     "output_type": "execute_result"
    }
   ],
   "source": [
    "df = pd.read_csv('../data/veterans_lung_cancer.csv')\n",
    "df.describe()"
   ]
  },
  {
   "cell_type": "code",
   "execution_count": 3,
   "id": "6a8e8ba9",
   "metadata": {},
   "outputs": [
    {
     "data": {
      "text/html": [
       "<div>\n",
       "<style scoped>\n",
       "    .dataframe tbody tr th:only-of-type {\n",
       "        vertical-align: middle;\n",
       "    }\n",
       "\n",
       "    .dataframe tbody tr th {\n",
       "        vertical-align: top;\n",
       "    }\n",
       "\n",
       "    .dataframe thead th {\n",
       "        text-align: right;\n",
       "    }\n",
       "</style>\n",
       "<table border=\"1\" class=\"dataframe\">\n",
       "  <thead>\n",
       "    <tr style=\"text-align: right;\">\n",
       "      <th></th>\n",
       "      <th>Survival_label_lower_bound</th>\n",
       "      <th>Survival_label_upper_bound</th>\n",
       "      <th>Age_in_years</th>\n",
       "      <th>Karnofsky_score</th>\n",
       "      <th>Months_from_Diagnosis</th>\n",
       "      <th>Celltype=adeno</th>\n",
       "      <th>Celltype=large</th>\n",
       "      <th>Celltype=smallcell</th>\n",
       "      <th>Celltype=squamous</th>\n",
       "      <th>Prior_therapy=no</th>\n",
       "      <th>Prior_therapy=yes</th>\n",
       "      <th>Treatment=standard</th>\n",
       "      <th>Treatment=test</th>\n",
       "    </tr>\n",
       "  </thead>\n",
       "  <tbody>\n",
       "    <tr>\n",
       "      <th>0</th>\n",
       "      <td>72.0</td>\n",
       "      <td>72.0</td>\n",
       "      <td>69.0</td>\n",
       "      <td>60.0</td>\n",
       "      <td>7.0</td>\n",
       "      <td>0</td>\n",
       "      <td>0</td>\n",
       "      <td>0</td>\n",
       "      <td>1</td>\n",
       "      <td>1</td>\n",
       "      <td>0</td>\n",
       "      <td>1</td>\n",
       "      <td>0</td>\n",
       "    </tr>\n",
       "    <tr>\n",
       "      <th>1</th>\n",
       "      <td>411.0</td>\n",
       "      <td>411.0</td>\n",
       "      <td>64.0</td>\n",
       "      <td>70.0</td>\n",
       "      <td>5.0</td>\n",
       "      <td>0</td>\n",
       "      <td>0</td>\n",
       "      <td>0</td>\n",
       "      <td>1</td>\n",
       "      <td>0</td>\n",
       "      <td>1</td>\n",
       "      <td>1</td>\n",
       "      <td>0</td>\n",
       "    </tr>\n",
       "    <tr>\n",
       "      <th>2</th>\n",
       "      <td>228.0</td>\n",
       "      <td>228.0</td>\n",
       "      <td>38.0</td>\n",
       "      <td>60.0</td>\n",
       "      <td>3.0</td>\n",
       "      <td>0</td>\n",
       "      <td>0</td>\n",
       "      <td>0</td>\n",
       "      <td>1</td>\n",
       "      <td>1</td>\n",
       "      <td>0</td>\n",
       "      <td>1</td>\n",
       "      <td>0</td>\n",
       "    </tr>\n",
       "    <tr>\n",
       "      <th>3</th>\n",
       "      <td>126.0</td>\n",
       "      <td>126.0</td>\n",
       "      <td>63.0</td>\n",
       "      <td>60.0</td>\n",
       "      <td>9.0</td>\n",
       "      <td>0</td>\n",
       "      <td>0</td>\n",
       "      <td>0</td>\n",
       "      <td>1</td>\n",
       "      <td>0</td>\n",
       "      <td>1</td>\n",
       "      <td>1</td>\n",
       "      <td>0</td>\n",
       "    </tr>\n",
       "    <tr>\n",
       "      <th>4</th>\n",
       "      <td>118.0</td>\n",
       "      <td>118.0</td>\n",
       "      <td>65.0</td>\n",
       "      <td>70.0</td>\n",
       "      <td>11.0</td>\n",
       "      <td>0</td>\n",
       "      <td>0</td>\n",
       "      <td>0</td>\n",
       "      <td>1</td>\n",
       "      <td>0</td>\n",
       "      <td>1</td>\n",
       "      <td>1</td>\n",
       "      <td>0</td>\n",
       "    </tr>\n",
       "    <tr>\n",
       "      <th>...</th>\n",
       "      <td>...</td>\n",
       "      <td>...</td>\n",
       "      <td>...</td>\n",
       "      <td>...</td>\n",
       "      <td>...</td>\n",
       "      <td>...</td>\n",
       "      <td>...</td>\n",
       "      <td>...</td>\n",
       "      <td>...</td>\n",
       "      <td>...</td>\n",
       "      <td>...</td>\n",
       "      <td>...</td>\n",
       "      <td>...</td>\n",
       "    </tr>\n",
       "    <tr>\n",
       "      <th>132</th>\n",
       "      <td>133.0</td>\n",
       "      <td>133.0</td>\n",
       "      <td>65.0</td>\n",
       "      <td>75.0</td>\n",
       "      <td>1.0</td>\n",
       "      <td>0</td>\n",
       "      <td>1</td>\n",
       "      <td>0</td>\n",
       "      <td>0</td>\n",
       "      <td>1</td>\n",
       "      <td>0</td>\n",
       "      <td>0</td>\n",
       "      <td>1</td>\n",
       "    </tr>\n",
       "    <tr>\n",
       "      <th>133</th>\n",
       "      <td>111.0</td>\n",
       "      <td>111.0</td>\n",
       "      <td>64.0</td>\n",
       "      <td>60.0</td>\n",
       "      <td>5.0</td>\n",
       "      <td>0</td>\n",
       "      <td>1</td>\n",
       "      <td>0</td>\n",
       "      <td>0</td>\n",
       "      <td>1</td>\n",
       "      <td>0</td>\n",
       "      <td>0</td>\n",
       "      <td>1</td>\n",
       "    </tr>\n",
       "    <tr>\n",
       "      <th>134</th>\n",
       "      <td>231.0</td>\n",
       "      <td>231.0</td>\n",
       "      <td>67.0</td>\n",
       "      <td>70.0</td>\n",
       "      <td>18.0</td>\n",
       "      <td>0</td>\n",
       "      <td>1</td>\n",
       "      <td>0</td>\n",
       "      <td>0</td>\n",
       "      <td>0</td>\n",
       "      <td>1</td>\n",
       "      <td>0</td>\n",
       "      <td>1</td>\n",
       "    </tr>\n",
       "    <tr>\n",
       "      <th>135</th>\n",
       "      <td>378.0</td>\n",
       "      <td>378.0</td>\n",
       "      <td>65.0</td>\n",
       "      <td>80.0</td>\n",
       "      <td>4.0</td>\n",
       "      <td>0</td>\n",
       "      <td>1</td>\n",
       "      <td>0</td>\n",
       "      <td>0</td>\n",
       "      <td>1</td>\n",
       "      <td>0</td>\n",
       "      <td>0</td>\n",
       "      <td>1</td>\n",
       "    </tr>\n",
       "    <tr>\n",
       "      <th>136</th>\n",
       "      <td>49.0</td>\n",
       "      <td>49.0</td>\n",
       "      <td>37.0</td>\n",
       "      <td>30.0</td>\n",
       "      <td>3.0</td>\n",
       "      <td>0</td>\n",
       "      <td>1</td>\n",
       "      <td>0</td>\n",
       "      <td>0</td>\n",
       "      <td>1</td>\n",
       "      <td>0</td>\n",
       "      <td>0</td>\n",
       "      <td>1</td>\n",
       "    </tr>\n",
       "  </tbody>\n",
       "</table>\n",
       "<p>137 rows × 13 columns</p>\n",
       "</div>"
      ],
      "text/plain": [
       "     Survival_label_lower_bound  Survival_label_upper_bound  Age_in_years  \\\n",
       "0                          72.0                        72.0          69.0   \n",
       "1                         411.0                       411.0          64.0   \n",
       "2                         228.0                       228.0          38.0   \n",
       "3                         126.0                       126.0          63.0   \n",
       "4                         118.0                       118.0          65.0   \n",
       "..                          ...                         ...           ...   \n",
       "132                       133.0                       133.0          65.0   \n",
       "133                       111.0                       111.0          64.0   \n",
       "134                       231.0                       231.0          67.0   \n",
       "135                       378.0                       378.0          65.0   \n",
       "136                        49.0                        49.0          37.0   \n",
       "\n",
       "     Karnofsky_score  Months_from_Diagnosis  Celltype=adeno  Celltype=large  \\\n",
       "0               60.0                    7.0               0               0   \n",
       "1               70.0                    5.0               0               0   \n",
       "2               60.0                    3.0               0               0   \n",
       "3               60.0                    9.0               0               0   \n",
       "4               70.0                   11.0               0               0   \n",
       "..               ...                    ...             ...             ...   \n",
       "132             75.0                    1.0               0               1   \n",
       "133             60.0                    5.0               0               1   \n",
       "134             70.0                   18.0               0               1   \n",
       "135             80.0                    4.0               0               1   \n",
       "136             30.0                    3.0               0               1   \n",
       "\n",
       "     Celltype=smallcell  Celltype=squamous  Prior_therapy=no  \\\n",
       "0                     0                  1                 1   \n",
       "1                     0                  1                 0   \n",
       "2                     0                  1                 1   \n",
       "3                     0                  1                 0   \n",
       "4                     0                  1                 0   \n",
       "..                  ...                ...               ...   \n",
       "132                   0                  0                 1   \n",
       "133                   0                  0                 1   \n",
       "134                   0                  0                 0   \n",
       "135                   0                  0                 1   \n",
       "136                   0                  0                 1   \n",
       "\n",
       "     Prior_therapy=yes  Treatment=standard  Treatment=test  \n",
       "0                    0                   1               0  \n",
       "1                    1                   1               0  \n",
       "2                    0                   1               0  \n",
       "3                    1                   1               0  \n",
       "4                    1                   1               0  \n",
       "..                 ...                 ...             ...  \n",
       "132                  0                   0               1  \n",
       "133                  0                   0               1  \n",
       "134                  1                   0               1  \n",
       "135                  0                   0               1  \n",
       "136                  0                   0               1  \n",
       "\n",
       "[137 rows x 13 columns]"
      ]
     },
     "execution_count": 3,
     "metadata": {},
     "output_type": "execute_result"
    }
   ],
   "source": [
    "df"
   ]
  },
  {
   "cell_type": "code",
   "execution_count": 4,
   "id": "40251cdc",
   "metadata": {},
   "outputs": [],
   "source": [
    "import numpy as np\n",
    "import matplotlib.pyplot as plt\n",
    "from scipy.stats import norm, genextreme, gaussian_kde, ecdf"
   ]
  },
  {
   "cell_type": "code",
   "execution_count": 5,
   "id": "47faeff5",
   "metadata": {},
   "outputs": [
    {
     "data": {
      "text/plain": [
       "array([[69., 60.,  7., ...,  0.,  1.,  0.],\n",
       "       [64., 70.,  5., ...,  1.,  1.,  0.],\n",
       "       [38., 60.,  3., ...,  0.,  1.,  0.],\n",
       "       ...,\n",
       "       [67., 70., 18., ...,  1.,  0.,  1.],\n",
       "       [65., 80.,  4., ...,  0.,  0.,  1.],\n",
       "       [37., 30.,  3., ...,  0.,  0.,  1.]])"
      ]
     },
     "execution_count": 5,
     "metadata": {},
     "output_type": "execute_result"
    }
   ],
   "source": [
    "veteran = VeteranLungDataset(df)\n",
    "veteran.get_data()"
   ]
  },
  {
   "cell_type": "code",
   "execution_count": 6,
   "id": "13aee6f0",
   "metadata": {},
   "outputs": [
    {
     "data": {
      "text/plain": [
       "array([(0,  72.), (0, 411.), (0, 228.), (0, 126.), (0, 118.), (0,  10.),\n",
       "       (0,  82.), (0, 110.), (0, 314.), (1, 100.), (0,  42.), (0,   8.),\n",
       "       (0, 144.), (1,  25.), (0,  11.), (0,  30.), (0, 384.), (0,   4.),\n",
       "       (0,  54.), (0,  13.), (1, 123.), (1,  97.), (0, 153.), (0,  59.),\n",
       "       (0, 117.), (0,  16.), (0, 151.), (0,  22.), (0,  56.), (0,  21.),\n",
       "       (0,  18.), (0, 139.), (0,  20.), (0,  31.), (0,  52.), (0, 287.),\n",
       "       (0,  18.), (0,  51.), (0, 122.), (0,  27.), (0,  54.), (0,   7.),\n",
       "       (0,  63.), (0, 392.), (0,  10.), (0,   8.), (0,  92.), (0,  35.),\n",
       "       (0, 117.), (0, 132.), (0,  12.), (0, 162.), (0,   3.), (0,  95.),\n",
       "       (0, 177.), (0, 162.), (0, 216.), (0, 553.), (0, 278.), (0,  12.),\n",
       "       (0, 260.), (0, 200.), (0, 156.), (1, 182.), (0, 143.), (0, 105.),\n",
       "       (0, 103.), (0, 250.), (0, 100.), (0, 999.), (0, 112.), (1,  87.),\n",
       "       (1, 231.), (0, 242.), (0, 991.), (0, 111.), (0,   1.), (0, 587.),\n",
       "       (0, 389.), (0,  33.), (0,  25.), (0, 357.), (0, 467.), (0, 201.),\n",
       "       (0,   1.), (0,  30.), (0,  44.), (0, 283.), (0,  15.), (0,  25.),\n",
       "       (1, 103.), (0,  21.), (0,  13.), (0,  87.), (0,   2.), (0,  20.),\n",
       "       (0,   7.), (0,  24.), (0,  99.), (0,   8.), (0,  99.), (0,  61.),\n",
       "       (0,  25.), (0,  95.), (0,  80.), (0,  51.), (0,  29.), (0,  24.),\n",
       "       (0,  18.), (1,  83.), (0,  31.), (0,  51.), (0,  90.), (0,  52.),\n",
       "       (0,  73.), (0,   8.), (0,  36.), (0,  48.), (0,   7.), (0, 140.),\n",
       "       (0, 186.), (0,  84.), (0,  19.), (0,  45.), (0,  80.), (0,  52.),\n",
       "       (0, 164.), (0,  19.), (0,  53.), (0,  15.), (0,  43.), (0, 340.),\n",
       "       (0, 133.), (0, 111.), (0, 231.), (0, 378.), (0,  49.)],\n",
       "      dtype=(numpy.record, [('death', '<i8'), ('d.time', '<f8')]))"
      ]
     },
     "execution_count": 6,
     "metadata": {},
     "output_type": "execute_result"
    }
   ],
   "source": [
    "veteran.get_label()"
   ]
  },
  {
   "cell_type": "code",
   "execution_count": 7,
   "id": "048e8d31",
   "metadata": {},
   "outputs": [
    {
     "data": {
      "text/html": [
       "<div>\n",
       "<style scoped>\n",
       "    .dataframe tbody tr th:only-of-type {\n",
       "        vertical-align: middle;\n",
       "    }\n",
       "\n",
       "    .dataframe tbody tr th {\n",
       "        vertical-align: top;\n",
       "    }\n",
       "\n",
       "    .dataframe thead th {\n",
       "        text-align: right;\n",
       "    }\n",
       "</style>\n",
       "<table border=\"1\" class=\"dataframe\">\n",
       "  <thead>\n",
       "    <tr style=\"text-align: right;\">\n",
       "      <th></th>\n",
       "      <th>Survival_label_lower_bound</th>\n",
       "      <th>Survival_label_upper_bound</th>\n",
       "    </tr>\n",
       "  </thead>\n",
       "  <tbody>\n",
       "    <tr>\n",
       "      <th>0</th>\n",
       "      <td>72.0</td>\n",
       "      <td>72.0</td>\n",
       "    </tr>\n",
       "    <tr>\n",
       "      <th>1</th>\n",
       "      <td>411.0</td>\n",
       "      <td>411.0</td>\n",
       "    </tr>\n",
       "    <tr>\n",
       "      <th>2</th>\n",
       "      <td>228.0</td>\n",
       "      <td>228.0</td>\n",
       "    </tr>\n",
       "    <tr>\n",
       "      <th>3</th>\n",
       "      <td>126.0</td>\n",
       "      <td>126.0</td>\n",
       "    </tr>\n",
       "    <tr>\n",
       "      <th>4</th>\n",
       "      <td>118.0</td>\n",
       "      <td>118.0</td>\n",
       "    </tr>\n",
       "    <tr>\n",
       "      <th>...</th>\n",
       "      <td>...</td>\n",
       "      <td>...</td>\n",
       "    </tr>\n",
       "    <tr>\n",
       "      <th>132</th>\n",
       "      <td>133.0</td>\n",
       "      <td>133.0</td>\n",
       "    </tr>\n",
       "    <tr>\n",
       "      <th>133</th>\n",
       "      <td>111.0</td>\n",
       "      <td>111.0</td>\n",
       "    </tr>\n",
       "    <tr>\n",
       "      <th>134</th>\n",
       "      <td>231.0</td>\n",
       "      <td>231.0</td>\n",
       "    </tr>\n",
       "    <tr>\n",
       "      <th>135</th>\n",
       "      <td>378.0</td>\n",
       "      <td>378.0</td>\n",
       "    </tr>\n",
       "    <tr>\n",
       "      <th>136</th>\n",
       "      <td>49.0</td>\n",
       "      <td>49.0</td>\n",
       "    </tr>\n",
       "  </tbody>\n",
       "</table>\n",
       "<p>137 rows × 2 columns</p>\n",
       "</div>"
      ],
      "text/plain": [
       "     Survival_label_lower_bound  Survival_label_upper_bound\n",
       "0                          72.0                        72.0\n",
       "1                         411.0                       411.0\n",
       "2                         228.0                       228.0\n",
       "3                         126.0                       126.0\n",
       "4                         118.0                       118.0\n",
       "..                          ...                         ...\n",
       "132                       133.0                       133.0\n",
       "133                       111.0                       111.0\n",
       "134                       231.0                       231.0\n",
       "135                       378.0                       378.0\n",
       "136                        49.0                        49.0\n",
       "\n",
       "[137 rows x 2 columns]"
      ]
     },
     "execution_count": 7,
     "metadata": {},
     "output_type": "execute_result"
    }
   ],
   "source": [
    "veteran.get_xgboost_label()"
   ]
  },
  {
   "cell_type": "code",
   "execution_count": 8,
   "id": "902ba9a0",
   "metadata": {},
   "outputs": [],
   "source": [
    "X_train, X_test, y_train, y_test = veteran.get_train_test()"
   ]
  },
  {
   "cell_type": "markdown",
   "id": "9f1009e5",
   "metadata": {},
   "source": [
    "##### Init All Methods"
   ]
  },
  {
   "cell_type": "markdown",
   "id": "10e94e3a",
   "metadata": {},
   "source": [
    "AFT-Forest"
   ]
  },
  {
   "cell_type": "code",
   "execution_count": 9,
   "id": "47aedd79",
   "metadata": {},
   "outputs": [],
   "source": [
    "aft_surv_tree = AFTSurvivalTree(function=\"norm\")\n",
    "aft_forest = AFTForest(n_trees=10, random_params=True)"
   ]
  },
  {
   "cell_type": "code",
   "execution_count": 10,
   "id": "e1ebcb5e",
   "metadata": {},
   "outputs": [],
   "source": [
    "aft_surv_tree.fit(X_train, y_train)"
   ]
  },
  {
   "cell_type": "code",
   "execution_count": 11,
   "id": "a939e9db",
   "metadata": {},
   "outputs": [
    {
     "name": "stderr",
     "output_type": "stream",
     "text": [
      "/home/rizkiduwinanto/anaconda3/lib/python3.11/site-packages/pandas/core/arrays/masked.py:60: UserWarning: Pandas requires version '1.3.6' or newer of 'bottleneck' (version '1.3.5' currently installed).\n",
      "  from pandas.core import (\n",
      "/home/rizkiduwinanto/anaconda3/lib/python3.11/site-packages/pandas/core/arrays/masked.py:60: UserWarning: Pandas requires version '1.3.6' or newer of 'bottleneck' (version '1.3.5' currently installed).\n",
      "  from pandas.core import (\n",
      "/home/rizkiduwinanto/anaconda3/lib/python3.11/site-packages/pandas/core/arrays/masked.py:60: UserWarning: Pandas requires version '1.3.6' or newer of 'bottleneck' (version '1.3.5' currently installed).\n",
      "  from pandas.core import (\n",
      "/home/rizkiduwinanto/anaconda3/lib/python3.11/site-packages/pandas/core/arrays/masked.py:60: UserWarning: Pandas requires version '1.3.6' or newer of 'bottleneck' (version '1.3.5' currently installed).\n",
      "  from pandas.core import (\n",
      "/home/rizkiduwinanto/anaconda3/lib/python3.11/site-packages/pandas/core/arrays/masked.py:60: UserWarning: Pandas requires version '1.3.6' or newer of 'bottleneck' (version '1.3.5' currently installed).\n",
      "  from pandas.core import (\n",
      "/home/rizkiduwinanto/anaconda3/lib/python3.11/site-packages/pandas/core/arrays/masked.py:60: UserWarning: Pandas requires version '1.3.6' or newer of 'bottleneck' (version '1.3.5' currently installed).\n",
      "  from pandas.core import (\n",
      "/home/rizkiduwinanto/anaconda3/lib/python3.11/site-packages/pandas/core/arrays/masked.py:60: UserWarning: Pandas requires version '1.3.6' or newer of 'bottleneck' (version '1.3.5' currently installed).\n",
      "  from pandas.core import (\n",
      "/home/rizkiduwinanto/anaconda3/lib/python3.11/site-packages/pandas/core/arrays/masked.py:60: UserWarning: Pandas requires version '1.3.6' or newer of 'bottleneck' (version '1.3.5' currently installed).\n",
      "  from pandas.core import (\n",
      "/home/rizkiduwinanto/anaconda3/lib/python3.11/site-packages/pandas/core/arrays/masked.py:60: UserWarning: Pandas requires version '1.3.6' or newer of 'bottleneck' (version '1.3.5' currently installed).\n",
      "  from pandas.core import (\n",
      "/home/rizkiduwinanto/anaconda3/lib/python3.11/site-packages/pandas/core/arrays/masked.py:60: UserWarning: Pandas requires version '1.3.6' or newer of 'bottleneck' (version '1.3.5' currently installed).\n",
      "  from pandas.core import (\n",
      "100%|██████████| 10/10 [00:00<00:00, 23550.28it/s]\n"
     ]
    }
   ],
   "source": [
    "aft_forest.fit(X_train, y_train)"
   ]
  },
  {
   "cell_type": "code",
   "execution_count": 12,
   "id": "b121584d",
   "metadata": {},
   "outputs": [
    {
     "data": {
      "text/plain": [
       "[125.5,\n",
       " 127.28915662650603,\n",
       " 127.28915662650603,\n",
       " 127.28915662650603,\n",
       " 127.28915662650603,\n",
       " 70.2,\n",
       " 127.28915662650603,\n",
       " 127.28915662650603,\n",
       " 127.28915662650603,\n",
       " 127.28915662650603,\n",
       " 70.2,\n",
       " 127.28915662650603,\n",
       " 127.28915662650603,\n",
       " 127.28915662650603,\n",
       " 127.28915662650603,\n",
       " 127.28915662650603,\n",
       " 127.28915662650603,\n",
       " 127.28915662650603,\n",
       " 127.28915662650603,\n",
       " 127.28915662650603,\n",
       " 104.1,\n",
       " 127.28915662650603,\n",
       " 127.28915662650603,\n",
       " 127.28915662650603,\n",
       " 127.28915662650603,\n",
       " 127.28915662650603,\n",
       " 104.1,\n",
       " 127.28915662650603]"
      ]
     },
     "execution_count": 12,
     "metadata": {},
     "output_type": "execute_result"
    }
   ],
   "source": [
    "aft_surv_tree.predict(X_test)"
   ]
  },
  {
   "cell_type": "code",
   "execution_count": 13,
   "id": "48aa120b",
   "metadata": {},
   "outputs": [
    {
     "data": {
      "text/plain": [
       "[103.44051288749563,\n",
       " 100.48023510971787,\n",
       " 97.75582674030949,\n",
       " 128.9818007662835,\n",
       " 133.51870552818826,\n",
       " 110.72099331286738,\n",
       " 112.13276230474506,\n",
       " 114.4497661342489,\n",
       " 116.5457168501996,\n",
       " 109.72571685019962,\n",
       " 101.32488220175625,\n",
       " 103.44051288749563,\n",
       " 137.15054313502588,\n",
       " 137.15054313502588,\n",
       " 116.5457168501996,\n",
       " 126.99103604791011,\n",
       " 121.29526230474505,\n",
       " 116.2883178603006,\n",
       " 135.93844412292688,\n",
       " 129.1472265241006,\n",
       " 127.57099331286736,\n",
       " 135.93844412292688,\n",
       " 116.2883178603006,\n",
       " 99.72430076628352,\n",
       " 133.51870552818826,\n",
       " 107.73276230474505,\n",
       " 110.72099331286738,\n",
       " 109.72571685019962]"
      ]
     },
     "execution_count": 13,
     "metadata": {},
     "output_type": "execute_result"
    }
   ],
   "source": [
    "aft_forest.predict(X_test)"
   ]
  },
  {
   "cell_type": "code",
   "execution_count": 14,
   "id": "6e24fde8",
   "metadata": {},
   "outputs": [
    {
     "data": {
      "text/plain": [
       "0.5206043956043956"
      ]
     },
     "execution_count": 14,
     "metadata": {},
     "output_type": "execute_result"
    }
   ],
   "source": [
    "aft_surv_tree._score(X_test, y_test)"
   ]
  },
  {
   "cell_type": "code",
   "execution_count": 15,
   "id": "6be2fca7",
   "metadata": {},
   "outputs": [],
   "source": [
    "aft_surv_tree._visualize()"
   ]
  },
  {
   "cell_type": "code",
   "execution_count": 16,
   "id": "1d071770",
   "metadata": {},
   "outputs": [
    {
     "data": {
      "text/plain": [
       "0.6456043956043956"
      ]
     },
     "execution_count": 16,
     "metadata": {},
     "output_type": "execute_result"
    }
   ],
   "source": [
    "aft_forest._score(X_test, y_test)"
   ]
  },
  {
   "cell_type": "code",
   "execution_count": 17,
   "id": "d113477a",
   "metadata": {},
   "outputs": [],
   "source": [
    "aft_surv_tree_weibull = AFTSurvivalTree(function=\"weibull\", is_bootstrap=False, is_custom_dist=True)\n"
   ]
  },
  {
   "cell_type": "code",
   "execution_count": 18,
   "id": "29514a9e",
   "metadata": {},
   "outputs": [],
   "source": [
    "aft_surv_tree_weibull.fit(X_train, y_train)"
   ]
  },
  {
   "cell_type": "code",
   "execution_count": 19,
   "id": "50f97d90",
   "metadata": {},
   "outputs": [
    {
     "data": {
      "text/plain": [
       "0.5"
      ]
     },
     "execution_count": 19,
     "metadata": {},
     "output_type": "execute_result"
    }
   ],
   "source": [
    "\n",
    "aft_surv_tree_weibull._score(X_test, y_test)"
   ]
  },
  {
   "cell_type": "code",
   "execution_count": 20,
   "id": "89e4cb49",
   "metadata": {},
   "outputs": [],
   "source": [
    "aft_surv_tree_weibull.save(\"tree_weibull.json\")"
   ]
  },
  {
   "cell_type": "code",
   "execution_count": 21,
   "id": "963913e4",
   "metadata": {},
   "outputs": [],
   "source": [
    "aft_surv_tree_load_test = AFTSurvivalTree()\n",
    "aft_surv_tree_load_test = aft_surv_tree_load_test.load(\"tree_weibull.json\")"
   ]
  },
  {
   "cell_type": "code",
   "execution_count": 22,
   "id": "257e836b",
   "metadata": {},
   "outputs": [
    {
     "data": {
      "text/plain": [
       "0.5"
      ]
     },
     "execution_count": 22,
     "metadata": {},
     "output_type": "execute_result"
    }
   ],
   "source": [
    "aft_surv_tree_load_test._score(X_test, y_test)"
   ]
  },
  {
   "cell_type": "code",
   "execution_count": 23,
   "id": "83784eeb",
   "metadata": {},
   "outputs": [],
   "source": [
    "aft_surv_tree_logistic = AFTSurvivalTree(function=\"logistic\", is_bootstrap=False, is_custom_dist=True)"
   ]
  },
  {
   "cell_type": "code",
   "execution_count": 24,
   "id": "2721ff07",
   "metadata": {},
   "outputs": [],
   "source": [
    "aft_surv_tree_logistic.fit(X_train, y_train)"
   ]
  },
  {
   "cell_type": "code",
   "execution_count": 25,
   "id": "b6c2fce3",
   "metadata": {},
   "outputs": [
    {
     "data": {
      "text/plain": [
       "0.5"
      ]
     },
     "execution_count": 25,
     "metadata": {},
     "output_type": "execute_result"
    }
   ],
   "source": [
    "aft_surv_tree_logistic._score(X_test, y_test)"
   ]
  },
  {
   "cell_type": "code",
   "execution_count": 26,
   "id": "5c01137a",
   "metadata": {},
   "outputs": [],
   "source": [
    "aft_surv_tree_gmm = AFTSurvivalTree(function=\"gmm\", is_bootstrap=False, is_custom_dist=True)"
   ]
  },
  {
   "cell_type": "code",
   "execution_count": 27,
   "id": "c1c1f6ff",
   "metadata": {},
   "outputs": [],
   "source": [
    "aft_surv_tree_gmm.fit(X_train, y_train)"
   ]
  },
  {
   "cell_type": "code",
   "execution_count": 28,
   "id": "c49f3b29",
   "metadata": {},
   "outputs": [
    {
     "data": {
      "text/plain": [
       "0.5480769230769231"
      ]
     },
     "execution_count": 28,
     "metadata": {},
     "output_type": "execute_result"
    }
   ],
   "source": [
    "aft_surv_tree_gmm._score(X_test, y_test)"
   ]
  },
  {
   "cell_type": "code",
   "execution_count": 29,
   "id": "b3f9bcfd",
   "metadata": {},
   "outputs": [],
   "source": [
    "aft_surv_tree_normal = AFTSurvivalTree(function=\"norm\", is_bootstrap=False, is_custom_dist=True)"
   ]
  },
  {
   "cell_type": "code",
   "execution_count": 30,
   "id": "e02ef2c8",
   "metadata": {},
   "outputs": [],
   "source": [
    "aft_surv_tree_normal.fit(X_train, y_train)\n"
   ]
  },
  {
   "cell_type": "code",
   "execution_count": 31,
   "id": "34d36fb6",
   "metadata": {},
   "outputs": [
    {
     "data": {
      "text/plain": [
       "0.5"
      ]
     },
     "execution_count": 31,
     "metadata": {},
     "output_type": "execute_result"
    }
   ],
   "source": [
    "aft_surv_tree_normal._score(X_test, y_test)"
   ]
  },
  {
   "cell_type": "code",
   "execution_count": 32,
   "id": "e10dbded",
   "metadata": {},
   "outputs": [],
   "source": [
    "aft_surv_tree_extreme = AFTSurvivalTree(function=\"extreme\", is_bootstrap=True, is_custom_dist=True)"
   ]
  },
  {
   "cell_type": "code",
   "execution_count": 33,
   "id": "f17af1d2",
   "metadata": {},
   "outputs": [],
   "source": [
    "aft_surv_tree_extreme.fit(X_train, y_train)"
   ]
  },
  {
   "cell_type": "code",
   "execution_count": 34,
   "id": "6f6d91c6",
   "metadata": {},
   "outputs": [
    {
     "data": {
      "text/plain": [
       "0.6291208791208791"
      ]
     },
     "execution_count": 34,
     "metadata": {},
     "output_type": "execute_result"
    }
   ],
   "source": [
    "aft_surv_tree_extreme._score(X_test, y_test)"
   ]
  },
  {
   "cell_type": "code",
   "execution_count": 35,
   "id": "eea89167",
   "metadata": {},
   "outputs": [],
   "source": [
    "aft_surv_tree_extreme._visualize()"
   ]
  },
  {
   "cell_type": "code",
   "execution_count": 36,
   "id": "021f9358",
   "metadata": {},
   "outputs": [],
   "source": [
    "aft_surv_tree_extreme.save(\"extreme.json\")"
   ]
  },
  {
   "cell_type": "code",
   "execution_count": 37,
   "id": "10fb876d",
   "metadata": {},
   "outputs": [],
   "source": [
    "kwargs = {\n",
    "    \"function\": \"gmm\", \n",
    "    \"is_bootstrap\": False, \n",
    "    \"is_custom_dist\": True,\n",
    "    \"n_components\": 2\n",
    "}\n",
    "aft_forest = AFTForest(n_trees=5, random_params=False, **kwargs)"
   ]
  },
  {
   "cell_type": "code",
   "execution_count": 38,
   "id": "944227f2",
   "metadata": {},
   "outputs": [
    {
     "name": "stderr",
     "output_type": "stream",
     "text": [
      "/home/rizkiduwinanto/anaconda3/lib/python3.11/site-packages/pandas/core/arrays/masked.py:60: UserWarning: Pandas requires version '1.3.6' or newer of 'bottleneck' (version '1.3.5' currently installed).\n",
      "  from pandas.core import (\n",
      "/home/rizkiduwinanto/anaconda3/lib/python3.11/site-packages/pandas/core/arrays/masked.py:60: UserWarning: Pandas requires version '1.3.6' or newer of 'bottleneck' (version '1.3.5' currently installed).\n",
      "  from pandas.core import (\n",
      "100%|██████████| 5/5 [00:00<00:00, 15087.42it/s]\n"
     ]
    }
   ],
   "source": [
    "aft_forest.fit(X_train, y_train)"
   ]
  },
  {
   "cell_type": "code",
   "execution_count": 39,
   "id": "40acf83c",
   "metadata": {},
   "outputs": [
    {
     "data": {
      "text/plain": [
       "0.6648351648351648"
      ]
     },
     "execution_count": 39,
     "metadata": {},
     "output_type": "execute_result"
    }
   ],
   "source": [
    "aft_forest._score(X_test, y_test)"
   ]
  },
  {
   "cell_type": "code",
   "execution_count": 40,
   "id": "3719c8de",
   "metadata": {},
   "outputs": [],
   "source": [
    "aft_forest.save(\"forest.json\")"
   ]
  },
  {
   "cell_type": "code",
   "execution_count": 41,
   "id": "f5ec64f8",
   "metadata": {},
   "outputs": [],
   "source": [
    "aft_forest_load_test = AFTForest()\n",
    "aft_forest_load_test = aft_forest_load_test.load(\"forest.json\")"
   ]
  },
  {
   "cell_type": "code",
   "execution_count": 42,
   "id": "1992d7b2",
   "metadata": {},
   "outputs": [],
   "source": [
    "# aft_forest_load_test._score(X_test, y_test)"
   ]
  },
  {
   "cell_type": "code",
   "execution_count": 43,
   "id": "cfb0bce7",
   "metadata": {},
   "outputs": [],
   "source": [
    "# aft_forest_load_test.save(\"forest_load.json\")"
   ]
  },
  {
   "cell_type": "markdown",
   "id": "00716335",
   "metadata": {},
   "source": [
    "XGBoost-AFT"
   ]
  },
  {
   "cell_type": "code",
   "execution_count": 44,
   "id": "82645ea9",
   "metadata": {},
   "outputs": [],
   "source": [
    "import xgboost as xgb\n",
    "from sklearn.model_selection import ShuffleSplit\n"
   ]
  },
  {
   "cell_type": "code",
   "execution_count": 45,
   "id": "0c40cc3b",
   "metadata": {},
   "outputs": [
    {
     "data": {
      "text/plain": [
       "(array([[81., 60.,  4., ...,  0.,  1.,  0.],\n",
       "        [49., 60., 11., ...,  1.,  0.,  1.],\n",
       "        [64., 80.,  5., ...,  0.,  1.,  0.],\n",
       "        ...,\n",
       "        [48., 70., 11., ...,  1.,  1.,  0.],\n",
       "        [62., 30.,  2., ...,  0.,  0.,  1.],\n",
       "        [70., 70.,  2., ...,  0.,  0.,  1.]]),\n",
       " array([[59., 30., 87.,  0.,  0.,  1.,  0.,  0.,  1.,  0.,  1.],\n",
       "        [71., 50., 17.,  0.,  0.,  1.,  0.,  1.,  0.,  0.,  1.],\n",
       "        [63., 30.,  4.,  0.,  0.,  0.,  1.,  1.,  0.,  1.,  0.],\n",
       "        [69., 50., 12.,  0.,  0.,  1.,  0.,  1.,  0.,  1.,  0.],\n",
       "        [69., 40.,  3.,  1.,  0.,  0.,  0.,  1.,  0.,  0.,  1.],\n",
       "        [38., 80.,  5.,  0.,  1.,  0.,  0.,  1.,  0.,  1.,  0.],\n",
       "        [60., 90.,  8.,  0.,  1.,  0.,  0.,  1.,  0.,  1.,  0.],\n",
       "        [66., 50.,  5.,  1.,  0.,  0.,  0.,  1.,  0.,  0.,  1.],\n",
       "        [64., 60.,  5.,  0.,  1.,  0.,  0.,  1.,  0.,  0.,  1.],\n",
       "        [63., 70., 11.,  0.,  0.,  0.,  1.,  1.,  0.,  0.,  1.],\n",
       "        [35., 50.,  7.,  0.,  0.,  0.,  1.,  1.,  0.,  0.,  1.],\n",
       "        [61., 20., 19.,  1.,  0.,  0.,  0.,  0.,  1.,  1.,  0.],\n",
       "        [54., 90., 12.,  0.,  0.,  0.,  1.,  0.,  1.,  0.,  1.],\n",
       "        [53., 70.,  8.,  0.,  1.,  0.,  0.,  0.,  1.,  1.,  0.],\n",
       "        [64., 80.,  2.,  0.,  0.,  1.,  0.,  1.,  0.,  1.,  0.],\n",
       "        [48., 50., 11.,  0.,  0.,  1.,  0.,  1.,  0.,  1.,  0.],\n",
       "        [68., 60.,  4.,  0.,  0.,  1.,  0.,  1.,  0.,  1.,  0.],\n",
       "        [56., 60.,  4.,  0.,  0.,  1.,  0.,  1.,  0.,  1.,  0.],\n",
       "        [65., 75.,  1.,  0.,  1.,  0.,  0.,  1.,  0.,  0.,  1.],\n",
       "        [52., 50., 15.,  0.,  1.,  0.,  0.,  1.,  0.,  1.,  0.],\n",
       "        [45., 60.,  4.,  0.,  1.,  0.,  0.,  1.,  0.,  0.,  1.],\n",
       "        [65., 70., 11.,  0.,  0.,  0.,  1.,  0.,  1.,  1.,  0.],\n",
       "        [57., 99.,  3.,  1.,  0.,  0.,  0.,  1.,  0.,  0.,  1.],\n",
       "        [60., 30.,  4.,  0.,  0.,  1.,  0.,  1.,  0.,  1.,  0.],\n",
       "        [69., 30.,  2.,  0.,  0.,  1.,  0.,  1.,  0.,  0.,  1.],\n",
       "        [62., 85.,  4.,  0.,  0.,  1.,  0.,  1.,  0.,  0.,  1.],\n",
       "        [42., 60.,  9.,  0.,  0.,  1.,  0.,  1.,  0.,  1.,  0.],\n",
       "        [63., 80.,  4.,  0.,  0.,  1.,  0.,  0.,  1.,  1.,  0.]]),\n",
       "      Survival_label_lower_bound  Survival_label_upper_bound\n",
       " 10                         42.0                        42.0\n",
       " 130                        43.0                        43.0\n",
       " 51                        162.0                       162.0\n",
       " 11                          8.0                         8.0\n",
       " 114                        73.0                        73.0\n",
       " ..                          ...                         ...\n",
       " 71                         87.0                         inf\n",
       " 106                        29.0                        29.0\n",
       " 14                         11.0                        11.0\n",
       " 92                         13.0                        13.0\n",
       " 102                        25.0                        25.0\n",
       " \n",
       " [109 rows x 2 columns],\n",
       "      Survival_label_lower_bound  Survival_label_upper_bound\n",
       " 105                        51.0                        51.0\n",
       " 104                        80.0                        80.0\n",
       " 12                        144.0                       144.0\n",
       " 26                        151.0                       151.0\n",
       " 123                        45.0                        45.0\n",
       " 66                        103.0                       103.0\n",
       " 64                        143.0                       143.0\n",
       " 115                         8.0                         8.0\n",
       " 133                       111.0                       111.0\n",
       " 85                         30.0                        30.0\n",
       " 84                          1.0                         1.0\n",
       " 45                          8.0                         8.0\n",
       " 69                        999.0                       999.0\n",
       " 67                        250.0                       250.0\n",
       " 31                        139.0                       139.0\n",
       " 42                         63.0                        63.0\n",
       " 27                         22.0                        22.0\n",
       " 19                         13.0                        13.0\n",
       " 132                       133.0                       133.0\n",
       " 56                        216.0                       216.0\n",
       " 125                        52.0                        52.0\n",
       " 4                         118.0                       118.0\n",
       " 109                        83.0                         inf\n",
       " 36                         18.0                        18.0\n",
       " 89                         25.0                        25.0\n",
       " 100                        99.0                        99.0\n",
       " 16                        384.0                       384.0\n",
       " 18                         54.0                        54.0)"
      ]
     },
     "execution_count": 45,
     "metadata": {},
     "output_type": "execute_result"
    }
   ],
   "source": [
    "X_train, X_test, y_train, y_test = veteran.get_train_test_xgboost()\n",
    "\n",
    "X_train, X_test, y_train, y_test\n"
   ]
  },
  {
   "cell_type": "code",
   "execution_count": 46,
   "id": "e05a23fe",
   "metadata": {},
   "outputs": [],
   "source": [
    "\n",
    "dtrain = xgb.DMatrix(X_train)\n",
    "dtrain.set_float_info('label_lower_bound', y_train['Survival_label_lower_bound'])\n",
    "dtrain.set_float_info('label_upper_bound', y_train['Survival_label_upper_bound'])\n",
    "dvalid = xgb.DMatrix(X_test)\n",
    "dvalid.set_float_info('label_lower_bound', y_test['Survival_label_lower_bound'])\n",
    "dvalid.set_float_info('label_upper_bound', y_test['Survival_label_upper_bound'])\n"
   ]
  },
  {
   "cell_type": "code",
   "execution_count": 47,
   "id": "1e9f3c62",
   "metadata": {},
   "outputs": [
    {
     "name": "stdout",
     "output_type": "stream",
     "text": [
      "[0]\ttrain-aft-nloglik:12.65931\tvalid-aft-nloglik:12.95408\n",
      "[1]\ttrain-aft-nloglik:11.91142\tvalid-aft-nloglik:12.23321\n",
      "[2]\ttrain-aft-nloglik:11.23593\tvalid-aft-nloglik:11.57901\n",
      "[3]\ttrain-aft-nloglik:10.62571\tvalid-aft-nloglik:10.99612\n",
      "[4]\ttrain-aft-nloglik:10.07451\tvalid-aft-nloglik:10.46704\n",
      "[5]\ttrain-aft-nloglik:9.57661\tvalid-aft-nloglik:9.98793\n",
      "[6]\ttrain-aft-nloglik:9.12682\tvalid-aft-nloglik:9.56821\n",
      "[7]\ttrain-aft-nloglik:8.71970\tvalid-aft-nloglik:9.19213\n",
      "[8]\ttrain-aft-nloglik:8.35124\tvalid-aft-nloglik:8.85090\n",
      "[9]\ttrain-aft-nloglik:8.01783\tvalid-aft-nloglik:8.53140\n",
      "[10]\ttrain-aft-nloglik:7.71686\tvalid-aft-nloglik:8.25658\n",
      "[11]\ttrain-aft-nloglik:7.44448\tvalid-aft-nloglik:8.00365\n",
      "[12]\ttrain-aft-nloglik:7.19820\tvalid-aft-nloglik:7.78226\n",
      "[13]\ttrain-aft-nloglik:6.97602\tvalid-aft-nloglik:7.58773\n",
      "[14]\ttrain-aft-nloglik:6.77291\tvalid-aft-nloglik:7.41240\n",
      "[15]\ttrain-aft-nloglik:6.59171\tvalid-aft-nloglik:7.24455\n",
      "[16]\ttrain-aft-nloglik:6.42660\tvalid-aft-nloglik:7.10553\n",
      "[17]\ttrain-aft-nloglik:6.27758\tvalid-aft-nloglik:6.96582\n",
      "[18]\ttrain-aft-nloglik:6.14301\tvalid-aft-nloglik:6.84476\n",
      "[19]\ttrain-aft-nloglik:6.02032\tvalid-aft-nloglik:6.73543\n",
      "[20]\ttrain-aft-nloglik:5.90965\tvalid-aft-nloglik:6.63979\n",
      "[21]\ttrain-aft-nloglik:5.80935\tvalid-aft-nloglik:6.55226\n",
      "[22]\ttrain-aft-nloglik:5.71880\tvalid-aft-nloglik:6.47617\n",
      "[23]\ttrain-aft-nloglik:5.63602\tvalid-aft-nloglik:6.40239\n",
      "[24]\ttrain-aft-nloglik:5.56136\tvalid-aft-nloglik:6.33147\n",
      "[25]\ttrain-aft-nloglik:5.49395\tvalid-aft-nloglik:6.27751\n",
      "[26]\ttrain-aft-nloglik:5.43296\tvalid-aft-nloglik:6.23095\n",
      "[27]\ttrain-aft-nloglik:5.37763\tvalid-aft-nloglik:6.18795\n",
      "[28]\ttrain-aft-nloglik:5.32649\tvalid-aft-nloglik:6.15850\n",
      "[29]\ttrain-aft-nloglik:5.28021\tvalid-aft-nloglik:6.12661\n",
      "[30]\ttrain-aft-nloglik:5.23796\tvalid-aft-nloglik:6.10414\n",
      "[31]\ttrain-aft-nloglik:5.19978\tvalid-aft-nloglik:6.08657\n",
      "[32]\ttrain-aft-nloglik:5.16528\tvalid-aft-nloglik:6.06920\n",
      "[33]\ttrain-aft-nloglik:5.13399\tvalid-aft-nloglik:6.05111\n",
      "[34]\ttrain-aft-nloglik:5.10509\tvalid-aft-nloglik:6.03181\n",
      "[35]\ttrain-aft-nloglik:5.07926\tvalid-aft-nloglik:6.01981\n",
      "[36]\ttrain-aft-nloglik:5.05488\tvalid-aft-nloglik:5.99747\n",
      "[37]\ttrain-aft-nloglik:5.03292\tvalid-aft-nloglik:5.97972\n",
      "[38]\ttrain-aft-nloglik:5.01307\tvalid-aft-nloglik:5.96416\n",
      "[39]\ttrain-aft-nloglik:4.99464\tvalid-aft-nloglik:5.94419\n",
      "[40]\ttrain-aft-nloglik:4.97820\tvalid-aft-nloglik:5.93838\n",
      "[41]\ttrain-aft-nloglik:4.96299\tvalid-aft-nloglik:5.92410\n",
      "[42]\ttrain-aft-nloglik:4.94978\tvalid-aft-nloglik:5.91384\n",
      "[43]\ttrain-aft-nloglik:4.93766\tvalid-aft-nloglik:5.90313\n",
      "[44]\ttrain-aft-nloglik:4.92662\tvalid-aft-nloglik:5.89733\n",
      "[45]\ttrain-aft-nloglik:4.91650\tvalid-aft-nloglik:5.89345\n",
      "[46]\ttrain-aft-nloglik:4.90717\tvalid-aft-nloglik:5.89067\n",
      "[47]\ttrain-aft-nloglik:4.89867\tvalid-aft-nloglik:5.88369\n",
      "[48]\ttrain-aft-nloglik:4.89098\tvalid-aft-nloglik:5.87774\n",
      "[49]\ttrain-aft-nloglik:4.88411\tvalid-aft-nloglik:5.86933\n",
      "[50]\ttrain-aft-nloglik:4.87689\tvalid-aft-nloglik:5.86604\n",
      "[51]\ttrain-aft-nloglik:4.87124\tvalid-aft-nloglik:5.85907\n",
      "[52]\ttrain-aft-nloglik:4.86532\tvalid-aft-nloglik:5.85753\n",
      "[53]\ttrain-aft-nloglik:4.86035\tvalid-aft-nloglik:5.85513\n",
      "[54]\ttrain-aft-nloglik:4.85608\tvalid-aft-nloglik:5.84925\n",
      "[55]\ttrain-aft-nloglik:4.85207\tvalid-aft-nloglik:5.84373\n",
      "[56]\ttrain-aft-nloglik:4.84799\tvalid-aft-nloglik:5.83975\n",
      "[57]\ttrain-aft-nloglik:4.84429\tvalid-aft-nloglik:5.84030\n",
      "[58]\ttrain-aft-nloglik:4.84094\tvalid-aft-nloglik:5.83759\n",
      "[59]\ttrain-aft-nloglik:4.83770\tvalid-aft-nloglik:5.83557\n",
      "[60]\ttrain-aft-nloglik:4.83459\tvalid-aft-nloglik:5.83751\n",
      "[61]\ttrain-aft-nloglik:4.83190\tvalid-aft-nloglik:5.84084\n",
      "[62]\ttrain-aft-nloglik:4.82926\tvalid-aft-nloglik:5.84448\n",
      "[63]\ttrain-aft-nloglik:4.82730\tvalid-aft-nloglik:5.84439\n",
      "[64]\ttrain-aft-nloglik:4.82542\tvalid-aft-nloglik:5.84273\n",
      "[65]\ttrain-aft-nloglik:4.82334\tvalid-aft-nloglik:5.84636\n",
      "[66]\ttrain-aft-nloglik:4.82123\tvalid-aft-nloglik:5.84851\n",
      "[67]\ttrain-aft-nloglik:4.81929\tvalid-aft-nloglik:5.85101\n",
      "[68]\ttrain-aft-nloglik:4.81735\tvalid-aft-nloglik:5.85223\n",
      "[69]\ttrain-aft-nloglik:4.81624\tvalid-aft-nloglik:5.85034\n",
      "[70]\ttrain-aft-nloglik:4.81447\tvalid-aft-nloglik:5.85317\n",
      "[71]\ttrain-aft-nloglik:4.81299\tvalid-aft-nloglik:5.85128\n",
      "[72]\ttrain-aft-nloglik:4.81159\tvalid-aft-nloglik:5.85359\n",
      "[73]\ttrain-aft-nloglik:4.81050\tvalid-aft-nloglik:5.85352\n",
      "[74]\ttrain-aft-nloglik:4.80930\tvalid-aft-nloglik:5.85290\n",
      "[75]\ttrain-aft-nloglik:4.80812\tvalid-aft-nloglik:5.85553\n",
      "[76]\ttrain-aft-nloglik:4.80748\tvalid-aft-nloglik:5.85436\n",
      "[77]\ttrain-aft-nloglik:4.80683\tvalid-aft-nloglik:5.85344\n",
      "[78]\ttrain-aft-nloglik:4.80584\tvalid-aft-nloglik:5.85611\n",
      "[79]\ttrain-aft-nloglik:4.80532\tvalid-aft-nloglik:5.85553\n",
      "[80]\ttrain-aft-nloglik:4.80481\tvalid-aft-nloglik:5.85497\n",
      "[81]\ttrain-aft-nloglik:4.80385\tvalid-aft-nloglik:5.85959\n",
      "[82]\ttrain-aft-nloglik:4.80302\tvalid-aft-nloglik:5.86381\n",
      "[83]\ttrain-aft-nloglik:4.80216\tvalid-aft-nloglik:5.86861\n",
      "[84]\ttrain-aft-nloglik:4.80160\tvalid-aft-nloglik:5.87100\n",
      "[85]\ttrain-aft-nloglik:4.80079\tvalid-aft-nloglik:5.87486\n",
      "[86]\ttrain-aft-nloglik:4.80006\tvalid-aft-nloglik:5.87842\n",
      "[87]\ttrain-aft-nloglik:4.79956\tvalid-aft-nloglik:5.88077\n",
      "[88]\ttrain-aft-nloglik:4.79887\tvalid-aft-nloglik:5.88085\n",
      "[89]\ttrain-aft-nloglik:4.79857\tvalid-aft-nloglik:5.88040\n",
      "[90]\ttrain-aft-nloglik:4.79816\tvalid-aft-nloglik:5.88297\n",
      "[91]\ttrain-aft-nloglik:4.79775\tvalid-aft-nloglik:5.88493\n",
      "[92]\ttrain-aft-nloglik:4.79726\tvalid-aft-nloglik:5.88845\n",
      "[93]\ttrain-aft-nloglik:4.79703\tvalid-aft-nloglik:5.88781\n",
      "[94]\ttrain-aft-nloglik:4.79641\tvalid-aft-nloglik:5.89117\n",
      "[95]\ttrain-aft-nloglik:4.79627\tvalid-aft-nloglik:5.89064\n",
      "[96]\ttrain-aft-nloglik:4.79614\tvalid-aft-nloglik:5.89047\n",
      "[97]\ttrain-aft-nloglik:4.79556\tvalid-aft-nloglik:5.89443\n",
      "[98]\ttrain-aft-nloglik:4.79532\tvalid-aft-nloglik:5.89621\n",
      "[99]\ttrain-aft-nloglik:4.79480\tvalid-aft-nloglik:5.89998\n",
      "[100]\ttrain-aft-nloglik:4.79448\tvalid-aft-nloglik:5.90238\n",
      "[101]\ttrain-aft-nloglik:4.79438\tvalid-aft-nloglik:5.90221\n",
      "[102]\ttrain-aft-nloglik:4.79395\tvalid-aft-nloglik:5.90535\n",
      "[103]\ttrain-aft-nloglik:4.79354\tvalid-aft-nloglik:5.90875\n",
      "[104]\ttrain-aft-nloglik:4.79310\tvalid-aft-nloglik:5.91029\n",
      "[105]\ttrain-aft-nloglik:4.79267\tvalid-aft-nloglik:5.91147\n",
      "[106]\ttrain-aft-nloglik:4.79256\tvalid-aft-nloglik:5.91108\n",
      "[107]\ttrain-aft-nloglik:4.79217\tvalid-aft-nloglik:5.91471\n",
      "[108]\ttrain-aft-nloglik:4.79200\tvalid-aft-nloglik:5.91631\n"
     ]
    }
   ],
   "source": [
    "\n",
    "\n",
    "params = {'verbosity': 0,\n",
    "          'objective': 'survival:aft',\n",
    "          'eval_metric': 'aft-nloglik',\n",
    "          'tree_method': 'hist',\n",
    "          'learning_rate': 0.05,\n",
    "          'aft_loss_distribution': 'normal',\n",
    "          'aft_loss_distribution_scale': 1.20,\n",
    "          'max_depth': 6,\n",
    "          'lambda': 0.01,\n",
    "          'alpha': 0.02}\n",
    "\n",
    "bst = xgb.train(params, dtrain, num_boost_round=10000,\n",
    "                evals=[(dtrain, 'train'), (dvalid, 'valid')],\n",
    "                early_stopping_rounds=50)\n"
   ]
  },
  {
   "cell_type": "code",
   "execution_count": 48,
   "id": "f77bd837",
   "metadata": {},
   "outputs": [
    {
     "data": {
      "text/plain": [
       "array([0.78781796, 3.8089917 , 4.091513  , 2.408381  , 3.997563  ,\n",
       "       5.625654  , 5.819438  , 2.7814074 , 5.416122  , 4.2301164 ,\n",
       "       5.428511  , 2.5887406 , 5.06476   , 5.721085  , 3.7523682 ,\n",
       "       3.3443651 , 3.8638697 , 4.63544   , 5.9941187 , 5.066087  ,\n",
       "       5.491786  , 3.8712306 , 5.0054817 , 3.5633752 , 3.176874  ,\n",
       "       3.7344499 , 3.8388608 , 3.971253  ], dtype=float32)"
      ]
     },
     "execution_count": 48,
     "metadata": {},
     "output_type": "execute_result"
    }
   ],
   "source": [
    "times_pred = bst.predict(dvalid, output_margin=True)\n",
    "times_pred"
   ]
  },
  {
   "cell_type": "code",
   "execution_count": 49,
   "id": "9c353bc0",
   "metadata": {},
   "outputs": [],
   "source": [
    "times_true = []\n",
    "event_true = []\n",
    "for idx, rows in y_test.iterrows():\n",
    "    if rows['Survival_label_upper_bound'] == np.inf or not rows['Survival_label_upper_bound']:\n",
    "        event = 0\n",
    "    else:\n",
    "        event = 1 \n",
    "    event_true.append(event)\n",
    "    times = rows['Survival_label_lower_bound']\n",
    "    times_true.append(times)\n",
    "times_true = np.array(times_true)\n",
    "event_true = np.array(event_true)"
   ]
  },
  {
   "cell_type": "code",
   "execution_count": 50,
   "id": "10cbffe3",
   "metadata": {},
   "outputs": [
    {
     "data": {
      "text/plain": [
       "0.6181318681318682"
      ]
     },
     "execution_count": 50,
     "metadata": {},
     "output_type": "execute_result"
    }
   ],
   "source": [
    "from lifelines.utils import concordance_index\n",
    "c_index = concordance_index(times_true, times_pred, event_true)\n",
    "c_index"
   ]
  },
  {
   "cell_type": "markdown",
   "id": "ee9b6d3a",
   "metadata": {},
   "source": [
    "# Support2"
   ]
  },
  {
   "cell_type": "code",
   "execution_count": 75,
   "id": "61a466f8-96e0-47e4-9e93-9294f6ddb834",
   "metadata": {},
   "outputs": [],
   "source": [
    "df = pd.read_csv('../data/support2.csv')"
   ]
  },
  {
   "cell_type": "code",
   "execution_count": 76,
   "id": "c94a608b-6759-436d-b520-98b7832e0918",
   "metadata": {},
   "outputs": [
    {
     "name": "stderr",
     "output_type": "stream",
     "text": [
      "/mnt/c/Users/rizki/Master Files/ThesisUMCG/Survival-Tree-Analysis/src/dataset.py:95: FutureWarning: Downcasting behavior in `replace` is deprecated and will be removed in a future version. To retain the old behavior, explicitly call `result.infer_objects(copy=False)`. To opt-in to the future behavior, set `pd.set_option('future.no_silent_downcasting', True)`\n",
      "  self.data.replace({False: 0, True: 1}, inplace=True)\n"
     ]
    }
   ],
   "source": [
    "data = SupportDataset(df)"
   ]
  },
  {
   "cell_type": "code",
   "execution_count": 77,
   "id": "2fedfe90",
   "metadata": {},
   "outputs": [
    {
     "data": {
      "text/plain": [
       "array([[62.84998,  0.     ,  1.     , ...,  1.     ,  0.     ,  0.     ],\n",
       "       [60.33899,  2.     ,  3.     , ...,  0.     ,  1.     ,  0.     ],\n",
       "       [52.74698,  2.     ,  4.     , ...,  0.     ,  1.     ,  0.     ],\n",
       "       ...,\n",
       "       [70.38196,  1.     , 18.     , ...,  0.     ,  1.     ,  0.     ],\n",
       "       [47.01999,  1.     , 22.     , ...,  0.     ,  0.     ,  1.     ],\n",
       "       [81.53894,  1.     ,  1.     , ...,  0.     ,  1.     ,  0.     ]])"
      ]
     },
     "execution_count": 77,
     "metadata": {},
     "output_type": "execute_result"
    }
   ],
   "source": [
    "\n",
    "d = data.get_data()\n",
    "d"
   ]
  },
  {
   "cell_type": "code",
   "execution_count": 78,
   "id": "e397be5d",
   "metadata": {},
   "outputs": [],
   "source": [
    "X_train, X_test, y_train, y_test = data.get_train_test_xgboost()"
   ]
  },
  {
   "cell_type": "code",
   "execution_count": 79,
   "id": "58168635",
   "metadata": {},
   "outputs": [
    {
     "ename": "SyntaxError",
     "evalue": "invalid syntax (3802997179.py, line 3)",
     "output_type": "error",
     "traceback": [
      "\u001b[0;36m  Cell \u001b[0;32mIn[79], line 3\u001b[0;36m\u001b[0m\n\u001b[0;31m    dtrain.set_float_info('label_upper_bound', y_train['Survival_label_upper_bound'])|\u001b[0m\n\u001b[0m                                                                                      ^\u001b[0m\n\u001b[0;31mSyntaxError\u001b[0m\u001b[0;31m:\u001b[0m invalid syntax\n"
     ]
    }
   ],
   "source": [
    "dtrain = xgb.DMatrix(X_train)\n",
    "dtrain.set_float_info('label_lower_bound', y_train['Survival_label_lower_bound'])\n",
    "dtrain.set_float_info('label_upper_bound', y_train['Survival_label_upper_bound'])|"
   ]
  },
  {
   "cell_type": "code",
   "execution_count": 80,
   "id": "d47a9a24",
   "metadata": {},
   "outputs": [],
   "source": [
    "\n",
    "dvalid = xgb.DMatrix(X_test)\n",
    "dvalid.set_float_info('label_lower_bound', y_test['Survival_label_lower_bound'])\n",
    "dvalid.set_float_info('label_upper_bound', y_test['Survival_label_upper_bound'])"
   ]
  },
  {
   "cell_type": "code",
   "execution_count": 81,
   "id": "1f0cb3a6",
   "metadata": {},
   "outputs": [
    {
     "name": "stdout",
     "output_type": "stream",
     "text": [
      "[0]\ttrain-aft-nloglik:15.00177\tvalid-aft-nloglik:15.30634\n",
      "[1]\ttrain-aft-nloglik:14.05325\tvalid-aft-nloglik:14.35721\n",
      "[2]\ttrain-aft-nloglik:13.10038\tvalid-aft-nloglik:13.41016\n"
     ]
    },
    {
     "name": "stdout",
     "output_type": "stream",
     "text": [
      "[3]\ttrain-aft-nloglik:12.18803\tvalid-aft-nloglik:12.49071\n",
      "[4]\ttrain-aft-nloglik:11.35780\tvalid-aft-nloglik:11.65341\n",
      "[5]\ttrain-aft-nloglik:10.60332\tvalid-aft-nloglik:10.89063\n",
      "[6]\ttrain-aft-nloglik:9.91694\tvalid-aft-nloglik:10.19749\n",
      "[7]\ttrain-aft-nloglik:9.29235\tvalid-aft-nloglik:9.56679\n",
      "[8]\ttrain-aft-nloglik:8.72220\tvalid-aft-nloglik:8.98999\n",
      "[9]\ttrain-aft-nloglik:8.20292\tvalid-aft-nloglik:8.46526\n",
      "[10]\ttrain-aft-nloglik:7.72934\tvalid-aft-nloglik:7.98467\n",
      "[11]\ttrain-aft-nloglik:7.29714\tvalid-aft-nloglik:7.54617\n",
      "[12]\ttrain-aft-nloglik:6.90242\tvalid-aft-nloglik:7.14511\n",
      "[13]\ttrain-aft-nloglik:6.54185\tvalid-aft-nloglik:6.77727\n",
      "[14]\ttrain-aft-nloglik:6.21188\tvalid-aft-nloglik:6.44134\n",
      "[15]\ttrain-aft-nloglik:5.91021\tvalid-aft-nloglik:6.13329\n",
      "[16]\ttrain-aft-nloglik:5.63362\tvalid-aft-nloglik:5.85188\n",
      "[17]\ttrain-aft-nloglik:5.38037\tvalid-aft-nloglik:5.59375\n",
      "[18]\ttrain-aft-nloglik:5.14820\tvalid-aft-nloglik:5.35673\n",
      "[19]\ttrain-aft-nloglik:4.93527\tvalid-aft-nloglik:5.13936\n",
      "[20]\ttrain-aft-nloglik:4.74008\tvalid-aft-nloglik:4.93987\n",
      "[21]\ttrain-aft-nloglik:4.56110\tvalid-aft-nloglik:4.75697\n",
      "[22]\ttrain-aft-nloglik:4.39692\tvalid-aft-nloglik:4.58812\n",
      "[23]\ttrain-aft-nloglik:4.24613\tvalid-aft-nloglik:4.43306\n",
      "[24]\ttrain-aft-nloglik:4.10778\tvalid-aft-nloglik:4.29044\n",
      "[25]\ttrain-aft-nloglik:3.98080\tvalid-aft-nloglik:4.15979\n",
      "[26]\ttrain-aft-nloglik:3.86432\tvalid-aft-nloglik:4.03951\n",
      "[27]\ttrain-aft-nloglik:3.75741\tvalid-aft-nloglik:3.92873\n",
      "[28]\ttrain-aft-nloglik:3.65927\tvalid-aft-nloglik:3.82711\n",
      "[29]\ttrain-aft-nloglik:3.56924\tvalid-aft-nloglik:3.73339\n",
      "[30]\ttrain-aft-nloglik:3.48660\tvalid-aft-nloglik:3.64715\n",
      "[31]\ttrain-aft-nloglik:3.41076\tvalid-aft-nloglik:3.56783\n",
      "[32]\ttrain-aft-nloglik:3.34114\tvalid-aft-nloglik:3.49507\n",
      "[33]\ttrain-aft-nloglik:3.27728\tvalid-aft-nloglik:3.42823\n",
      "[34]\ttrain-aft-nloglik:3.21868\tvalid-aft-nloglik:3.36665\n",
      "[35]\ttrain-aft-nloglik:3.16486\tvalid-aft-nloglik:3.31025\n",
      "[36]\ttrain-aft-nloglik:3.11550\tvalid-aft-nloglik:3.25844\n",
      "[37]\ttrain-aft-nloglik:3.07018\tvalid-aft-nloglik:3.21058\n",
      "[38]\ttrain-aft-nloglik:3.02862\tvalid-aft-nloglik:3.16648\n",
      "[39]\ttrain-aft-nloglik:2.99051\tvalid-aft-nloglik:3.12599\n",
      "[40]\ttrain-aft-nloglik:2.95559\tvalid-aft-nloglik:3.08872\n",
      "[41]\ttrain-aft-nloglik:2.92358\tvalid-aft-nloglik:3.05456\n",
      "[42]\ttrain-aft-nloglik:2.89425\tvalid-aft-nloglik:3.02314\n",
      "[43]\ttrain-aft-nloglik:2.86735\tvalid-aft-nloglik:2.99426\n",
      "[44]\ttrain-aft-nloglik:2.84270\tvalid-aft-nloglik:2.96776\n",
      "[45]\ttrain-aft-nloglik:2.82010\tvalid-aft-nloglik:2.94336\n",
      "[46]\ttrain-aft-nloglik:2.79939\tvalid-aft-nloglik:2.92094\n",
      "[47]\ttrain-aft-nloglik:2.78042\tvalid-aft-nloglik:2.90037\n",
      "[48]\ttrain-aft-nloglik:2.76303\tvalid-aft-nloglik:2.88153\n",
      "[49]\ttrain-aft-nloglik:2.74712\tvalid-aft-nloglik:2.86411\n",
      "[50]\ttrain-aft-nloglik:2.73254\tvalid-aft-nloglik:2.84810\n",
      "[51]\ttrain-aft-nloglik:2.71920\tvalid-aft-nloglik:2.83347\n",
      "[52]\ttrain-aft-nloglik:2.70696\tvalid-aft-nloglik:2.81997\n",
      "[53]\ttrain-aft-nloglik:2.69576\tvalid-aft-nloglik:2.80759\n",
      "[54]\ttrain-aft-nloglik:2.68550\tvalid-aft-nloglik:2.79624\n",
      "[55]\ttrain-aft-nloglik:2.67613\tvalid-aft-nloglik:2.78582\n",
      "[56]\ttrain-aft-nloglik:2.66754\tvalid-aft-nloglik:2.77627\n",
      "[57]\ttrain-aft-nloglik:2.65969\tvalid-aft-nloglik:2.76746\n",
      "[58]\ttrain-aft-nloglik:2.65241\tvalid-aft-nloglik:2.75932\n",
      "[59]\ttrain-aft-nloglik:2.64578\tvalid-aft-nloglik:2.75191\n",
      "[60]\ttrain-aft-nloglik:2.63967\tvalid-aft-nloglik:2.74510\n",
      "[61]\ttrain-aft-nloglik:2.63411\tvalid-aft-nloglik:2.73890\n",
      "[62]\ttrain-aft-nloglik:2.62900\tvalid-aft-nloglik:2.73318\n",
      "[63]\ttrain-aft-nloglik:2.62432\tvalid-aft-nloglik:2.72796\n",
      "[64]\ttrain-aft-nloglik:2.62005\tvalid-aft-nloglik:2.72299\n",
      "[65]\ttrain-aft-nloglik:2.61616\tvalid-aft-nloglik:2.71867\n",
      "[66]\ttrain-aft-nloglik:2.61261\tvalid-aft-nloglik:2.71472\n",
      "[67]\ttrain-aft-nloglik:2.60936\tvalid-aft-nloglik:2.71108\n",
      "[68]\ttrain-aft-nloglik:2.60639\tvalid-aft-nloglik:2.70774\n",
      "[69]\ttrain-aft-nloglik:2.60365\tvalid-aft-nloglik:2.70462\n",
      "[70]\ttrain-aft-nloglik:2.60108\tvalid-aft-nloglik:2.70169\n",
      "[71]\ttrain-aft-nloglik:2.59879\tvalid-aft-nloglik:2.69909\n",
      "[72]\ttrain-aft-nloglik:2.59667\tvalid-aft-nloglik:2.69663\n",
      "[73]\ttrain-aft-nloglik:2.59463\tvalid-aft-nloglik:2.69430\n",
      "[74]\ttrain-aft-nloglik:2.59285\tvalid-aft-nloglik:2.69233\n",
      "[75]\ttrain-aft-nloglik:2.59123\tvalid-aft-nloglik:2.69036\n",
      "[76]\ttrain-aft-nloglik:2.58970\tvalid-aft-nloglik:2.68865\n",
      "[77]\ttrain-aft-nloglik:2.58824\tvalid-aft-nloglik:2.68690\n",
      "[78]\ttrain-aft-nloglik:2.58697\tvalid-aft-nloglik:2.68542\n",
      "[79]\ttrain-aft-nloglik:2.58574\tvalid-aft-nloglik:2.68407\n",
      "[80]\ttrain-aft-nloglik:2.58465\tvalid-aft-nloglik:2.68275\n",
      "[81]\ttrain-aft-nloglik:2.58363\tvalid-aft-nloglik:2.68162\n",
      "[82]\ttrain-aft-nloglik:2.58265\tvalid-aft-nloglik:2.68042\n",
      "[83]\ttrain-aft-nloglik:2.58179\tvalid-aft-nloglik:2.67949\n",
      "[84]\ttrain-aft-nloglik:2.58094\tvalid-aft-nloglik:2.67853\n",
      "[85]\ttrain-aft-nloglik:2.58016\tvalid-aft-nloglik:2.67754\n",
      "[86]\ttrain-aft-nloglik:2.57947\tvalid-aft-nloglik:2.67682\n",
      "[87]\ttrain-aft-nloglik:2.57879\tvalid-aft-nloglik:2.67603\n",
      "[88]\ttrain-aft-nloglik:2.57815\tvalid-aft-nloglik:2.67542\n",
      "[89]\ttrain-aft-nloglik:2.57760\tvalid-aft-nloglik:2.67486\n",
      "[90]\ttrain-aft-nloglik:2.57705\tvalid-aft-nloglik:2.67424\n",
      "[91]\ttrain-aft-nloglik:2.57656\tvalid-aft-nloglik:2.67378\n",
      "[92]\ttrain-aft-nloglik:2.57607\tvalid-aft-nloglik:2.67313\n",
      "[93]\ttrain-aft-nloglik:2.57563\tvalid-aft-nloglik:2.67272\n",
      "[94]\ttrain-aft-nloglik:2.57515\tvalid-aft-nloglik:2.67237\n",
      "[95]\ttrain-aft-nloglik:2.57478\tvalid-aft-nloglik:2.67202\n",
      "[96]\ttrain-aft-nloglik:2.57443\tvalid-aft-nloglik:2.67167\n",
      "[97]\ttrain-aft-nloglik:2.57406\tvalid-aft-nloglik:2.67131\n",
      "[98]\ttrain-aft-nloglik:2.57370\tvalid-aft-nloglik:2.67095\n",
      "[99]\ttrain-aft-nloglik:2.57334\tvalid-aft-nloglik:2.67065\n",
      "[100]\ttrain-aft-nloglik:2.57302\tvalid-aft-nloglik:2.67032\n",
      "[101]\ttrain-aft-nloglik:2.57266\tvalid-aft-nloglik:2.66999\n",
      "[102]\ttrain-aft-nloglik:2.57239\tvalid-aft-nloglik:2.66977\n",
      "[103]\ttrain-aft-nloglik:2.57208\tvalid-aft-nloglik:2.66950\n",
      "[104]\ttrain-aft-nloglik:2.57177\tvalid-aft-nloglik:2.66928\n",
      "[105]\ttrain-aft-nloglik:2.57150\tvalid-aft-nloglik:2.66905\n",
      "[106]\ttrain-aft-nloglik:2.57125\tvalid-aft-nloglik:2.66886\n",
      "[107]\ttrain-aft-nloglik:2.57099\tvalid-aft-nloglik:2.66866\n",
      "[108]\ttrain-aft-nloglik:2.57073\tvalid-aft-nloglik:2.66857\n",
      "[109]\ttrain-aft-nloglik:2.57041\tvalid-aft-nloglik:2.66841\n",
      "[110]\ttrain-aft-nloglik:2.57021\tvalid-aft-nloglik:2.66826\n",
      "[111]\ttrain-aft-nloglik:2.56993\tvalid-aft-nloglik:2.66816\n",
      "[112]\ttrain-aft-nloglik:2.56973\tvalid-aft-nloglik:2.66809\n",
      "[113]\ttrain-aft-nloglik:2.56954\tvalid-aft-nloglik:2.66800\n",
      "[114]\ttrain-aft-nloglik:2.56934\tvalid-aft-nloglik:2.66790\n",
      "[115]\ttrain-aft-nloglik:2.56910\tvalid-aft-nloglik:2.66775\n",
      "[116]\ttrain-aft-nloglik:2.56893\tvalid-aft-nloglik:2.66762\n",
      "[117]\ttrain-aft-nloglik:2.56870\tvalid-aft-nloglik:2.66749\n",
      "[118]\ttrain-aft-nloglik:2.56845\tvalid-aft-nloglik:2.66743\n",
      "[119]\ttrain-aft-nloglik:2.56824\tvalid-aft-nloglik:2.66737\n",
      "[120]\ttrain-aft-nloglik:2.56805\tvalid-aft-nloglik:2.66729\n",
      "[121]\ttrain-aft-nloglik:2.56790\tvalid-aft-nloglik:2.66715\n",
      "[122]\ttrain-aft-nloglik:2.56775\tvalid-aft-nloglik:2.66710\n",
      "[123]\ttrain-aft-nloglik:2.56763\tvalid-aft-nloglik:2.66703\n",
      "[124]\ttrain-aft-nloglik:2.56743\tvalid-aft-nloglik:2.66698\n",
      "[125]\ttrain-aft-nloglik:2.56727\tvalid-aft-nloglik:2.66701\n",
      "[126]\ttrain-aft-nloglik:2.56713\tvalid-aft-nloglik:2.66688\n",
      "[127]\ttrain-aft-nloglik:2.56692\tvalid-aft-nloglik:2.66680\n",
      "[128]\ttrain-aft-nloglik:2.56685\tvalid-aft-nloglik:2.66676\n",
      "[129]\ttrain-aft-nloglik:2.56669\tvalid-aft-nloglik:2.66674\n",
      "[130]\ttrain-aft-nloglik:2.56652\tvalid-aft-nloglik:2.66666\n",
      "[131]\ttrain-aft-nloglik:2.56641\tvalid-aft-nloglik:2.66660\n",
      "[132]\ttrain-aft-nloglik:2.56634\tvalid-aft-nloglik:2.66660\n",
      "[133]\ttrain-aft-nloglik:2.56624\tvalid-aft-nloglik:2.66657\n",
      "[134]\ttrain-aft-nloglik:2.56611\tvalid-aft-nloglik:2.66654\n",
      "[135]\ttrain-aft-nloglik:2.56589\tvalid-aft-nloglik:2.66650\n",
      "[136]\ttrain-aft-nloglik:2.56582\tvalid-aft-nloglik:2.66642\n",
      "[137]\ttrain-aft-nloglik:2.56571\tvalid-aft-nloglik:2.66640\n",
      "[138]\ttrain-aft-nloglik:2.56557\tvalid-aft-nloglik:2.66642\n",
      "[139]\ttrain-aft-nloglik:2.56531\tvalid-aft-nloglik:2.66647\n",
      "[140]\ttrain-aft-nloglik:2.56524\tvalid-aft-nloglik:2.66644\n",
      "[141]\ttrain-aft-nloglik:2.56511\tvalid-aft-nloglik:2.66639\n",
      "[142]\ttrain-aft-nloglik:2.56492\tvalid-aft-nloglik:2.66637\n",
      "[143]\ttrain-aft-nloglik:2.56477\tvalid-aft-nloglik:2.66632\n",
      "[144]\ttrain-aft-nloglik:2.56452\tvalid-aft-nloglik:2.66638\n",
      "[145]\ttrain-aft-nloglik:2.56443\tvalid-aft-nloglik:2.66637\n",
      "[146]\ttrain-aft-nloglik:2.56429\tvalid-aft-nloglik:2.66633\n",
      "[147]\ttrain-aft-nloglik:2.56408\tvalid-aft-nloglik:2.66641\n",
      "[148]\ttrain-aft-nloglik:2.56403\tvalid-aft-nloglik:2.66640\n",
      "[149]\ttrain-aft-nloglik:2.56393\tvalid-aft-nloglik:2.66638\n",
      "[150]\ttrain-aft-nloglik:2.56380\tvalid-aft-nloglik:2.66642\n",
      "[151]\ttrain-aft-nloglik:2.56365\tvalid-aft-nloglik:2.66639\n",
      "[152]\ttrain-aft-nloglik:2.56361\tvalid-aft-nloglik:2.66638\n",
      "[153]\ttrain-aft-nloglik:2.56350\tvalid-aft-nloglik:2.66639\n"
     ]
    }
   ],
   "source": [
    "params = {'verbosity': 0,\n",
    "          'objective': 'survival:aft',\n",
    "          'eval_metric': 'aft-nloglik',\n",
    "          'tree_method': 'hist',\n",
    "          'learning_rate': 0.05,\n",
    "          'aft_loss_distribution': 'normal',\n",
    "          'aft_loss_distribution_scale': 1.2,\n",
    "          'max_depth': 6,\n",
    "          'lambda': 0.01,\n",
    "          'alpha': 0.02}\n",
    "\n",
    "bst = xgb.train(params, dtrain, num_boost_round=1000,\n",
    "                evals=[(dtrain, 'train'), (dvalid, 'valid')],\n",
    "                early_stopping_rounds=10)"
   ]
  },
  {
   "cell_type": "code",
   "execution_count": 82,
   "id": "fd2b883f",
   "metadata": {},
   "outputs": [
    {
     "data": {
      "text/plain": [
       "array([6.733583 , 6.653086 , 7.761915 , ..., 7.026075 , 7.7265673,\n",
       "       7.647699 ], dtype=float32)"
      ]
     },
     "execution_count": 82,
     "metadata": {},
     "output_type": "execute_result"
    }
   ],
   "source": [
    "times_pred = bst.predict(dvalid, output_margin=True)\n",
    "times_pred"
   ]
  },
  {
   "cell_type": "code",
   "execution_count": 83,
   "id": "2997fd00",
   "metadata": {},
   "outputs": [],
   "source": [
    "times_true = []\n",
    "event_true = []\n",
    "for idx, rows in y_test.iterrows():\n",
    "    if rows['Survival_label_upper_bound'] == np.inf or not rows['Survival_label_upper_bound']:\n",
    "        event = 0\n",
    "    else:\n",
    "        event = 1 \n",
    "    event_true.append(event)\n",
    "    times = rows['Survival_label_lower_bound']\n",
    "    times_true.append(times)\n",
    "times_true = np.array(times_true)\n",
    "event_true = np.array(event_true)"
   ]
  },
  {
   "cell_type": "code",
   "execution_count": 84,
   "id": "93d38a5d",
   "metadata": {},
   "outputs": [
    {
     "data": {
      "text/html": [
       "<div>\n",
       "<style scoped>\n",
       "    .dataframe tbody tr th:only-of-type {\n",
       "        vertical-align: middle;\n",
       "    }\n",
       "\n",
       "    .dataframe tbody tr th {\n",
       "        vertical-align: top;\n",
       "    }\n",
       "\n",
       "    .dataframe thead th {\n",
       "        text-align: right;\n",
       "    }\n",
       "</style>\n",
       "<table border=\"1\" class=\"dataframe\">\n",
       "  <thead>\n",
       "    <tr style=\"text-align: right;\">\n",
       "      <th></th>\n",
       "      <th>Survival_label_lower_bound</th>\n",
       "      <th>Survival_label_upper_bound</th>\n",
       "    </tr>\n",
       "  </thead>\n",
       "  <tbody>\n",
       "    <tr>\n",
       "      <th>8630</th>\n",
       "      <td>109</td>\n",
       "      <td>inf</td>\n",
       "    </tr>\n",
       "    <tr>\n",
       "      <th>1069</th>\n",
       "      <td>866</td>\n",
       "      <td>866.0</td>\n",
       "    </tr>\n",
       "    <tr>\n",
       "      <th>6549</th>\n",
       "      <td>128</td>\n",
       "      <td>inf</td>\n",
       "    </tr>\n",
       "    <tr>\n",
       "      <th>5459</th>\n",
       "      <td>35</td>\n",
       "      <td>inf</td>\n",
       "    </tr>\n",
       "    <tr>\n",
       "      <th>5318</th>\n",
       "      <td>582</td>\n",
       "      <td>582.0</td>\n",
       "    </tr>\n",
       "  </tbody>\n",
       "</table>\n",
       "</div>"
      ],
      "text/plain": [
       "      Survival_label_lower_bound  Survival_label_upper_bound\n",
       "8630                         109                         inf\n",
       "1069                         866                       866.0\n",
       "6549                         128                         inf\n",
       "5459                          35                         inf\n",
       "5318                         582                       582.0"
      ]
     },
     "execution_count": 84,
     "metadata": {},
     "output_type": "execute_result"
    }
   ],
   "source": [
    "y_test.head()"
   ]
  },
  {
   "cell_type": "code",
   "execution_count": 85,
   "id": "7d75c1da",
   "metadata": {},
   "outputs": [
    {
     "data": {
      "text/plain": [
       "0.7553952338009053"
      ]
     },
     "execution_count": 85,
     "metadata": {},
     "output_type": "execute_result"
    }
   ],
   "source": [
    "from lifelines.utils import concordance_index\n",
    "c_index = concordance_index(times_true, times_pred, event_true)\n",
    "c_index"
   ]
  },
  {
   "cell_type": "code",
   "execution_count": null,
   "id": "c9427c75",
   "metadata": {},
   "outputs": [],
   "source": []
  },
  {
   "cell_type": "code",
   "execution_count": null,
   "id": "05da6eb4",
   "metadata": {},
   "outputs": [],
   "source": []
  }
 ],
 "metadata": {
  "kernelspec": {
   "display_name": "env",
   "language": "python",
   "name": "env"
  },
  "language_info": {
   "codemirror_mode": {
    "name": "ipython",
    "version": 3
   },
   "file_extension": ".py",
   "mimetype": "text/x-python",
   "name": "python",
   "nbconvert_exporter": "python",
   "pygments_lexer": "ipython3",
   "version": "3.11.5"
  }
 },
 "nbformat": 4,
 "nbformat_minor": 5
}
