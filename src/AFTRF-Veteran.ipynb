{
 "cells": [
  {
   "cell_type": "code",
   "execution_count": 1,
   "id": "a4b70fe4-291d-4d49-ada5-7a7e4e5ced2a",
   "metadata": {},
   "outputs": [
    {
     "name": "stderr",
     "output_type": "stream",
     "text": [
      "/home/rizkiduwinanto/anaconda3/lib/python3.11/site-packages/pandas/core/arrays/masked.py:60: UserWarning: Pandas requires version '1.3.6' or newer of 'bottleneck' (version '1.3.5' currently installed).\n",
      "  from pandas.core import (\n"
     ]
    }
   ],
   "source": [
    "import pandas as pd\n",
    "import numpy as np\n",
    "from sklearn.model_selection import train_test_split\n",
    "\n",
    "from tree import AFTSurvivalTree\n",
    "from forest import AFTForest\n",
    "from dataset import SupportDataset, SyntheticDataset, VeteranLungDataset\n",
    "import time"
   ]
  },
  {
   "cell_type": "code",
   "execution_count": 2,
   "id": "06237ab7",
   "metadata": {},
   "outputs": [
    {
     "name": "stderr",
     "output_type": "stream",
     "text": [
      "/home/rizkiduwinanto/anaconda3/lib/python3.11/site-packages/pandas/core/nanops.py:1016: RuntimeWarning: invalid value encountered in subtract\n",
      "  sqr = _ensure_numeric((avg - values) ** 2)\n"
     ]
    },
    {
     "data": {
      "text/html": [
       "<div>\n",
       "<style scoped>\n",
       "    .dataframe tbody tr th:only-of-type {\n",
       "        vertical-align: middle;\n",
       "    }\n",
       "\n",
       "    .dataframe tbody tr th {\n",
       "        vertical-align: top;\n",
       "    }\n",
       "\n",
       "    .dataframe thead th {\n",
       "        text-align: right;\n",
       "    }\n",
       "</style>\n",
       "<table border=\"1\" class=\"dataframe\">\n",
       "  <thead>\n",
       "    <tr style=\"text-align: right;\">\n",
       "      <th></th>\n",
       "      <th>Survival_label_lower_bound</th>\n",
       "      <th>Survival_label_upper_bound</th>\n",
       "      <th>Age_in_years</th>\n",
       "      <th>Karnofsky_score</th>\n",
       "      <th>Months_from_Diagnosis</th>\n",
       "      <th>Celltype=adeno</th>\n",
       "      <th>Celltype=large</th>\n",
       "      <th>Celltype=smallcell</th>\n",
       "      <th>Celltype=squamous</th>\n",
       "      <th>Prior_therapy=no</th>\n",
       "      <th>Prior_therapy=yes</th>\n",
       "      <th>Treatment=standard</th>\n",
       "      <th>Treatment=test</th>\n",
       "    </tr>\n",
       "  </thead>\n",
       "  <tbody>\n",
       "    <tr>\n",
       "      <th>count</th>\n",
       "      <td>137.000000</td>\n",
       "      <td>137.0</td>\n",
       "      <td>137.000000</td>\n",
       "      <td>137.000000</td>\n",
       "      <td>137.000000</td>\n",
       "      <td>137.000000</td>\n",
       "      <td>137.000000</td>\n",
       "      <td>137.000000</td>\n",
       "      <td>137.000000</td>\n",
       "      <td>137.000000</td>\n",
       "      <td>137.000000</td>\n",
       "      <td>137.000000</td>\n",
       "      <td>137.000000</td>\n",
       "    </tr>\n",
       "    <tr>\n",
       "      <th>mean</th>\n",
       "      <td>121.627737</td>\n",
       "      <td>inf</td>\n",
       "      <td>58.306569</td>\n",
       "      <td>58.569343</td>\n",
       "      <td>8.773723</td>\n",
       "      <td>0.197080</td>\n",
       "      <td>0.197080</td>\n",
       "      <td>0.350365</td>\n",
       "      <td>0.255474</td>\n",
       "      <td>0.708029</td>\n",
       "      <td>0.291971</td>\n",
       "      <td>0.503650</td>\n",
       "      <td>0.496350</td>\n",
       "    </tr>\n",
       "    <tr>\n",
       "      <th>std</th>\n",
       "      <td>157.816722</td>\n",
       "      <td>NaN</td>\n",
       "      <td>10.541628</td>\n",
       "      <td>20.039592</td>\n",
       "      <td>10.612141</td>\n",
       "      <td>0.399253</td>\n",
       "      <td>0.399253</td>\n",
       "      <td>0.478835</td>\n",
       "      <td>0.437728</td>\n",
       "      <td>0.456337</td>\n",
       "      <td>0.456337</td>\n",
       "      <td>0.501821</td>\n",
       "      <td>0.501821</td>\n",
       "    </tr>\n",
       "    <tr>\n",
       "      <th>min</th>\n",
       "      <td>1.000000</td>\n",
       "      <td>1.0</td>\n",
       "      <td>34.000000</td>\n",
       "      <td>10.000000</td>\n",
       "      <td>1.000000</td>\n",
       "      <td>0.000000</td>\n",
       "      <td>0.000000</td>\n",
       "      <td>0.000000</td>\n",
       "      <td>0.000000</td>\n",
       "      <td>0.000000</td>\n",
       "      <td>0.000000</td>\n",
       "      <td>0.000000</td>\n",
       "      <td>0.000000</td>\n",
       "    </tr>\n",
       "    <tr>\n",
       "      <th>25%</th>\n",
       "      <td>25.000000</td>\n",
       "      <td>25.0</td>\n",
       "      <td>51.000000</td>\n",
       "      <td>40.000000</td>\n",
       "      <td>3.000000</td>\n",
       "      <td>0.000000</td>\n",
       "      <td>0.000000</td>\n",
       "      <td>0.000000</td>\n",
       "      <td>0.000000</td>\n",
       "      <td>0.000000</td>\n",
       "      <td>0.000000</td>\n",
       "      <td>0.000000</td>\n",
       "      <td>0.000000</td>\n",
       "    </tr>\n",
       "    <tr>\n",
       "      <th>50%</th>\n",
       "      <td>80.000000</td>\n",
       "      <td>80.0</td>\n",
       "      <td>62.000000</td>\n",
       "      <td>60.000000</td>\n",
       "      <td>5.000000</td>\n",
       "      <td>0.000000</td>\n",
       "      <td>0.000000</td>\n",
       "      <td>0.000000</td>\n",
       "      <td>0.000000</td>\n",
       "      <td>1.000000</td>\n",
       "      <td>0.000000</td>\n",
       "      <td>1.000000</td>\n",
       "      <td>0.000000</td>\n",
       "    </tr>\n",
       "    <tr>\n",
       "      <th>75%</th>\n",
       "      <td>144.000000</td>\n",
       "      <td>177.0</td>\n",
       "      <td>66.000000</td>\n",
       "      <td>75.000000</td>\n",
       "      <td>11.000000</td>\n",
       "      <td>0.000000</td>\n",
       "      <td>0.000000</td>\n",
       "      <td>1.000000</td>\n",
       "      <td>1.000000</td>\n",
       "      <td>1.000000</td>\n",
       "      <td>1.000000</td>\n",
       "      <td>1.000000</td>\n",
       "      <td>1.000000</td>\n",
       "    </tr>\n",
       "    <tr>\n",
       "      <th>max</th>\n",
       "      <td>999.000000</td>\n",
       "      <td>inf</td>\n",
       "      <td>81.000000</td>\n",
       "      <td>99.000000</td>\n",
       "      <td>87.000000</td>\n",
       "      <td>1.000000</td>\n",
       "      <td>1.000000</td>\n",
       "      <td>1.000000</td>\n",
       "      <td>1.000000</td>\n",
       "      <td>1.000000</td>\n",
       "      <td>1.000000</td>\n",
       "      <td>1.000000</td>\n",
       "      <td>1.000000</td>\n",
       "    </tr>\n",
       "  </tbody>\n",
       "</table>\n",
       "</div>"
      ],
      "text/plain": [
       "       Survival_label_lower_bound  Survival_label_upper_bound  Age_in_years  \\\n",
       "count                  137.000000                       137.0    137.000000   \n",
       "mean                   121.627737                         inf     58.306569   \n",
       "std                    157.816722                         NaN     10.541628   \n",
       "min                      1.000000                         1.0     34.000000   \n",
       "25%                     25.000000                        25.0     51.000000   \n",
       "50%                     80.000000                        80.0     62.000000   \n",
       "75%                    144.000000                       177.0     66.000000   \n",
       "max                    999.000000                         inf     81.000000   \n",
       "\n",
       "       Karnofsky_score  Months_from_Diagnosis  Celltype=adeno  Celltype=large  \\\n",
       "count       137.000000             137.000000      137.000000      137.000000   \n",
       "mean         58.569343               8.773723        0.197080        0.197080   \n",
       "std          20.039592              10.612141        0.399253        0.399253   \n",
       "min          10.000000               1.000000        0.000000        0.000000   \n",
       "25%          40.000000               3.000000        0.000000        0.000000   \n",
       "50%          60.000000               5.000000        0.000000        0.000000   \n",
       "75%          75.000000              11.000000        0.000000        0.000000   \n",
       "max          99.000000              87.000000        1.000000        1.000000   \n",
       "\n",
       "       Celltype=smallcell  Celltype=squamous  Prior_therapy=no  \\\n",
       "count          137.000000         137.000000        137.000000   \n",
       "mean             0.350365           0.255474          0.708029   \n",
       "std              0.478835           0.437728          0.456337   \n",
       "min              0.000000           0.000000          0.000000   \n",
       "25%              0.000000           0.000000          0.000000   \n",
       "50%              0.000000           0.000000          1.000000   \n",
       "75%              1.000000           1.000000          1.000000   \n",
       "max              1.000000           1.000000          1.000000   \n",
       "\n",
       "       Prior_therapy=yes  Treatment=standard  Treatment=test  \n",
       "count         137.000000          137.000000      137.000000  \n",
       "mean            0.291971            0.503650        0.496350  \n",
       "std             0.456337            0.501821        0.501821  \n",
       "min             0.000000            0.000000        0.000000  \n",
       "25%             0.000000            0.000000        0.000000  \n",
       "50%             0.000000            1.000000        0.000000  \n",
       "75%             1.000000            1.000000        1.000000  \n",
       "max             1.000000            1.000000        1.000000  "
      ]
     },
     "execution_count": 2,
     "metadata": {},
     "output_type": "execute_result"
    }
   ],
   "source": [
    "df = pd.read_csv('../data/veterans_lung_cancer.csv')\n",
    "df.describe()"
   ]
  },
  {
   "cell_type": "code",
   "execution_count": 3,
   "id": "6a8e8ba9",
   "metadata": {},
   "outputs": [
    {
     "data": {
      "text/html": [
       "<div>\n",
       "<style scoped>\n",
       "    .dataframe tbody tr th:only-of-type {\n",
       "        vertical-align: middle;\n",
       "    }\n",
       "\n",
       "    .dataframe tbody tr th {\n",
       "        vertical-align: top;\n",
       "    }\n",
       "\n",
       "    .dataframe thead th {\n",
       "        text-align: right;\n",
       "    }\n",
       "</style>\n",
       "<table border=\"1\" class=\"dataframe\">\n",
       "  <thead>\n",
       "    <tr style=\"text-align: right;\">\n",
       "      <th></th>\n",
       "      <th>Survival_label_lower_bound</th>\n",
       "      <th>Survival_label_upper_bound</th>\n",
       "      <th>Age_in_years</th>\n",
       "      <th>Karnofsky_score</th>\n",
       "      <th>Months_from_Diagnosis</th>\n",
       "      <th>Celltype=adeno</th>\n",
       "      <th>Celltype=large</th>\n",
       "      <th>Celltype=smallcell</th>\n",
       "      <th>Celltype=squamous</th>\n",
       "      <th>Prior_therapy=no</th>\n",
       "      <th>Prior_therapy=yes</th>\n",
       "      <th>Treatment=standard</th>\n",
       "      <th>Treatment=test</th>\n",
       "    </tr>\n",
       "  </thead>\n",
       "  <tbody>\n",
       "    <tr>\n",
       "      <th>0</th>\n",
       "      <td>72.0</td>\n",
       "      <td>72.0</td>\n",
       "      <td>69.0</td>\n",
       "      <td>60.0</td>\n",
       "      <td>7.0</td>\n",
       "      <td>0</td>\n",
       "      <td>0</td>\n",
       "      <td>0</td>\n",
       "      <td>1</td>\n",
       "      <td>1</td>\n",
       "      <td>0</td>\n",
       "      <td>1</td>\n",
       "      <td>0</td>\n",
       "    </tr>\n",
       "    <tr>\n",
       "      <th>1</th>\n",
       "      <td>411.0</td>\n",
       "      <td>411.0</td>\n",
       "      <td>64.0</td>\n",
       "      <td>70.0</td>\n",
       "      <td>5.0</td>\n",
       "      <td>0</td>\n",
       "      <td>0</td>\n",
       "      <td>0</td>\n",
       "      <td>1</td>\n",
       "      <td>0</td>\n",
       "      <td>1</td>\n",
       "      <td>1</td>\n",
       "      <td>0</td>\n",
       "    </tr>\n",
       "    <tr>\n",
       "      <th>2</th>\n",
       "      <td>228.0</td>\n",
       "      <td>228.0</td>\n",
       "      <td>38.0</td>\n",
       "      <td>60.0</td>\n",
       "      <td>3.0</td>\n",
       "      <td>0</td>\n",
       "      <td>0</td>\n",
       "      <td>0</td>\n",
       "      <td>1</td>\n",
       "      <td>1</td>\n",
       "      <td>0</td>\n",
       "      <td>1</td>\n",
       "      <td>0</td>\n",
       "    </tr>\n",
       "    <tr>\n",
       "      <th>3</th>\n",
       "      <td>126.0</td>\n",
       "      <td>126.0</td>\n",
       "      <td>63.0</td>\n",
       "      <td>60.0</td>\n",
       "      <td>9.0</td>\n",
       "      <td>0</td>\n",
       "      <td>0</td>\n",
       "      <td>0</td>\n",
       "      <td>1</td>\n",
       "      <td>0</td>\n",
       "      <td>1</td>\n",
       "      <td>1</td>\n",
       "      <td>0</td>\n",
       "    </tr>\n",
       "    <tr>\n",
       "      <th>4</th>\n",
       "      <td>118.0</td>\n",
       "      <td>118.0</td>\n",
       "      <td>65.0</td>\n",
       "      <td>70.0</td>\n",
       "      <td>11.0</td>\n",
       "      <td>0</td>\n",
       "      <td>0</td>\n",
       "      <td>0</td>\n",
       "      <td>1</td>\n",
       "      <td>0</td>\n",
       "      <td>1</td>\n",
       "      <td>1</td>\n",
       "      <td>0</td>\n",
       "    </tr>\n",
       "    <tr>\n",
       "      <th>...</th>\n",
       "      <td>...</td>\n",
       "      <td>...</td>\n",
       "      <td>...</td>\n",
       "      <td>...</td>\n",
       "      <td>...</td>\n",
       "      <td>...</td>\n",
       "      <td>...</td>\n",
       "      <td>...</td>\n",
       "      <td>...</td>\n",
       "      <td>...</td>\n",
       "      <td>...</td>\n",
       "      <td>...</td>\n",
       "      <td>...</td>\n",
       "    </tr>\n",
       "    <tr>\n",
       "      <th>132</th>\n",
       "      <td>133.0</td>\n",
       "      <td>133.0</td>\n",
       "      <td>65.0</td>\n",
       "      <td>75.0</td>\n",
       "      <td>1.0</td>\n",
       "      <td>0</td>\n",
       "      <td>1</td>\n",
       "      <td>0</td>\n",
       "      <td>0</td>\n",
       "      <td>1</td>\n",
       "      <td>0</td>\n",
       "      <td>0</td>\n",
       "      <td>1</td>\n",
       "    </tr>\n",
       "    <tr>\n",
       "      <th>133</th>\n",
       "      <td>111.0</td>\n",
       "      <td>111.0</td>\n",
       "      <td>64.0</td>\n",
       "      <td>60.0</td>\n",
       "      <td>5.0</td>\n",
       "      <td>0</td>\n",
       "      <td>1</td>\n",
       "      <td>0</td>\n",
       "      <td>0</td>\n",
       "      <td>1</td>\n",
       "      <td>0</td>\n",
       "      <td>0</td>\n",
       "      <td>1</td>\n",
       "    </tr>\n",
       "    <tr>\n",
       "      <th>134</th>\n",
       "      <td>231.0</td>\n",
       "      <td>231.0</td>\n",
       "      <td>67.0</td>\n",
       "      <td>70.0</td>\n",
       "      <td>18.0</td>\n",
       "      <td>0</td>\n",
       "      <td>1</td>\n",
       "      <td>0</td>\n",
       "      <td>0</td>\n",
       "      <td>0</td>\n",
       "      <td>1</td>\n",
       "      <td>0</td>\n",
       "      <td>1</td>\n",
       "    </tr>\n",
       "    <tr>\n",
       "      <th>135</th>\n",
       "      <td>378.0</td>\n",
       "      <td>378.0</td>\n",
       "      <td>65.0</td>\n",
       "      <td>80.0</td>\n",
       "      <td>4.0</td>\n",
       "      <td>0</td>\n",
       "      <td>1</td>\n",
       "      <td>0</td>\n",
       "      <td>0</td>\n",
       "      <td>1</td>\n",
       "      <td>0</td>\n",
       "      <td>0</td>\n",
       "      <td>1</td>\n",
       "    </tr>\n",
       "    <tr>\n",
       "      <th>136</th>\n",
       "      <td>49.0</td>\n",
       "      <td>49.0</td>\n",
       "      <td>37.0</td>\n",
       "      <td>30.0</td>\n",
       "      <td>3.0</td>\n",
       "      <td>0</td>\n",
       "      <td>1</td>\n",
       "      <td>0</td>\n",
       "      <td>0</td>\n",
       "      <td>1</td>\n",
       "      <td>0</td>\n",
       "      <td>0</td>\n",
       "      <td>1</td>\n",
       "    </tr>\n",
       "  </tbody>\n",
       "</table>\n",
       "<p>137 rows × 13 columns</p>\n",
       "</div>"
      ],
      "text/plain": [
       "     Survival_label_lower_bound  Survival_label_upper_bound  Age_in_years  \\\n",
       "0                          72.0                        72.0          69.0   \n",
       "1                         411.0                       411.0          64.0   \n",
       "2                         228.0                       228.0          38.0   \n",
       "3                         126.0                       126.0          63.0   \n",
       "4                         118.0                       118.0          65.0   \n",
       "..                          ...                         ...           ...   \n",
       "132                       133.0                       133.0          65.0   \n",
       "133                       111.0                       111.0          64.0   \n",
       "134                       231.0                       231.0          67.0   \n",
       "135                       378.0                       378.0          65.0   \n",
       "136                        49.0                        49.0          37.0   \n",
       "\n",
       "     Karnofsky_score  Months_from_Diagnosis  Celltype=adeno  Celltype=large  \\\n",
       "0               60.0                    7.0               0               0   \n",
       "1               70.0                    5.0               0               0   \n",
       "2               60.0                    3.0               0               0   \n",
       "3               60.0                    9.0               0               0   \n",
       "4               70.0                   11.0               0               0   \n",
       "..               ...                    ...             ...             ...   \n",
       "132             75.0                    1.0               0               1   \n",
       "133             60.0                    5.0               0               1   \n",
       "134             70.0                   18.0               0               1   \n",
       "135             80.0                    4.0               0               1   \n",
       "136             30.0                    3.0               0               1   \n",
       "\n",
       "     Celltype=smallcell  Celltype=squamous  Prior_therapy=no  \\\n",
       "0                     0                  1                 1   \n",
       "1                     0                  1                 0   \n",
       "2                     0                  1                 1   \n",
       "3                     0                  1                 0   \n",
       "4                     0                  1                 0   \n",
       "..                  ...                ...               ...   \n",
       "132                   0                  0                 1   \n",
       "133                   0                  0                 1   \n",
       "134                   0                  0                 0   \n",
       "135                   0                  0                 1   \n",
       "136                   0                  0                 1   \n",
       "\n",
       "     Prior_therapy=yes  Treatment=standard  Treatment=test  \n",
       "0                    0                   1               0  \n",
       "1                    1                   1               0  \n",
       "2                    0                   1               0  \n",
       "3                    1                   1               0  \n",
       "4                    1                   1               0  \n",
       "..                 ...                 ...             ...  \n",
       "132                  0                   0               1  \n",
       "133                  0                   0               1  \n",
       "134                  1                   0               1  \n",
       "135                  0                   0               1  \n",
       "136                  0                   0               1  \n",
       "\n",
       "[137 rows x 13 columns]"
      ]
     },
     "execution_count": 3,
     "metadata": {},
     "output_type": "execute_result"
    }
   ],
   "source": [
    "df"
   ]
  },
  {
   "cell_type": "code",
   "execution_count": 4,
   "id": "40251cdc",
   "metadata": {},
   "outputs": [],
   "source": [
    "import numpy as np\n",
    "import matplotlib.pyplot as plt\n",
    "from scipy.stats import norm, genextreme, gaussian_kde, ecdf"
   ]
  },
  {
   "cell_type": "code",
   "execution_count": 5,
   "id": "47faeff5",
   "metadata": {},
   "outputs": [
    {
     "data": {
      "text/plain": [
       "array([[69., 60.,  7., ...,  0.,  1.,  0.],\n",
       "       [64., 70.,  5., ...,  1.,  1.,  0.],\n",
       "       [38., 60.,  3., ...,  0.,  1.,  0.],\n",
       "       ...,\n",
       "       [67., 70., 18., ...,  1.,  0.,  1.],\n",
       "       [65., 80.,  4., ...,  0.,  0.,  1.],\n",
       "       [37., 30.,  3., ...,  0.,  0.,  1.]])"
      ]
     },
     "execution_count": 5,
     "metadata": {},
     "output_type": "execute_result"
    }
   ],
   "source": [
    "veteran = VeteranLungDataset(df)\n",
    "veteran.get_data()"
   ]
  },
  {
   "cell_type": "code",
   "execution_count": 6,
   "id": "13aee6f0",
   "metadata": {},
   "outputs": [
    {
     "data": {
      "text/plain": [
       "array([(0,  72.), (0, 411.), (0, 228.), (0, 126.), (0, 118.), (0,  10.),\n",
       "       (0,  82.), (0, 110.), (0, 314.), (1, 100.), (0,  42.), (0,   8.),\n",
       "       (0, 144.), (1,  25.), (0,  11.), (0,  30.), (0, 384.), (0,   4.),\n",
       "       (0,  54.), (0,  13.), (1, 123.), (1,  97.), (0, 153.), (0,  59.),\n",
       "       (0, 117.), (0,  16.), (0, 151.), (0,  22.), (0,  56.), (0,  21.),\n",
       "       (0,  18.), (0, 139.), (0,  20.), (0,  31.), (0,  52.), (0, 287.),\n",
       "       (0,  18.), (0,  51.), (0, 122.), (0,  27.), (0,  54.), (0,   7.),\n",
       "       (0,  63.), (0, 392.), (0,  10.), (0,   8.), (0,  92.), (0,  35.),\n",
       "       (0, 117.), (0, 132.), (0,  12.), (0, 162.), (0,   3.), (0,  95.),\n",
       "       (0, 177.), (0, 162.), (0, 216.), (0, 553.), (0, 278.), (0,  12.),\n",
       "       (0, 260.), (0, 200.), (0, 156.), (1, 182.), (0, 143.), (0, 105.),\n",
       "       (0, 103.), (0, 250.), (0, 100.), (0, 999.), (0, 112.), (1,  87.),\n",
       "       (1, 231.), (0, 242.), (0, 991.), (0, 111.), (0,   1.), (0, 587.),\n",
       "       (0, 389.), (0,  33.), (0,  25.), (0, 357.), (0, 467.), (0, 201.),\n",
       "       (0,   1.), (0,  30.), (0,  44.), (0, 283.), (0,  15.), (0,  25.),\n",
       "       (1, 103.), (0,  21.), (0,  13.), (0,  87.), (0,   2.), (0,  20.),\n",
       "       (0,   7.), (0,  24.), (0,  99.), (0,   8.), (0,  99.), (0,  61.),\n",
       "       (0,  25.), (0,  95.), (0,  80.), (0,  51.), (0,  29.), (0,  24.),\n",
       "       (0,  18.), (1,  83.), (0,  31.), (0,  51.), (0,  90.), (0,  52.),\n",
       "       (0,  73.), (0,   8.), (0,  36.), (0,  48.), (0,   7.), (0, 140.),\n",
       "       (0, 186.), (0,  84.), (0,  19.), (0,  45.), (0,  80.), (0,  52.),\n",
       "       (0, 164.), (0,  19.), (0,  53.), (0,  15.), (0,  43.), (0, 340.),\n",
       "       (0, 133.), (0, 111.), (0, 231.), (0, 378.), (0,  49.)],\n",
       "      dtype=(numpy.record, [('death', '<i8'), ('d.time', '<f8')]))"
      ]
     },
     "execution_count": 6,
     "metadata": {},
     "output_type": "execute_result"
    }
   ],
   "source": [
    "veteran.get_label()"
   ]
  },
  {
   "cell_type": "code",
   "execution_count": 7,
   "id": "048e8d31",
   "metadata": {},
   "outputs": [
    {
     "data": {
      "text/html": [
       "<div>\n",
       "<style scoped>\n",
       "    .dataframe tbody tr th:only-of-type {\n",
       "        vertical-align: middle;\n",
       "    }\n",
       "\n",
       "    .dataframe tbody tr th {\n",
       "        vertical-align: top;\n",
       "    }\n",
       "\n",
       "    .dataframe thead th {\n",
       "        text-align: right;\n",
       "    }\n",
       "</style>\n",
       "<table border=\"1\" class=\"dataframe\">\n",
       "  <thead>\n",
       "    <tr style=\"text-align: right;\">\n",
       "      <th></th>\n",
       "      <th>Survival_label_lower_bound</th>\n",
       "      <th>Survival_label_upper_bound</th>\n",
       "    </tr>\n",
       "  </thead>\n",
       "  <tbody>\n",
       "    <tr>\n",
       "      <th>0</th>\n",
       "      <td>72.0</td>\n",
       "      <td>72.0</td>\n",
       "    </tr>\n",
       "    <tr>\n",
       "      <th>1</th>\n",
       "      <td>411.0</td>\n",
       "      <td>411.0</td>\n",
       "    </tr>\n",
       "    <tr>\n",
       "      <th>2</th>\n",
       "      <td>228.0</td>\n",
       "      <td>228.0</td>\n",
       "    </tr>\n",
       "    <tr>\n",
       "      <th>3</th>\n",
       "      <td>126.0</td>\n",
       "      <td>126.0</td>\n",
       "    </tr>\n",
       "    <tr>\n",
       "      <th>4</th>\n",
       "      <td>118.0</td>\n",
       "      <td>118.0</td>\n",
       "    </tr>\n",
       "    <tr>\n",
       "      <th>...</th>\n",
       "      <td>...</td>\n",
       "      <td>...</td>\n",
       "    </tr>\n",
       "    <tr>\n",
       "      <th>132</th>\n",
       "      <td>133.0</td>\n",
       "      <td>133.0</td>\n",
       "    </tr>\n",
       "    <tr>\n",
       "      <th>133</th>\n",
       "      <td>111.0</td>\n",
       "      <td>111.0</td>\n",
       "    </tr>\n",
       "    <tr>\n",
       "      <th>134</th>\n",
       "      <td>231.0</td>\n",
       "      <td>231.0</td>\n",
       "    </tr>\n",
       "    <tr>\n",
       "      <th>135</th>\n",
       "      <td>378.0</td>\n",
       "      <td>378.0</td>\n",
       "    </tr>\n",
       "    <tr>\n",
       "      <th>136</th>\n",
       "      <td>49.0</td>\n",
       "      <td>49.0</td>\n",
       "    </tr>\n",
       "  </tbody>\n",
       "</table>\n",
       "<p>137 rows × 2 columns</p>\n",
       "</div>"
      ],
      "text/plain": [
       "     Survival_label_lower_bound  Survival_label_upper_bound\n",
       "0                          72.0                        72.0\n",
       "1                         411.0                       411.0\n",
       "2                         228.0                       228.0\n",
       "3                         126.0                       126.0\n",
       "4                         118.0                       118.0\n",
       "..                          ...                         ...\n",
       "132                       133.0                       133.0\n",
       "133                       111.0                       111.0\n",
       "134                       231.0                       231.0\n",
       "135                       378.0                       378.0\n",
       "136                        49.0                        49.0\n",
       "\n",
       "[137 rows x 2 columns]"
      ]
     },
     "execution_count": 7,
     "metadata": {},
     "output_type": "execute_result"
    }
   ],
   "source": [
    "veteran.get_xgboost_label()"
   ]
  },
  {
   "cell_type": "code",
   "execution_count": 8,
   "id": "902ba9a0",
   "metadata": {},
   "outputs": [],
   "source": [
    "X_train, X_test, y_train, y_test = veteran.get_train_test()"
   ]
  },
  {
   "cell_type": "markdown",
   "id": "9f1009e5",
   "metadata": {},
   "source": [
    "##### Init All Methods"
   ]
  },
  {
   "cell_type": "markdown",
   "id": "10e94e3a",
   "metadata": {},
   "source": [
    "AFT-Forest"
   ]
  },
  {
   "cell_type": "code",
   "execution_count": 9,
   "id": "47aedd79",
   "metadata": {},
   "outputs": [],
   "source": [
    "aft_surv_tree = AFTSurvivalTree(function=\"norm\")\n"
   ]
  },
  {
   "cell_type": "code",
   "execution_count": 10,
   "id": "6fd74fcc",
   "metadata": {},
   "outputs": [],
   "source": [
    " kwargs = {\n",
    "    \"is_bootstrap\": False, \n",
    "    \"is_custom_dist\": False, \n",
    "    \"n_components\": 1000,\n",
    "    \"max_depth\": 10,\n",
    "    \"min_samples_split\": 2, \n",
    "    \"min_samples_leaf\": 2,\n",
    "    \"sigma\": 0.1,\n",
    "    \"n_samples\": 1000,\n",
    "    \"percent_len_sample\": 0.5,\n",
    "    \"test_size\": 0.5\n",
    "}\n",
    "aft_forest = AFTForest(n_trees=10, random_state=42, **kwargs)"
   ]
  },
  {
   "cell_type": "code",
   "execution_count": 11,
   "id": "e1ebcb5e",
   "metadata": {},
   "outputs": [],
   "source": [
    "aft_surv_tree.fit(X_train, y_train)"
   ]
  },
  {
   "cell_type": "code",
   "execution_count": 12,
   "id": "a939e9db",
   "metadata": {},
   "outputs": [
    {
     "name": "stderr",
     "output_type": "stream",
     "text": [
      "/home/rizkiduwinanto/anaconda3/lib/python3.11/site-packages/pandas/core/arrays/masked.py:60: UserWarning: Pandas requires version '1.3.6' or newer of 'bottleneck' (version '1.3.5' currently installed).\n",
      "  from pandas.core import (\n",
      "/home/rizkiduwinanto/anaconda3/lib/python3.11/site-packages/pandas/core/arrays/masked.py:60: UserWarning: Pandas requires version '1.3.6' or newer of 'bottleneck' (version '1.3.5' currently installed).\n",
      "  from pandas.core import (\n",
      "/home/rizkiduwinanto/anaconda3/lib/python3.11/site-packages/pandas/core/arrays/masked.py:60: UserWarning: Pandas requires version '1.3.6' or newer of 'bottleneck' (version '1.3.5' currently installed).\n",
      "  from pandas.core import (\n",
      "/home/rizkiduwinanto/anaconda3/lib/python3.11/site-packages/pandas/core/arrays/masked.py:60: UserWarning: Pandas requires version '1.3.6' or newer of 'bottleneck' (version '1.3.5' currently installed).\n",
      "  from pandas.core import (\n",
      "/home/rizkiduwinanto/anaconda3/lib/python3.11/site-packages/pandas/core/arrays/masked.py:60: UserWarning: Pandas requires version '1.3.6' or newer of 'bottleneck' (version '1.3.5' currently installed).\n",
      "  from pandas.core import (\n",
      "/home/rizkiduwinanto/anaconda3/lib/python3.11/site-packages/pandas/core/arrays/masked.py:60: UserWarning: Pandas requires version '1.3.6' or newer of 'bottleneck' (version '1.3.5' currently installed).\n",
      "  from pandas.core import (\n",
      "/home/rizkiduwinanto/anaconda3/lib/python3.11/site-packages/pandas/core/arrays/masked.py:60: UserWarning: Pandas requires version '1.3.6' or newer of 'bottleneck' (version '1.3.5' currently installed).\n",
      "  from pandas.core import (\n",
      "/home/rizkiduwinanto/anaconda3/lib/python3.11/site-packages/pandas/core/arrays/masked.py:60: UserWarning: Pandas requires version '1.3.6' or newer of 'bottleneck' (version '1.3.5' currently installed).\n",
      "  from pandas.core import (\n",
      "/home/rizkiduwinanto/anaconda3/lib/python3.11/site-packages/pandas/core/arrays/masked.py:60: UserWarning: Pandas requires version '1.3.6' or newer of 'bottleneck' (version '1.3.5' currently installed).\n",
      "  from pandas.core import (\n",
      "/home/rizkiduwinanto/anaconda3/lib/python3.11/site-packages/pandas/core/arrays/masked.py:60: UserWarning: Pandas requires version '1.3.6' or newer of 'bottleneck' (version '1.3.5' currently installed).\n",
      "  from pandas.core import (\n",
      "100%|██████████| 10/10 [00:00<00:00, 53567.10it/s]\n"
     ]
    }
   ],
   "source": [
    "aft_forest.fit(X_train, y_train)"
   ]
  },
  {
   "cell_type": "code",
   "execution_count": 13,
   "id": "b121584d",
   "metadata": {},
   "outputs": [
    {
     "data": {
      "text/plain": [
       "[array(120.36697248),\n",
       " array(120.36697248),\n",
       " array(120.36697248),\n",
       " array(120.36697248),\n",
       " array(120.36697248),\n",
       " array(120.36697248),\n",
       " array(120.36697248),\n",
       " array(120.36697248),\n",
       " array(120.36697248),\n",
       " array(120.36697248),\n",
       " array(120.36697248),\n",
       " array(120.36697248),\n",
       " array(120.36697248),\n",
       " array(120.36697248),\n",
       " array(120.36697248),\n",
       " array(120.36697248),\n",
       " array(120.36697248),\n",
       " array(120.36697248),\n",
       " array(120.36697248),\n",
       " array(120.36697248),\n",
       " array(120.36697248),\n",
       " array(120.36697248),\n",
       " array(120.36697248),\n",
       " array(120.36697248),\n",
       " array(120.36697248),\n",
       " array(120.36697248),\n",
       " array(120.36697248),\n",
       " array(120.36697248)]"
      ]
     },
     "execution_count": 13,
     "metadata": {},
     "output_type": "execute_result"
    }
   ],
   "source": [
    "aft_surv_tree.predict(X_test)"
   ]
  },
  {
   "cell_type": "code",
   "execution_count": 14,
   "id": "48aa120b",
   "metadata": {},
   "outputs": [
    {
     "data": {
      "text/plain": [
       "[116.37289473684208,\n",
       " 116.37289473684208,\n",
       " 116.37289473684208,\n",
       " 116.37289473684208,\n",
       " 116.37289473684208,\n",
       " 108.28605263157894,\n",
       " 116.37289473684208,\n",
       " 116.37289473684208,\n",
       " 116.37289473684208,\n",
       " 116.37289473684208,\n",
       " 109.21499999999999,\n",
       " 116.37289473684208,\n",
       " 116.37289473684208,\n",
       " 116.37289473684208,\n",
       " 116.37289473684208,\n",
       " 116.37289473684208,\n",
       " 116.37289473684208,\n",
       " 116.37289473684208,\n",
       " 116.37289473684208,\n",
       " 116.37289473684208,\n",
       " 116.37289473684208,\n",
       " 116.37289473684208,\n",
       " 116.37289473684208,\n",
       " 116.37289473684208,\n",
       " 116.37289473684208,\n",
       " 116.37289473684208,\n",
       " 116.37289473684208,\n",
       " 116.37289473684208]"
      ]
     },
     "execution_count": 14,
     "metadata": {},
     "output_type": "execute_result"
    }
   ],
   "source": [
    "aft_forest.predict(X_test)"
   ]
  },
  {
   "cell_type": "code",
   "execution_count": 15,
   "id": "6e24fde8",
   "metadata": {},
   "outputs": [
    {
     "data": {
      "text/plain": [
       "0.5"
      ]
     },
     "execution_count": 15,
     "metadata": {},
     "output_type": "execute_result"
    }
   ],
   "source": [
    "aft_surv_tree._score(X_test, y_test)"
   ]
  },
  {
   "cell_type": "code",
   "execution_count": 16,
   "id": "6be2fca7",
   "metadata": {},
   "outputs": [],
   "source": [
    "aft_surv_tree._visualize()"
   ]
  },
  {
   "cell_type": "code",
   "execution_count": 17,
   "id": "10fd6d9f",
   "metadata": {},
   "outputs": [
    {
     "data": {
      "text/plain": [
       "0.10168997668997667"
      ]
     },
     "execution_count": 17,
     "metadata": {},
     "output_type": "execute_result"
    }
   ],
   "source": [
    "aft_surv_tree._brier(X_test, y_test)"
   ]
  },
  {
   "cell_type": "code",
   "execution_count": 18,
   "id": "37831669",
   "metadata": {},
   "outputs": [
    {
     "data": {
      "text/plain": [
       "99.23820445609438"
      ]
     },
     "execution_count": 18,
     "metadata": {},
     "output_type": "execute_result"
    }
   ],
   "source": [
    "aft_surv_tree._mae(X_test, y_test)"
   ]
  },
  {
   "cell_type": "code",
   "execution_count": 19,
   "id": "2c92e309",
   "metadata": {},
   "outputs": [
    {
     "data": {
      "text/plain": [
       "(array([0.5, 0.5, 0.5, 0.5, 0.5, 0.5, 0.5, 0.5, 0.5, 0.5, 0.5, 0.5, 0.5,\n",
       "        0.5, 0.5, 0.5, 0.5, 0.5, 0.5, 0.5, 0.5, 0.5, 0.5, 0.5, 0.5, 0.5,\n",
       "        0.5, 0.5, 0.5, 0.5, 0.5, 0.5, 0.5, 0.5, 0.5, 0.5, 0.5, 0.5, 0.5,\n",
       "        0.5, 0.5, 0.5, 0.5, 0.5, 0.5, 0.5, 0.5, 0.5, 0.5, 0.5, 0.5, 0.5,\n",
       "        0.5, 0.5, 0.5, 0.5, 0.5, 0.5, 0.5, 0.5, 0.5, 0.5, 0.5, 0.5, 0.5,\n",
       "        0.5, 0.5, 0.5, 0.5, 0.5, 0.5, 0.5, 0.5, 0.5, 0.5, 0.5, 0.5, 0.5,\n",
       "        0.5, 0.5, 0.5, 0.5, 0.5, 0.5, 0.5, 0.5, 0.5, 0.5, 0.5, 0.5, 0.5,\n",
       "        0.5, 0.5, 0.5, 0.5, 0.5, 0.5, 0.5, 0.5, 0.5]),\n",
       " 0.49999999999999994)"
      ]
     },
     "execution_count": 19,
     "metadata": {},
     "output_type": "execute_result"
    }
   ],
   "source": [
    "aft_surv_tree._auc(X_test, y_test)"
   ]
  },
  {
   "cell_type": "code",
   "execution_count": 20,
   "id": "1d071770",
   "metadata": {},
   "outputs": [
    {
     "data": {
      "text/plain": [
       "0.5302197802197802"
      ]
     },
     "execution_count": 20,
     "metadata": {},
     "output_type": "execute_result"
    }
   ],
   "source": [
    "aft_forest._score(X_test, y_test)"
   ]
  },
  {
   "cell_type": "code",
   "execution_count": 21,
   "id": "c35c0d50",
   "metadata": {},
   "outputs": [
    {
     "data": {
      "text/plain": [
       "0.10094072594072592"
      ]
     },
     "execution_count": 21,
     "metadata": {},
     "output_type": "execute_result"
    }
   ],
   "source": [
    "aft_forest._brier(X_test, y_test)"
   ]
  },
  {
   "cell_type": "code",
   "execution_count": 22,
   "id": "e0bf372c",
   "metadata": {},
   "outputs": [
    {
     "data": {
      "text/plain": [
       "(array([0.5       , 0.5       , 0.5       , 0.5       , 0.5       ,\n",
       "        0.5       , 0.5       , 0.5       , 0.5       , 0.5       ,\n",
       "        0.5       , 0.43973214, 0.5       , 0.5       , 0.5       ,\n",
       "        0.5       , 0.5       , 0.5       , 0.5       , 0.5       ,\n",
       "        0.5       , 0.5       , 0.5       , 0.5       , 0.5       ,\n",
       "        0.5       , 0.5       , 0.5       , 0.5       , 0.5       ,\n",
       "        0.5       , 0.5       , 0.5       , 0.5       , 0.5       ,\n",
       "        0.5       , 0.5       , 0.5       , 0.5       , 0.5       ,\n",
       "        0.5       , 0.5       , 0.5       , 0.5       , 0.5       ,\n",
       "        0.5       , 0.5       , 0.5       , 0.5       , 0.5       ,\n",
       "        0.5       , 0.5       , 0.5       , 0.5       , 0.5       ,\n",
       "        0.5       , 0.5       , 0.5       , 0.5       , 0.5       ,\n",
       "        0.5       , 0.5       , 0.5       , 0.5       , 0.5       ,\n",
       "        0.5       , 0.5       , 0.5       , 0.5       , 0.5       ,\n",
       "        0.5       , 0.5       , 0.5       , 0.5       , 0.5       ,\n",
       "        0.5       , 0.5       , 0.5       , 0.5       , 0.5       ,\n",
       "        0.5       , 0.5       , 0.5       , 0.5       , 0.5       ,\n",
       "        0.5       , 0.5       , 0.5       , 0.5       , 0.5       ,\n",
       "        0.5       , 0.5       , 0.5       , 0.5       , 0.5       ,\n",
       "        0.5       , 0.5       , 0.5       , 0.5       , 0.5       ]),\n",
       " 0.4951785714285714)"
      ]
     },
     "execution_count": 22,
     "metadata": {},
     "output_type": "execute_result"
    }
   ],
   "source": [
    "aft_forest._auc(X_test, y_test)"
   ]
  },
  {
   "cell_type": "code",
   "execution_count": 23,
   "id": "d113477a",
   "metadata": {},
   "outputs": [],
   "source": [
    "aft_surv_tree_weibull = AFTSurvivalTree(function=\"weibull\", is_bootstrap=False, is_custom_dist=True)\n"
   ]
  },
  {
   "cell_type": "code",
   "execution_count": 24,
   "id": "29514a9e",
   "metadata": {},
   "outputs": [],
   "source": [
    "aft_surv_tree_weibull.fit(X_train, y_train)"
   ]
  },
  {
   "cell_type": "code",
   "execution_count": 25,
   "id": "50f97d90",
   "metadata": {},
   "outputs": [
    {
     "data": {
      "text/plain": [
       "0.5"
      ]
     },
     "execution_count": 25,
     "metadata": {},
     "output_type": "execute_result"
    }
   ],
   "source": [
    "\n",
    "aft_surv_tree_weibull._score(X_test, y_test)"
   ]
  },
  {
   "cell_type": "code",
   "execution_count": 26,
   "id": "89e4cb49",
   "metadata": {},
   "outputs": [],
   "source": [
    "aft_surv_tree_weibull.save(\"tree_weibull.json\")"
   ]
  },
  {
   "cell_type": "code",
   "execution_count": 27,
   "id": "963913e4",
   "metadata": {},
   "outputs": [],
   "source": [
    "aft_surv_tree_load_test = AFTSurvivalTree()\n",
    "aft_surv_tree_load_test = aft_surv_tree_load_test.load(\"tree_weibull.json\")"
   ]
  },
  {
   "cell_type": "code",
   "execution_count": 28,
   "id": "257e836b",
   "metadata": {},
   "outputs": [
    {
     "ename": "ValueError",
     "evalue": "Error in get_prediction",
     "output_type": "error",
     "traceback": [
      "\u001b[0;31m---------------------------------------------------------------------------\u001b[0m",
      "\u001b[0;31mAttributeError\u001b[0m                            Traceback (most recent call last)",
      "File \u001b[0;32m/mnt/c/Users/rizki/Master Files/ThesisUMCG/Survival-Tree-Analysis/src/tree.py:552\u001b[0m, in \u001b[0;36mAFTSurvivalTree.get_prediction\u001b[0;34m(self, X, tree)\u001b[0m\n\u001b[1;32m    551\u001b[0m \u001b[38;5;28;01mif\u001b[39;00m tree\u001b[38;5;241m.\u001b[39mvalue \u001b[38;5;129;01mis\u001b[39;00m \u001b[38;5;129;01mnot\u001b[39;00m \u001b[38;5;28;01mNone\u001b[39;00m:\n\u001b[0;32m--> 552\u001b[0m     \u001b[38;5;28;01mreturn\u001b[39;00m tree\u001b[38;5;241m.\u001b[39mvalue\u001b[38;5;241m.\u001b[39mget()\n\u001b[1;32m    553\u001b[0m \u001b[38;5;28;01melse\u001b[39;00m:\n",
      "\u001b[0;31mAttributeError\u001b[0m: 'float' object has no attribute 'get'",
      "\nDuring handling of the above exception, another exception occurred:\n",
      "\u001b[0;31mValueError\u001b[0m                                Traceback (most recent call last)",
      "Cell \u001b[0;32mIn[28], line 1\u001b[0m\n\u001b[0;32m----> 1\u001b[0m aft_surv_tree_load_test\u001b[38;5;241m.\u001b[39m_score(X_test, y_test)\n",
      "File \u001b[0;32m/mnt/c/Users/rizki/Master Files/ThesisUMCG/Survival-Tree-Analysis/src/tree.py:586\u001b[0m, in \u001b[0;36mAFTSurvivalTree._score\u001b[0;34m(self, X, y_true)\u001b[0m\n\u001b[1;32m    582\u001b[0m \u001b[38;5;28;01mdef\u001b[39;00m \u001b[38;5;21m_score\u001b[39m(\u001b[38;5;28mself\u001b[39m, X, y_true):\n\u001b[1;32m    583\u001b[0m \u001b[38;5;250m    \u001b[39m\u001b[38;5;124;03m\"\"\"\u001b[39;00m\n\u001b[1;32m    584\u001b[0m \u001b[38;5;124;03m        Implement C-Index\u001b[39;00m\n\u001b[1;32m    585\u001b[0m \u001b[38;5;124;03m    \"\"\"\u001b[39;00m\n\u001b[0;32m--> 586\u001b[0m     times_pred \u001b[38;5;241m=\u001b[39m \u001b[38;5;28mself\u001b[39m\u001b[38;5;241m.\u001b[39mpredict(X)\n\u001b[1;32m    587\u001b[0m     event_true \u001b[38;5;241m=\u001b[39m [\u001b[38;5;241m1\u001b[39m \u001b[38;5;28;01mif\u001b[39;00m \u001b[38;5;129;01mnot\u001b[39;00m censored \u001b[38;5;28;01melse\u001b[39;00m \u001b[38;5;241m0\u001b[39m \u001b[38;5;28;01mfor\u001b[39;00m censored, _ \u001b[38;5;129;01min\u001b[39;00m y_true]\n\u001b[1;32m    588\u001b[0m     times_true \u001b[38;5;241m=\u001b[39m [time \u001b[38;5;28;01mfor\u001b[39;00m _, time \u001b[38;5;129;01min\u001b[39;00m y_true]\n",
      "File \u001b[0;32m/mnt/c/Users/rizki/Master Files/ThesisUMCG/Survival-Tree-Analysis/src/tree.py:546\u001b[0m, in \u001b[0;36mAFTSurvivalTree.predict\u001b[0;34m(self, X)\u001b[0m\n\u001b[1;32m    544\u001b[0m \u001b[38;5;28;01mif\u001b[39;00m \u001b[38;5;28misinstance\u001b[39m(X, np\u001b[38;5;241m.\u001b[39mndarray) \u001b[38;5;129;01mand\u001b[39;00m \u001b[38;5;28mlen\u001b[39m(X\u001b[38;5;241m.\u001b[39mshape) \u001b[38;5;241m==\u001b[39m \u001b[38;5;241m1\u001b[39m:\n\u001b[1;32m    545\u001b[0m     X \u001b[38;5;241m=\u001b[39m X\u001b[38;5;241m.\u001b[39mreshape(\u001b[38;5;241m1\u001b[39m, \u001b[38;5;241m-\u001b[39m\u001b[38;5;241m1\u001b[39m)\n\u001b[0;32m--> 546\u001b[0m predictions \u001b[38;5;241m=\u001b[39m [\u001b[38;5;28mself\u001b[39m\u001b[38;5;241m.\u001b[39mget_prediction(x, \u001b[38;5;28mself\u001b[39m\u001b[38;5;241m.\u001b[39mtree) \u001b[38;5;28;01mfor\u001b[39;00m x \u001b[38;5;129;01min\u001b[39;00m X]\n\u001b[1;32m    547\u001b[0m \u001b[38;5;28;01mreturn\u001b[39;00m predictions\n",
      "File \u001b[0;32m/mnt/c/Users/rizki/Master Files/ThesisUMCG/Survival-Tree-Analysis/src/tree.py:546\u001b[0m, in \u001b[0;36m<listcomp>\u001b[0;34m(.0)\u001b[0m\n\u001b[1;32m    544\u001b[0m \u001b[38;5;28;01mif\u001b[39;00m \u001b[38;5;28misinstance\u001b[39m(X, np\u001b[38;5;241m.\u001b[39mndarray) \u001b[38;5;129;01mand\u001b[39;00m \u001b[38;5;28mlen\u001b[39m(X\u001b[38;5;241m.\u001b[39mshape) \u001b[38;5;241m==\u001b[39m \u001b[38;5;241m1\u001b[39m:\n\u001b[1;32m    545\u001b[0m     X \u001b[38;5;241m=\u001b[39m X\u001b[38;5;241m.\u001b[39mreshape(\u001b[38;5;241m1\u001b[39m, \u001b[38;5;241m-\u001b[39m\u001b[38;5;241m1\u001b[39m)\n\u001b[0;32m--> 546\u001b[0m predictions \u001b[38;5;241m=\u001b[39m [\u001b[38;5;28mself\u001b[39m\u001b[38;5;241m.\u001b[39mget_prediction(x, \u001b[38;5;28mself\u001b[39m\u001b[38;5;241m.\u001b[39mtree) \u001b[38;5;28;01mfor\u001b[39;00m x \u001b[38;5;129;01min\u001b[39;00m X]\n\u001b[1;32m    547\u001b[0m \u001b[38;5;28;01mreturn\u001b[39;00m predictions\n",
      "File \u001b[0;32m/mnt/c/Users/rizki/Master Files/ThesisUMCG/Survival-Tree-Analysis/src/tree.py:560\u001b[0m, in \u001b[0;36mAFTSurvivalTree.get_prediction\u001b[0;34m(self, X, tree)\u001b[0m\n\u001b[1;32m    558\u001b[0m             \u001b[38;5;28;01mreturn\u001b[39;00m \u001b[38;5;28mself\u001b[39m\u001b[38;5;241m.\u001b[39mget_prediction(X, tree\u001b[38;5;241m.\u001b[39mright)\n\u001b[1;32m    559\u001b[0m \u001b[38;5;28;01mexcept\u001b[39;00m:\n\u001b[0;32m--> 560\u001b[0m     \u001b[38;5;28;01mraise\u001b[39;00m \u001b[38;5;167;01mValueError\u001b[39;00m(\u001b[38;5;124m\"\u001b[39m\u001b[38;5;124mError in get_prediction\u001b[39m\u001b[38;5;124m\"\u001b[39m)\n",
      "\u001b[0;31mValueError\u001b[0m: Error in get_prediction"
     ]
    }
   ],
   "source": [
    "aft_surv_tree_load_test._score(X_test, y_test)"
   ]
  },
  {
   "cell_type": "code",
   "execution_count": null,
   "id": "83784eeb",
   "metadata": {},
   "outputs": [],
   "source": [
    "aft_surv_tree_logistic = AFTSurvivalTree(function=\"logistic\", is_bootstrap=False, is_custom_dist=True)"
   ]
  },
  {
   "cell_type": "code",
   "execution_count": null,
   "id": "2721ff07",
   "metadata": {},
   "outputs": [],
   "source": [
    "aft_surv_tree_logistic.fit(X_train, y_train)"
   ]
  },
  {
   "cell_type": "code",
   "execution_count": null,
   "id": "b6c2fce3",
   "metadata": {},
   "outputs": [],
   "source": [
    "aft_surv_tree_logistic._score(X_test, y_test)"
   ]
  },
  {
   "cell_type": "code",
   "execution_count": null,
   "id": "5c01137a",
   "metadata": {},
   "outputs": [],
   "source": [
    "aft_surv_tree_gmm = AFTSurvivalTree(function=\"gmm\", is_bootstrap=False, is_custom_dist=True)"
   ]
  },
  {
   "cell_type": "code",
   "execution_count": null,
   "id": "c1c1f6ff",
   "metadata": {},
   "outputs": [],
   "source": [
    "aft_surv_tree_gmm.fit(X_train, y_train)"
   ]
  },
  {
   "cell_type": "code",
   "execution_count": null,
   "id": "c49f3b29",
   "metadata": {},
   "outputs": [],
   "source": [
    "aft_surv_tree_gmm._score(X_test, y_test)"
   ]
  },
  {
   "cell_type": "code",
   "execution_count": null,
   "id": "b3f9bcfd",
   "metadata": {},
   "outputs": [],
   "source": [
    "aft_surv_tree_normal = AFTSurvivalTree(function=\"norm\", is_bootstrap=False, is_custom_dist=True)"
   ]
  },
  {
   "cell_type": "code",
   "execution_count": null,
   "id": "e02ef2c8",
   "metadata": {},
   "outputs": [],
   "source": [
    "aft_surv_tree_normal.fit(X_train, y_train)\n"
   ]
  },
  {
   "cell_type": "code",
   "execution_count": null,
   "id": "34d36fb6",
   "metadata": {},
   "outputs": [],
   "source": [
    "aft_surv_tree_normal._score(X_test, y_test)"
   ]
  },
  {
   "cell_type": "code",
   "execution_count": null,
   "id": "e10dbded",
   "metadata": {},
   "outputs": [],
   "source": [
    "aft_surv_tree_extreme = AFTSurvivalTree(function=\"extreme\", is_bootstrap=True, is_custom_dist=True)"
   ]
  },
  {
   "cell_type": "code",
   "execution_count": null,
   "id": "f17af1d2",
   "metadata": {},
   "outputs": [],
   "source": [
    "aft_surv_tree_extreme.fit(X_train, y_train)"
   ]
  },
  {
   "cell_type": "code",
   "execution_count": null,
   "id": "6f6d91c6",
   "metadata": {},
   "outputs": [],
   "source": [
    "aft_surv_tree_extreme._score(X_test, y_test)"
   ]
  },
  {
   "cell_type": "code",
   "execution_count": null,
   "id": "eea89167",
   "metadata": {},
   "outputs": [],
   "source": [
    "aft_surv_tree_extreme._visualize()"
   ]
  },
  {
   "cell_type": "code",
   "execution_count": null,
   "id": "021f9358",
   "metadata": {},
   "outputs": [],
   "source": [
    "aft_surv_tree_extreme.save(\"extreme.json\")"
   ]
  },
  {
   "cell_type": "code",
   "execution_count": null,
   "id": "10fb876d",
   "metadata": {},
   "outputs": [],
   "source": [
    "kwargs = {\n",
    "    \"function\": \"gmm\", \n",
    "    \"is_bootstrap\": True, \n",
    "    \"is_custom_dist\": True,\n",
    "    \"n_components\": 2\n",
    "}\n",
    "aft_forest = AFTForest(n_trees=10, **kwargs)"
   ]
  },
  {
   "cell_type": "code",
   "execution_count": null,
   "id": "944227f2",
   "metadata": {},
   "outputs": [],
   "source": [
    "aft_forest.fit(X_train, y_train)"
   ]
  },
  {
   "cell_type": "code",
   "execution_count": null,
   "id": "40acf83c",
   "metadata": {},
   "outputs": [],
   "source": [
    "aft_forest._score(X_test, y_test)"
   ]
  },
  {
   "cell_type": "code",
   "execution_count": null,
   "id": "3719c8de",
   "metadata": {},
   "outputs": [],
   "source": [
    "aft_forest.save(\"forest.json\")"
   ]
  },
  {
   "cell_type": "code",
   "execution_count": null,
   "id": "1992d7b2",
   "metadata": {},
   "outputs": [],
   "source": [
    "# aft_forest_load_test._score(X_test, y_test)"
   ]
  },
  {
   "cell_type": "code",
   "execution_count": null,
   "id": "cfb0bce7",
   "metadata": {},
   "outputs": [],
   "source": [
    "# aft_forest_load_test.save(\"forest_load.json\")"
   ]
  },
  {
   "cell_type": "code",
   "execution_count": null,
   "id": "ca0ae394",
   "metadata": {},
   "outputs": [],
   "source": [
    "kwargs = {\n",
    "    \"function\": \"norm\", \n",
    "    \"is_bootstrap\": False, \n",
    "    \"is_custom_dist\": True\n",
    "}\n",
    "aft_forest_1 = AFTForest(n_trees=10, **kwargs)"
   ]
  },
  {
   "cell_type": "code",
   "execution_count": null,
   "id": "365faf11",
   "metadata": {},
   "outputs": [],
   "source": [
    "aft_forest_1.fit(X_train, y_train)"
   ]
  },
  {
   "cell_type": "code",
   "execution_count": null,
   "id": "6130e865",
   "metadata": {},
   "outputs": [],
   "source": [
    "aft_forest_1._score(X_test, y_test)"
   ]
  },
  {
   "cell_type": "code",
   "execution_count": null,
   "id": "903b3822",
   "metadata": {},
   "outputs": [],
   "source": [
    "aft_forest_1._mae(X_test, y_test)"
   ]
  },
  {
   "cell_type": "code",
   "execution_count": null,
   "id": "056737b5",
   "metadata": {},
   "outputs": [],
   "source": [
    "kwargs = {\n",
    "    \"function\": \"norm\",\n",
    "    \"is_bootstrap\": False, \n",
    "    \"is_custom_dist\": False,\n",
    "    \"n_components\": 3\n",
    "}\n",
    "aft_forest_2 = AFTForest(n_trees=10, **kwargs)"
   ]
  },
  {
   "cell_type": "code",
   "execution_count": null,
   "id": "9fed9a27",
   "metadata": {},
   "outputs": [],
   "source": [
    "aft_forest_2.fit(X_train, y_train)"
   ]
  },
  {
   "cell_type": "code",
   "execution_count": null,
   "id": "b7e39ac2",
   "metadata": {},
   "outputs": [],
   "source": [
    "\n",
    "aft_forest_2._score(X_test, y_test)"
   ]
  },
  {
   "cell_type": "code",
   "execution_count": null,
   "id": "df4b765f",
   "metadata": {},
   "outputs": [],
   "source": [
    "aft_forest_2._mae(X_test, y_test)"
   ]
  },
  {
   "cell_type": "code",
   "execution_count": null,
   "id": "626ac414",
   "metadata": {},
   "outputs": [],
   "source": [
    "from runner import run_n_models, tune_model\n",
    "\n",
    "c_indexes, briers, maes = run_n_models(AFTForest, X_train, y_train, X_test, y_test, n_models=5)"
   ]
  },
  {
   "cell_type": "code",
   "execution_count": null,
   "id": "eb63f33f",
   "metadata": {},
   "outputs": [],
   "source": [
    "res = tune_model(AFTForest, X_train, y_train, X_test, y_test, is_cv=True, n_tries=5, n_models=5, n_splits=5)"
   ]
  },
  {
   "cell_type": "code",
   "execution_count": null,
   "id": "42215c4b",
   "metadata": {},
   "outputs": [],
   "source": [
    "res"
   ]
  },
  {
   "cell_type": "code",
   "execution_count": null,
   "id": "d33d04f0",
   "metadata": {},
   "outputs": [],
   "source": [
    "y_pred = aft_forest_2.predict(X_test)"
   ]
  },
  {
   "cell_type": "code",
   "execution_count": null,
   "id": "68c25afa",
   "metadata": {},
   "outputs": [],
   "source": [
    "y_test"
   ]
  },
  {
   "cell_type": "code",
   "execution_count": null,
   "id": "a91f3986",
   "metadata": {},
   "outputs": [],
   "source": [
    "y_true = [time for _, time in y_test]\n",
    "y_true = np.array(y_true)\n",
    "y_true"
   ]
  },
  {
   "cell_type": "code",
   "execution_count": null,
   "id": "f052c95b",
   "metadata": {},
   "outputs": [],
   "source": [
    "censor_info = [censor for censor, _ in y_test]\n",
    "censor_info = np.array(censored)\n",
    "censor_info"
   ]
  },
  {
   "cell_type": "code",
   "execution_count": null,
   "id": "99b46bfa",
   "metadata": {},
   "outputs": [],
   "source": [
    "y_pred = np.array(y_pred)"
   ]
  },
  {
   "cell_type": "code",
   "execution_count": null,
   "id": "a58c6bea",
   "metadata": {},
   "outputs": [],
   "source": [
    "y_pred, y_true"
   ]
  },
  {
   "cell_type": "code",
   "execution_count": null,
   "id": "897b0064",
   "metadata": {},
   "outputs": [],
   "source": [
    "from utils import plot_survival_trees\n",
    "plot_survival_trees(y_true, y_pred, censor_info)"
   ]
  },
  {
   "cell_type": "code",
   "execution_count": null,
   "id": "20b94730",
   "metadata": {},
   "outputs": [],
   "source": []
  },
  {
   "cell_type": "code",
   "execution_count": null,
   "id": "4020e8a9",
   "metadata": {},
   "outputs": [],
   "source": []
  }
 ],
 "metadata": {
  "kernelspec": {
   "display_name": "env",
   "language": "python",
   "name": "env"
  },
  "language_info": {
   "codemirror_mode": {
    "name": "ipython",
    "version": 3
   },
   "file_extension": ".py",
   "mimetype": "text/x-python",
   "name": "python",
   "nbconvert_exporter": "python",
   "pygments_lexer": "ipython3",
   "version": "3.11.5"
  }
 },
 "nbformat": 4,
 "nbformat_minor": 5
}
