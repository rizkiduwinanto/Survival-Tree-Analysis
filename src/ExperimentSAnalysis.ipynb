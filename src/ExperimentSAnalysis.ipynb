{
 "cells": [
  {
   "cell_type": "code",
   "execution_count": 1,
   "id": "a4b70fe4-291d-4d49-ada5-7a7e4e5ced2a",
   "metadata": {},
   "outputs": [
    {
     "name": "stderr",
     "output_type": "stream",
     "text": [
      "/home/rizkiduwinanto/anaconda3/lib/python3.11/site-packages/pandas/core/arrays/masked.py:60: UserWarning: Pandas requires version '1.3.6' or newer of 'bottleneck' (version '1.3.5' currently installed).\n",
      "  from pandas.core import (\n"
     ]
    }
   ],
   "source": [
    "import pandas as pd\n",
    "import numpy as np\n",
    "from tree import AFTSurvivalTree\n",
    "from forest import AFTForest\n",
    "from dataset import SupportDataset, SyntheticDataset, VeteranLungDataset\n",
    "from sklearn.model_selection import train_test_split\n",
    "import time"
   ]
  },
  {
   "cell_type": "code",
   "execution_count": 2,
   "id": "06237ab7",
   "metadata": {},
   "outputs": [
    {
     "name": "stderr",
     "output_type": "stream",
     "text": [
      "/home/rizkiduwinanto/anaconda3/lib/python3.11/site-packages/pandas/core/nanops.py:1016: RuntimeWarning: invalid value encountered in subtract\n",
      "  sqr = _ensure_numeric((avg - values) ** 2)\n"
     ]
    },
    {
     "data": {
      "text/html": [
       "<div>\n",
       "<style scoped>\n",
       "    .dataframe tbody tr th:only-of-type {\n",
       "        vertical-align: middle;\n",
       "    }\n",
       "\n",
       "    .dataframe tbody tr th {\n",
       "        vertical-align: top;\n",
       "    }\n",
       "\n",
       "    .dataframe thead th {\n",
       "        text-align: right;\n",
       "    }\n",
       "</style>\n",
       "<table border=\"1\" class=\"dataframe\">\n",
       "  <thead>\n",
       "    <tr style=\"text-align: right;\">\n",
       "      <th></th>\n",
       "      <th>Survival_label_lower_bound</th>\n",
       "      <th>Survival_label_upper_bound</th>\n",
       "      <th>Age_in_years</th>\n",
       "      <th>Karnofsky_score</th>\n",
       "      <th>Months_from_Diagnosis</th>\n",
       "      <th>Celltype=adeno</th>\n",
       "      <th>Celltype=large</th>\n",
       "      <th>Celltype=smallcell</th>\n",
       "      <th>Celltype=squamous</th>\n",
       "      <th>Prior_therapy=no</th>\n",
       "      <th>Prior_therapy=yes</th>\n",
       "      <th>Treatment=standard</th>\n",
       "      <th>Treatment=test</th>\n",
       "    </tr>\n",
       "  </thead>\n",
       "  <tbody>\n",
       "    <tr>\n",
       "      <th>count</th>\n",
       "      <td>137.000000</td>\n",
       "      <td>137.0</td>\n",
       "      <td>137.000000</td>\n",
       "      <td>137.000000</td>\n",
       "      <td>137.000000</td>\n",
       "      <td>137.000000</td>\n",
       "      <td>137.000000</td>\n",
       "      <td>137.000000</td>\n",
       "      <td>137.000000</td>\n",
       "      <td>137.000000</td>\n",
       "      <td>137.000000</td>\n",
       "      <td>137.000000</td>\n",
       "      <td>137.000000</td>\n",
       "    </tr>\n",
       "    <tr>\n",
       "      <th>mean</th>\n",
       "      <td>121.627737</td>\n",
       "      <td>inf</td>\n",
       "      <td>58.306569</td>\n",
       "      <td>58.569343</td>\n",
       "      <td>8.773723</td>\n",
       "      <td>0.197080</td>\n",
       "      <td>0.197080</td>\n",
       "      <td>0.350365</td>\n",
       "      <td>0.255474</td>\n",
       "      <td>0.708029</td>\n",
       "      <td>0.291971</td>\n",
       "      <td>0.503650</td>\n",
       "      <td>0.496350</td>\n",
       "    </tr>\n",
       "    <tr>\n",
       "      <th>std</th>\n",
       "      <td>157.816722</td>\n",
       "      <td>NaN</td>\n",
       "      <td>10.541628</td>\n",
       "      <td>20.039592</td>\n",
       "      <td>10.612141</td>\n",
       "      <td>0.399253</td>\n",
       "      <td>0.399253</td>\n",
       "      <td>0.478835</td>\n",
       "      <td>0.437728</td>\n",
       "      <td>0.456337</td>\n",
       "      <td>0.456337</td>\n",
       "      <td>0.501821</td>\n",
       "      <td>0.501821</td>\n",
       "    </tr>\n",
       "    <tr>\n",
       "      <th>min</th>\n",
       "      <td>1.000000</td>\n",
       "      <td>1.0</td>\n",
       "      <td>34.000000</td>\n",
       "      <td>10.000000</td>\n",
       "      <td>1.000000</td>\n",
       "      <td>0.000000</td>\n",
       "      <td>0.000000</td>\n",
       "      <td>0.000000</td>\n",
       "      <td>0.000000</td>\n",
       "      <td>0.000000</td>\n",
       "      <td>0.000000</td>\n",
       "      <td>0.000000</td>\n",
       "      <td>0.000000</td>\n",
       "    </tr>\n",
       "    <tr>\n",
       "      <th>25%</th>\n",
       "      <td>25.000000</td>\n",
       "      <td>25.0</td>\n",
       "      <td>51.000000</td>\n",
       "      <td>40.000000</td>\n",
       "      <td>3.000000</td>\n",
       "      <td>0.000000</td>\n",
       "      <td>0.000000</td>\n",
       "      <td>0.000000</td>\n",
       "      <td>0.000000</td>\n",
       "      <td>0.000000</td>\n",
       "      <td>0.000000</td>\n",
       "      <td>0.000000</td>\n",
       "      <td>0.000000</td>\n",
       "    </tr>\n",
       "    <tr>\n",
       "      <th>50%</th>\n",
       "      <td>80.000000</td>\n",
       "      <td>80.0</td>\n",
       "      <td>62.000000</td>\n",
       "      <td>60.000000</td>\n",
       "      <td>5.000000</td>\n",
       "      <td>0.000000</td>\n",
       "      <td>0.000000</td>\n",
       "      <td>0.000000</td>\n",
       "      <td>0.000000</td>\n",
       "      <td>1.000000</td>\n",
       "      <td>0.000000</td>\n",
       "      <td>1.000000</td>\n",
       "      <td>0.000000</td>\n",
       "    </tr>\n",
       "    <tr>\n",
       "      <th>75%</th>\n",
       "      <td>144.000000</td>\n",
       "      <td>177.0</td>\n",
       "      <td>66.000000</td>\n",
       "      <td>75.000000</td>\n",
       "      <td>11.000000</td>\n",
       "      <td>0.000000</td>\n",
       "      <td>0.000000</td>\n",
       "      <td>1.000000</td>\n",
       "      <td>1.000000</td>\n",
       "      <td>1.000000</td>\n",
       "      <td>1.000000</td>\n",
       "      <td>1.000000</td>\n",
       "      <td>1.000000</td>\n",
       "    </tr>\n",
       "    <tr>\n",
       "      <th>max</th>\n",
       "      <td>999.000000</td>\n",
       "      <td>inf</td>\n",
       "      <td>81.000000</td>\n",
       "      <td>99.000000</td>\n",
       "      <td>87.000000</td>\n",
       "      <td>1.000000</td>\n",
       "      <td>1.000000</td>\n",
       "      <td>1.000000</td>\n",
       "      <td>1.000000</td>\n",
       "      <td>1.000000</td>\n",
       "      <td>1.000000</td>\n",
       "      <td>1.000000</td>\n",
       "      <td>1.000000</td>\n",
       "    </tr>\n",
       "  </tbody>\n",
       "</table>\n",
       "</div>"
      ],
      "text/plain": [
       "       Survival_label_lower_bound  Survival_label_upper_bound  Age_in_years  \\\n",
       "count                  137.000000                       137.0    137.000000   \n",
       "mean                   121.627737                         inf     58.306569   \n",
       "std                    157.816722                         NaN     10.541628   \n",
       "min                      1.000000                         1.0     34.000000   \n",
       "25%                     25.000000                        25.0     51.000000   \n",
       "50%                     80.000000                        80.0     62.000000   \n",
       "75%                    144.000000                       177.0     66.000000   \n",
       "max                    999.000000                         inf     81.000000   \n",
       "\n",
       "       Karnofsky_score  Months_from_Diagnosis  Celltype=adeno  Celltype=large  \\\n",
       "count       137.000000             137.000000      137.000000      137.000000   \n",
       "mean         58.569343               8.773723        0.197080        0.197080   \n",
       "std          20.039592              10.612141        0.399253        0.399253   \n",
       "min          10.000000               1.000000        0.000000        0.000000   \n",
       "25%          40.000000               3.000000        0.000000        0.000000   \n",
       "50%          60.000000               5.000000        0.000000        0.000000   \n",
       "75%          75.000000              11.000000        0.000000        0.000000   \n",
       "max          99.000000              87.000000        1.000000        1.000000   \n",
       "\n",
       "       Celltype=smallcell  Celltype=squamous  Prior_therapy=no  \\\n",
       "count          137.000000         137.000000        137.000000   \n",
       "mean             0.350365           0.255474          0.708029   \n",
       "std              0.478835           0.437728          0.456337   \n",
       "min              0.000000           0.000000          0.000000   \n",
       "25%              0.000000           0.000000          0.000000   \n",
       "50%              0.000000           0.000000          1.000000   \n",
       "75%              1.000000           1.000000          1.000000   \n",
       "max              1.000000           1.000000          1.000000   \n",
       "\n",
       "       Prior_therapy=yes  Treatment=standard  Treatment=test  \n",
       "count         137.000000          137.000000      137.000000  \n",
       "mean            0.291971            0.503650        0.496350  \n",
       "std             0.456337            0.501821        0.501821  \n",
       "min             0.000000            0.000000        0.000000  \n",
       "25%             0.000000            0.000000        0.000000  \n",
       "50%             0.000000            1.000000        0.000000  \n",
       "75%             1.000000            1.000000        1.000000  \n",
       "max             1.000000            1.000000        1.000000  "
      ]
     },
     "execution_count": 2,
     "metadata": {},
     "output_type": "execute_result"
    }
   ],
   "source": [
    "df = pd.read_csv('../data/veterans_lung_cancer.csv')\n",
    "df.describe()"
   ]
  },
  {
   "cell_type": "code",
   "execution_count": 3,
   "id": "47faeff5",
   "metadata": {},
   "outputs": [
    {
     "data": {
      "text/plain": [
       "array([[69., 60.,  7., ...,  0.,  1.,  0.],\n",
       "       [64., 70.,  5., ...,  1.,  1.,  0.],\n",
       "       [38., 60.,  3., ...,  0.,  1.,  0.],\n",
       "       ...,\n",
       "       [67., 70., 18., ...,  1.,  0.,  1.],\n",
       "       [65., 80.,  4., ...,  0.,  0.,  1.],\n",
       "       [37., 30.,  3., ...,  0.,  0.,  1.]])"
      ]
     },
     "execution_count": 3,
     "metadata": {},
     "output_type": "execute_result"
    }
   ],
   "source": [
    "veteran = VeteranLungDataset(df)\n",
    "veteran.get_data()"
   ]
  },
  {
   "cell_type": "code",
   "execution_count": 4,
   "id": "13aee6f0",
   "metadata": {},
   "outputs": [
    {
     "data": {
      "text/plain": [
       "array([(0,  72.), (0, 411.), (0, 228.), (0, 126.), (0, 118.), (0,  10.),\n",
       "       (0,  82.), (0, 110.), (0, 314.), (1, 100.), (0,  42.), (0,   8.),\n",
       "       (0, 144.), (1,  25.), (0,  11.), (0,  30.), (0, 384.), (0,   4.),\n",
       "       (0,  54.), (0,  13.), (1, 123.), (1,  97.), (0, 153.), (0,  59.),\n",
       "       (0, 117.), (0,  16.), (0, 151.), (0,  22.), (0,  56.), (0,  21.),\n",
       "       (0,  18.), (0, 139.), (0,  20.), (0,  31.), (0,  52.), (0, 287.),\n",
       "       (0,  18.), (0,  51.), (0, 122.), (0,  27.), (0,  54.), (0,   7.),\n",
       "       (0,  63.), (0, 392.), (0,  10.), (0,   8.), (0,  92.), (0,  35.),\n",
       "       (0, 117.), (0, 132.), (0,  12.), (0, 162.), (0,   3.), (0,  95.),\n",
       "       (0, 177.), (0, 162.), (0, 216.), (0, 553.), (0, 278.), (0,  12.),\n",
       "       (0, 260.), (0, 200.), (0, 156.), (1, 182.), (0, 143.), (0, 105.),\n",
       "       (0, 103.), (0, 250.), (0, 100.), (0, 999.), (0, 112.), (1,  87.),\n",
       "       (1, 231.), (0, 242.), (0, 991.), (0, 111.), (0,   1.), (0, 587.),\n",
       "       (0, 389.), (0,  33.), (0,  25.), (0, 357.), (0, 467.), (0, 201.),\n",
       "       (0,   1.), (0,  30.), (0,  44.), (0, 283.), (0,  15.), (0,  25.),\n",
       "       (1, 103.), (0,  21.), (0,  13.), (0,  87.), (0,   2.), (0,  20.),\n",
       "       (0,   7.), (0,  24.), (0,  99.), (0,   8.), (0,  99.), (0,  61.),\n",
       "       (0,  25.), (0,  95.), (0,  80.), (0,  51.), (0,  29.), (0,  24.),\n",
       "       (0,  18.), (1,  83.), (0,  31.), (0,  51.), (0,  90.), (0,  52.),\n",
       "       (0,  73.), (0,   8.), (0,  36.), (0,  48.), (0,   7.), (0, 140.),\n",
       "       (0, 186.), (0,  84.), (0,  19.), (0,  45.), (0,  80.), (0,  52.),\n",
       "       (0, 164.), (0,  19.), (0,  53.), (0,  15.), (0,  43.), (0, 340.),\n",
       "       (0, 133.), (0, 111.), (0, 231.), (0, 378.), (0,  49.)],\n",
       "      dtype=(numpy.record, [('death', '<i8'), ('d.time', '<f8')]))"
      ]
     },
     "execution_count": 4,
     "metadata": {},
     "output_type": "execute_result"
    }
   ],
   "source": [
    "veteran.get_label()"
   ]
  },
  {
   "cell_type": "code",
   "execution_count": 5,
   "id": "902ba9a0",
   "metadata": {},
   "outputs": [],
   "source": [
    "X_train, X_test, y_train, y_test = veteran.get_train_test()"
   ]
  },
  {
   "cell_type": "markdown",
   "id": "9f1009e5",
   "metadata": {},
   "source": [
    "##### Init All Methods"
   ]
  },
  {
   "cell_type": "markdown",
   "id": "10e94e3a",
   "metadata": {},
   "source": [
    "AFT-Forest"
   ]
  },
  {
   "cell_type": "code",
   "execution_count": 6,
   "id": "47aedd79",
   "metadata": {},
   "outputs": [],
   "source": [
    "aft_surv_tree = AFTSurvivalTree(function=\"norm\")\n",
    "aft_forest = AFTForest(n_trees=10, random_params=True)"
   ]
  },
  {
   "cell_type": "code",
   "execution_count": 7,
   "id": "e1ebcb5e",
   "metadata": {},
   "outputs": [],
   "source": [
    "aft_surv_tree.fit(X_train, y_train)"
   ]
  },
  {
   "cell_type": "code",
   "execution_count": 8,
   "id": "a939e9db",
   "metadata": {},
   "outputs": [],
   "source": [
    "aft_forest.fit(X_train, y_train)"
   ]
  },
  {
   "cell_type": "code",
   "execution_count": 9,
   "id": "b121584d",
   "metadata": {},
   "outputs": [
    {
     "data": {
      "text/plain": [
       "[127.1413043478261,\n",
       " 127.1413043478261,\n",
       " 127.1413043478261,\n",
       " 127.1413043478261,\n",
       " 127.1413043478261,\n",
       " 83.70588235294117,\n",
       " 127.1413043478261,\n",
       " 127.1413043478261,\n",
       " 127.1413043478261,\n",
       " 127.1413043478261,\n",
       " 83.70588235294117,\n",
       " 127.1413043478261,\n",
       " 127.1413043478261,\n",
       " 127.1413043478261,\n",
       " 127.1413043478261,\n",
       " 127.1413043478261,\n",
       " 127.1413043478261,\n",
       " 127.1413043478261,\n",
       " 127.1413043478261,\n",
       " 127.1413043478261,\n",
       " 127.1413043478261,\n",
       " 127.1413043478261,\n",
       " 127.1413043478261,\n",
       " 127.1413043478261,\n",
       " 127.1413043478261,\n",
       " 127.1413043478261,\n",
       " 83.70588235294117,\n",
       " 127.1413043478261]"
      ]
     },
     "execution_count": 9,
     "metadata": {},
     "output_type": "execute_result"
    }
   ],
   "source": [
    "aft_surv_tree.predict(X_test)"
   ]
  },
  {
   "cell_type": "code",
   "execution_count": 10,
   "id": "48aa120b",
   "metadata": {},
   "outputs": [
    {
     "data": {
      "text/plain": [
       "[112.7445609436435,\n",
       " 116.97642907551167,\n",
       " 112.7445609436435,\n",
       " 116.97642907551167,\n",
       " 116.97642907551167,\n",
       " 117.98027522935782,\n",
       " 129.59343312409464,\n",
       " 112.7445609436435,\n",
       " 131.6302752293578,\n",
       " 120.08027522935781,\n",
       " 117.98027522935782,\n",
       " 112.7445609436435,\n",
       " 129.59343312409464,\n",
       " 129.59343312409464,\n",
       " 128.5302752293578,\n",
       " 112.7445609436435,\n",
       " 116.97642907551167,\n",
       " 129.59343312409464,\n",
       " 128.5302752293578,\n",
       " 112.7445609436435,\n",
       " 124.1302752293578,\n",
       " 126.8802752293578,\n",
       " 129.59343312409464,\n",
       " 112.7445609436435,\n",
       " 116.97642907551167,\n",
       " 117.23027522935782,\n",
       " 116.21027522935779,\n",
       " 120.08027522935781]"
      ]
     },
     "execution_count": 10,
     "metadata": {},
     "output_type": "execute_result"
    }
   ],
   "source": [
    "aft_forest.predict(X_test)"
   ]
  },
  {
   "cell_type": "code",
   "execution_count": 11,
   "id": "6e24fde8",
   "metadata": {},
   "outputs": [
    {
     "data": {
      "text/plain": [
       "0.49862637362637363"
      ]
     },
     "execution_count": 11,
     "metadata": {},
     "output_type": "execute_result"
    }
   ],
   "source": [
    "aft_surv_tree._score(X_test, y_test)"
   ]
  },
  {
   "cell_type": "code",
   "execution_count": 13,
   "id": "6be2fca7",
   "metadata": {},
   "outputs": [],
   "source": [
    "aft_surv_tree._visualize()"
   ]
  },
  {
   "cell_type": "code",
   "execution_count": 14,
   "id": "1d071770",
   "metadata": {},
   "outputs": [
    {
     "data": {
      "text/plain": [
       "0.6291208791208791"
      ]
     },
     "execution_count": 14,
     "metadata": {},
     "output_type": "execute_result"
    }
   ],
   "source": [
    "aft_forest._score(X_test, y_test)"
   ]
  },
  {
   "cell_type": "code",
   "execution_count": null,
   "id": "cf717334",
   "metadata": {},
   "outputs": [],
   "source": [
    "##TODO\n",
    "Parallize it, try "
   ]
  },
  {
   "cell_type": "markdown",
   "id": "00716335",
   "metadata": {},
   "source": [
    "XGBoost-AFT"
   ]
  },
  {
   "cell_type": "code",
   "execution_count": 15,
   "id": "82645ea9",
   "metadata": {},
   "outputs": [
    {
     "name": "stdout",
     "output_type": "stream",
     "text": [
      "[0]\ttrain-aft-nloglik:12.85854\tvalid-aft-nloglik:12.70710\n",
      "[1]\ttrain-aft-nloglik:12.08484\tvalid-aft-nloglik:12.01670\n",
      "[2]\ttrain-aft-nloglik:11.38597\tvalid-aft-nloglik:11.39459\n",
      "[3]\ttrain-aft-nloglik:10.75452\tvalid-aft-nloglik:10.83194\n",
      "[4]\ttrain-aft-nloglik:10.18402\tvalid-aft-nloglik:10.32407\n",
      "[5]\ttrain-aft-nloglik:9.66887\tvalid-aft-nloglik:9.87096\n",
      "[6]\ttrain-aft-nloglik:9.20339\tvalid-aft-nloglik:9.46174\n",
      "[7]\ttrain-aft-nloglik:8.78319\tvalid-aft-nloglik:9.08848\n",
      "[8]\ttrain-aft-nloglik:8.40146\tvalid-aft-nloglik:8.74855\n",
      "[9]\ttrain-aft-nloglik:8.05753\tvalid-aft-nloglik:8.44254\n",
      "[10]\ttrain-aft-nloglik:7.74512\tvalid-aft-nloglik:8.16665\n",
      "[11]\ttrain-aft-nloglik:7.46393\tvalid-aft-nloglik:7.91752\n",
      "[12]\ttrain-aft-nloglik:7.20956\tvalid-aft-nloglik:7.69174\n",
      "[13]\ttrain-aft-nloglik:6.97823\tvalid-aft-nloglik:7.48943\n",
      "[14]\ttrain-aft-nloglik:6.76904\tvalid-aft-nloglik:7.30370\n",
      "[15]\ttrain-aft-nloglik:6.58040\tvalid-aft-nloglik:7.13687\n",
      "[16]\ttrain-aft-nloglik:6.40851\tvalid-aft-nloglik:6.98694\n",
      "[17]\ttrain-aft-nloglik:6.25385\tvalid-aft-nloglik:6.84710\n",
      "[18]\ttrain-aft-nloglik:6.11424\tvalid-aft-nloglik:6.72172\n",
      "[19]\ttrain-aft-nloglik:5.98759\tvalid-aft-nloglik:6.61115\n",
      "[20]\ttrain-aft-nloglik:5.87287\tvalid-aft-nloglik:6.50993\n",
      "[21]\ttrain-aft-nloglik:5.76877\tvalid-aft-nloglik:6.41875\n",
      "[22]\ttrain-aft-nloglik:5.67471\tvalid-aft-nloglik:6.33835\n",
      "[23]\ttrain-aft-nloglik:5.58896\tvalid-aft-nloglik:6.26601\n",
      "[24]\ttrain-aft-nloglik:5.51160\tvalid-aft-nloglik:6.20156\n",
      "[25]\ttrain-aft-nloglik:5.44132\tvalid-aft-nloglik:6.14292\n",
      "[26]\ttrain-aft-nloglik:5.37755\tvalid-aft-nloglik:6.08907\n",
      "[27]\ttrain-aft-nloglik:5.31983\tvalid-aft-nloglik:6.04218\n",
      "[28]\ttrain-aft-nloglik:5.26763\tvalid-aft-nloglik:5.99900\n",
      "[29]\ttrain-aft-nloglik:5.22019\tvalid-aft-nloglik:5.96086\n",
      "[30]\ttrain-aft-nloglik:5.17668\tvalid-aft-nloglik:5.92790\n",
      "[31]\ttrain-aft-nloglik:5.13755\tvalid-aft-nloglik:5.89588\n",
      "[32]\ttrain-aft-nloglik:5.10160\tvalid-aft-nloglik:5.86702\n",
      "[33]\ttrain-aft-nloglik:5.06965\tvalid-aft-nloglik:5.84242\n",
      "[34]\ttrain-aft-nloglik:5.04033\tvalid-aft-nloglik:5.81552\n",
      "[35]\ttrain-aft-nloglik:5.01347\tvalid-aft-nloglik:5.79644\n",
      "[36]\ttrain-aft-nloglik:4.98839\tvalid-aft-nloglik:5.78113\n",
      "[37]\ttrain-aft-nloglik:4.96588\tvalid-aft-nloglik:5.76457\n",
      "[38]\ttrain-aft-nloglik:4.94587\tvalid-aft-nloglik:5.74624\n",
      "[39]\ttrain-aft-nloglik:4.92666\tvalid-aft-nloglik:5.72545\n",
      "[40]\ttrain-aft-nloglik:4.90927\tvalid-aft-nloglik:5.70688\n",
      "[41]\ttrain-aft-nloglik:4.89386\tvalid-aft-nloglik:5.69861\n",
      "[42]\ttrain-aft-nloglik:4.87899\tvalid-aft-nloglik:5.68341\n",
      "[43]\ttrain-aft-nloglik:4.86551\tvalid-aft-nloglik:5.67013\n",
      "[44]\ttrain-aft-nloglik:4.85311\tvalid-aft-nloglik:5.65986\n",
      "[45]\ttrain-aft-nloglik:4.84187\tvalid-aft-nloglik:5.65019\n",
      "[46]\ttrain-aft-nloglik:4.83190\tvalid-aft-nloglik:5.64144\n",
      "[47]\ttrain-aft-nloglik:4.82244\tvalid-aft-nloglik:5.63410\n",
      "[48]\ttrain-aft-nloglik:4.81420\tvalid-aft-nloglik:5.62759\n",
      "[49]\ttrain-aft-nloglik:4.80713\tvalid-aft-nloglik:5.62301\n",
      "[50]\ttrain-aft-nloglik:4.80011\tvalid-aft-nloglik:5.61784\n",
      "[51]\ttrain-aft-nloglik:4.79410\tvalid-aft-nloglik:5.61317\n",
      "[52]\ttrain-aft-nloglik:4.78814\tvalid-aft-nloglik:5.60901\n",
      "[53]\ttrain-aft-nloglik:4.78313\tvalid-aft-nloglik:5.60540\n",
      "[54]\ttrain-aft-nloglik:4.77812\tvalid-aft-nloglik:5.60208\n",
      "[55]\ttrain-aft-nloglik:4.77356\tvalid-aft-nloglik:5.59989\n",
      "[56]\ttrain-aft-nloglik:4.76971\tvalid-aft-nloglik:5.59746\n",
      "[57]\ttrain-aft-nloglik:4.76590\tvalid-aft-nloglik:5.59515\n",
      "[58]\ttrain-aft-nloglik:4.76266\tvalid-aft-nloglik:5.59336\n",
      "[59]\ttrain-aft-nloglik:4.75946\tvalid-aft-nloglik:5.59158\n",
      "[60]\ttrain-aft-nloglik:4.75661\tvalid-aft-nloglik:5.59193\n",
      "[61]\ttrain-aft-nloglik:4.75410\tvalid-aft-nloglik:5.59086\n",
      "[62]\ttrain-aft-nloglik:4.75132\tvalid-aft-nloglik:5.59115\n",
      "[63]\ttrain-aft-nloglik:4.74905\tvalid-aft-nloglik:5.59169\n",
      "[64]\ttrain-aft-nloglik:4.74681\tvalid-aft-nloglik:5.59167\n",
      "[65]\ttrain-aft-nloglik:4.74494\tvalid-aft-nloglik:5.59225\n",
      "[66]\ttrain-aft-nloglik:4.74321\tvalid-aft-nloglik:5.59272\n",
      "[67]\ttrain-aft-nloglik:4.74169\tvalid-aft-nloglik:5.59227\n",
      "[68]\ttrain-aft-nloglik:4.74010\tvalid-aft-nloglik:5.59384\n",
      "[69]\ttrain-aft-nloglik:4.73864\tvalid-aft-nloglik:5.59503\n",
      "[70]\ttrain-aft-nloglik:4.73732\tvalid-aft-nloglik:5.59770\n",
      "[71]\ttrain-aft-nloglik:4.73570\tvalid-aft-nloglik:5.59848\n",
      "[72]\ttrain-aft-nloglik:4.73438\tvalid-aft-nloglik:5.59812\n",
      "[73]\ttrain-aft-nloglik:4.73317\tvalid-aft-nloglik:5.59795\n",
      "[74]\ttrain-aft-nloglik:4.73227\tvalid-aft-nloglik:5.59836\n",
      "[75]\ttrain-aft-nloglik:4.73099\tvalid-aft-nloglik:5.59939\n",
      "[76]\ttrain-aft-nloglik:4.72982\tvalid-aft-nloglik:5.60028\n",
      "[77]\ttrain-aft-nloglik:4.72888\tvalid-aft-nloglik:5.60052\n",
      "[78]\ttrain-aft-nloglik:4.72792\tvalid-aft-nloglik:5.60081\n",
      "[79]\ttrain-aft-nloglik:4.72710\tvalid-aft-nloglik:5.60107\n",
      "[80]\ttrain-aft-nloglik:4.72652\tvalid-aft-nloglik:5.60139\n",
      "[81]\ttrain-aft-nloglik:4.72600\tvalid-aft-nloglik:5.60174\n",
      "[82]\ttrain-aft-nloglik:4.72522\tvalid-aft-nloglik:5.60199\n",
      "[83]\ttrain-aft-nloglik:4.72476\tvalid-aft-nloglik:5.60260\n",
      "[84]\ttrain-aft-nloglik:4.72410\tvalid-aft-nloglik:5.60309\n",
      "[85]\ttrain-aft-nloglik:4.72368\tvalid-aft-nloglik:5.60402\n",
      "[86]\ttrain-aft-nloglik:4.72309\tvalid-aft-nloglik:5.60456\n",
      "[87]\ttrain-aft-nloglik:4.72271\tvalid-aft-nloglik:5.60546\n",
      "[88]\ttrain-aft-nloglik:4.72233\tvalid-aft-nloglik:5.60637\n",
      "[89]\ttrain-aft-nloglik:4.72184\tvalid-aft-nloglik:5.60679\n",
      "[90]\ttrain-aft-nloglik:4.72120\tvalid-aft-nloglik:5.60788\n",
      "[91]\ttrain-aft-nloglik:4.72081\tvalid-aft-nloglik:5.60855\n",
      "[92]\ttrain-aft-nloglik:4.72025\tvalid-aft-nloglik:5.60963\n",
      "[93]\ttrain-aft-nloglik:4.71985\tvalid-aft-nloglik:5.61018\n",
      "[94]\ttrain-aft-nloglik:4.71922\tvalid-aft-nloglik:5.61168\n",
      "[95]\ttrain-aft-nloglik:4.71876\tvalid-aft-nloglik:5.61228\n",
      "[96]\ttrain-aft-nloglik:4.71834\tvalid-aft-nloglik:5.61287\n",
      "[97]\ttrain-aft-nloglik:4.71806\tvalid-aft-nloglik:5.61334\n",
      "[98]\ttrain-aft-nloglik:4.71771\tvalid-aft-nloglik:5.61428\n",
      "[99]\ttrain-aft-nloglik:4.71736\tvalid-aft-nloglik:5.61617\n",
      "[100]\ttrain-aft-nloglik:4.71705\tvalid-aft-nloglik:5.61713\n",
      "[101]\ttrain-aft-nloglik:4.71676\tvalid-aft-nloglik:5.61813\n",
      "[102]\ttrain-aft-nloglik:4.71648\tvalid-aft-nloglik:5.61875\n",
      "[103]\ttrain-aft-nloglik:4.71609\tvalid-aft-nloglik:5.62049\n",
      "[104]\ttrain-aft-nloglik:4.71586\tvalid-aft-nloglik:5.62158\n",
      "[105]\ttrain-aft-nloglik:4.71560\tvalid-aft-nloglik:5.62232\n",
      "[106]\ttrain-aft-nloglik:4.71528\tvalid-aft-nloglik:5.62135\n",
      "[107]\ttrain-aft-nloglik:4.71504\tvalid-aft-nloglik:5.62118\n",
      "[108]\ttrain-aft-nloglik:4.71477\tvalid-aft-nloglik:5.62185\n",
      "[109]\ttrain-aft-nloglik:4.71453\tvalid-aft-nloglik:5.62365\n",
      "[110]\ttrain-aft-nloglik:4.71430\tvalid-aft-nloglik:5.62414\n",
      "[111]\ttrain-aft-nloglik:4.71395\tvalid-aft-nloglik:5.62542\n"
     ]
    }
   ],
   "source": [
    "import xgboost as xgb\n",
    "from sklearn.model_selection import ShuffleSplit\n",
    "\n",
    "y_lower_bound = df['Survival_label_lower_bound']\n",
    "y_upper_bound = df['Survival_label_upper_bound']\n",
    "X = df.drop(['Survival_label_lower_bound', 'Survival_label_upper_bound'], axis=1)\n",
    "\n",
    "rs = ShuffleSplit(n_splits=2, test_size=.7, random_state=0)\n",
    "train_index, valid_index = next(rs.split(X))\n",
    "dtrain = xgb.DMatrix(X.values[train_index, :])\n",
    "dtrain.set_float_info('label_lower_bound', y_lower_bound[train_index])\n",
    "dtrain.set_float_info('label_upper_bound', y_upper_bound[train_index])\n",
    "dvalid = xgb.DMatrix(X.values[valid_index, :])\n",
    "dvalid.set_float_info('label_lower_bound', y_lower_bound[valid_index])\n",
    "dvalid.set_float_info('label_upper_bound', y_upper_bound[valid_index])\n",
    "\n",
    "params = {'verbosity': 0,\n",
    "          'objective': 'survival:aft',\n",
    "          'eval_metric': 'aft-nloglik',\n",
    "          'tree_method': 'hist',\n",
    "          'learning_rate': 0.05,\n",
    "          'aft_loss_distribution': 'normal',\n",
    "          'aft_loss_distribution_scale': 1.20,\n",
    "          'max_depth': 6,\n",
    "          'lambda': 0.01,\n",
    "          'alpha': 0.02}\n",
    "\n",
    "bst = xgb.train(params, dtrain, num_boost_round=10000,\n",
    "                evals=[(dtrain, 'train'), (dvalid, 'valid')],\n",
    "                early_stopping_rounds=50)\n"
   ]
  },
  {
   "cell_type": "code",
   "execution_count": 18,
   "id": "f77bd837",
   "metadata": {},
   "outputs": [
    {
     "data": {
      "text/plain": [
       "array([4.025821 , 2.7045195, 6.593987 , 5.8267527, 4.9868546, 5.630478 ,\n",
       "       4.868817 , 4.9441333, 2.9559476, 4.9517097, 3.5895605, 3.274559 ,\n",
       "       5.2423806, 3.6398673, 5.0462046, 4.8983965, 5.5088277, 2.9725292,\n",
       "       4.134599 , 2.6551297, 3.0856385, 4.204082 , 3.3754153, 4.8633614,\n",
       "       3.1695955, 2.4652255, 5.543685 , 3.6662357, 5.32413  , 6.4765835,\n",
       "       2.9495342, 4.75606  , 3.0942633, 4.4982333, 2.790254 , 3.6903727,\n",
       "       6.0227323, 2.8883266, 3.8524318, 3.6770542, 4.7374425, 6.4879465,\n",
       "       3.0931225, 3.463408 , 4.754325 , 4.7043266, 3.3655179, 4.1098456,\n",
       "       4.7328734, 4.6723027, 3.147022 , 6.463924 , 4.4145694, 3.1962342,\n",
       "       5.806187 , 3.8974624, 3.6604276, 5.527329 , 4.484821 , 4.9232907,\n",
       "       4.91855  , 2.9301293, 3.307909 , 3.130117 , 3.8088431, 2.2703424,\n",
       "       5.2403145, 3.6946437, 5.446965 , 2.4921665, 4.388358 , 2.641885 ,\n",
       "       6.449952 , 3.836551 , 3.6792471, 3.8019934, 6.309726 , 4.10079  ,\n",
       "       4.8230743, 3.2055516, 2.9310079, 2.9832966, 6.5546303, 6.139309 ,\n",
       "       4.1826715, 4.685577 , 4.8137646, 6.156115 , 4.7896905, 4.1823063,\n",
       "       6.188659 , 3.9796176, 3.0418985, 2.6624196, 4.9261003, 4.2164373],\n",
       "      dtype=float32)"
      ]
     },
     "execution_count": 18,
     "metadata": {},
     "output_type": "execute_result"
    }
   ],
   "source": [
    "num_preds = bst.predict(dvalid, output_margin=True)\n",
    "num_preds"
   ]
  },
  {
   "cell_type": "code",
   "execution_count": null,
   "id": "10cbffe3",
   "metadata": {},
   "outputs": [],
   "source": [
    "times_pred = self.predict(X)\n",
    "event_true = [1 if not censored else 0 for censored, _ in y_true]\n",
    "times_true = [time for _, time in y_true]\n",
    "\n",
    "c_index = concordance_index(times_true, times_pred, event_true)"
   ]
  },
  {
   "cell_type": "markdown",
   "id": "ee9b6d3a",
   "metadata": {},
   "source": []
  },
  {
   "cell_type": "code",
   "execution_count": null,
   "id": "61a466f8-96e0-47e4-9e93-9294f6ddb834",
   "metadata": {},
   "outputs": [],
   "source": [
    "df = pd.read_csv('../data/support2.csv')"
   ]
  },
  {
   "cell_type": "code",
   "execution_count": null,
   "id": "c94a608b-6759-436d-b520-98b7832e0918",
   "metadata": {},
   "outputs": [],
   "source": [
    "data = SupportDataset(df)"
   ]
  },
  {
   "cell_type": "code",
   "execution_count": null,
   "id": "2fedfe90",
   "metadata": {},
   "outputs": [],
   "source": [
    "\n",
    "d = data.get_data()\n",
    "d"
   ]
  },
  {
   "cell_type": "code",
   "execution_count": null,
   "id": "e397be5d",
   "metadata": {},
   "outputs": [],
   "source": [
    "\n",
    "X_train, X_test, y_train, y_test = data.get_train_test()\n",
    "\n",
    "\n",
    "print(X_train.shape, X_test.shape, y_train.shape, y_test.shape)"
   ]
  },
  {
   "cell_type": "code",
   "execution_count": null,
   "id": "2b3386dd",
   "metadata": {},
   "outputs": [],
   "source": [
    "X_train.to_numpy()"
   ]
  }
 ],
 "metadata": {
  "kernelspec": {
   "display_name": "env",
   "language": "python",
   "name": "env"
  },
  "language_info": {
   "codemirror_mode": {
    "name": "ipython",
    "version": 3
   },
   "file_extension": ".py",
   "mimetype": "text/x-python",
   "name": "python",
   "nbconvert_exporter": "python",
   "pygments_lexer": "ipython3",
   "version": "3.11.5"
  }
 },
 "nbformat": 4,
 "nbformat_minor": 5
}
